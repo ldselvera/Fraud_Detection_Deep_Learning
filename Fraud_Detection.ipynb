{
  "nbformat": 4,
  "nbformat_minor": 0,
  "metadata": {
    "colab": {
      "name": "Fraud_Detection.ipynb",
      "provenance": [],
      "collapsed_sections": [],
      "mount_file_id": "1Jg5iSpb_76pudW6dZJVUhOrdWHkpnCD3",
      "authorship_tag": "ABX9TyPETQJ+pwbEmbciAwAI4i4a",
      "include_colab_link": true
    },
    "kernelspec": {
      "name": "python3",
      "display_name": "Python 3"
    }
  },
  "cells": [
    {
      "cell_type": "markdown",
      "metadata": {
        "id": "view-in-github",
        "colab_type": "text"
      },
      "source": [
        "<a href=\"https://colab.research.google.com/github/ldselvera/Fraud_Detection_Deep_Learning/blob/main/Fraud_Detection.ipynb\" target=\"_parent\"><img src=\"https://colab.research.google.com/assets/colab-badge.svg\" alt=\"Open In Colab\"/></a>"
      ]
    },
    {
      "cell_type": "markdown",
      "metadata": {
        "id": "mA4C1zNFYYY9"
      },
      "source": [
        "## Imports"
      ]
    },
    {
      "cell_type": "code",
      "metadata": {
        "colab": {
          "base_uri": "https://localhost:8080/"
        },
        "id": "8JIuMMWawJWk",
        "outputId": "caaf7693-787f-4969-9a9c-1755221bf09e"
      },
      "source": [
        "import pandas as pd\n",
        "import numpy as np\n",
        "import matplotlib.pyplot as plt\n",
        "import seaborn as sns\n",
        "import matplotlib\n",
        "\n",
        "import matplotlib.pyplot as plt\n",
        "import matplotlib.gridspec as gridspec\n",
        "%matplotlib inline\n",
        "\n",
        "import tensorflow as tf\n",
        "from tensorflow import keras\n",
        "from tensorflow.keras.optimizers import Adam\n",
        "\n",
        "import keras\n",
        "from keras import regularizers, optimizers, losses\n",
        "from keras.models import Sequential, Model, load_model\n",
        "from keras.layers import Input, Conv1D, Dense, Flatten, Activation, UpSampling1D, MaxPooling1D, ZeroPadding1D\n",
        "from keras.layers import Flatten, Dropout, BatchNormalization, MaxPool1D\n",
        "\n",
        "import sklearn\n",
        "from sklearn.model_selection import train_test_split\n",
        "from sklearn.preprocessing import StandardScaler, MinMaxScaler\n",
        "from sklearn.metrics import confusion_matrix, classification_report, roc_auc_score\n",
        "from sklearn import datasets, decomposition, preprocessing\n",
        "\n",
        "from mpl_toolkits.mplot3d import Axes3D\n",
        "\n",
        "print(tf.__version__)"
      ],
      "execution_count": 1,
      "outputs": [
        {
          "output_type": "stream",
          "text": [
            "2.5.0\n"
          ],
          "name": "stdout"
        }
      ]
    },
    {
      "cell_type": "markdown",
      "metadata": {
        "id": "A31EgwShR_e0"
      },
      "source": [
        "## Dataset"
      ]
    },
    {
      "cell_type": "code",
      "metadata": {
        "id": "zoYfwsWzwL0j"
      },
      "source": [
        "#import dataset from csv\n",
        "\n",
        "#Modify with your own path\n",
        "df = pd.read_csv(\"/content/drive/MyDrive/Colab Notebooks/fraud/creditcard.csv\")"
      ],
      "execution_count": 3,
      "outputs": []
    },
    {
      "cell_type": "code",
      "metadata": {
        "colab": {
          "base_uri": "https://localhost:8080/",
          "height": 226
        },
        "id": "QDJ7ukVSn4sm",
        "outputId": "4ecb38ea-eabd-4f68-e62b-13c007a96fb8"
      },
      "source": [
        "#preview of the data\n",
        "df.head()"
      ],
      "execution_count": 4,
      "outputs": [
        {
          "output_type": "execute_result",
          "data": {
            "text/html": [
              "<div>\n",
              "<style scoped>\n",
              "    .dataframe tbody tr th:only-of-type {\n",
              "        vertical-align: middle;\n",
              "    }\n",
              "\n",
              "    .dataframe tbody tr th {\n",
              "        vertical-align: top;\n",
              "    }\n",
              "\n",
              "    .dataframe thead th {\n",
              "        text-align: right;\n",
              "    }\n",
              "</style>\n",
              "<table border=\"1\" class=\"dataframe\">\n",
              "  <thead>\n",
              "    <tr style=\"text-align: right;\">\n",
              "      <th></th>\n",
              "      <th>Time</th>\n",
              "      <th>V1</th>\n",
              "      <th>V2</th>\n",
              "      <th>V3</th>\n",
              "      <th>V4</th>\n",
              "      <th>V5</th>\n",
              "      <th>V6</th>\n",
              "      <th>V7</th>\n",
              "      <th>V8</th>\n",
              "      <th>V9</th>\n",
              "      <th>V10</th>\n",
              "      <th>V11</th>\n",
              "      <th>V12</th>\n",
              "      <th>V13</th>\n",
              "      <th>V14</th>\n",
              "      <th>V15</th>\n",
              "      <th>V16</th>\n",
              "      <th>V17</th>\n",
              "      <th>V18</th>\n",
              "      <th>V19</th>\n",
              "      <th>V20</th>\n",
              "      <th>V21</th>\n",
              "      <th>V22</th>\n",
              "      <th>V23</th>\n",
              "      <th>V24</th>\n",
              "      <th>V25</th>\n",
              "      <th>V26</th>\n",
              "      <th>V27</th>\n",
              "      <th>V28</th>\n",
              "      <th>Amount</th>\n",
              "      <th>Class</th>\n",
              "    </tr>\n",
              "  </thead>\n",
              "  <tbody>\n",
              "    <tr>\n",
              "      <th>0</th>\n",
              "      <td>0.0</td>\n",
              "      <td>-1.359807</td>\n",
              "      <td>-0.072781</td>\n",
              "      <td>2.536347</td>\n",
              "      <td>1.378155</td>\n",
              "      <td>-0.338321</td>\n",
              "      <td>0.462388</td>\n",
              "      <td>0.239599</td>\n",
              "      <td>0.098698</td>\n",
              "      <td>0.363787</td>\n",
              "      <td>0.090794</td>\n",
              "      <td>-0.551600</td>\n",
              "      <td>-0.617801</td>\n",
              "      <td>-0.991390</td>\n",
              "      <td>-0.311169</td>\n",
              "      <td>1.468177</td>\n",
              "      <td>-0.470401</td>\n",
              "      <td>0.207971</td>\n",
              "      <td>0.025791</td>\n",
              "      <td>0.403993</td>\n",
              "      <td>0.251412</td>\n",
              "      <td>-0.018307</td>\n",
              "      <td>0.277838</td>\n",
              "      <td>-0.110474</td>\n",
              "      <td>0.066928</td>\n",
              "      <td>0.128539</td>\n",
              "      <td>-0.189115</td>\n",
              "      <td>0.133558</td>\n",
              "      <td>-0.021053</td>\n",
              "      <td>149.62</td>\n",
              "      <td>0</td>\n",
              "    </tr>\n",
              "    <tr>\n",
              "      <th>1</th>\n",
              "      <td>0.0</td>\n",
              "      <td>1.191857</td>\n",
              "      <td>0.266151</td>\n",
              "      <td>0.166480</td>\n",
              "      <td>0.448154</td>\n",
              "      <td>0.060018</td>\n",
              "      <td>-0.082361</td>\n",
              "      <td>-0.078803</td>\n",
              "      <td>0.085102</td>\n",
              "      <td>-0.255425</td>\n",
              "      <td>-0.166974</td>\n",
              "      <td>1.612727</td>\n",
              "      <td>1.065235</td>\n",
              "      <td>0.489095</td>\n",
              "      <td>-0.143772</td>\n",
              "      <td>0.635558</td>\n",
              "      <td>0.463917</td>\n",
              "      <td>-0.114805</td>\n",
              "      <td>-0.183361</td>\n",
              "      <td>-0.145783</td>\n",
              "      <td>-0.069083</td>\n",
              "      <td>-0.225775</td>\n",
              "      <td>-0.638672</td>\n",
              "      <td>0.101288</td>\n",
              "      <td>-0.339846</td>\n",
              "      <td>0.167170</td>\n",
              "      <td>0.125895</td>\n",
              "      <td>-0.008983</td>\n",
              "      <td>0.014724</td>\n",
              "      <td>2.69</td>\n",
              "      <td>0</td>\n",
              "    </tr>\n",
              "    <tr>\n",
              "      <th>2</th>\n",
              "      <td>1.0</td>\n",
              "      <td>-1.358354</td>\n",
              "      <td>-1.340163</td>\n",
              "      <td>1.773209</td>\n",
              "      <td>0.379780</td>\n",
              "      <td>-0.503198</td>\n",
              "      <td>1.800499</td>\n",
              "      <td>0.791461</td>\n",
              "      <td>0.247676</td>\n",
              "      <td>-1.514654</td>\n",
              "      <td>0.207643</td>\n",
              "      <td>0.624501</td>\n",
              "      <td>0.066084</td>\n",
              "      <td>0.717293</td>\n",
              "      <td>-0.165946</td>\n",
              "      <td>2.345865</td>\n",
              "      <td>-2.890083</td>\n",
              "      <td>1.109969</td>\n",
              "      <td>-0.121359</td>\n",
              "      <td>-2.261857</td>\n",
              "      <td>0.524980</td>\n",
              "      <td>0.247998</td>\n",
              "      <td>0.771679</td>\n",
              "      <td>0.909412</td>\n",
              "      <td>-0.689281</td>\n",
              "      <td>-0.327642</td>\n",
              "      <td>-0.139097</td>\n",
              "      <td>-0.055353</td>\n",
              "      <td>-0.059752</td>\n",
              "      <td>378.66</td>\n",
              "      <td>0</td>\n",
              "    </tr>\n",
              "    <tr>\n",
              "      <th>3</th>\n",
              "      <td>1.0</td>\n",
              "      <td>-0.966272</td>\n",
              "      <td>-0.185226</td>\n",
              "      <td>1.792993</td>\n",
              "      <td>-0.863291</td>\n",
              "      <td>-0.010309</td>\n",
              "      <td>1.247203</td>\n",
              "      <td>0.237609</td>\n",
              "      <td>0.377436</td>\n",
              "      <td>-1.387024</td>\n",
              "      <td>-0.054952</td>\n",
              "      <td>-0.226487</td>\n",
              "      <td>0.178228</td>\n",
              "      <td>0.507757</td>\n",
              "      <td>-0.287924</td>\n",
              "      <td>-0.631418</td>\n",
              "      <td>-1.059647</td>\n",
              "      <td>-0.684093</td>\n",
              "      <td>1.965775</td>\n",
              "      <td>-1.232622</td>\n",
              "      <td>-0.208038</td>\n",
              "      <td>-0.108300</td>\n",
              "      <td>0.005274</td>\n",
              "      <td>-0.190321</td>\n",
              "      <td>-1.175575</td>\n",
              "      <td>0.647376</td>\n",
              "      <td>-0.221929</td>\n",
              "      <td>0.062723</td>\n",
              "      <td>0.061458</td>\n",
              "      <td>123.50</td>\n",
              "      <td>0</td>\n",
              "    </tr>\n",
              "    <tr>\n",
              "      <th>4</th>\n",
              "      <td>2.0</td>\n",
              "      <td>-1.158233</td>\n",
              "      <td>0.877737</td>\n",
              "      <td>1.548718</td>\n",
              "      <td>0.403034</td>\n",
              "      <td>-0.407193</td>\n",
              "      <td>0.095921</td>\n",
              "      <td>0.592941</td>\n",
              "      <td>-0.270533</td>\n",
              "      <td>0.817739</td>\n",
              "      <td>0.753074</td>\n",
              "      <td>-0.822843</td>\n",
              "      <td>0.538196</td>\n",
              "      <td>1.345852</td>\n",
              "      <td>-1.119670</td>\n",
              "      <td>0.175121</td>\n",
              "      <td>-0.451449</td>\n",
              "      <td>-0.237033</td>\n",
              "      <td>-0.038195</td>\n",
              "      <td>0.803487</td>\n",
              "      <td>0.408542</td>\n",
              "      <td>-0.009431</td>\n",
              "      <td>0.798278</td>\n",
              "      <td>-0.137458</td>\n",
              "      <td>0.141267</td>\n",
              "      <td>-0.206010</td>\n",
              "      <td>0.502292</td>\n",
              "      <td>0.219422</td>\n",
              "      <td>0.215153</td>\n",
              "      <td>69.99</td>\n",
              "      <td>0</td>\n",
              "    </tr>\n",
              "  </tbody>\n",
              "</table>\n",
              "</div>"
            ],
            "text/plain": [
              "   Time        V1        V2        V3  ...       V27       V28  Amount  Class\n",
              "0   0.0 -1.359807 -0.072781  2.536347  ...  0.133558 -0.021053  149.62      0\n",
              "1   0.0  1.191857  0.266151  0.166480  ... -0.008983  0.014724    2.69      0\n",
              "2   1.0 -1.358354 -1.340163  1.773209  ... -0.055353 -0.059752  378.66      0\n",
              "3   1.0 -0.966272 -0.185226  1.792993  ...  0.062723  0.061458  123.50      0\n",
              "4   2.0 -1.158233  0.877737  1.548718  ...  0.219422  0.215153   69.99      0\n",
              "\n",
              "[5 rows x 31 columns]"
            ]
          },
          "metadata": {
            "tags": []
          },
          "execution_count": 4
        }
      ]
    },
    {
      "cell_type": "code",
      "metadata": {
        "colab": {
          "base_uri": "https://localhost:8080/"
        },
        "id": "T7YEL20rqvAT",
        "outputId": "0e3c3b3b-7738-425c-db33-1cb14942e08c"
      },
      "source": [
        "df.columns"
      ],
      "execution_count": 5,
      "outputs": [
        {
          "output_type": "execute_result",
          "data": {
            "text/plain": [
              "Index(['Time', 'V1', 'V2', 'V3', 'V4', 'V5', 'V6', 'V7', 'V8', 'V9', 'V10',\n",
              "       'V11', 'V12', 'V13', 'V14', 'V15', 'V16', 'V17', 'V18', 'V19', 'V20',\n",
              "       'V21', 'V22', 'V23', 'V24', 'V25', 'V26', 'V27', 'V28', 'Amount',\n",
              "       'Class'],\n",
              "      dtype='object')"
            ]
          },
          "metadata": {
            "tags": []
          },
          "execution_count": 5
        }
      ]
    },
    {
      "cell_type": "markdown",
      "metadata": {
        "id": "e3nhTPtQSSib"
      },
      "source": [
        "### Check for missing values (Null/NaN)"
      ]
    },
    {
      "cell_type": "code",
      "metadata": {
        "colab": {
          "base_uri": "https://localhost:8080/"
        },
        "id": "KrfE0ULlw2of",
        "outputId": "c0550b83-bc59-4a93-bf17-a0389523769b"
      },
      "source": [
        "df.isnull().sum()"
      ],
      "execution_count": 6,
      "outputs": [
        {
          "output_type": "execute_result",
          "data": {
            "text/plain": [
              "Time      0\n",
              "V1        0\n",
              "V2        0\n",
              "V3        0\n",
              "V4        0\n",
              "V5        0\n",
              "V6        0\n",
              "V7        0\n",
              "V8        0\n",
              "V9        0\n",
              "V10       0\n",
              "V11       0\n",
              "V12       0\n",
              "V13       0\n",
              "V14       0\n",
              "V15       0\n",
              "V16       0\n",
              "V17       0\n",
              "V18       0\n",
              "V19       0\n",
              "V20       0\n",
              "V21       0\n",
              "V22       0\n",
              "V23       0\n",
              "V24       0\n",
              "V25       0\n",
              "V26       0\n",
              "V27       0\n",
              "V28       0\n",
              "Amount    0\n",
              "Class     0\n",
              "dtype: int64"
            ]
          },
          "metadata": {
            "tags": []
          },
          "execution_count": 6
        }
      ]
    },
    {
      "cell_type": "markdown",
      "metadata": {
        "id": "PurRX73ASHAy"
      },
      "source": [
        "### Imbalanced data"
      ]
    },
    {
      "cell_type": "code",
      "metadata": {
        "colab": {
          "base_uri": "https://localhost:8080/"
        },
        "id": "A67IsMfews1l",
        "outputId": "203f7c06-4024-41fb-d371-d6b29dc33a28"
      },
      "source": [
        "# Number of instances per class \n",
        "df['Class'].value_counts()"
      ],
      "execution_count": 7,
      "outputs": [
        {
          "output_type": "execute_result",
          "data": {
            "text/plain": [
              "0    284315\n",
              "1       492\n",
              "Name: Class, dtype: int64"
            ]
          },
          "metadata": {
            "tags": []
          },
          "execution_count": 7
        }
      ]
    },
    {
      "cell_type": "code",
      "metadata": {
        "colab": {
          "base_uri": "https://localhost:8080/"
        },
        "id": "Cjgh4YcNqy87",
        "outputId": "8aff1070-17d6-444d-98f5-ce94578b6518"
      },
      "source": [
        "print('No Frauds', round(df['Class'].value_counts()[0]/len(df) * 100,2), '% of the dataset')\n",
        "print('Frauds', round(df['Class'].value_counts()[1]/len(df) * 100,2), '% of the dataset')"
      ],
      "execution_count": 8,
      "outputs": [
        {
          "output_type": "stream",
          "text": [
            "No Frauds 99.83 % of the dataset\n",
            "Frauds 0.17 % of the dataset\n"
          ],
          "name": "stdout"
        }
      ]
    },
    {
      "cell_type": "code",
      "metadata": {
        "colab": {
          "base_uri": "https://localhost:8080/",
          "height": 370
        },
        "id": "KosF-gJaq07z",
        "outputId": "cb21855a-8204-4d81-d36f-cc1ba2876a11"
      },
      "source": [
        "sns.countplot('Class', data=df)\n",
        "plt.title('Class Distributions \\n (0: No Fraud || 1: Fraud)', fontsize=14)\n",
        "plt.show()"
      ],
      "execution_count": 9,
      "outputs": [
        {
          "output_type": "stream",
          "text": [
            "/usr/local/lib/python3.7/dist-packages/seaborn/_decorators.py:43: FutureWarning: Pass the following variable as a keyword arg: x. From version 0.12, the only valid positional argument will be `data`, and passing other arguments without an explicit keyword will result in an error or misinterpretation.\n",
            "  FutureWarning\n"
          ],
          "name": "stderr"
        },
        {
          "output_type": "display_data",
          "data": {
            "image/png": "[encoded data removed]",
            "text/plain": [
              "<Figure size 432x288 with 1 Axes>"
            ]
          },
          "metadata": {
            "tags": [],
            "needs_background": "light"
          }
        }
      ]
    },
    {
      "cell_type": "code",
      "metadata": {
        "id": "eQKZAqa_XiN4"
      },
      "source": [
        "def show_pca_df(df):\n",
        "\tx = df[df.columns[1:30]].to_numpy()\n",
        "\ty = df[df.columns[30]].to_numpy()\n",
        "\n",
        "\tx = preprocessing.MinMaxScaler().fit_transform(x)\n",
        "\tpca = decomposition.PCA(n_components=3)\n",
        "\tpca_result = pca.fit_transform(x)\n",
        "\tprint(pca.explained_variance_ratio_)\n",
        "\n",
        "\tpca_df = pd.DataFrame(data=pca_result, columns=['pc_1', 'pc_2', 'pc_3'])\n",
        "\tpca_df = pd.concat([pca_df, pd.DataFrame({'label': y})], axis=1)\n",
        "\n",
        "\tax = Axes3D(plt.figure(figsize=(8, 8)))\n",
        "\tax.scatter(xs=pca_df['pc_1'], ys=pca_df['pc_2'], zs=pca_df['pc_3'], c=pca_df['label'], s=25)\n",
        "\tax.set_xlabel(\"pc_1\")\n",
        "\tax.set_ylabel(\"pc_2\")\n",
        "\tax.set_zlabel(\"pc_3\")\n",
        "\tplt.show()"
      ],
      "execution_count": 10,
      "outputs": []
    },
    {
      "cell_type": "code",
      "metadata": {
        "colab": {
          "base_uri": "https://localhost:8080/",
          "height": 625
        },
        "id": "qjRfLeKoX0z1",
        "outputId": "f4d2225b-2086-46f4-8961-41a79fefdae4"
      },
      "source": [
        "show_pca_df(df)"
      ],
      "execution_count": 11,
      "outputs": [
        {
          "output_type": "stream",
          "text": [
            "[0.13501016 0.12577773 0.12031404]\n"
          ],
          "name": "stdout"
        },
        {
          "output_type": "display_data",
          "data": {
            "image/png": "[encoded data removed]",
            "text/plain": [
              "<Figure size 576x576 with 1 Axes>"
            ]
          },
          "metadata": {
            "tags": [],
            "needs_background": "light"
          }
        }
      ]
    },
    {
      "cell_type": "markdown",
      "metadata": {
        "id": "wWyXWCpmYTNk"
      },
      "source": [
        "### Subsampling"
      ]
    },
    {
      "cell_type": "code",
      "metadata": {
        "id": "8GxudI2jxBQP"
      },
      "source": [
        "#Split fraud and normal transactions\n",
        "fraud_data = df[df['Class']==1]\n",
        "non_fraud_data = df[df[\"Class\"]==0]\n",
        "\n",
        "#Subsample according to the size of fraud transactions\n",
        "non_fraud_data1 = non_fraud_data.sample(1500)\n",
        "\n",
        "#Rejoin fraud and normal transactions\n",
        "final_data = fraud_data.append(non_fraud_data1,ignore_index=True)\n"
      ],
      "execution_count": 12,
      "outputs": []
    },
    {
      "cell_type": "code",
      "metadata": {
        "colab": {
          "base_uri": "https://localhost:8080/"
        },
        "id": "vHpfJmbOaCrd",
        "outputId": "78aaaa78-e2f0-4583-efbd-6c52d07eea78"
      },
      "source": [
        "print('No Frauds', round(final_data['Class'].value_counts()[0]/len(final_data) * 100,2), '% of the dataset')\n",
        "print('Frauds', round(final_data['Class'].value_counts()[1]/len(final_data) * 100,2), '% of the dataset')"
      ],
      "execution_count": 13,
      "outputs": [
        {
          "output_type": "stream",
          "text": [
            "No Frauds 75.3 % of the dataset\n",
            "Frauds 24.7 % of the dataset\n"
          ],
          "name": "stdout"
        }
      ]
    },
    {
      "cell_type": "code",
      "metadata": {
        "colab": {
          "base_uri": "https://localhost:8080/",
          "height": 426
        },
        "id": "v3xQkb5orArm",
        "outputId": "43a3edf9-53cb-4633-e3d8-52c2e032c82d"
      },
      "source": [
        "print('Distribution of the Classes in the subsample dataset')\n",
        "print(final_data['Class'].value_counts()/len(final_data))\n",
        "\n",
        "sns.countplot('Class', data=final_data)\n",
        "plt.title('25/75 Distributed Classes', fontsize=14)\n",
        "plt.show()"
      ],
      "execution_count": 14,
      "outputs": [
        {
          "output_type": "stream",
          "text": [
            "Distribution of the Classes in the subsample dataset\n",
            "0    0.753012\n",
            "1    0.246988\n",
            "Name: Class, dtype: float64\n"
          ],
          "name": "stdout"
        },
        {
          "output_type": "stream",
          "text": [
            "/usr/local/lib/python3.7/dist-packages/seaborn/_decorators.py:43: FutureWarning: Pass the following variable as a keyword arg: x. From version 0.12, the only valid positional argument will be `data`, and passing other arguments without an explicit keyword will result in an error or misinterpretation.\n",
            "  FutureWarning\n"
          ],
          "name": "stderr"
        },
        {
          "output_type": "display_data",
          "data": {
            "image/png": "[encoded data removed]",
            "text/plain": [
              "<Figure size 432x288 with 1 Axes>"
            ]
          },
          "metadata": {
            "tags": [],
            "needs_background": "light"
          }
        }
      ]
    },
    {
      "cell_type": "code",
      "metadata": {
        "colab": {
          "base_uri": "https://localhost:8080/"
        },
        "id": "PlvbiGCmrG41",
        "outputId": "df5e7689-a456-4a73-a8c0-081c6ff5652a"
      },
      "source": [
        "final_data['Class'].value_counts()"
      ],
      "execution_count": 15,
      "outputs": [
        {
          "output_type": "execute_result",
          "data": {
            "text/plain": [
              "0    1500\n",
              "1     492\n",
              "Name: Class, dtype: int64"
            ]
          },
          "metadata": {
            "tags": []
          },
          "execution_count": 15
        }
      ]
    },
    {
      "cell_type": "code",
      "metadata": {
        "colab": {
          "base_uri": "https://localhost:8080/",
          "height": 625
        },
        "id": "2hAme4xuX73H",
        "outputId": "74845573-6b10-43ff-9a9a-f79195492496"
      },
      "source": [
        "df_anomaly = df[df[df.columns[30]] > 0]\n",
        "df_normal = df[df[df.columns[30]] == 0].sample(n=df_anomaly.size, random_state=1, axis='index')\n",
        "df = pd.concat([ df_anomaly, df_normal])\n",
        "\n",
        "show_pca_df(df)"
      ],
      "execution_count": 16,
      "outputs": [
        {
          "output_type": "stream",
          "text": [
            "[0.20577961 0.14728955 0.09800456]\n"
          ],
          "name": "stdout"
        },
        {
          "output_type": "display_data",
          "data": {
            "image/png": "[encoded data removed]",
            "text/plain": [
              "<Figure size 576x576 with 1 Axes>"
            ]
          },
          "metadata": {
            "tags": [],
            "needs_background": "light"
          }
        }
      ]
    },
    {
      "cell_type": "markdown",
      "metadata": {
        "id": "vFkjaniCYtw1"
      },
      "source": [
        "## Normalize Data"
      ]
    },
    {
      "cell_type": "code",
      "metadata": {
        "id": "W7IqKin1kfqN"
      },
      "source": [
        "df['Amount'] = StandardScaler().fit_transform(df['Amount'].values.reshape(-1, 1))\n",
        "df['Time'] = StandardScaler().fit_transform(df['Time'].values.reshape(-1, 1))"
      ],
      "execution_count": 17,
      "outputs": []
    },
    {
      "cell_type": "markdown",
      "metadata": {
        "id": "h_K1QrdLYgF9"
      },
      "source": [
        "## Splitting Data"
      ]
    },
    {
      "cell_type": "code",
      "metadata": {
        "colab": {
          "base_uri": "https://localhost:8080/"
        },
        "id": "oLbAmBvrm7AU",
        "outputId": "a3b1452b-badc-4ba0-cf9b-1c4d16cecdd1"
      },
      "source": [
        "anomalies = df[df[\"Class\"] == 1]\n",
        "normal = df[df[\"Class\"] == 0]\n",
        "\n",
        "anomalies.shape, normal.shape"
      ],
      "execution_count": 18,
      "outputs": [
        {
          "output_type": "execute_result",
          "data": {
            "text/plain": [
              "((492, 31), (15252, 31))"
            ]
          },
          "metadata": {
            "tags": []
          },
          "execution_count": 18
        }
      ]
    },
    {
      "cell_type": "code",
      "metadata": {
        "colab": {
          "base_uri": "https://localhost:8080/",
          "height": 383
        },
        "id": "rLLGfJP3mVDc",
        "outputId": "ce292660-5bab-4c39-f153-bed5e103dc78"
      },
      "source": [
        "data_set = pd.concat([non_fraud_data[:1500], fraud_data])\n",
        "\n",
        "x_train, x_test = train_test_split(data_set, test_size = 0.2)\n",
        "\n",
        "x_train = x_train.sort_values(by=['Time'])\n",
        "x_test = x_test.sort_values(by=['Time'])\n",
        "\n",
        "y_train = x_train[\"Class\"]\n",
        "y_test = x_test[\"Class\"]\n",
        "\n",
        "x_train = x_train.drop(\"Class\",axis=1)\n",
        "x_test = x_test.drop(\"Class\",axis=1)\n",
        "\n",
        "x_test.head(10)"
      ],
      "execution_count": 19,
      "outputs": [
        {
          "output_type": "execute_result",
          "data": {
            "text/html": [
              "<div>\n",
              "<style scoped>\n",
              "    .dataframe tbody tr th:only-of-type {\n",
              "        vertical-align: middle;\n",
              "    }\n",
              "\n",
              "    .dataframe tbody tr th {\n",
              "        vertical-align: top;\n",
              "    }\n",
              "\n",
              "    .dataframe thead th {\n",
              "        text-align: right;\n",
              "    }\n",
              "</style>\n",
              "<table border=\"1\" class=\"dataframe\">\n",
              "  <thead>\n",
              "    <tr style=\"text-align: right;\">\n",
              "      <th></th>\n",
              "      <th>Time</th>\n",
              "      <th>V1</th>\n",
              "      <th>V2</th>\n",
              "      <th>V3</th>\n",
              "      <th>V4</th>\n",
              "      <th>V5</th>\n",
              "      <th>V6</th>\n",
              "      <th>V7</th>\n",
              "      <th>V8</th>\n",
              "      <th>V9</th>\n",
              "      <th>V10</th>\n",
              "      <th>V11</th>\n",
              "      <th>V12</th>\n",
              "      <th>V13</th>\n",
              "      <th>V14</th>\n",
              "      <th>V15</th>\n",
              "      <th>V16</th>\n",
              "      <th>V17</th>\n",
              "      <th>V18</th>\n",
              "      <th>V19</th>\n",
              "      <th>V20</th>\n",
              "      <th>V21</th>\n",
              "      <th>V22</th>\n",
              "      <th>V23</th>\n",
              "      <th>V24</th>\n",
              "      <th>V25</th>\n",
              "      <th>V26</th>\n",
              "      <th>V27</th>\n",
              "      <th>V28</th>\n",
              "      <th>Amount</th>\n",
              "    </tr>\n",
              "  </thead>\n",
              "  <tbody>\n",
              "    <tr>\n",
              "      <th>6</th>\n",
              "      <td>4.0</td>\n",
              "      <td>1.229658</td>\n",
              "      <td>0.141004</td>\n",
              "      <td>0.045371</td>\n",
              "      <td>1.202613</td>\n",
              "      <td>0.191881</td>\n",
              "      <td>0.272708</td>\n",
              "      <td>-0.005159</td>\n",
              "      <td>0.081213</td>\n",
              "      <td>0.464960</td>\n",
              "      <td>-0.099254</td>\n",
              "      <td>-1.416907</td>\n",
              "      <td>-0.153826</td>\n",
              "      <td>-0.751063</td>\n",
              "      <td>0.167372</td>\n",
              "      <td>0.050144</td>\n",
              "      <td>-0.443587</td>\n",
              "      <td>0.002821</td>\n",
              "      <td>-0.611987</td>\n",
              "      <td>-0.045575</td>\n",
              "      <td>-0.219633</td>\n",
              "      <td>-0.167716</td>\n",
              "      <td>-0.270710</td>\n",
              "      <td>-0.154104</td>\n",
              "      <td>-0.780055</td>\n",
              "      <td>0.750137</td>\n",
              "      <td>-0.257237</td>\n",
              "      <td>0.034507</td>\n",
              "      <td>0.005168</td>\n",
              "      <td>4.99</td>\n",
              "    </tr>\n",
              "    <tr>\n",
              "      <th>7</th>\n",
              "      <td>7.0</td>\n",
              "      <td>-0.644269</td>\n",
              "      <td>1.417964</td>\n",
              "      <td>1.074380</td>\n",
              "      <td>-0.492199</td>\n",
              "      <td>0.948934</td>\n",
              "      <td>0.428118</td>\n",
              "      <td>1.120631</td>\n",
              "      <td>-3.807864</td>\n",
              "      <td>0.615375</td>\n",
              "      <td>1.249376</td>\n",
              "      <td>-0.619468</td>\n",
              "      <td>0.291474</td>\n",
              "      <td>1.757964</td>\n",
              "      <td>-1.323865</td>\n",
              "      <td>0.686133</td>\n",
              "      <td>-0.076127</td>\n",
              "      <td>-1.222127</td>\n",
              "      <td>-0.358222</td>\n",
              "      <td>0.324505</td>\n",
              "      <td>-0.156742</td>\n",
              "      <td>1.943465</td>\n",
              "      <td>-1.015455</td>\n",
              "      <td>0.057504</td>\n",
              "      <td>-0.649709</td>\n",
              "      <td>-0.415267</td>\n",
              "      <td>-0.051634</td>\n",
              "      <td>-1.206921</td>\n",
              "      <td>-1.085339</td>\n",
              "      <td>40.80</td>\n",
              "    </tr>\n",
              "    <tr>\n",
              "      <th>10</th>\n",
              "      <td>10.0</td>\n",
              "      <td>1.449044</td>\n",
              "      <td>-1.176339</td>\n",
              "      <td>0.913860</td>\n",
              "      <td>-1.375667</td>\n",
              "      <td>-1.971383</td>\n",
              "      <td>-0.629152</td>\n",
              "      <td>-1.423236</td>\n",
              "      <td>0.048456</td>\n",
              "      <td>-1.720408</td>\n",
              "      <td>1.626659</td>\n",
              "      <td>1.199644</td>\n",
              "      <td>-0.671440</td>\n",
              "      <td>-0.513947</td>\n",
              "      <td>-0.095045</td>\n",
              "      <td>0.230930</td>\n",
              "      <td>0.031967</td>\n",
              "      <td>0.253415</td>\n",
              "      <td>0.854344</td>\n",
              "      <td>-0.221365</td>\n",
              "      <td>-0.387226</td>\n",
              "      <td>-0.009302</td>\n",
              "      <td>0.313894</td>\n",
              "      <td>0.027740</td>\n",
              "      <td>0.500512</td>\n",
              "      <td>0.251367</td>\n",
              "      <td>-0.129478</td>\n",
              "      <td>0.042850</td>\n",
              "      <td>0.016253</td>\n",
              "      <td>7.80</td>\n",
              "    </tr>\n",
              "    <tr>\n",
              "      <th>23</th>\n",
              "      <td>18.0</td>\n",
              "      <td>0.247491</td>\n",
              "      <td>0.277666</td>\n",
              "      <td>1.185471</td>\n",
              "      <td>-0.092603</td>\n",
              "      <td>-1.314394</td>\n",
              "      <td>-0.150116</td>\n",
              "      <td>-0.946365</td>\n",
              "      <td>-1.617935</td>\n",
              "      <td>1.544071</td>\n",
              "      <td>-0.829881</td>\n",
              "      <td>-0.583200</td>\n",
              "      <td>0.524933</td>\n",
              "      <td>-0.453375</td>\n",
              "      <td>0.081393</td>\n",
              "      <td>1.555204</td>\n",
              "      <td>-1.396895</td>\n",
              "      <td>0.783131</td>\n",
              "      <td>0.436621</td>\n",
              "      <td>2.177807</td>\n",
              "      <td>-0.230983</td>\n",
              "      <td>1.650180</td>\n",
              "      <td>0.200454</td>\n",
              "      <td>-0.185353</td>\n",
              "      <td>0.423073</td>\n",
              "      <td>0.820591</td>\n",
              "      <td>-0.227632</td>\n",
              "      <td>0.336634</td>\n",
              "      <td>0.250475</td>\n",
              "      <td>22.75</td>\n",
              "    </tr>\n",
              "    <tr>\n",
              "      <th>31</th>\n",
              "      <td>25.0</td>\n",
              "      <td>1.114009</td>\n",
              "      <td>0.085546</td>\n",
              "      <td>0.493702</td>\n",
              "      <td>1.335760</td>\n",
              "      <td>-0.300189</td>\n",
              "      <td>-0.010754</td>\n",
              "      <td>-0.118760</td>\n",
              "      <td>0.188617</td>\n",
              "      <td>0.205687</td>\n",
              "      <td>0.082262</td>\n",
              "      <td>1.133556</td>\n",
              "      <td>0.626699</td>\n",
              "      <td>-1.492780</td>\n",
              "      <td>0.520788</td>\n",
              "      <td>-0.674593</td>\n",
              "      <td>-0.529108</td>\n",
              "      <td>0.158256</td>\n",
              "      <td>-0.398751</td>\n",
              "      <td>-0.145709</td>\n",
              "      <td>-0.273832</td>\n",
              "      <td>-0.053234</td>\n",
              "      <td>-0.004760</td>\n",
              "      <td>-0.031470</td>\n",
              "      <td>0.198054</td>\n",
              "      <td>0.565007</td>\n",
              "      <td>-0.337718</td>\n",
              "      <td>0.029057</td>\n",
              "      <td>0.004453</td>\n",
              "      <td>4.45</td>\n",
              "    </tr>\n",
              "    <tr>\n",
              "      <th>35</th>\n",
              "      <td>26.0</td>\n",
              "      <td>-0.535388</td>\n",
              "      <td>0.865268</td>\n",
              "      <td>1.351076</td>\n",
              "      <td>0.147575</td>\n",
              "      <td>0.433680</td>\n",
              "      <td>0.086983</td>\n",
              "      <td>0.693039</td>\n",
              "      <td>0.179742</td>\n",
              "      <td>-0.285642</td>\n",
              "      <td>-0.482474</td>\n",
              "      <td>0.871800</td>\n",
              "      <td>0.853447</td>\n",
              "      <td>-0.571822</td>\n",
              "      <td>0.102252</td>\n",
              "      <td>-1.519991</td>\n",
              "      <td>-0.285912</td>\n",
              "      <td>-0.309633</td>\n",
              "      <td>-0.403902</td>\n",
              "      <td>-0.823743</td>\n",
              "      <td>-0.283264</td>\n",
              "      <td>0.049526</td>\n",
              "      <td>0.206537</td>\n",
              "      <td>-0.187108</td>\n",
              "      <td>0.000753</td>\n",
              "      <td>0.098117</td>\n",
              "      <td>-0.553471</td>\n",
              "      <td>-0.078306</td>\n",
              "      <td>0.025427</td>\n",
              "      <td>1.77</td>\n",
              "    </tr>\n",
              "    <tr>\n",
              "      <th>39</th>\n",
              "      <td>29.0</td>\n",
              "      <td>1.110880</td>\n",
              "      <td>0.168717</td>\n",
              "      <td>0.517144</td>\n",
              "      <td>1.325407</td>\n",
              "      <td>-0.191573</td>\n",
              "      <td>0.019504</td>\n",
              "      <td>-0.031849</td>\n",
              "      <td>0.117620</td>\n",
              "      <td>0.017665</td>\n",
              "      <td>0.044865</td>\n",
              "      <td>1.345075</td>\n",
              "      <td>1.286340</td>\n",
              "      <td>-0.252267</td>\n",
              "      <td>0.274458</td>\n",
              "      <td>-0.810394</td>\n",
              "      <td>-0.587005</td>\n",
              "      <td>0.087451</td>\n",
              "      <td>-0.550474</td>\n",
              "      <td>-0.154749</td>\n",
              "      <td>-0.190120</td>\n",
              "      <td>-0.037709</td>\n",
              "      <td>0.095701</td>\n",
              "      <td>-0.048198</td>\n",
              "      <td>0.232115</td>\n",
              "      <td>0.606201</td>\n",
              "      <td>-0.342097</td>\n",
              "      <td>0.036770</td>\n",
              "      <td>0.007480</td>\n",
              "      <td>6.54</td>\n",
              "    </tr>\n",
              "    <tr>\n",
              "      <th>41</th>\n",
              "      <td>32.0</td>\n",
              "      <td>-2.008872</td>\n",
              "      <td>2.198527</td>\n",
              "      <td>0.144242</td>\n",
              "      <td>1.159432</td>\n",
              "      <td>-0.815174</td>\n",
              "      <td>0.182288</td>\n",
              "      <td>-0.617108</td>\n",
              "      <td>1.530817</td>\n",
              "      <td>-0.586832</td>\n",
              "      <td>0.129876</td>\n",
              "      <td>0.658479</td>\n",
              "      <td>1.265049</td>\n",
              "      <td>-0.206518</td>\n",
              "      <td>1.013603</td>\n",
              "      <td>-0.549414</td>\n",
              "      <td>-0.708034</td>\n",
              "      <td>0.869643</td>\n",
              "      <td>-0.095660</td>\n",
              "      <td>0.944395</td>\n",
              "      <td>0.028740</td>\n",
              "      <td>0.094917</td>\n",
              "      <td>0.294983</td>\n",
              "      <td>0.011081</td>\n",
              "      <td>0.015249</td>\n",
              "      <td>0.034211</td>\n",
              "      <td>-0.236141</td>\n",
              "      <td>0.128291</td>\n",
              "      <td>0.117986</td>\n",
              "      <td>2.35</td>\n",
              "    </tr>\n",
              "    <tr>\n",
              "      <th>56</th>\n",
              "      <td>39.0</td>\n",
              "      <td>-0.554065</td>\n",
              "      <td>0.215728</td>\n",
              "      <td>0.844265</td>\n",
              "      <td>-0.753067</td>\n",
              "      <td>0.034848</td>\n",
              "      <td>-0.558597</td>\n",
              "      <td>1.090401</td>\n",
              "      <td>-0.203873</td>\n",
              "      <td>0.262394</td>\n",
              "      <td>-1.354710</td>\n",
              "      <td>-0.094880</td>\n",
              "      <td>0.953746</td>\n",
              "      <td>0.836964</td>\n",
              "      <td>0.144752</td>\n",
              "      <td>1.156610</td>\n",
              "      <td>-1.933021</td>\n",
              "      <td>0.741349</td>\n",
              "      <td>-0.513610</td>\n",
              "      <td>1.567345</td>\n",
              "      <td>0.383283</td>\n",
              "      <td>0.212134</td>\n",
              "      <td>0.702338</td>\n",
              "      <td>-0.005701</td>\n",
              "      <td>0.147346</td>\n",
              "      <td>0.245652</td>\n",
              "      <td>-0.440456</td>\n",
              "      <td>0.147130</td>\n",
              "      <td>0.139468</td>\n",
              "      <td>120.96</td>\n",
              "    </tr>\n",
              "    <tr>\n",
              "      <th>64</th>\n",
              "      <td>42.0</td>\n",
              "      <td>-0.522666</td>\n",
              "      <td>1.009923</td>\n",
              "      <td>0.276470</td>\n",
              "      <td>1.475289</td>\n",
              "      <td>-0.707013</td>\n",
              "      <td>0.355243</td>\n",
              "      <td>1.559849</td>\n",
              "      <td>-0.399579</td>\n",
              "      <td>-0.479813</td>\n",
              "      <td>0.516352</td>\n",
              "      <td>0.034330</td>\n",
              "      <td>0.589226</td>\n",
              "      <td>1.426910</td>\n",
              "      <td>0.020510</td>\n",
              "      <td>1.651336</td>\n",
              "      <td>-0.961343</td>\n",
              "      <td>0.246360</td>\n",
              "      <td>-0.407537</td>\n",
              "      <td>0.917399</td>\n",
              "      <td>-0.013016</td>\n",
              "      <td>0.172401</td>\n",
              "      <td>1.011543</td>\n",
              "      <td>0.069666</td>\n",
              "      <td>0.157820</td>\n",
              "      <td>-1.109224</td>\n",
              "      <td>-0.302369</td>\n",
              "      <td>0.318170</td>\n",
              "      <td>0.316910</td>\n",
              "      <td>243.66</td>\n",
              "    </tr>\n",
              "  </tbody>\n",
              "</table>\n",
              "</div>"
            ],
            "text/plain": [
              "    Time        V1        V2        V3  ...       V26       V27       V28  Amount\n",
              "6    4.0  1.229658  0.141004  0.045371  ... -0.257237  0.034507  0.005168    4.99\n",
              "7    7.0 -0.644269  1.417964  1.074380  ... -0.051634 -1.206921 -1.085339   40.80\n",
              "10  10.0  1.449044 -1.176339  0.913860  ... -0.129478  0.042850  0.016253    7.80\n",
              "23  18.0  0.247491  0.277666  1.185471  ... -0.227632  0.336634  0.250475   22.75\n",
              "31  25.0  1.114009  0.085546  0.493702  ... -0.337718  0.029057  0.004453    4.45\n",
              "35  26.0 -0.535388  0.865268  1.351076  ... -0.553471 -0.078306  0.025427    1.77\n",
              "39  29.0  1.110880  0.168717  0.517144  ... -0.342097  0.036770  0.007480    6.54\n",
              "41  32.0 -2.008872  2.198527  0.144242  ... -0.236141  0.128291  0.117986    2.35\n",
              "56  39.0 -0.554065  0.215728  0.844265  ... -0.440456  0.147130  0.139468  120.96\n",
              "64  42.0 -0.522666  1.009923  0.276470  ... -0.302369  0.318170  0.316910  243.66\n",
              "\n",
              "[10 rows x 30 columns]"
            ]
          },
          "metadata": {
            "tags": []
          },
          "execution_count": 19
        }
      ]
    },
    {
      "cell_type": "code",
      "metadata": {
        "colab": {
          "base_uri": "https://localhost:8080/"
        },
        "id": "H9y6TpyInUKE",
        "outputId": "5624ea22-f03a-4f8b-f626-8227e7563665"
      },
      "source": [
        "# x_train = np.array(x_train).reshape(x_train.shape[0], x_train.shape[1], 1)\n",
        "# x_test = np.array(x_test).reshape(x_test.shape[0], x_test.shape[1], 1)\n",
        "input_shape = (x_train.shape[1], 1)\n",
        "\n",
        "# y_train = keras.utils.to_categorical(y_train, 2)\n",
        "# y_test = keras.utils.to_categorical(y_test, 2)\n",
        "\n",
        "print(\"Shapes:\\nx_train:%s\\ny_train:%s\\n\" % (x_train.shape, y_train.shape))\n",
        "print(\"x_test:%s\\ny_test:%s\\n\" % (x_test.shape, y_test.shape))\n",
        "print(\"input_shape:{}\\n\".format(input_shape))"
      ],
      "execution_count": 20,
      "outputs": [
        {
          "output_type": "stream",
          "text": [
            "Shapes:\n",
            "x_train:(1593, 30)\n",
            "y_train:(1593,)\n",
            "\n",
            "x_test:(399, 30)\n",
            "y_test:(399,)\n",
            "\n",
            "input_shape:(30, 1)\n",
            "\n"
          ],
          "name": "stdout"
        }
      ]
    },
    {
      "cell_type": "code",
      "metadata": {
        "colab": {
          "base_uri": "https://localhost:8080/"
        },
        "id": "Y5XzMnm8M0ii",
        "outputId": "3b11cf39-bc71-4824-a85f-352e22bd1934"
      },
      "source": [
        "y_train[:5]"
      ],
      "execution_count": 21,
      "outputs": [
        {
          "output_type": "execute_result",
          "data": {
            "text/plain": [
              "1    0\n",
              "0    0\n",
              "2    0\n",
              "3    0\n",
              "4    0\n",
              "Name: Class, dtype: int64"
            ]
          },
          "metadata": {
            "tags": []
          },
          "execution_count": 21
        }
      ]
    },
    {
      "cell_type": "code",
      "metadata": {
        "id": "YseNmepwxfht"
      },
      "source": [
        "def plot_learning_curve(history,epochs):\n",
        "    \n",
        "    epoch_range=range(1,epochs+1)\n",
        "    plt.plot(epoch_range,history.history['accuracy'])\n",
        "    plt.plot(epoch_range,history.history[\"val_accuracy\"])\n",
        "    plt.title(\"Model Accuracy\")\n",
        "    plt.xlabel(\"epochs\")\n",
        "    plt.ylabel(\"accuracy\")\n",
        "    plt.legend(\"train\",\"val\",loc=\"upper left\")\n",
        "    plt.show()\n",
        "     \n",
        "    plt.plot(epoch_range,history.history['loss'])\n",
        "    plt.plot(epoch_range,history.history['val_loss'])\n",
        "    plt.title('Model loss')\n",
        "    plt.ylabel('loss')\n",
        "    plt.xlabel('epoch')\n",
        "    plt.legend(['Train','Val'],loc='upper left')\n",
        "    plt.show()"
      ],
      "execution_count": 22,
      "outputs": []
    },
    {
      "cell_type": "markdown",
      "metadata": {
        "id": "gfSPfl1zY5G1"
      },
      "source": [
        "## Deep Neural Network"
      ]
    },
    {
      "cell_type": "code",
      "metadata": {
        "id": "Qf4ikg93tH2c"
      },
      "source": [
        "DNN = Sequential([\n",
        "Dense(input_dim = 30, units = 16, activation = 'relu'),\n",
        "Dense(units = 24, activation = 'relu'),\n",
        "Dropout(0.5),\n",
        "Dense(units = 20, activation = 'relu'),\n",
        "Dense(units = 24, activation = 'relu'),\n",
        "Dense(units =1, activation = 'sigmoid'),])"
      ],
      "execution_count": 23,
      "outputs": []
    },
    {
      "cell_type": "code",
      "metadata": {
        "colab": {
          "base_uri": "https://localhost:8080/"
        },
        "id": "KkS-4ebutYLJ",
        "outputId": "fc4a7f11-de2c-47e8-da1b-0452fa27bcb9"
      },
      "source": [
        "DNN.compile(optimizer = 'adam', loss = 'binary_crossentropy', metrics = ['accuracy'])\n",
        "history = DNN.fit(x_train, y_train, epochs = 25, validation_data = (x_test,y_test),verbose=1)"
      ],
      "execution_count": 24,
      "outputs": [
        {
          "output_type": "stream",
          "text": [
            "Epoch 1/25\n",
            "50/50 [==============================] - 16s 16ms/step - loss: 39.0313 - accuracy: 0.2571 - val_loss: 14.1530 - val_accuracy: 0.2306\n",
            "Epoch 2/25\n",
            "50/50 [==============================] - 0s 3ms/step - loss: 15.4594 - accuracy: 0.2810 - val_loss: 6.8214 - val_accuracy: 0.2456\n",
            "Epoch 3/25\n",
            "50/50 [==============================] - 0s 3ms/step - loss: 8.8719 - accuracy: 0.2913 - val_loss: 5.1986 - val_accuracy: 0.2657\n",
            "Epoch 4/25\n",
            "50/50 [==============================] - 0s 3ms/step - loss: 6.8595 - accuracy: 0.3297 - val_loss: 1.6753 - val_accuracy: 0.3659\n",
            "Epoch 5/25\n",
            "50/50 [==============================] - 0s 3ms/step - loss: 5.6132 - accuracy: 0.3657 - val_loss: 0.9702 - val_accuracy: 0.4812\n",
            "Epoch 6/25\n",
            "50/50 [==============================] - 0s 3ms/step - loss: 5.9254 - accuracy: 0.4179 - val_loss: 0.4375 - val_accuracy: 0.7594\n",
            "Epoch 7/25\n",
            "50/50 [==============================] - 0s 3ms/step - loss: 4.9964 - accuracy: 0.4173 - val_loss: 0.3579 - val_accuracy: 0.8145\n",
            "Epoch 8/25\n",
            "50/50 [==============================] - 0s 3ms/step - loss: 4.0285 - accuracy: 0.4657 - val_loss: 0.2231 - val_accuracy: 0.9975\n",
            "Epoch 9/25\n",
            "50/50 [==============================] - 0s 3ms/step - loss: 2.4553 - accuracy: 0.5196 - val_loss: 0.2578 - val_accuracy: 0.9499\n",
            "Epoch 10/25\n",
            "50/50 [==============================] - 0s 3ms/step - loss: 1.8095 - accuracy: 0.5628 - val_loss: 0.4953 - val_accuracy: 0.7218\n",
            "Epoch 11/25\n",
            "50/50 [==============================] - 0s 3ms/step - loss: 1.4808 - accuracy: 0.5796 - val_loss: 0.3335 - val_accuracy: 0.8145\n",
            "Epoch 12/25\n",
            "50/50 [==============================] - 0s 3ms/step - loss: 1.0727 - accuracy: 0.6389 - val_loss: 0.1979 - val_accuracy: 0.9724\n",
            "Epoch 13/25\n",
            "50/50 [==============================] - 0s 3ms/step - loss: 0.9979 - accuracy: 0.7309 - val_loss: 0.1111 - val_accuracy: 0.9950\n",
            "Epoch 14/25\n",
            "50/50 [==============================] - 0s 3ms/step - loss: 1.3265 - accuracy: 0.6985 - val_loss: 0.1204 - val_accuracy: 0.9975\n",
            "Epoch 15/25\n",
            "50/50 [==============================] - 0s 3ms/step - loss: 1.1625 - accuracy: 0.6952 - val_loss: 0.1703 - val_accuracy: 0.9724\n",
            "Epoch 16/25\n",
            "50/50 [==============================] - 0s 3ms/step - loss: 0.8671 - accuracy: 0.7598 - val_loss: 0.1132 - val_accuracy: 0.9975\n",
            "Epoch 17/25\n",
            "50/50 [==============================] - 0s 3ms/step - loss: 0.4343 - accuracy: 0.8387 - val_loss: 0.1114 - val_accuracy: 0.9975\n",
            "Epoch 18/25\n",
            "50/50 [==============================] - 0s 3ms/step - loss: 0.3656 - accuracy: 0.8680 - val_loss: 0.0881 - val_accuracy: 0.9975\n",
            "Epoch 19/25\n",
            "50/50 [==============================] - 0s 3ms/step - loss: 0.2838 - accuracy: 0.8869 - val_loss: 0.0777 - val_accuracy: 0.9975\n",
            "Epoch 20/25\n",
            "50/50 [==============================] - 0s 3ms/step - loss: 0.4453 - accuracy: 0.9261 - val_loss: 0.5101 - val_accuracy: 0.7218\n",
            "Epoch 21/25\n",
            "50/50 [==============================] - 0s 3ms/step - loss: 0.5148 - accuracy: 0.8078 - val_loss: 0.1833 - val_accuracy: 0.9499\n",
            "Epoch 22/25\n",
            "50/50 [==============================] - 0s 3ms/step - loss: 0.4515 - accuracy: 0.8487 - val_loss: 0.0799 - val_accuracy: 0.9975\n",
            "Epoch 23/25\n",
            "50/50 [==============================] - 0s 3ms/step - loss: 0.2961 - accuracy: 0.9090 - val_loss: 0.0714 - val_accuracy: 1.0000\n",
            "Epoch 24/25\n",
            "50/50 [==============================] - 0s 3ms/step - loss: 0.3152 - accuracy: 0.9251 - val_loss: 1.4662 - val_accuracy: 0.5990\n",
            "Epoch 25/25\n",
            "50/50 [==============================] - 0s 3ms/step - loss: 1.2334 - accuracy: 0.7187 - val_loss: 0.1849 - val_accuracy: 0.9098\n"
          ],
          "name": "stdout"
        }
      ]
    },
    {
      "cell_type": "code",
      "metadata": {
        "id": "DTGS_1m57C1G",
        "colab": {
          "base_uri": "https://localhost:8080/",
          "height": 793
        },
        "outputId": "3a5166d1-82aa-4d06-fc19-ad3474816fb4"
      },
      "source": [
        "plot_learning_curve(history, 25)"
      ],
      "execution_count": 25,
      "outputs": [
        {
          "output_type": "stream",
          "text": [
            "/usr/local/lib/python3.7/dist-packages/ipykernel_launcher.py:9: UserWarning: Legend does not support 't' instances.\n",
            "A proxy artist may be used instead.\n",
            "See: http://matplotlib.org/users/legend_guide.html#creating-artists-specifically-for-adding-to-the-legend-aka-proxy-artists\n",
            "  if __name__ == '__main__':\n",
            "/usr/local/lib/python3.7/dist-packages/ipykernel_launcher.py:9: UserWarning: Legend does not support 'r' instances.\n",
            "A proxy artist may be used instead.\n",
            "See: http://matplotlib.org/users/legend_guide.html#creating-artists-specifically-for-adding-to-the-legend-aka-proxy-artists\n",
            "  if __name__ == '__main__':\n",
            "/usr/local/lib/python3.7/dist-packages/ipykernel_launcher.py:9: UserWarning: Legend does not support 'a' instances.\n",
            "A proxy artist may be used instead.\n",
            "See: http://matplotlib.org/users/legend_guide.html#creating-artists-specifically-for-adding-to-the-legend-aka-proxy-artists\n",
            "  if __name__ == '__main__':\n"
          ],
          "name": "stderr"
        },
        {
          "output_type": "display_data",
          "data": {
            "image/png": "[encoded data removed]",
            "text/plain": [
              "<Figure size 432x288 with 1 Axes>"
            ]
          },
          "metadata": {
            "tags": [],
            "needs_background": "light"
          }
        },
        {
          "output_type": "display_data",
          "data": {
            "image/png": "[encoded data removed]",
            "text/plain": [
              "<Figure size 432x288 with 1 Axes>"
            ]
          },
          "metadata": {
            "tags": [],
            "needs_background": "light"
          }
        }
      ]
    },
    {
      "cell_type": "code",
      "metadata": {
        "colab": {
          "base_uri": "https://localhost:8080/"
        },
        "id": "BjOGh4Bkt__K",
        "outputId": "1cc58b95-242e-482c-b893-0c875c3b198a"
      },
      "source": [
        "score = DNN.evaluate(x_test, y_test)"
      ],
      "execution_count": 26,
      "outputs": [
        {
          "output_type": "stream",
          "text": [
            "13/13 [==============================] - 0s 1ms/step - loss: 0.1849 - accuracy: 0.9098\n"
          ],
          "name": "stdout"
        }
      ]
    },
    {
      "cell_type": "code",
      "metadata": {
        "colab": {
          "base_uri": "https://localhost:8080/"
        },
        "id": "DXUZHbnCupTy",
        "outputId": "07b2300b-afb4-40d4-f02b-9fa9c1e8dfee"
      },
      "source": [
        "y_pred = DNN.predict(x_test)\n",
        "cm = confusion_matrix(y_test, y_pred.round())\n",
        "print(cm)"
      ],
      "execution_count": 27,
      "outputs": [
        {
          "output_type": "stream",
          "text": [
            "[[273  36]\n",
            " [  0  90]]\n"
          ],
          "name": "stdout"
        }
      ]
    },
    {
      "cell_type": "code",
      "metadata": {
        "colab": {
          "base_uri": "https://localhost:8080/"
        },
        "id": "3Tc8SX4Z24MV",
        "outputId": "e4da1e4f-7cfb-447f-e247-b46330ea24f3"
      },
      "source": [
        "print(classification_report(y_test, y_pred.round()))"
      ],
      "execution_count": 28,
      "outputs": [
        {
          "output_type": "stream",
          "text": [
            "              precision    recall  f1-score   support\n",
            "\n",
            "           0       1.00      0.88      0.94       309\n",
            "           1       0.71      1.00      0.83        90\n",
            "\n",
            "    accuracy                           0.91       399\n",
            "   macro avg       0.86      0.94      0.89       399\n",
            "weighted avg       0.94      0.91      0.91       399\n",
            "\n"
          ],
          "name": "stdout"
        }
      ]
    },
    {
      "cell_type": "code",
      "metadata": {
        "colab": {
          "base_uri": "https://localhost:8080/",
          "height": 350
        },
        "id": "1jWIAjadu4a5",
        "outputId": "b8e5a809-29f9-4fba-fbfe-a9cb3e49ef11"
      },
      "source": [
        "labels = [\"Fraud\", \"Normal\"]\n",
        "\n",
        "matrix = np.flip(cm)\n",
        "\n",
        "plt.figure(figsize=(5, 5))\n",
        "sns.heatmap(matrix, xticklabels=labels, yticklabels=labels,  annot=True, fmt=\"d\", cbar=False)\n",
        "plt.title(\"Confusion Matrix\")\n",
        "plt.ylabel('Actual')\n",
        "plt.xlabel('Predicted')\n",
        "plt.show()"
      ],
      "execution_count": 29,
      "outputs": [
        {
          "output_type": "display_data",
          "data": {
            "image/png": "[encoded data removed]",
            "text/plain": [
              "<Figure size 360x360 with 1 Axes>"
            ]
          },
          "metadata": {
            "tags": [],
            "needs_background": "light"
          }
        }
      ]
    },
    {
      "cell_type": "markdown",
      "metadata": {
        "id": "zcFmzjTkY-mm"
      },
      "source": [
        "## Convolutional Neural Network"
      ]
    },
    {
      "cell_type": "code",
      "metadata": {
        "id": "qAmFi0gy4Va9",
        "colab": {
          "base_uri": "https://localhost:8080/"
        },
        "outputId": "7921fa06-5d80-4539-a026-6521c2d78c23"
      },
      "source": [
        "x_train = np.array(x_train).reshape(x_train.shape[0], x_train.shape[1], 1)\n",
        "x_test = np.array(x_test).reshape(x_test.shape[0], x_test.shape[1], 1)\n",
        "input_shape = (x_train.shape[1], 1)\n",
        "\n",
        "print(\"Shapes:\\nx_train:%s\\ny_train:%s\\n\" % (x_train.shape, y_train.shape))\n",
        "print(\"x_test:%s\\ny_test:%s\\n\" % (x_test.shape, y_test.shape))\n",
        "print(\"input_shape:{}\\n\".format(input_shape))"
      ],
      "execution_count": 30,
      "outputs": [
        {
          "output_type": "stream",
          "text": [
            "Shapes:\n",
            "x_train:(1593, 30, 1)\n",
            "y_train:(1593,)\n",
            "\n",
            "x_test:(399, 30, 1)\n",
            "y_test:(399,)\n",
            "\n",
            "input_shape:(30, 1)\n",
            "\n"
          ],
          "name": "stdout"
        }
      ]
    },
    {
      "cell_type": "code",
      "metadata": {
        "id": "acKzfHbrY8er"
      },
      "source": [
        "epochs=50\n",
        "CNN=Sequential()\n",
        "\n",
        "CNN.add(Conv1D(32,2,activation='relu',input_shape=x_train[0].shape))\n",
        "CNN.add(BatchNormalization())\n",
        "CNN.add(MaxPool1D(2))\n",
        "CNN.add(Dropout(0.2))\n",
        "\n",
        "CNN.add(Conv1D(64,2,activation='relu'))\n",
        "CNN.add(BatchNormalization())\n",
        "CNN.add(MaxPool1D(2))\n",
        "CNN.add(Dropout(0.5))\n",
        "\n",
        "\n",
        "#flattening layer\n",
        "CNN.add(Flatten())\n",
        "CNN.add(Dense(64,activation=\"relu\"))\n",
        "CNN.add(Dropout(0.5))\n",
        "\n",
        "#final layer\n",
        "CNN.add(Dense(1,activation=\"sigmoid\"))"
      ],
      "execution_count": 31,
      "outputs": []
    },
    {
      "cell_type": "code",
      "metadata": {
        "id": "Iupg1H77ZBbd",
        "colab": {
          "base_uri": "https://localhost:8080/"
        },
        "outputId": "44c62a68-562d-45ae-c594-b0cefcff33c4"
      },
      "source": [
        "CNN.summary()"
      ],
      "execution_count": 32,
      "outputs": [
        {
          "output_type": "stream",
          "text": [
            "Model: \"sequential_1\"\n",
            "_________________________________________________________________\n",
            "Layer (type)                 Output Shape              Param #   \n",
            "=================================================================\n",
            "conv1d (Conv1D)              (None, 29, 32)            96        \n",
            "_________________________________________________________________\n",
            "batch_normalization (BatchNo (None, 29, 32)            128       \n",
            "_________________________________________________________________\n",
            "max_pooling1d (MaxPooling1D) (None, 14, 32)            0         \n",
            "_________________________________________________________________\n",
            "dropout_1 (Dropout)          (None, 14, 32)            0         \n",
            "_________________________________________________________________\n",
            "conv1d_1 (Conv1D)            (None, 13, 64)            4160      \n",
            "_________________________________________________________________\n",
            "batch_normalization_1 (Batch (None, 13, 64)            256       \n",
            "_________________________________________________________________\n",
            "max_pooling1d_1 (MaxPooling1 (None, 6, 64)             0         \n",
            "_________________________________________________________________\n",
            "dropout_2 (Dropout)          (None, 6, 64)             0         \n",
            "_________________________________________________________________\n",
            "flatten (Flatten)            (None, 384)               0         \n",
            "_________________________________________________________________\n",
            "dense_5 (Dense)              (None, 64)                24640     \n",
            "_________________________________________________________________\n",
            "dropout_3 (Dropout)          (None, 64)                0         \n",
            "_________________________________________________________________\n",
            "dense_6 (Dense)              (None, 1)                 65        \n",
            "=================================================================\n",
            "Total params: 29,345\n",
            "Trainable params: 29,153\n",
            "Non-trainable params: 192\n",
            "_________________________________________________________________\n"
          ],
          "name": "stdout"
        }
      ]
    },
    {
      "cell_type": "code",
      "metadata": {
        "id": "UqbQHw2LZFar",
        "colab": {
          "base_uri": "https://localhost:8080/"
        },
        "outputId": "6f98321e-6812-4263-9be7-297fac4bfe38"
      },
      "source": [
        "CNN.compile(optimizer=Adam(lr=0.001),loss='binary_crossentropy',metrics=['accuracy'])"
      ],
      "execution_count": 33,
      "outputs": [
        {
          "output_type": "stream",
          "text": [
            "/usr/local/lib/python3.7/dist-packages/tensorflow/python/keras/optimizer_v2/optimizer_v2.py:375: UserWarning: The `lr` argument is deprecated, use `learning_rate` instead.\n",
            "  \"The `lr` argument is deprecated, use `learning_rate` instead.\")\n"
          ],
          "name": "stderr"
        }
      ]
    },
    {
      "cell_type": "code",
      "metadata": {
        "id": "oN-zOL7WZKNc",
        "colab": {
          "base_uri": "https://localhost:8080/"
        },
        "outputId": "ec2ca677-97db-4397-f36d-663d836c90d0"
      },
      "source": [
        "history =CNN.fit(x_train,y_train,epochs=epochs, validation_data = (x_test,y_test),verbose=1)"
      ],
      "execution_count": 34,
      "outputs": [
        {
          "output_type": "stream",
          "text": [
            "Epoch 1/50\n",
            "50/50 [==============================] - 7s 20ms/step - loss: 0.5171 - accuracy: 0.8217 - val_loss: 0.1759 - val_accuracy: 0.9925\n",
            "Epoch 2/50\n",
            "50/50 [==============================] - 0s 9ms/step - loss: 0.0792 - accuracy: 0.9801 - val_loss: 0.0472 - val_accuracy: 0.9975\n",
            "Epoch 3/50\n",
            "50/50 [==============================] - 0s 7ms/step - loss: 0.0273 - accuracy: 0.9927 - val_loss: 0.0178 - val_accuracy: 1.0000\n",
            "Epoch 4/50\n",
            "50/50 [==============================] - 0s 8ms/step - loss: 0.0254 - accuracy: 0.9926 - val_loss: 0.0108 - val_accuracy: 0.9975\n",
            "Epoch 5/50\n",
            "50/50 [==============================] - 0s 9ms/step - loss: 0.0205 - accuracy: 0.9939 - val_loss: 0.0070 - val_accuracy: 0.9975\n",
            "Epoch 6/50\n",
            "50/50 [==============================] - 0s 9ms/step - loss: 0.0156 - accuracy: 0.9936 - val_loss: 0.0058 - val_accuracy: 0.9975\n",
            "Epoch 7/50\n",
            "50/50 [==============================] - 0s 8ms/step - loss: 0.0206 - accuracy: 0.9938 - val_loss: 0.0034 - val_accuracy: 1.0000\n",
            "Epoch 8/50\n",
            "50/50 [==============================] - 0s 8ms/step - loss: 0.0174 - accuracy: 0.9960 - val_loss: 0.0036 - val_accuracy: 0.9975\n",
            "Epoch 9/50\n",
            "50/50 [==============================] - 0s 9ms/step - loss: 0.0147 - accuracy: 0.9945 - val_loss: 0.0033 - val_accuracy: 0.9975\n",
            "Epoch 10/50\n",
            "50/50 [==============================] - 0s 10ms/step - loss: 0.0105 - accuracy: 0.9969 - val_loss: 0.0036 - val_accuracy: 0.9975\n",
            "Epoch 11/50\n",
            "50/50 [==============================] - 0s 9ms/step - loss: 0.0433 - accuracy: 0.9847 - val_loss: 0.0048 - val_accuracy: 0.9975\n",
            "Epoch 12/50\n",
            "50/50 [==============================] - 0s 9ms/step - loss: 0.0106 - accuracy: 0.9989 - val_loss: 0.0034 - val_accuracy: 0.9975\n",
            "Epoch 13/50\n",
            "50/50 [==============================] - 0s 8ms/step - loss: 0.0080 - accuracy: 0.9968 - val_loss: 0.0036 - val_accuracy: 0.9975\n",
            "Epoch 14/50\n",
            "50/50 [==============================] - 0s 9ms/step - loss: 0.0107 - accuracy: 0.9947 - val_loss: 0.0011 - val_accuracy: 1.0000\n",
            "Epoch 15/50\n",
            "50/50 [==============================] - 0s 9ms/step - loss: 0.0120 - accuracy: 0.9983 - val_loss: 0.0010 - val_accuracy: 1.0000\n",
            "Epoch 16/50\n",
            "50/50 [==============================] - 0s 8ms/step - loss: 0.0064 - accuracy: 0.9966 - val_loss: 0.0014 - val_accuracy: 1.0000\n",
            "Epoch 17/50\n",
            "50/50 [==============================] - 0s 7ms/step - loss: 0.0050 - accuracy: 0.9986 - val_loss: 0.0022 - val_accuracy: 0.9975\n",
            "Epoch 18/50\n",
            "50/50 [==============================] - 0s 7ms/step - loss: 0.0064 - accuracy: 0.9989 - val_loss: 0.0030 - val_accuracy: 0.9975\n",
            "Epoch 19/50\n",
            "50/50 [==============================] - 0s 8ms/step - loss: 0.0094 - accuracy: 0.9977 - val_loss: 0.0012 - val_accuracy: 1.0000\n",
            "Epoch 20/50\n",
            "50/50 [==============================] - 0s 8ms/step - loss: 0.0052 - accuracy: 0.9986 - val_loss: 0.0016 - val_accuracy: 1.0000\n",
            "Epoch 21/50\n",
            "50/50 [==============================] - 0s 8ms/step - loss: 0.0056 - accuracy: 0.9976 - val_loss: 0.0020 - val_accuracy: 0.9975\n",
            "Epoch 22/50\n",
            "50/50 [==============================] - 0s 7ms/step - loss: 0.0071 - accuracy: 0.9975 - val_loss: 0.0021 - val_accuracy: 0.9975\n",
            "Epoch 23/50\n",
            "50/50 [==============================] - 0s 8ms/step - loss: 0.0042 - accuracy: 0.9987 - val_loss: 0.0029 - val_accuracy: 0.9975\n",
            "Epoch 24/50\n",
            "50/50 [==============================] - 0s 9ms/step - loss: 0.0053 - accuracy: 0.9972 - val_loss: 0.0023 - val_accuracy: 0.9975\n",
            "Epoch 25/50\n",
            "50/50 [==============================] - 0s 8ms/step - loss: 0.0035 - accuracy: 0.9989 - val_loss: 0.0040 - val_accuracy: 0.9975\n",
            "Epoch 26/50\n",
            "50/50 [==============================] - 0s 9ms/step - loss: 0.0049 - accuracy: 0.9995 - val_loss: 0.0046 - val_accuracy: 0.9975\n",
            "Epoch 27/50\n",
            "50/50 [==============================] - 0s 8ms/step - loss: 0.0102 - accuracy: 0.9959 - val_loss: 0.0062 - val_accuracy: 0.9975\n",
            "Epoch 28/50\n",
            "50/50 [==============================] - 0s 8ms/step - loss: 0.0074 - accuracy: 0.9962 - val_loss: 0.0084 - val_accuracy: 0.9975\n",
            "Epoch 29/50\n",
            "50/50 [==============================] - 0s 8ms/step - loss: 0.0099 - accuracy: 0.9977 - val_loss: 0.0025 - val_accuracy: 0.9975\n",
            "Epoch 30/50\n",
            "50/50 [==============================] - 0s 9ms/step - loss: 0.0100 - accuracy: 0.9955 - val_loss: 0.0044 - val_accuracy: 0.9975\n",
            "Epoch 31/50\n",
            "50/50 [==============================] - 0s 8ms/step - loss: 0.0041 - accuracy: 0.9996 - val_loss: 0.0020 - val_accuracy: 0.9975\n",
            "Epoch 32/50\n",
            "50/50 [==============================] - 0s 7ms/step - loss: 0.0025 - accuracy: 0.9991 - val_loss: 0.0026 - val_accuracy: 0.9975\n",
            "Epoch 33/50\n",
            "50/50 [==============================] - 0s 8ms/step - loss: 0.0043 - accuracy: 0.9988 - val_loss: 0.0027 - val_accuracy: 0.9975\n",
            "Epoch 34/50\n",
            "50/50 [==============================] - 0s 9ms/step - loss: 0.0087 - accuracy: 0.9966 - val_loss: 0.0060 - val_accuracy: 0.9975\n",
            "Epoch 35/50\n",
            "50/50 [==============================] - 0s 9ms/step - loss: 0.0077 - accuracy: 0.9982 - val_loss: 0.0065 - val_accuracy: 0.9975\n",
            "Epoch 36/50\n",
            "50/50 [==============================] - 0s 8ms/step - loss: 0.0027 - accuracy: 0.9993 - val_loss: 0.0045 - val_accuracy: 0.9975\n",
            "Epoch 37/50\n",
            "50/50 [==============================] - 0s 7ms/step - loss: 0.0050 - accuracy: 0.9995 - val_loss: 0.0061 - val_accuracy: 0.9975\n",
            "Epoch 38/50\n",
            "50/50 [==============================] - 0s 7ms/step - loss: 0.0101 - accuracy: 0.9976 - val_loss: 0.0035 - val_accuracy: 0.9975\n",
            "Epoch 39/50\n",
            "50/50 [==============================] - 0s 9ms/step - loss: 0.0185 - accuracy: 0.9973 - val_loss: 0.0034 - val_accuracy: 0.9975\n",
            "Epoch 40/50\n",
            "50/50 [==============================] - 0s 9ms/step - loss: 0.0057 - accuracy: 0.9979 - val_loss: 0.0037 - val_accuracy: 0.9975\n",
            "Epoch 41/50\n",
            "50/50 [==============================] - 0s 8ms/step - loss: 0.0041 - accuracy: 0.9990 - val_loss: 0.0029 - val_accuracy: 0.9975\n",
            "Epoch 42/50\n",
            "50/50 [==============================] - 0s 7ms/step - loss: 0.0025 - accuracy: 0.9998 - val_loss: 0.0031 - val_accuracy: 0.9975\n",
            "Epoch 43/50\n",
            "50/50 [==============================] - 0s 8ms/step - loss: 0.0050 - accuracy: 0.9977 - val_loss: 0.0115 - val_accuracy: 0.9975\n",
            "Epoch 44/50\n",
            "50/50 [==============================] - 0s 9ms/step - loss: 0.0027 - accuracy: 0.9989 - val_loss: 0.0117 - val_accuracy: 0.9975\n",
            "Epoch 45/50\n",
            "50/50 [==============================] - 0s 8ms/step - loss: 0.0062 - accuracy: 0.9988 - val_loss: 0.0098 - val_accuracy: 0.9975\n",
            "Epoch 46/50\n",
            "50/50 [==============================] - 0s 8ms/step - loss: 0.0027 - accuracy: 0.9980 - val_loss: 0.0101 - val_accuracy: 0.9975\n",
            "Epoch 47/50\n",
            "50/50 [==============================] - 0s 9ms/step - loss: 0.0049 - accuracy: 0.9973 - val_loss: 0.0097 - val_accuracy: 0.9975\n",
            "Epoch 48/50\n",
            "50/50 [==============================] - 0s 8ms/step - loss: 0.0026 - accuracy: 0.9992 - val_loss: 0.0067 - val_accuracy: 0.9975\n",
            "Epoch 49/50\n",
            "50/50 [==============================] - 0s 10ms/step - loss: 0.0096 - accuracy: 0.9989 - val_loss: 0.0073 - val_accuracy: 0.9975\n",
            "Epoch 50/50\n",
            "50/50 [==============================] - 0s 9ms/step - loss: 0.0022 - accuracy: 0.9996 - val_loss: 0.0060 - val_accuracy: 0.9975\n"
          ],
          "name": "stdout"
        }
      ]
    },
    {
      "cell_type": "code",
      "metadata": {
        "id": "cUkZRPiWxlWo",
        "colab": {
          "base_uri": "https://localhost:8080/",
          "height": 793
        },
        "outputId": "15663476-528e-4742-f44f-6195f8cfe840"
      },
      "source": [
        "plot_learning_curve(history, 50)"
      ],
      "execution_count": 35,
      "outputs": [
        {
          "output_type": "stream",
          "text": [
            "/usr/local/lib/python3.7/dist-packages/ipykernel_launcher.py:9: UserWarning: Legend does not support 't' instances.\n",
            "A proxy artist may be used instead.\n",
            "See: http://matplotlib.org/users/legend_guide.html#creating-artists-specifically-for-adding-to-the-legend-aka-proxy-artists\n",
            "  if __name__ == '__main__':\n",
            "/usr/local/lib/python3.7/dist-packages/ipykernel_launcher.py:9: UserWarning: Legend does not support 'r' instances.\n",
            "A proxy artist may be used instead.\n",
            "See: http://matplotlib.org/users/legend_guide.html#creating-artists-specifically-for-adding-to-the-legend-aka-proxy-artists\n",
            "  if __name__ == '__main__':\n",
            "/usr/local/lib/python3.7/dist-packages/ipykernel_launcher.py:9: UserWarning: Legend does not support 'a' instances.\n",
            "A proxy artist may be used instead.\n",
            "See: http://matplotlib.org/users/legend_guide.html#creating-artists-specifically-for-adding-to-the-legend-aka-proxy-artists\n",
            "  if __name__ == '__main__':\n"
          ],
          "name": "stderr"
        },
        {
          "output_type": "display_data",
          "data": {
            "image/png": "[encoded data removed]",
            "text/plain": [
              "<Figure size 432x288 with 1 Axes>"
            ]
          },
          "metadata": {
            "tags": [],
            "needs_background": "light"
          }
        },
        {
          "output_type": "display_data",
          "data": {
            "image/png": "[encoded data removed]",
            "text/plain": [
              "<Figure size 432x288 with 1 Axes>"
            ]
          },
          "metadata": {
            "tags": [],
            "needs_background": "light"
          }
        }
      ]
    },
    {
      "cell_type": "code",
      "metadata": {
        "id": "s0WRNA-mxo0_",
        "colab": {
          "base_uri": "https://localhost:8080/"
        },
        "outputId": "4af12f9d-bfa4-4d5d-ebb7-7bb3c134a247"
      },
      "source": [
        "final_acc = CNN.evaluate(x_train,y_train, verbose=0)\n",
        "print('Test loss:', final_acc[0])\n",
        "print('Test accuracy:', final_acc[1])"
      ],
      "execution_count": 36,
      "outputs": [
        {
          "output_type": "stream",
          "text": [
            "Test loss: 0.0017844075337052345\n",
            "Test accuracy: 0.9993722438812256\n"
          ],
          "name": "stdout"
        }
      ]
    },
    {
      "cell_type": "code",
      "metadata": {
        "id": "KdW7JL6q5Glu",
        "colab": {
          "base_uri": "https://localhost:8080/"
        },
        "outputId": "0d69070b-34b0-430c-fc22-92a281dcf425"
      },
      "source": [
        "print(classification_report(y_test, y_pred.round()))"
      ],
      "execution_count": 37,
      "outputs": [
        {
          "output_type": "stream",
          "text": [
            "              precision    recall  f1-score   support\n",
            "\n",
            "           0       1.00      0.88      0.94       309\n",
            "           1       0.71      1.00      0.83        90\n",
            "\n",
            "    accuracy                           0.91       399\n",
            "   macro avg       0.86      0.94      0.89       399\n",
            "weighted avg       0.94      0.91      0.91       399\n",
            "\n"
          ],
          "name": "stdout"
        }
      ]
    },
    {
      "cell_type": "code",
      "metadata": {
        "id": "KOywukVc5MIO",
        "colab": {
          "base_uri": "https://localhost:8080/"
        },
        "outputId": "76840ffd-2cdb-47d7-f6ed-90c5d495a6aa"
      },
      "source": [
        "y_pred = CNN.predict(x_test)\n",
        "cm = confusion_matrix(y_test, y_pred.round())\n",
        "print(cm)"
      ],
      "execution_count": 38,
      "outputs": [
        {
          "output_type": "stream",
          "text": [
            "[[309   0]\n",
            " [  1  89]]\n"
          ],
          "name": "stdout"
        }
      ]
    },
    {
      "cell_type": "code",
      "metadata": {
        "id": "LDQ-kYbQxuNb",
        "colab": {
          "base_uri": "https://localhost:8080/"
        },
        "outputId": "f97f1803-13b1-4b13-f2d0-783bd9cbfd80"
      },
      "source": [
        "print(classification_report(y_test, y_pred.round()))"
      ],
      "execution_count": 39,
      "outputs": [
        {
          "output_type": "stream",
          "text": [
            "              precision    recall  f1-score   support\n",
            "\n",
            "           0       1.00      1.00      1.00       309\n",
            "           1       1.00      0.99      0.99        90\n",
            "\n",
            "    accuracy                           1.00       399\n",
            "   macro avg       1.00      0.99      1.00       399\n",
            "weighted avg       1.00      1.00      1.00       399\n",
            "\n"
          ],
          "name": "stdout"
        }
      ]
    },
    {
      "cell_type": "code",
      "metadata": {
        "id": "ArX0yfs15SgH",
        "colab": {
          "base_uri": "https://localhost:8080/",
          "height": 350
        },
        "outputId": "39338efb-df27-4961-b9d7-5aa22b2bf7de"
      },
      "source": [
        "labels = [\"Fraud\", \"Normal\"]\n",
        "\n",
        "matrix = np.flip(cm)\n",
        "\n",
        "plt.figure(figsize=(5, 5))\n",
        "sns.heatmap(matrix, xticklabels=labels, yticklabels=labels,  annot=True, fmt=\"d\", cbar=False)\n",
        "plt.title(\"Confusion Matrix\")\n",
        "plt.ylabel('Actual')\n",
        "plt.xlabel('Predicted')\n",
        "plt.show()"
      ],
      "execution_count": 40,
      "outputs": [
        {
          "output_type": "display_data",
          "data": {
            "image/png": "[encoded data removed]",
            "text/plain": [
              "<Figure size 360x360 with 1 Axes>"
            ]
          },
          "metadata": {
            "tags": [],
            "needs_background": "light"
          }
        }
      ]
    },
    {
      "cell_type": "markdown",
      "metadata": {
        "id": "nCO7iSntZfw1"
      },
      "source": [
        "## Temporal Convolutional Autoencoder"
      ]
    },
    {
      "cell_type": "code",
      "metadata": {
        "colab": {
          "base_uri": "https://localhost:8080/"
        },
        "id": "skd5CnfjDYiX",
        "outputId": "b916a8b1-8d40-4aa8-a3d3-fafb20f73145"
      },
      "source": [
        "x_train = np.array(x_train).reshape(x_train.shape[0], x_train.shape[1], 1)\n",
        "x_test = np.array(x_test).reshape(x_test.shape[0], x_test.shape[1], 1)\n",
        "input_shape = (x_train.shape[1], 1)\n",
        "\n",
        "y_train = tf.keras.utils.to_categorical(y_train, 2)\n",
        "y_test = tf.keras.utils.to_categorical(y_test, 2)\n",
        "\n",
        "print(\"Shapes:\\nx_train:%s\\ny_train:%s\\n\" % (x_train.shape, y_train.shape))\n",
        "print(\"x_test:%s\\ny_test:%s\\n\" % (x_test.shape, y_test.shape))\n",
        "print(\"input_shape:{}\\n\".format(input_shape))"
      ],
      "execution_count": 42,
      "outputs": [
        {
          "output_type": "stream",
          "text": [
            "Shapes:\n",
            "x_train:(1593, 30, 1)\n",
            "y_train:(1593, 2)\n",
            "\n",
            "x_test:(399, 30, 1)\n",
            "y_test:(399, 2)\n",
            "\n",
            "input_shape:(30, 1)\n",
            "\n"
          ],
          "name": "stdout"
        }
      ]
    },
    {
      "cell_type": "code",
      "metadata": {
        "colab": {
          "base_uri": "https://localhost:8080/"
        },
        "id": "LS015YEpD2UF",
        "outputId": "43191f5a-fc04-4d77-a726-8c1d57e4229e"
      },
      "source": [
        "input_layer = Input(shape=(input_shape ))\n",
        "\n",
        "### ENCODING STAGE\n",
        "# ENCODING STAGE\n",
        "\n",
        "#filters: the dimensionality of the output space\n",
        "#kernel size: the length of the 1D convolution window\n",
        "#dilation rate: dilation rate to use for dilated convolution\n",
        "#padding: causal (dilated) convolutions, useful when modeling temporal data where the model should not violate the temporal order\n",
        "#strides: the stride length of the convolution\n",
        "#kernel regularizer: The L2 regularization penalty is computed as: loss = l2 * reduce_sum(square(x))\n",
        "#activation ReLU: the rectified linear unit activation function\n",
        "#this returns the standard ReLU activation: max(x, 0)\n",
        "# Pairs of causal 1D convolutional layers and pooling layers comprising the encoding stage\n",
        "conv_1 = Conv1D(filters=int(input_shape[0]), kernel_size=2, dilation_rate=1,\n",
        "                padding='causal', strides=1,input_shape=input_shape,\n",
        "                kernel_regularizer=regularizers.l2(0.01),\n",
        "                activation='relu')(input_layer)\n",
        "\n",
        "pool_1 = MaxPooling1D(pool_size=2, strides=2)(conv_1)\n",
        "\n",
        "conv_2 = Conv1D(filters=int(input_shape[0] / 2), kernel_size=2, dilation_rate=1,\n",
        "                padding='causal',strides=1, kernel_regularizer=regularizers.l2(0.01),\n",
        "                activation='relu')(pool_1)\n",
        "\n",
        "pool_2 = MaxPooling1D(pool_size=2, strides=3)(conv_2)\n",
        "\n",
        "conv_3 = Conv1D(filters=int(input_shape[0] / 3), kernel_size=2, dilation_rate=1,\n",
        "                padding='causal', strides=1,kernel_regularizer=regularizers.l2(0.01),\n",
        "                activation='relu')(pool_2)\n",
        "\n",
        "\n",
        "### OUTPUT OF ENCODING STAGE\n",
        "encoder = Dense(int(input_shape[0] / 6), activation='relu')(conv_3)\n",
        "\n",
        "### DECODING STAGE\n",
        "# Pairs of upsampling and causal 1D convolutional layers comprising the decoding stage\n",
        "upsample_1 = UpSampling1D(size=3)(encoder)\n",
        "\n",
        "conv_4 = Conv1D(filters=int(input_shape[0]/3), kernel_size=2, dilation_rate=1,\n",
        "                padding='causal',strides=1, kernel_regularizer=regularizers.l2(0.01),\n",
        "                activation='relu')(upsample_1)\n",
        "\n",
        "upsample_2 = UpSampling1D(size=2)(conv_4)\n",
        "\n",
        "conv_5 = Conv1D(filters=int(input_shape[0]/2), kernel_size=2, dilation_rate=1,\n",
        "                padding='causal', strides=1,kernel_regularizer=regularizers.l2(0.05),\n",
        "                activation='relu')(upsample_2)\n",
        "\n",
        "zero_pad_1 = ZeroPadding1D(padding=(0,1))(conv_5)\n",
        "\n",
        "conv_6 = Conv1D(filters=int(input_shape[0]), kernel_size=2, dilation_rate=1,\n",
        "                padding='causal', strides=1,kernel_regularizer=regularizers.l2(0.05),\n",
        "                activation='relu')(zero_pad_1)\n",
        "\n",
        "\n",
        "### Output of decoding stage flattened and passed through softmax to make predictions\n",
        "flat = Flatten()(conv_6)\n",
        "\n",
        "output_layer = Dense(2, activation='softmax')(flat)\n",
        "\n",
        "TCN = Model(inputs=input_layer, outputs=output_layer)\n",
        "\n",
        "TCN.compile(loss=keras.losses.categorical_crossentropy,\n",
        "              optimizer=optimizers.Adam(lr=0.002),\n",
        "           metrics=[\"accuracy\"])\n",
        "\n",
        "TCN.summary()"
      ],
      "execution_count": 43,
      "outputs": [
        {
          "output_type": "stream",
          "text": [
            "Model: \"model\"\n",
            "_________________________________________________________________\n",
            "Layer (type)                 Output Shape              Param #   \n",
            "=================================================================\n",
            "input_1 (InputLayer)         [(None, 30, 1)]           0         \n",
            "_________________________________________________________________\n",
            "conv1d_2 (Conv1D)            (None, 30, 30)            90        \n",
            "_________________________________________________________________\n",
            "max_pooling1d_2 (MaxPooling1 (None, 15, 30)            0         \n",
            "_________________________________________________________________\n",
            "conv1d_3 (Conv1D)            (None, 15, 15)            915       \n",
            "_________________________________________________________________\n",
            "max_pooling1d_3 (MaxPooling1 (None, 5, 15)             0         \n",
            "_________________________________________________________________\n",
            "conv1d_4 (Conv1D)            (None, 5, 10)             310       \n",
            "_________________________________________________________________\n",
            "dense_7 (Dense)              (None, 5, 5)              55        \n",
            "_________________________________________________________________\n",
            "up_sampling1d (UpSampling1D) (None, 15, 5)             0         \n",
            "_________________________________________________________________\n",
            "conv1d_5 (Conv1D)            (None, 15, 10)            110       \n",
            "_________________________________________________________________\n",
            "up_sampling1d_1 (UpSampling1 (None, 30, 10)            0         \n",
            "_________________________________________________________________\n",
            "conv1d_6 (Conv1D)            (None, 30, 15)            315       \n",
            "_________________________________________________________________\n",
            "zero_padding1d (ZeroPadding1 (None, 31, 15)            0         \n",
            "_________________________________________________________________\n",
            "conv1d_7 (Conv1D)            (None, 31, 30)            930       \n",
            "_________________________________________________________________\n",
            "flatten_1 (Flatten)          (None, 930)               0         \n",
            "_________________________________________________________________\n",
            "dense_8 (Dense)              (None, 2)                 1862      \n",
            "=================================================================\n",
            "Total params: 4,587\n",
            "Trainable params: 4,587\n",
            "Non-trainable params: 0\n",
            "_________________________________________________________________\n"
          ],
          "name": "stdout"
        },
        {
          "output_type": "stream",
          "text": [
            "/usr/local/lib/python3.7/dist-packages/tensorflow/python/keras/optimizer_v2/optimizer_v2.py:375: UserWarning: The `lr` argument is deprecated, use `learning_rate` instead.\n",
            "  \"The `lr` argument is deprecated, use `learning_rate` instead.\")\n"
          ],
          "name": "stderr"
        }
      ]
    },
    {
      "cell_type": "code",
      "metadata": {
        "colab": {
          "base_uri": "https://localhost:8080/"
        },
        "id": "kbtZmDhoD7Mq",
        "outputId": "998b1420-d69f-490f-c384-a5dbc3c3eb16"
      },
      "source": [
        "history =TCN.fit(x_train, y_train, epochs=25, verbose=1, validation_data=(x_test, y_test))"
      ],
      "execution_count": 44,
      "outputs": [
        {
          "output_type": "stream",
          "text": [
            "Epoch 1/25\n",
            "50/50 [==============================] - 4s 25ms/step - loss: 6.4708 - accuracy: 0.4213 - val_loss: 4.9484 - val_accuracy: 0.4862\n",
            "Epoch 2/25\n",
            "50/50 [==============================] - 0s 9ms/step - loss: 2.9139 - accuracy: 0.7502 - val_loss: 1.2731 - val_accuracy: 1.0000\n",
            "Epoch 3/25\n",
            "50/50 [==============================] - 0s 9ms/step - loss: 1.2805 - accuracy: 0.9983 - val_loss: 1.1860 - val_accuracy: 1.0000\n",
            "Epoch 4/25\n",
            "50/50 [==============================] - 0s 9ms/step - loss: 1.1782 - accuracy: 0.9996 - val_loss: 1.1327 - val_accuracy: 1.0000\n",
            "Epoch 5/25\n",
            "50/50 [==============================] - 0s 7ms/step - loss: 1.1363 - accuracy: 0.9989 - val_loss: 1.0922 - val_accuracy: 1.0000\n",
            "Epoch 6/25\n",
            "50/50 [==============================] - 0s 9ms/step - loss: 1.0927 - accuracy: 0.9993 - val_loss: 1.0580 - val_accuracy: 1.0000\n",
            "Epoch 7/25\n",
            "50/50 [==============================] - 0s 9ms/step - loss: 1.0667 - accuracy: 0.9986 - val_loss: 1.0261 - val_accuracy: 1.0000\n",
            "Epoch 8/25\n",
            "50/50 [==============================] - 0s 8ms/step - loss: 1.0221 - accuracy: 0.9997 - val_loss: 0.9970 - val_accuracy: 1.0000\n",
            "Epoch 9/25\n",
            "50/50 [==============================] - 0s 8ms/step - loss: 1.0015 - accuracy: 0.9990 - val_loss: 0.9694 - val_accuracy: 1.0000\n",
            "Epoch 10/25\n",
            "50/50 [==============================] - 0s 8ms/step - loss: 0.9734 - accuracy: 0.9991 - val_loss: 0.9431 - val_accuracy: 1.0000\n",
            "Epoch 11/25\n",
            "50/50 [==============================] - 0s 8ms/step - loss: 0.9514 - accuracy: 0.9986 - val_loss: 0.9178 - val_accuracy: 1.0000\n",
            "Epoch 12/25\n",
            "50/50 [==============================] - 0s 9ms/step - loss: 0.9491 - accuracy: 0.9965 - val_loss: 0.8935 - val_accuracy: 1.0000\n",
            "Epoch 13/25\n",
            "50/50 [==============================] - 0s 9ms/step - loss: 0.9023 - accuracy: 0.9987 - val_loss: 0.8706 - val_accuracy: 1.0000\n",
            "Epoch 14/25\n",
            "50/50 [==============================] - 0s 9ms/step - loss: 0.8725 - accuracy: 0.9993 - val_loss: 0.8483 - val_accuracy: 1.0000\n",
            "Epoch 15/25\n",
            "50/50 [==============================] - 0s 8ms/step - loss: 0.8495 - accuracy: 0.9993 - val_loss: 0.8267 - val_accuracy: 1.0000\n",
            "Epoch 16/25\n",
            "50/50 [==============================] - 0s 9ms/step - loss: 0.8357 - accuracy: 0.9985 - val_loss: 0.8051 - val_accuracy: 1.0000\n",
            "Epoch 17/25\n",
            "50/50 [==============================] - 0s 9ms/step - loss: 0.8224 - accuracy: 0.9977 - val_loss: 0.7844 - val_accuracy: 1.0000\n",
            "Epoch 18/25\n",
            "50/50 [==============================] - 0s 9ms/step - loss: 0.7914 - accuracy: 0.9987 - val_loss: 0.7643 - val_accuracy: 1.0000\n",
            "Epoch 19/25\n",
            "50/50 [==============================] - 0s 8ms/step - loss: 0.7753 - accuracy: 0.9984 - val_loss: 0.7450 - val_accuracy: 1.0000\n",
            "Epoch 20/25\n",
            "50/50 [==============================] - 0s 9ms/step - loss: 0.9447 - accuracy: 0.9854 - val_loss: 0.9046 - val_accuracy: 0.9223\n",
            "Epoch 21/25\n",
            "50/50 [==============================] - 0s 9ms/step - loss: 0.8715 - accuracy: 0.9928 - val_loss: 0.8086 - val_accuracy: 1.0000\n",
            "Epoch 22/25\n",
            "50/50 [==============================] - 0s 10ms/step - loss: 0.8081 - accuracy: 0.9998 - val_loss: 0.7868 - val_accuracy: 1.0000\n",
            "Epoch 23/25\n",
            "50/50 [==============================] - 0s 8ms/step - loss: 0.8252 - accuracy: 0.9984 - val_loss: 0.7632 - val_accuracy: 1.0000\n",
            "Epoch 24/25\n",
            "50/50 [==============================] - 0s 8ms/step - loss: 0.8024 - accuracy: 0.9986 - val_loss: 0.7467 - val_accuracy: 1.0000\n",
            "Epoch 25/25\n",
            "50/50 [==============================] - 0s 9ms/step - loss: 0.7888 - accuracy: 0.9983 - val_loss: 0.7299 - val_accuracy: 1.0000\n"
          ],
          "name": "stdout"
        }
      ]
    },
    {
      "cell_type": "code",
      "metadata": {
        "colab": {
          "base_uri": "https://localhost:8080/",
          "height": 793
        },
        "id": "YnyF4obZIfLy",
        "outputId": "070f4d4b-3773-4dc7-faeb-7e572e5ee4f7"
      },
      "source": [
        "plot_learning_curve(history, 25)"
      ],
      "execution_count": 45,
      "outputs": [
        {
          "output_type": "stream",
          "text": [
            "/usr/local/lib/python3.7/dist-packages/ipykernel_launcher.py:9: UserWarning: Legend does not support 't' instances.\n",
            "A proxy artist may be used instead.\n",
            "See: http://matplotlib.org/users/legend_guide.html#creating-artists-specifically-for-adding-to-the-legend-aka-proxy-artists\n",
            "  if __name__ == '__main__':\n",
            "/usr/local/lib/python3.7/dist-packages/ipykernel_launcher.py:9: UserWarning: Legend does not support 'r' instances.\n",
            "A proxy artist may be used instead.\n",
            "See: http://matplotlib.org/users/legend_guide.html#creating-artists-specifically-for-adding-to-the-legend-aka-proxy-artists\n",
            "  if __name__ == '__main__':\n",
            "/usr/local/lib/python3.7/dist-packages/ipykernel_launcher.py:9: UserWarning: Legend does not support 'a' instances.\n",
            "A proxy artist may be used instead.\n",
            "See: http://matplotlib.org/users/legend_guide.html#creating-artists-specifically-for-adding-to-the-legend-aka-proxy-artists\n",
            "  if __name__ == '__main__':\n"
          ],
          "name": "stderr"
        },
        {
          "output_type": "display_data",
          "data": {
            "image/png": "[encoded data removed]",
            "text/plain": [
              "<Figure size 432x288 with 1 Axes>"
            ]
          },
          "metadata": {
            "tags": [],
            "needs_background": "light"
          }
        },
        {
          "output_type": "display_data",
          "data": {
            "image/png": "[encoded data removed]",
            "text/plain": [
              "<Figure size 432x288 with 1 Axes>"
            ]
          },
          "metadata": {
            "tags": [],
            "needs_background": "light"
          }
        }
      ]
    },
    {
      "cell_type": "code",
      "metadata": {
        "colab": {
          "base_uri": "https://localhost:8080/"
        },
        "id": "Z2K-aoFtD_wf",
        "outputId": "bfbb8d14-16eb-48ab-bad0-c3605dbefcc3"
      },
      "source": [
        "score = TCN.evaluate(x_test, y_test, verbose=0)\n",
        "print('Test loss:', score[0])\n",
        "print('Test accuracy:', score[1])"
      ],
      "execution_count": 46,
      "outputs": [
        {
          "output_type": "stream",
          "text": [
            "Test loss: 0.7299115061759949\n",
            "Test accuracy: 1.0\n"
          ],
          "name": "stdout"
        }
      ]
    },
    {
      "cell_type": "code",
      "metadata": {
        "colab": {
          "base_uri": "https://localhost:8080/"
        },
        "id": "GJGP4M3IEByl",
        "outputId": "4131f981-b765-4f32-a818-edb9b02a1de2"
      },
      "source": [
        "preds = TCN.predict(x_test)\n",
        "y_pred = np.round(preds)\n",
        "print(y_pred)\n",
        "auc = roc_auc_score( y_pred, y_test)\n",
        "print(\"AUC: {:.2%}\".format (auc))"
      ],
      "execution_count": 47,
      "outputs": [
        {
          "output_type": "stream",
          "text": [
            "[[1. 0.]\n",
            " [1. 0.]\n",
            " [1. 0.]\n",
            " [1. 0.]\n",
            " [1. 0.]\n",
            " [1. 0.]\n",
            " [1. 0.]\n",
            " [1. 0.]\n",
            " [1. 0.]\n",
            " [1. 0.]\n",
            " [1. 0.]\n",
            " [1. 0.]\n",
            " [1. 0.]\n",
            " [1. 0.]\n",
            " [1. 0.]\n",
            " [1. 0.]\n",
            " [1. 0.]\n",
            " [1. 0.]\n",
            " [1. 0.]\n",
            " [1. 0.]\n",
            " [1. 0.]\n",
            " [1. 0.]\n",
            " [1. 0.]\n",
            " [1. 0.]\n",
            " [1. 0.]\n",
            " [1. 0.]\n",
            " [1. 0.]\n",
            " [1. 0.]\n",
            " [1. 0.]\n",
            " [1. 0.]\n",
            " [1. 0.]\n",
            " [1. 0.]\n",
            " [1. 0.]\n",
            " [1. 0.]\n",
            " [1. 0.]\n",
            " [1. 0.]\n",
            " [1. 0.]\n",
            " [1. 0.]\n",
            " [1. 0.]\n",
            " [1. 0.]\n",
            " [1. 0.]\n",
            " [1. 0.]\n",
            " [1. 0.]\n",
            " [1. 0.]\n",
            " [1. 0.]\n",
            " [1. 0.]\n",
            " [1. 0.]\n",
            " [1. 0.]\n",
            " [1. 0.]\n",
            " [1. 0.]\n",
            " [1. 0.]\n",
            " [1. 0.]\n",
            " [1. 0.]\n",
            " [1. 0.]\n",
            " [1. 0.]\n",
            " [1. 0.]\n",
            " [1. 0.]\n",
            " [1. 0.]\n",
            " [1. 0.]\n",
            " [1. 0.]\n",
            " [1. 0.]\n",
            " [1. 0.]\n",
            " [1. 0.]\n",
            " [1. 0.]\n",
            " [1. 0.]\n",
            " [1. 0.]\n",
            " [1. 0.]\n",
            " [1. 0.]\n",
            " [1. 0.]\n",
            " [1. 0.]\n",
            " [1. 0.]\n",
            " [1. 0.]\n",
            " [1. 0.]\n",
            " [1. 0.]\n",
            " [1. 0.]\n",
            " [1. 0.]\n",
            " [1. 0.]\n",
            " [1. 0.]\n",
            " [1. 0.]\n",
            " [1. 0.]\n",
            " [1. 0.]\n",
            " [1. 0.]\n",
            " [1. 0.]\n",
            " [1. 0.]\n",
            " [1. 0.]\n",
            " [1. 0.]\n",
            " [1. 0.]\n",
            " [1. 0.]\n",
            " [1. 0.]\n",
            " [1. 0.]\n",
            " [1. 0.]\n",
            " [1. 0.]\n",
            " [1. 0.]\n",
            " [1. 0.]\n",
            " [1. 0.]\n",
            " [1. 0.]\n",
            " [1. 0.]\n",
            " [1. 0.]\n",
            " [1. 0.]\n",
            " [1. 0.]\n",
            " [1. 0.]\n",
            " [1. 0.]\n",
            " [1. 0.]\n",
            " [1. 0.]\n",
            " [1. 0.]\n",
            " [1. 0.]\n",
            " [1. 0.]\n",
            " [1. 0.]\n",
            " [1. 0.]\n",
            " [1. 0.]\n",
            " [1. 0.]\n",
            " [1. 0.]\n",
            " [1. 0.]\n",
            " [1. 0.]\n",
            " [1. 0.]\n",
            " [1. 0.]\n",
            " [1. 0.]\n",
            " [1. 0.]\n",
            " [1. 0.]\n",
            " [1. 0.]\n",
            " [1. 0.]\n",
            " [1. 0.]\n",
            " [1. 0.]\n",
            " [1. 0.]\n",
            " [1. 0.]\n",
            " [1. 0.]\n",
            " [1. 0.]\n",
            " [1. 0.]\n",
            " [1. 0.]\n",
            " [1. 0.]\n",
            " [1. 0.]\n",
            " [1. 0.]\n",
            " [1. 0.]\n",
            " [1. 0.]\n",
            " [1. 0.]\n",
            " [1. 0.]\n",
            " [1. 0.]\n",
            " [1. 0.]\n",
            " [1. 0.]\n",
            " [1. 0.]\n",
            " [1. 0.]\n",
            " [1. 0.]\n",
            " [1. 0.]\n",
            " [1. 0.]\n",
            " [1. 0.]\n",
            " [1. 0.]\n",
            " [1. 0.]\n",
            " [1. 0.]\n",
            " [1. 0.]\n",
            " [1. 0.]\n",
            " [1. 0.]\n",
            " [1. 0.]\n",
            " [1. 0.]\n",
            " [1. 0.]\n",
            " [1. 0.]\n",
            " [1. 0.]\n",
            " [1. 0.]\n",
            " [1. 0.]\n",
            " [1. 0.]\n",
            " [1. 0.]\n",
            " [1. 0.]\n",
            " [1. 0.]\n",
            " [1. 0.]\n",
            " [1. 0.]\n",
            " [1. 0.]\n",
            " [1. 0.]\n",
            " [1. 0.]\n",
            " [1. 0.]\n",
            " [1. 0.]\n",
            " [1. 0.]\n",
            " [1. 0.]\n",
            " [1. 0.]\n",
            " [1. 0.]\n",
            " [1. 0.]\n",
            " [1. 0.]\n",
            " [1. 0.]\n",
            " [1. 0.]\n",
            " [1. 0.]\n",
            " [1. 0.]\n",
            " [1. 0.]\n",
            " [1. 0.]\n",
            " [1. 0.]\n",
            " [1. 0.]\n",
            " [1. 0.]\n",
            " [1. 0.]\n",
            " [1. 0.]\n",
            " [1. 0.]\n",
            " [1. 0.]\n",
            " [1. 0.]\n",
            " [1. 0.]\n",
            " [1. 0.]\n",
            " [1. 0.]\n",
            " [1. 0.]\n",
            " [1. 0.]\n",
            " [1. 0.]\n",
            " [1. 0.]\n",
            " [1. 0.]\n",
            " [1. 0.]\n",
            " [1. 0.]\n",
            " [1. 0.]\n",
            " [1. 0.]\n",
            " [1. 0.]\n",
            " [1. 0.]\n",
            " [1. 0.]\n",
            " [1. 0.]\n",
            " [1. 0.]\n",
            " [1. 0.]\n",
            " [1. 0.]\n",
            " [1. 0.]\n",
            " [1. 0.]\n",
            " [1. 0.]\n",
            " [1. 0.]\n",
            " [1. 0.]\n",
            " [1. 0.]\n",
            " [1. 0.]\n",
            " [1. 0.]\n",
            " [1. 0.]\n",
            " [1. 0.]\n",
            " [1. 0.]\n",
            " [1. 0.]\n",
            " [1. 0.]\n",
            " [1. 0.]\n",
            " [1. 0.]\n",
            " [1. 0.]\n",
            " [1. 0.]\n",
            " [1. 0.]\n",
            " [1. 0.]\n",
            " [1. 0.]\n",
            " [1. 0.]\n",
            " [1. 0.]\n",
            " [1. 0.]\n",
            " [1. 0.]\n",
            " [1. 0.]\n",
            " [1. 0.]\n",
            " [1. 0.]\n",
            " [1. 0.]\n",
            " [1. 0.]\n",
            " [1. 0.]\n",
            " [1. 0.]\n",
            " [1. 0.]\n",
            " [1. 0.]\n",
            " [1. 0.]\n",
            " [1. 0.]\n",
            " [1. 0.]\n",
            " [1. 0.]\n",
            " [1. 0.]\n",
            " [1. 0.]\n",
            " [1. 0.]\n",
            " [1. 0.]\n",
            " [1. 0.]\n",
            " [1. 0.]\n",
            " [1. 0.]\n",
            " [1. 0.]\n",
            " [1. 0.]\n",
            " [1. 0.]\n",
            " [1. 0.]\n",
            " [1. 0.]\n",
            " [1. 0.]\n",
            " [1. 0.]\n",
            " [1. 0.]\n",
            " [1. 0.]\n",
            " [1. 0.]\n",
            " [1. 0.]\n",
            " [1. 0.]\n",
            " [1. 0.]\n",
            " [1. 0.]\n",
            " [1. 0.]\n",
            " [1. 0.]\n",
            " [1. 0.]\n",
            " [1. 0.]\n",
            " [1. 0.]\n",
            " [1. 0.]\n",
            " [1. 0.]\n",
            " [1. 0.]\n",
            " [1. 0.]\n",
            " [1. 0.]\n",
            " [1. 0.]\n",
            " [1. 0.]\n",
            " [1. 0.]\n",
            " [1. 0.]\n",
            " [1. 0.]\n",
            " [1. 0.]\n",
            " [1. 0.]\n",
            " [1. 0.]\n",
            " [1. 0.]\n",
            " [1. 0.]\n",
            " [1. 0.]\n",
            " [1. 0.]\n",
            " [1. 0.]\n",
            " [1. 0.]\n",
            " [1. 0.]\n",
            " [1. 0.]\n",
            " [1. 0.]\n",
            " [1. 0.]\n",
            " [1. 0.]\n",
            " [1. 0.]\n",
            " [1. 0.]\n",
            " [1. 0.]\n",
            " [1. 0.]\n",
            " [1. 0.]\n",
            " [1. 0.]\n",
            " [1. 0.]\n",
            " [1. 0.]\n",
            " [1. 0.]\n",
            " [1. 0.]\n",
            " [1. 0.]\n",
            " [1. 0.]\n",
            " [1. 0.]\n",
            " [1. 0.]\n",
            " [0. 1.]\n",
            " [0. 1.]\n",
            " [0. 1.]\n",
            " [0. 1.]\n",
            " [0. 1.]\n",
            " [0. 1.]\n",
            " [0. 1.]\n",
            " [0. 1.]\n",
            " [0. 1.]\n",
            " [0. 1.]\n",
            " [0. 1.]\n",
            " [0. 1.]\n",
            " [0. 1.]\n",
            " [0. 1.]\n",
            " [0. 1.]\n",
            " [0. 1.]\n",
            " [0. 1.]\n",
            " [0. 1.]\n",
            " [0. 1.]\n",
            " [0. 1.]\n",
            " [0. 1.]\n",
            " [0. 1.]\n",
            " [0. 1.]\n",
            " [0. 1.]\n",
            " [0. 1.]\n",
            " [0. 1.]\n",
            " [0. 1.]\n",
            " [0. 1.]\n",
            " [0. 1.]\n",
            " [0. 1.]\n",
            " [0. 1.]\n",
            " [0. 1.]\n",
            " [0. 1.]\n",
            " [0. 1.]\n",
            " [0. 1.]\n",
            " [0. 1.]\n",
            " [0. 1.]\n",
            " [0. 1.]\n",
            " [0. 1.]\n",
            " [0. 1.]\n",
            " [0. 1.]\n",
            " [0. 1.]\n",
            " [0. 1.]\n",
            " [0. 1.]\n",
            " [0. 1.]\n",
            " [0. 1.]\n",
            " [0. 1.]\n",
            " [0. 1.]\n",
            " [0. 1.]\n",
            " [0. 1.]\n",
            " [0. 1.]\n",
            " [0. 1.]\n",
            " [0. 1.]\n",
            " [0. 1.]\n",
            " [0. 1.]\n",
            " [0. 1.]\n",
            " [0. 1.]\n",
            " [0. 1.]\n",
            " [0. 1.]\n",
            " [0. 1.]\n",
            " [0. 1.]\n",
            " [0. 1.]\n",
            " [0. 1.]\n",
            " [0. 1.]\n",
            " [0. 1.]\n",
            " [0. 1.]\n",
            " [0. 1.]\n",
            " [0. 1.]\n",
            " [0. 1.]\n",
            " [0. 1.]\n",
            " [0. 1.]\n",
            " [0. 1.]\n",
            " [0. 1.]\n",
            " [0. 1.]\n",
            " [0. 1.]\n",
            " [0. 1.]\n",
            " [0. 1.]\n",
            " [0. 1.]\n",
            " [0. 1.]\n",
            " [0. 1.]\n",
            " [0. 1.]\n",
            " [0. 1.]\n",
            " [0. 1.]\n",
            " [0. 1.]\n",
            " [0. 1.]\n",
            " [0. 1.]\n",
            " [0. 1.]\n",
            " [0. 1.]\n",
            " [0. 1.]\n",
            " [0. 1.]]\n",
            "AUC: 100.00%\n"
          ],
          "name": "stdout"
        }
      ]
    },
    {
      "cell_type": "code",
      "metadata": {
        "colab": {
          "base_uri": "https://localhost:8080/"
        },
        "id": "WbdjJUZKEEod",
        "outputId": "018b6558-5c3d-4fec-c01e-4cbf995c67ed"
      },
      "source": [
        "print(classification_report(y_test, y_pred))"
      ],
      "execution_count": 48,
      "outputs": [
        {
          "output_type": "stream",
          "text": [
            "              precision    recall  f1-score   support\n",
            "\n",
            "           0       1.00      1.00      1.00       309\n",
            "           1       1.00      1.00      1.00        90\n",
            "\n",
            "   micro avg       1.00      1.00      1.00       399\n",
            "   macro avg       1.00      1.00      1.00       399\n",
            "weighted avg       1.00      1.00      1.00       399\n",
            " samples avg       1.00      1.00      1.00       399\n",
            "\n"
          ],
          "name": "stdout"
        }
      ]
    },
    {
      "cell_type": "code",
      "metadata": {
        "colab": {
          "base_uri": "https://localhost:8080/"
        },
        "id": "QaQOgUSxFAMO",
        "outputId": "c917292d-ba64-4d13-a2e1-e57c6b5ae8d3"
      },
      "source": [
        "y_pred2 = np.argmax(y_pred, axis=1)\n",
        "y_test2 = np.argmax(y_test, axis=1)\n",
        "cm = confusion_matrix(y_test2, y_pred2.round())\n",
        "print(cm)"
      ],
      "execution_count": 49,
      "outputs": [
        {
          "output_type": "stream",
          "text": [
            "[[309   0]\n",
            " [  0  90]]\n"
          ],
          "name": "stdout"
        }
      ]
    },
    {
      "cell_type": "code",
      "metadata": {
        "colab": {
          "base_uri": "https://localhost:8080/",
          "height": 350
        },
        "id": "RDc8UXJlE7ke",
        "outputId": "476d4f2c-8ff6-475b-b7ab-c0160fbfe7f9"
      },
      "source": [
        "labels = [\"Fraud\", \"Normal\"]\n",
        "\n",
        "matrix = np.flip(cm)\n",
        "\n",
        "plt.figure(figsize=(5, 5))\n",
        "sns.heatmap(matrix, xticklabels=labels, yticklabels=labels,  annot=True, fmt=\"d\", cbar=False)\n",
        "plt.title(\"Confusion Matrix\")\n",
        "plt.ylabel('Actual')\n",
        "plt.xlabel('Predicted')\n",
        "plt.show()"
      ],
      "execution_count": 50,
      "outputs": [
        {
          "output_type": "display_data",
          "data": {
            "image/png": "[encoded data removed]",
            "text/plain": [
              "<Figure size 360x360 with 1 Axes>"
            ]
          },
          "metadata": {
            "tags": [],
            "needs_background": "light"
          }
        }
      ]
    },
    {
      "cell_type": "code",
      "metadata": {
        "id": "AJXZ7eqEMQnX"
      },
      "source": [
        ""
      ],
      "execution_count": null,
      "outputs": []
    }
  ]
}