{
  "nbformat": 4,
  "nbformat_minor": 0,
  "metadata": {
    "colab": {
      "name": "Fraud_Detection.ipynb",
      "provenance": [],
      "collapsed_sections": [],
      "mount_file_id": "https://github.com/ldselvera/Fraud_Detection_Deep_Learning/blob/main/Fraud_Detection.ipynb",
      "authorship_tag": "ABX9TyPWUNuPmZKUIkXNQvTpbb5+",
      "include_colab_link": true
    },
    "kernelspec": {
      "name": "python3",
      "display_name": "Python 3"
    }
  },
  "cells": [
    {
      "cell_type": "markdown",
      "metadata": {
        "id": "view-in-github",
        "colab_type": "text"
      },
      "source": [
        "<a href=\"https://colab.research.google.com/github/ldselvera/Fraud_Detection_Deep_Learning/blob/main/Fraud_Detection.ipynb\" target=\"_parent\"><img src=\"https://colab.research.google.com/assets/colab-badge.svg\" alt=\"Open In Colab\"/></a>"
      ]
    },
    {
      "cell_type": "markdown",
      "metadata": {
        "id": "mA4C1zNFYYY9"
      },
      "source": [
        "## Imports"
      ]
    },
    {
      "cell_type": "code",
      "metadata": {
        "colab": {
          "base_uri": "https://localhost:8080/"
        },
        "id": "8JIuMMWawJWk",
        "outputId": "2d760b4c-52d7-4647-ad51-21aabd8f980f"
      },
      "source": [
        "import pandas as pd\n",
        "import numpy as np\n",
        "import matplotlib.pyplot as plt\n",
        "import seaborn as sns\n",
        "\n",
        "import tensorflow as tf\n",
        "from tensorflow import keras\n",
        "from tensorflow.keras.optimizers import Adam\n",
        "\n",
        "from keras import regularizers, optimizers\n",
        "from keras.models import Sequential, Model, load_model\n",
        "from keras.layers import Input, Conv1D, Dense, Flatten, Activation, UpSampling1D, MaxPooling1D, ZeroPadding1D\n",
        "from keras.layers import Flatten, Dropout, BatchNormalization, MaxPool1D\n",
        "\n",
        "from sklearn.model_selection import train_test_split\n",
        "from sklearn.preprocessing import StandardScaler\n",
        "from sklearn.metrics import confusion_matrix, classification_report, roc_auc_score\n",
        "from sklearn import datasets, decomposition, preprocessing\n",
        "\n",
        "from mpl_toolkits.mplot3d import Axes3D\n",
        "\n",
        "print(tf.__version__)"
      ],
      "execution_count": 1,
      "outputs": [
        {
          "output_type": "stream",
          "text": [
            "2.4.1\n"
          ],
          "name": "stdout"
        }
      ]
    },
    {
      "cell_type": "markdown",
      "metadata": {
        "id": "A31EgwShR_e0"
      },
      "source": [
        "## Dataset"
      ]
    },
    {
      "cell_type": "code",
      "metadata": {
        "id": "zoYfwsWzwL0j"
      },
      "source": [
        "#import dataset from csv\n",
        "\n",
        "#Modify with your own path\n",
        "df = pd.read_csv(\"/content/drive/MyDrive/Colab Notebooks/fraud/creditcard.csv\")"
      ],
      "execution_count": 2,
      "outputs": []
    },
    {
      "cell_type": "code",
      "metadata": {
        "colab": {
          "base_uri": "https://localhost:8080/",
          "height": 226
        },
        "id": "QDJ7ukVSn4sm",
        "outputId": "0d9d3e29-0f05-47f6-f2ec-e7d2dccbb6c5"
      },
      "source": [
        "#preview of the data\n",
        "df.head()"
      ],
      "execution_count": 3,
      "outputs": [
        {
          "output_type": "execute_result",
          "data": {
            "text/html": [
              "<div>\n",
              "<style scoped>\n",
              "    .dataframe tbody tr th:only-of-type {\n",
              "        vertical-align: middle;\n",
              "    }\n",
              "\n",
              "    .dataframe tbody tr th {\n",
              "        vertical-align: top;\n",
              "    }\n",
              "\n",
              "    .dataframe thead th {\n",
              "        text-align: right;\n",
              "    }\n",
              "</style>\n",
              "<table border=\"1\" class=\"dataframe\">\n",
              "  <thead>\n",
              "    <tr style=\"text-align: right;\">\n",
              "      <th></th>\n",
              "      <th>Time</th>\n",
              "      <th>V1</th>\n",
              "      <th>V2</th>\n",
              "      <th>V3</th>\n",
              "      <th>V4</th>\n",
              "      <th>V5</th>\n",
              "      <th>V6</th>\n",
              "      <th>V7</th>\n",
              "      <th>V8</th>\n",
              "      <th>V9</th>\n",
              "      <th>V10</th>\n",
              "      <th>V11</th>\n",
              "      <th>V12</th>\n",
              "      <th>V13</th>\n",
              "      <th>V14</th>\n",
              "      <th>V15</th>\n",
              "      <th>V16</th>\n",
              "      <th>V17</th>\n",
              "      <th>V18</th>\n",
              "      <th>V19</th>\n",
              "      <th>V20</th>\n",
              "      <th>V21</th>\n",
              "      <th>V22</th>\n",
              "      <th>V23</th>\n",
              "      <th>V24</th>\n",
              "      <th>V25</th>\n",
              "      <th>V26</th>\n",
              "      <th>V27</th>\n",
              "      <th>V28</th>\n",
              "      <th>Amount</th>\n",
              "      <th>Class</th>\n",
              "    </tr>\n",
              "  </thead>\n",
              "  <tbody>\n",
              "    <tr>\n",
              "      <th>0</th>\n",
              "      <td>0.0</td>\n",
              "      <td>-1.359807</td>\n",
              "      <td>-0.072781</td>\n",
              "      <td>2.536347</td>\n",
              "      <td>1.378155</td>\n",
              "      <td>-0.338321</td>\n",
              "      <td>0.462388</td>\n",
              "      <td>0.239599</td>\n",
              "      <td>0.098698</td>\n",
              "      <td>0.363787</td>\n",
              "      <td>0.090794</td>\n",
              "      <td>-0.551600</td>\n",
              "      <td>-0.617801</td>\n",
              "      <td>-0.991390</td>\n",
              "      <td>-0.311169</td>\n",
              "      <td>1.468177</td>\n",
              "      <td>-0.470401</td>\n",
              "      <td>0.207971</td>\n",
              "      <td>0.025791</td>\n",
              "      <td>0.403993</td>\n",
              "      <td>0.251412</td>\n",
              "      <td>-0.018307</td>\n",
              "      <td>0.277838</td>\n",
              "      <td>-0.110474</td>\n",
              "      <td>0.066928</td>\n",
              "      <td>0.128539</td>\n",
              "      <td>-0.189115</td>\n",
              "      <td>0.133558</td>\n",
              "      <td>-0.021053</td>\n",
              "      <td>149.62</td>\n",
              "      <td>0</td>\n",
              "    </tr>\n",
              "    <tr>\n",
              "      <th>1</th>\n",
              "      <td>0.0</td>\n",
              "      <td>1.191857</td>\n",
              "      <td>0.266151</td>\n",
              "      <td>0.166480</td>\n",
              "      <td>0.448154</td>\n",
              "      <td>0.060018</td>\n",
              "      <td>-0.082361</td>\n",
              "      <td>-0.078803</td>\n",
              "      <td>0.085102</td>\n",
              "      <td>-0.255425</td>\n",
              "      <td>-0.166974</td>\n",
              "      <td>1.612727</td>\n",
              "      <td>1.065235</td>\n",
              "      <td>0.489095</td>\n",
              "      <td>-0.143772</td>\n",
              "      <td>0.635558</td>\n",
              "      <td>0.463917</td>\n",
              "      <td>-0.114805</td>\n",
              "      <td>-0.183361</td>\n",
              "      <td>-0.145783</td>\n",
              "      <td>-0.069083</td>\n",
              "      <td>-0.225775</td>\n",
              "      <td>-0.638672</td>\n",
              "      <td>0.101288</td>\n",
              "      <td>-0.339846</td>\n",
              "      <td>0.167170</td>\n",
              "      <td>0.125895</td>\n",
              "      <td>-0.008983</td>\n",
              "      <td>0.014724</td>\n",
              "      <td>2.69</td>\n",
              "      <td>0</td>\n",
              "    </tr>\n",
              "    <tr>\n",
              "      <th>2</th>\n",
              "      <td>1.0</td>\n",
              "      <td>-1.358354</td>\n",
              "      <td>-1.340163</td>\n",
              "      <td>1.773209</td>\n",
              "      <td>0.379780</td>\n",
              "      <td>-0.503198</td>\n",
              "      <td>1.800499</td>\n",
              "      <td>0.791461</td>\n",
              "      <td>0.247676</td>\n",
              "      <td>-1.514654</td>\n",
              "      <td>0.207643</td>\n",
              "      <td>0.624501</td>\n",
              "      <td>0.066084</td>\n",
              "      <td>0.717293</td>\n",
              "      <td>-0.165946</td>\n",
              "      <td>2.345865</td>\n",
              "      <td>-2.890083</td>\n",
              "      <td>1.109969</td>\n",
              "      <td>-0.121359</td>\n",
              "      <td>-2.261857</td>\n",
              "      <td>0.524980</td>\n",
              "      <td>0.247998</td>\n",
              "      <td>0.771679</td>\n",
              "      <td>0.909412</td>\n",
              "      <td>-0.689281</td>\n",
              "      <td>-0.327642</td>\n",
              "      <td>-0.139097</td>\n",
              "      <td>-0.055353</td>\n",
              "      <td>-0.059752</td>\n",
              "      <td>378.66</td>\n",
              "      <td>0</td>\n",
              "    </tr>\n",
              "    <tr>\n",
              "      <th>3</th>\n",
              "      <td>1.0</td>\n",
              "      <td>-0.966272</td>\n",
              "      <td>-0.185226</td>\n",
              "      <td>1.792993</td>\n",
              "      <td>-0.863291</td>\n",
              "      <td>-0.010309</td>\n",
              "      <td>1.247203</td>\n",
              "      <td>0.237609</td>\n",
              "      <td>0.377436</td>\n",
              "      <td>-1.387024</td>\n",
              "      <td>-0.054952</td>\n",
              "      <td>-0.226487</td>\n",
              "      <td>0.178228</td>\n",
              "      <td>0.507757</td>\n",
              "      <td>-0.287924</td>\n",
              "      <td>-0.631418</td>\n",
              "      <td>-1.059647</td>\n",
              "      <td>-0.684093</td>\n",
              "      <td>1.965775</td>\n",
              "      <td>-1.232622</td>\n",
              "      <td>-0.208038</td>\n",
              "      <td>-0.108300</td>\n",
              "      <td>0.005274</td>\n",
              "      <td>-0.190321</td>\n",
              "      <td>-1.175575</td>\n",
              "      <td>0.647376</td>\n",
              "      <td>-0.221929</td>\n",
              "      <td>0.062723</td>\n",
              "      <td>0.061458</td>\n",
              "      <td>123.50</td>\n",
              "      <td>0</td>\n",
              "    </tr>\n",
              "    <tr>\n",
              "      <th>4</th>\n",
              "      <td>2.0</td>\n",
              "      <td>-1.158233</td>\n",
              "      <td>0.877737</td>\n",
              "      <td>1.548718</td>\n",
              "      <td>0.403034</td>\n",
              "      <td>-0.407193</td>\n",
              "      <td>0.095921</td>\n",
              "      <td>0.592941</td>\n",
              "      <td>-0.270533</td>\n",
              "      <td>0.817739</td>\n",
              "      <td>0.753074</td>\n",
              "      <td>-0.822843</td>\n",
              "      <td>0.538196</td>\n",
              "      <td>1.345852</td>\n",
              "      <td>-1.119670</td>\n",
              "      <td>0.175121</td>\n",
              "      <td>-0.451449</td>\n",
              "      <td>-0.237033</td>\n",
              "      <td>-0.038195</td>\n",
              "      <td>0.803487</td>\n",
              "      <td>0.408542</td>\n",
              "      <td>-0.009431</td>\n",
              "      <td>0.798278</td>\n",
              "      <td>-0.137458</td>\n",
              "      <td>0.141267</td>\n",
              "      <td>-0.206010</td>\n",
              "      <td>0.502292</td>\n",
              "      <td>0.219422</td>\n",
              "      <td>0.215153</td>\n",
              "      <td>69.99</td>\n",
              "      <td>0</td>\n",
              "    </tr>\n",
              "  </tbody>\n",
              "</table>\n",
              "</div>"
            ],
            "text/plain": [
              "   Time        V1        V2        V3  ...       V27       V28  Amount  Class\n",
              "0   0.0 -1.359807 -0.072781  2.536347  ...  0.133558 -0.021053  149.62      0\n",
              "1   0.0  1.191857  0.266151  0.166480  ... -0.008983  0.014724    2.69      0\n",
              "2   1.0 -1.358354 -1.340163  1.773209  ... -0.055353 -0.059752  378.66      0\n",
              "3   1.0 -0.966272 -0.185226  1.792993  ...  0.062723  0.061458  123.50      0\n",
              "4   2.0 -1.158233  0.877737  1.548718  ...  0.219422  0.215153   69.99      0\n",
              "\n",
              "[5 rows x 31 columns]"
            ]
          },
          "metadata": {
            "tags": []
          },
          "execution_count": 3
        }
      ]
    },
    {
      "cell_type": "code",
      "metadata": {
        "colab": {
          "base_uri": "https://localhost:8080/"
        },
        "id": "T7YEL20rqvAT",
        "outputId": "7758f8a6-ad21-4f2c-fd5d-1033b1f987db"
      },
      "source": [
        "df.columns"
      ],
      "execution_count": 4,
      "outputs": [
        {
          "output_type": "execute_result",
          "data": {
            "text/plain": [
              "Index(['Time', 'V1', 'V2', 'V3', 'V4', 'V5', 'V6', 'V7', 'V8', 'V9', 'V10',\n",
              "       'V11', 'V12', 'V13', 'V14', 'V15', 'V16', 'V17', 'V18', 'V19', 'V20',\n",
              "       'V21', 'V22', 'V23', 'V24', 'V25', 'V26', 'V27', 'V28', 'Amount',\n",
              "       'Class'],\n",
              "      dtype='object')"
            ]
          },
          "metadata": {
            "tags": []
          },
          "execution_count": 4
        }
      ]
    },
    {
      "cell_type": "markdown",
      "metadata": {
        "id": "e3nhTPtQSSib"
      },
      "source": [
        "### Check for missing values (Null/NaN)"
      ]
    },
    {
      "cell_type": "code",
      "metadata": {
        "colab": {
          "base_uri": "https://localhost:8080/"
        },
        "id": "KrfE0ULlw2of",
        "outputId": "adbf627a-42f4-4616-f8c4-2be0ca619964"
      },
      "source": [
        "df.isnull().sum()"
      ],
      "execution_count": 5,
      "outputs": [
        {
          "output_type": "execute_result",
          "data": {
            "text/plain": [
              "Time      0\n",
              "V1        0\n",
              "V2        0\n",
              "V3        0\n",
              "V4        0\n",
              "V5        0\n",
              "V6        0\n",
              "V7        0\n",
              "V8        0\n",
              "V9        0\n",
              "V10       0\n",
              "V11       0\n",
              "V12       0\n",
              "V13       0\n",
              "V14       0\n",
              "V15       0\n",
              "V16       0\n",
              "V17       0\n",
              "V18       0\n",
              "V19       0\n",
              "V20       0\n",
              "V21       0\n",
              "V22       0\n",
              "V23       0\n",
              "V24       0\n",
              "V25       0\n",
              "V26       0\n",
              "V27       0\n",
              "V28       0\n",
              "Amount    0\n",
              "Class     0\n",
              "dtype: int64"
            ]
          },
          "metadata": {
            "tags": []
          },
          "execution_count": 5
        }
      ]
    },
    {
      "cell_type": "markdown",
      "metadata": {
        "id": "PurRX73ASHAy"
      },
      "source": [
        "### Imbalanced data"
      ]
    },
    {
      "cell_type": "code",
      "metadata": {
        "colab": {
          "base_uri": "https://localhost:8080/"
        },
        "id": "A67IsMfews1l",
        "outputId": "4497e2c4-52b0-4681-afa4-8083d5ab2963"
      },
      "source": [
        "# Number of instances per class \n",
        "df['Class'].value_counts()"
      ],
      "execution_count": 6,
      "outputs": [
        {
          "output_type": "execute_result",
          "data": {
            "text/plain": [
              "0    284315\n",
              "1       492\n",
              "Name: Class, dtype: int64"
            ]
          },
          "metadata": {
            "tags": []
          },
          "execution_count": 6
        }
      ]
    },
    {
      "cell_type": "code",
      "metadata": {
        "colab": {
          "base_uri": "https://localhost:8080/"
        },
        "id": "Cjgh4YcNqy87",
        "outputId": "29103b0b-cf7f-45d9-92c2-af27810198e1"
      },
      "source": [
        "print('No Frauds', round(df['Class'].value_counts()[0]/len(df) * 100,2), '% of the dataset')\n",
        "print('Frauds', round(df['Class'].value_counts()[1]/len(df) * 100,2), '% of the dataset')"
      ],
      "execution_count": 7,
      "outputs": [
        {
          "output_type": "stream",
          "text": [
            "No Frauds 99.83 % of the dataset\n",
            "Frauds 0.17 % of the dataset\n"
          ],
          "name": "stdout"
        }
      ]
    },
    {
      "cell_type": "code",
      "metadata": {
        "colab": {
          "base_uri": "https://localhost:8080/",
          "height": 369
        },
        "id": "KosF-gJaq07z",
        "outputId": "0b2e11e7-4b1b-41b2-9fd0-d1de1a87c93c"
      },
      "source": [
        "sns.countplot('Class', data=df)\n",
        "plt.title('Class Distributions \\n (0: No Fraud || 1: Fraud)', fontsize=14)\n",
        "plt.show()"
      ],
      "execution_count": 8,
      "outputs": [
        {
          "output_type": "stream",
          "text": [
            "/usr/local/lib/python3.7/dist-packages/seaborn/_decorators.py:43: FutureWarning: Pass the following variable as a keyword arg: x. From version 0.12, the only valid positional argument will be `data`, and passing other arguments without an explicit keyword will result in an error or misinterpretation.\n",
            "  FutureWarning\n"
          ],
          "name": "stderr"
        },
        {
          "output_type": "display_data",
          "data": {
            "image/png": "[encoded data removed]",
            "text/plain": [
              "<Figure size 432x288 with 1 Axes>"
            ]
          },
          "metadata": {
            "tags": [],
            "needs_background": "light"
          }
        }
      ]
    },
    {
      "cell_type": "code",
      "metadata": {
        "id": "eQKZAqa_XiN4"
      },
      "source": [
        "def show_pca_df(df):\n",
        "\tx = df[df.columns[1:30]].to_numpy()\n",
        "\ty = df[df.columns[30]].to_numpy()\n",
        "\n",
        "\tx = preprocessing.MinMaxScaler().fit_transform(x)\n",
        "\tpca = decomposition.PCA(n_components=3)\n",
        "\tpca_result = pca.fit_transform(x)\n",
        "\tprint(pca.explained_variance_ratio_)\n",
        "\n",
        "\tpca_df = pd.DataFrame(data=pca_result, columns=['pc_1', 'pc_2', 'pc_3'])\n",
        "\tpca_df = pd.concat([pca_df, pd.DataFrame({'label': y})], axis=1)\n",
        "\n",
        "\tax = Axes3D(plt.figure(figsize=(8, 8)))\n",
        "\tax.scatter(xs=pca_df['pc_1'], ys=pca_df['pc_2'], zs=pca_df['pc_3'], c=pca_df['label'], s=25)\n",
        "\tax.set_xlabel(\"pc_1\")\n",
        "\tax.set_ylabel(\"pc_2\")\n",
        "\tax.set_zlabel(\"pc_3\")\n",
        "\tplt.show()"
      ],
      "execution_count": 9,
      "outputs": []
    },
    {
      "cell_type": "code",
      "metadata": {
        "colab": {
          "base_uri": "https://localhost:8080/",
          "height": 625
        },
        "id": "qjRfLeKoX0z1",
        "outputId": "e7d5de75-511c-4663-ff87-f279abe77f61"
      },
      "source": [
        "show_pca_df(df)"
      ],
      "execution_count": 10,
      "outputs": [
        {
          "output_type": "stream",
          "text": [
            "[0.13501016 0.12577773 0.12031404]\n"
          ],
          "name": "stdout"
        },
        {
          "output_type": "display_data",
          "data": {
            "image/png": "[encoded data removed]",
            "text/plain": [
              "<Figure size 576x576 with 1 Axes>"
            ]
          },
          "metadata": {
            "tags": [],
            "needs_background": "light"
          }
        }
      ]
    },
    {
      "cell_type": "markdown",
      "metadata": {
        "id": "wWyXWCpmYTNk"
      },
      "source": [
        "### Subsampling"
      ]
    },
    {
      "cell_type": "code",
      "metadata": {
        "id": "8GxudI2jxBQP"
      },
      "source": [
        "#Split fraud and normal transactions\n",
        "fraud_data = df[df['Class']==1]\n",
        "non_fraud_data = df[df[\"Class\"]==0]\n",
        "\n",
        "#Subsample according to the size of fraud transactions\n",
        "non_fraud_data1 = non_fraud_data.sample(1500)\n",
        "\n",
        "#Rejoin fraud and normal transactions\n",
        "final_data = fraud_data.append(non_fraud_data1,ignore_index=True)\n"
      ],
      "execution_count": 11,
      "outputs": []
    },
    {
      "cell_type": "code",
      "metadata": {
        "colab": {
          "base_uri": "https://localhost:8080/"
        },
        "id": "vHpfJmbOaCrd",
        "outputId": "7e612fb9-416a-4cbb-a256-8c654ab494e9"
      },
      "source": [
        "print('No Frauds', round(final_data['Class'].value_counts()[0]/len(final_data) * 100,2), '% of the dataset')\n",
        "print('Frauds', round(final_data['Class'].value_counts()[1]/len(final_data) * 100,2), '% of the dataset')"
      ],
      "execution_count": 12,
      "outputs": [
        {
          "output_type": "stream",
          "text": [
            "No Frauds 75.3 % of the dataset\n",
            "Frauds 24.7 % of the dataset\n"
          ],
          "name": "stdout"
        }
      ]
    },
    {
      "cell_type": "code",
      "metadata": {
        "colab": {
          "base_uri": "https://localhost:8080/",
          "height": 425
        },
        "id": "v3xQkb5orArm",
        "outputId": "7e9174c3-502d-4f62-811a-f869af1fe3ce"
      },
      "source": [
        "print('Distribution of the Classes in the subsample dataset')\n",
        "print(final_data['Class'].value_counts()/len(final_data))\n",
        "\n",
        "sns.countplot('Class', data=final_data)\n",
        "plt.title('25/75 Distributed Classes', fontsize=14)\n",
        "plt.show()"
      ],
      "execution_count": 13,
      "outputs": [
        {
          "output_type": "stream",
          "text": [
            "Distribution of the Classes in the subsample dataset\n",
            "0    0.753012\n",
            "1    0.246988\n",
            "Name: Class, dtype: float64\n"
          ],
          "name": "stdout"
        },
        {
          "output_type": "stream",
          "text": [
            "/usr/local/lib/python3.7/dist-packages/seaborn/_decorators.py:43: FutureWarning: Pass the following variable as a keyword arg: x. From version 0.12, the only valid positional argument will be `data`, and passing other arguments without an explicit keyword will result in an error or misinterpretation.\n",
            "  FutureWarning\n"
          ],
          "name": "stderr"
        },
        {
          "output_type": "display_data",
          "data": {
            "image/png": "[encoded data removed]",
            "text/plain": [
              "<Figure size 432x288 with 1 Axes>"
            ]
          },
          "metadata": {
            "tags": [],
            "needs_background": "light"
          }
        }
      ]
    },
    {
      "cell_type": "code",
      "metadata": {
        "colab": {
          "base_uri": "https://localhost:8080/"
        },
        "id": "PlvbiGCmrG41",
        "outputId": "ea03faf5-b7a2-4e00-87c8-ce351d229bee"
      },
      "source": [
        "final_data['Class'].value_counts()"
      ],
      "execution_count": 14,
      "outputs": [
        {
          "output_type": "execute_result",
          "data": {
            "text/plain": [
              "0    1500\n",
              "1     492\n",
              "Name: Class, dtype: int64"
            ]
          },
          "metadata": {
            "tags": []
          },
          "execution_count": 14
        }
      ]
    },
    {
      "cell_type": "code",
      "metadata": {
        "colab": {
          "base_uri": "https://localhost:8080/",
          "height": 625
        },
        "id": "2hAme4xuX73H",
        "outputId": "283ed916-7929-4946-8fa0-a3a44c28b62d"
      },
      "source": [
        "fraud = df[df[df.columns[30]] > 0]\n",
        "non_fraud = df[df[df.columns[30]] == 0].sample(n=fraud.size, random_state=1, axis='index')\n",
        "df = pd.concat([ fraud, non_fraud])\n",
        "\n",
        "show_pca_df(df)"
      ],
      "execution_count": 15,
      "outputs": [
        {
          "output_type": "stream",
          "text": [
            "[0.20577961 0.14728955 0.09800455]\n"
          ],
          "name": "stdout"
        },
        {
          "output_type": "display_data",
          "data": {
            "image/png": "[encoded data removed]",
            "text/plain": [
              "<Figure size 576x576 with 1 Axes>"
            ]
          },
          "metadata": {
            "tags": [],
            "needs_background": "light"
          }
        }
      ]
    },
    {
      "cell_type": "markdown",
      "metadata": {
        "id": "vFkjaniCYtw1"
      },
      "source": [
        "## Normalize Data"
      ]
    },
    {
      "cell_type": "code",
      "metadata": {
        "id": "W7IqKin1kfqN"
      },
      "source": [
        "df['Amount'] = StandardScaler().fit_transform(df['Amount'].values.reshape(-1, 1))\n",
        "df['Time'] = StandardScaler().fit_transform(df['Time'].values.reshape(-1, 1))"
      ],
      "execution_count": 16,
      "outputs": []
    },
    {
      "cell_type": "markdown",
      "metadata": {
        "id": "h_K1QrdLYgF9"
      },
      "source": [
        "## Splitting Data"
      ]
    },
    {
      "cell_type": "code",
      "metadata": {
        "id": "oLbAmBvrm7AU"
      },
      "source": [
        ""
      ],
      "execution_count": 16,
      "outputs": []
    },
    {
      "cell_type": "code",
      "metadata": {
        "colab": {
          "base_uri": "https://localhost:8080/",
          "height": 383
        },
        "id": "rLLGfJP3mVDc",
        "outputId": "378c66c2-5776-45e0-b250-fcae51911f76"
      },
      "source": [
        "anomalies = df[df[\"Class\"] == 1]\n",
        "normal = df[df[\"Class\"] == 0]\n",
        "\n",
        "data_set = pd.concat([normal[:1500], anomalies])\n",
        "\n",
        "x_train, x_test = train_test_split(data_set, test_size = 0.2)\n",
        "\n",
        "x_train = x_train.sort_values(by=['Time'])\n",
        "x_test = x_test.sort_values(by=['Time'])\n",
        "\n",
        "y_train = x_train[\"Class\"]\n",
        "y_test = x_test[\"Class\"]\n",
        "\n",
        "x_train = x_train.drop(\"Class\",axis=1)\n",
        "x_test = x_test.drop(\"Class\",axis=1)\n",
        "\n",
        "x_test.head(10)"
      ],
      "execution_count": 17,
      "outputs": [
        {
          "output_type": "execute_result",
          "data": {
            "text/html": [
              "<div>\n",
              "<style scoped>\n",
              "    .dataframe tbody tr th:only-of-type {\n",
              "        vertical-align: middle;\n",
              "    }\n",
              "\n",
              "    .dataframe tbody tr th {\n",
              "        vertical-align: top;\n",
              "    }\n",
              "\n",
              "    .dataframe thead th {\n",
              "        text-align: right;\n",
              "    }\n",
              "</style>\n",
              "<table border=\"1\" class=\"dataframe\">\n",
              "  <thead>\n",
              "    <tr style=\"text-align: right;\">\n",
              "      <th></th>\n",
              "      <th>Time</th>\n",
              "      <th>V1</th>\n",
              "      <th>V2</th>\n",
              "      <th>V3</th>\n",
              "      <th>V4</th>\n",
              "      <th>V5</th>\n",
              "      <th>V6</th>\n",
              "      <th>V7</th>\n",
              "      <th>V8</th>\n",
              "      <th>V9</th>\n",
              "      <th>V10</th>\n",
              "      <th>V11</th>\n",
              "      <th>V12</th>\n",
              "      <th>V13</th>\n",
              "      <th>V14</th>\n",
              "      <th>V15</th>\n",
              "      <th>V16</th>\n",
              "      <th>V17</th>\n",
              "      <th>V18</th>\n",
              "      <th>V19</th>\n",
              "      <th>V20</th>\n",
              "      <th>V21</th>\n",
              "      <th>V22</th>\n",
              "      <th>V23</th>\n",
              "      <th>V24</th>\n",
              "      <th>V25</th>\n",
              "      <th>V26</th>\n",
              "      <th>V27</th>\n",
              "      <th>V28</th>\n",
              "      <th>Amount</th>\n",
              "    </tr>\n",
              "  </thead>\n",
              "  <tbody>\n",
              "    <tr>\n",
              "      <th>623</th>\n",
              "      <td>-1.972636</td>\n",
              "      <td>-3.043541</td>\n",
              "      <td>-3.157307</td>\n",
              "      <td>1.088463</td>\n",
              "      <td>2.288644</td>\n",
              "      <td>1.359805</td>\n",
              "      <td>-1.064823</td>\n",
              "      <td>0.325574</td>\n",
              "      <td>-0.067794</td>\n",
              "      <td>-0.270953</td>\n",
              "      <td>-0.838587</td>\n",
              "      <td>-0.414575</td>\n",
              "      <td>-0.503141</td>\n",
              "      <td>0.676502</td>\n",
              "      <td>-1.692029</td>\n",
              "      <td>2.000635</td>\n",
              "      <td>0.666780</td>\n",
              "      <td>0.599717</td>\n",
              "      <td>1.725321</td>\n",
              "      <td>0.283345</td>\n",
              "      <td>2.102339</td>\n",
              "      <td>0.661696</td>\n",
              "      <td>0.435477</td>\n",
              "      <td>1.375966</td>\n",
              "      <td>-0.293803</td>\n",
              "      <td>0.279798</td>\n",
              "      <td>-0.145362</td>\n",
              "      <td>-0.252773</td>\n",
              "      <td>0.035764</td>\n",
              "      <td>1.758493</td>\n",
              "    </tr>\n",
              "    <tr>\n",
              "      <th>2158</th>\n",
              "      <td>-1.947436</td>\n",
              "      <td>0.681880</td>\n",
              "      <td>-1.623024</td>\n",
              "      <td>-0.399873</td>\n",
              "      <td>-1.251039</td>\n",
              "      <td>-1.267520</td>\n",
              "      <td>-1.166694</td>\n",
              "      <td>0.325506</td>\n",
              "      <td>-0.325363</td>\n",
              "      <td>-0.175233</td>\n",
              "      <td>-0.300452</td>\n",
              "      <td>0.128451</td>\n",
              "      <td>0.230728</td>\n",
              "      <td>-0.473339</td>\n",
              "      <td>0.683268</td>\n",
              "      <td>1.607849</td>\n",
              "      <td>-2.486746</td>\n",
              "      <td>0.599579</td>\n",
              "      <td>0.364787</td>\n",
              "      <td>-0.548743</td>\n",
              "      <td>0.103673</td>\n",
              "      <td>-0.487434</td>\n",
              "      <td>-1.678018</td>\n",
              "      <td>-0.043019</td>\n",
              "      <td>0.315716</td>\n",
              "      <td>0.105738</td>\n",
              "      <td>-0.926194</td>\n",
              "      <td>-0.008000</td>\n",
              "      <td>0.085104</td>\n",
              "      <td>1.069009</td>\n",
              "    </tr>\n",
              "    <tr>\n",
              "      <th>2684</th>\n",
              "      <td>-1.935854</td>\n",
              "      <td>-0.935095</td>\n",
              "      <td>0.858052</td>\n",
              "      <td>0.644581</td>\n",
              "      <td>-1.309573</td>\n",
              "      <td>2.123865</td>\n",
              "      <td>3.678254</td>\n",
              "      <td>-0.197846</td>\n",
              "      <td>1.085421</td>\n",
              "      <td>-0.198670</td>\n",
              "      <td>-0.086262</td>\n",
              "      <td>-0.195606</td>\n",
              "      <td>-0.310685</td>\n",
              "      <td>0.034855</td>\n",
              "      <td>-0.004866</td>\n",
              "      <td>1.379410</td>\n",
              "      <td>0.737677</td>\n",
              "      <td>-0.989180</td>\n",
              "      <td>0.474118</td>\n",
              "      <td>0.239864</td>\n",
              "      <td>0.401341</td>\n",
              "      <td>-0.167744</td>\n",
              "      <td>-0.501463</td>\n",
              "      <td>-0.227479</td>\n",
              "      <td>1.002662</td>\n",
              "      <td>0.345228</td>\n",
              "      <td>0.284304</td>\n",
              "      <td>0.389218</td>\n",
              "      <td>0.191140</td>\n",
              "      <td>-0.333209</td>\n",
              "    </tr>\n",
              "    <tr>\n",
              "      <th>4239</th>\n",
              "      <td>-1.903773</td>\n",
              "      <td>1.451138</td>\n",
              "      <td>-0.601564</td>\n",
              "      <td>-0.886202</td>\n",
              "      <td>-1.637269</td>\n",
              "      <td>1.483689</td>\n",
              "      <td>3.265473</td>\n",
              "      <td>-1.204579</td>\n",
              "      <td>0.717045</td>\n",
              "      <td>0.363144</td>\n",
              "      <td>0.294019</td>\n",
              "      <td>1.009151</td>\n",
              "      <td>-3.174400</td>\n",
              "      <td>1.864581</td>\n",
              "      <td>1.406696</td>\n",
              "      <td>0.256615</td>\n",
              "      <td>1.530207</td>\n",
              "      <td>0.445302</td>\n",
              "      <td>-0.871112</td>\n",
              "      <td>0.774815</td>\n",
              "      <td>0.169572</td>\n",
              "      <td>-0.293726</td>\n",
              "      <td>-0.884656</td>\n",
              "      <td>0.103960</td>\n",
              "      <td>0.918699</td>\n",
              "      <td>0.366493</td>\n",
              "      <td>-0.505633</td>\n",
              "      <td>-0.015061</td>\n",
              "      <td>0.010953</td>\n",
              "      <td>-0.304247</td>\n",
              "    </tr>\n",
              "    <tr>\n",
              "      <th>5204</th>\n",
              "      <td>-1.878112</td>\n",
              "      <td>-0.932469</td>\n",
              "      <td>1.059019</td>\n",
              "      <td>2.301186</td>\n",
              "      <td>2.302338</td>\n",
              "      <td>-2.566305</td>\n",
              "      <td>1.698418</td>\n",
              "      <td>1.868445</td>\n",
              "      <td>-0.596502</td>\n",
              "      <td>0.874434</td>\n",
              "      <td>0.325215</td>\n",
              "      <td>0.313964</td>\n",
              "      <td>-3.449276</td>\n",
              "      <td>1.358727</td>\n",
              "      <td>0.749358</td>\n",
              "      <td>0.471233</td>\n",
              "      <td>0.167343</td>\n",
              "      <td>0.753639</td>\n",
              "      <td>0.503317</td>\n",
              "      <td>0.887324</td>\n",
              "      <td>-0.259166</td>\n",
              "      <td>-0.188526</td>\n",
              "      <td>0.330571</td>\n",
              "      <td>-0.338884</td>\n",
              "      <td>0.443990</td>\n",
              "      <td>-0.215671</td>\n",
              "      <td>1.224011</td>\n",
              "      <td>-0.349856</td>\n",
              "      <td>-0.299940</td>\n",
              "      <td>1.338109</td>\n",
              "    </tr>\n",
              "    <tr>\n",
              "      <th>6108</th>\n",
              "      <td>-1.835959</td>\n",
              "      <td>-4.397974</td>\n",
              "      <td>1.358367</td>\n",
              "      <td>-2.592844</td>\n",
              "      <td>2.679787</td>\n",
              "      <td>-1.128131</td>\n",
              "      <td>-1.706536</td>\n",
              "      <td>-3.496197</td>\n",
              "      <td>-0.248778</td>\n",
              "      <td>-0.247768</td>\n",
              "      <td>-4.801637</td>\n",
              "      <td>4.895844</td>\n",
              "      <td>-10.912819</td>\n",
              "      <td>0.184372</td>\n",
              "      <td>-6.771097</td>\n",
              "      <td>-0.007326</td>\n",
              "      <td>-7.358083</td>\n",
              "      <td>-12.598419</td>\n",
              "      <td>-5.131549</td>\n",
              "      <td>0.308334</td>\n",
              "      <td>-0.171608</td>\n",
              "      <td>0.573574</td>\n",
              "      <td>0.176968</td>\n",
              "      <td>-0.436207</td>\n",
              "      <td>-0.053502</td>\n",
              "      <td>0.252405</td>\n",
              "      <td>-0.657488</td>\n",
              "      <td>-0.827136</td>\n",
              "      <td>0.849573</td>\n",
              "      <td>-0.132047</td>\n",
              "    </tr>\n",
              "    <tr>\n",
              "      <th>6882</th>\n",
              "      <td>-1.797730</td>\n",
              "      <td>-4.617217</td>\n",
              "      <td>1.695694</td>\n",
              "      <td>-3.114372</td>\n",
              "      <td>4.328199</td>\n",
              "      <td>-1.873257</td>\n",
              "      <td>-0.989908</td>\n",
              "      <td>-4.577265</td>\n",
              "      <td>0.472216</td>\n",
              "      <td>0.472017</td>\n",
              "      <td>-5.576023</td>\n",
              "      <td>4.802323</td>\n",
              "      <td>-10.833164</td>\n",
              "      <td>0.104304</td>\n",
              "      <td>-9.405423</td>\n",
              "      <td>-0.807478</td>\n",
              "      <td>-7.552342</td>\n",
              "      <td>-9.802562</td>\n",
              "      <td>-4.120629</td>\n",
              "      <td>1.740507</td>\n",
              "      <td>-0.039046</td>\n",
              "      <td>0.481830</td>\n",
              "      <td>0.146023</td>\n",
              "      <td>0.117039</td>\n",
              "      <td>-0.217565</td>\n",
              "      <td>-0.138776</td>\n",
              "      <td>-0.424453</td>\n",
              "      <td>-1.002041</td>\n",
              "      <td>0.890780</td>\n",
              "      <td>-0.364946</td>\n",
              "    </tr>\n",
              "    <tr>\n",
              "      <th>7282</th>\n",
              "      <td>-1.778406</td>\n",
              "      <td>-1.711793</td>\n",
              "      <td>1.044837</td>\n",
              "      <td>1.932781</td>\n",
              "      <td>-0.429021</td>\n",
              "      <td>-0.338586</td>\n",
              "      <td>0.389833</td>\n",
              "      <td>-0.259721</td>\n",
              "      <td>-0.805283</td>\n",
              "      <td>2.269503</td>\n",
              "      <td>0.459266</td>\n",
              "      <td>2.316618</td>\n",
              "      <td>-1.659524</td>\n",
              "      <td>1.319845</td>\n",
              "      <td>0.765815</td>\n",
              "      <td>-1.215127</td>\n",
              "      <td>-0.437146</td>\n",
              "      <td>0.734515</td>\n",
              "      <td>0.041456</td>\n",
              "      <td>-0.106263</td>\n",
              "      <td>0.098188</td>\n",
              "      <td>0.709299</td>\n",
              "      <td>0.368781</td>\n",
              "      <td>-0.020931</td>\n",
              "      <td>0.237244</td>\n",
              "      <td>-0.333658</td>\n",
              "      <td>1.007750</td>\n",
              "      <td>-0.073077</td>\n",
              "      <td>0.224735</td>\n",
              "      <td>-0.332042</td>\n",
              "    </tr>\n",
              "    <tr>\n",
              "      <th>8309</th>\n",
              "      <td>-1.749850</td>\n",
              "      <td>-4.850053</td>\n",
              "      <td>-6.398209</td>\n",
              "      <td>1.729552</td>\n",
              "      <td>-0.743804</td>\n",
              "      <td>4.818458</td>\n",
              "      <td>-3.608305</td>\n",
              "      <td>-3.609714</td>\n",
              "      <td>0.658304</td>\n",
              "      <td>0.625951</td>\n",
              "      <td>-0.133357</td>\n",
              "      <td>1.592888</td>\n",
              "      <td>-3.093470</td>\n",
              "      <td>0.359350</td>\n",
              "      <td>1.727885</td>\n",
              "      <td>-1.146364</td>\n",
              "      <td>1.713276</td>\n",
              "      <td>0.341053</td>\n",
              "      <td>-0.238383</td>\n",
              "      <td>-1.364870</td>\n",
              "      <td>1.621010</td>\n",
              "      <td>0.909443</td>\n",
              "      <td>0.644375</td>\n",
              "      <td>1.181439</td>\n",
              "      <td>-0.427476</td>\n",
              "      <td>0.296362</td>\n",
              "      <td>-0.381667</td>\n",
              "      <td>-0.203223</td>\n",
              "      <td>0.218942</td>\n",
              "      <td>0.279568</td>\n",
              "    </tr>\n",
              "    <tr>\n",
              "      <th>8392</th>\n",
              "      <td>-1.746807</td>\n",
              "      <td>-2.473301</td>\n",
              "      <td>-0.626100</td>\n",
              "      <td>0.959898</td>\n",
              "      <td>-0.750425</td>\n",
              "      <td>0.341355</td>\n",
              "      <td>-0.920280</td>\n",
              "      <td>0.553941</td>\n",
              "      <td>-0.408435</td>\n",
              "      <td>2.491672</td>\n",
              "      <td>0.269746</td>\n",
              "      <td>0.768046</td>\n",
              "      <td>-2.991688</td>\n",
              "      <td>0.780425</td>\n",
              "      <td>1.014435</td>\n",
              "      <td>0.349969</td>\n",
              "      <td>0.376098</td>\n",
              "      <td>0.122760</td>\n",
              "      <td>-0.539715</td>\n",
              "      <td>-1.218507</td>\n",
              "      <td>-0.674556</td>\n",
              "      <td>-0.600777</td>\n",
              "      <td>-0.225174</td>\n",
              "      <td>0.815857</td>\n",
              "      <td>0.042560</td>\n",
              "      <td>-0.346017</td>\n",
              "      <td>0.667072</td>\n",
              "      <td>-0.030149</td>\n",
              "      <td>0.438081</td>\n",
              "      <td>-0.055219</td>\n",
              "    </tr>\n",
              "  </tbody>\n",
              "</table>\n",
              "</div>"
            ],
            "text/plain": [
              "          Time        V1        V2  ...       V27       V28    Amount\n",
              "623  -1.972636 -3.043541 -3.157307  ... -0.252773  0.035764  1.758493\n",
              "2158 -1.947436  0.681880 -1.623024  ... -0.008000  0.085104  1.069009\n",
              "2684 -1.935854 -0.935095  0.858052  ...  0.389218  0.191140 -0.333209\n",
              "4239 -1.903773  1.451138 -0.601564  ... -0.015061  0.010953 -0.304247\n",
              "5204 -1.878112 -0.932469  1.059019  ... -0.349856 -0.299940  1.338109\n",
              "6108 -1.835959 -4.397974  1.358367  ... -0.827136  0.849573 -0.132047\n",
              "6882 -1.797730 -4.617217  1.695694  ... -1.002041  0.890780 -0.364946\n",
              "7282 -1.778406 -1.711793  1.044837  ... -0.073077  0.224735 -0.332042\n",
              "8309 -1.749850 -4.850053 -6.398209  ... -0.203223  0.218942  0.279568\n",
              "8392 -1.746807 -2.473301 -0.626100  ... -0.030149  0.438081 -0.055219\n",
              "\n",
              "[10 rows x 30 columns]"
            ]
          },
          "metadata": {
            "tags": []
          },
          "execution_count": 17
        }
      ]
    },
    {
      "cell_type": "code",
      "metadata": {
        "colab": {
          "base_uri": "https://localhost:8080/"
        },
        "id": "H9y6TpyInUKE",
        "outputId": "7c1f9978-d4d1-4f17-8a38-15d75e008915"
      },
      "source": [
        "input_shape = (x_train.shape[1], 1)\n",
        "\n",
        "\n",
        "print(\"Shapes:\\nx_train:%s\\ny_train:%s\\n\" % (x_train.shape, y_train.shape))\n",
        "print(\"x_test:%s\\ny_test:%s\\n\" % (x_test.shape, y_test.shape))\n",
        "print(\"input_shape:{}\\n\".format(input_shape))"
      ],
      "execution_count": 18,
      "outputs": [
        {
          "output_type": "stream",
          "text": [
            "Shapes:\n",
            "x_train:(1593, 30)\n",
            "y_train:(1593,)\n",
            "\n",
            "x_test:(399, 30)\n",
            "y_test:(399,)\n",
            "\n",
            "input_shape:(30, 1)\n",
            "\n"
          ],
          "name": "stdout"
        }
      ]
    },
    {
      "cell_type": "code",
      "metadata": {
        "colab": {
          "base_uri": "https://localhost:8080/",
          "height": 226
        },
        "id": "Y5XzMnm8M0ii",
        "outputId": "1175e8e3-b068-4e5f-e47e-6c0685d5a863"
      },
      "source": [
        "x_train[:5]"
      ],
      "execution_count": 19,
      "outputs": [
        {
          "output_type": "execute_result",
          "data": {
            "text/html": [
              "<div>\n",
              "<style scoped>\n",
              "    .dataframe tbody tr th:only-of-type {\n",
              "        vertical-align: middle;\n",
              "    }\n",
              "\n",
              "    .dataframe tbody tr th {\n",
              "        vertical-align: top;\n",
              "    }\n",
              "\n",
              "    .dataframe thead th {\n",
              "        text-align: right;\n",
              "    }\n",
              "</style>\n",
              "<table border=\"1\" class=\"dataframe\">\n",
              "  <thead>\n",
              "    <tr style=\"text-align: right;\">\n",
              "      <th></th>\n",
              "      <th>Time</th>\n",
              "      <th>V1</th>\n",
              "      <th>V2</th>\n",
              "      <th>V3</th>\n",
              "      <th>V4</th>\n",
              "      <th>V5</th>\n",
              "      <th>V6</th>\n",
              "      <th>V7</th>\n",
              "      <th>V8</th>\n",
              "      <th>V9</th>\n",
              "      <th>V10</th>\n",
              "      <th>V11</th>\n",
              "      <th>V12</th>\n",
              "      <th>V13</th>\n",
              "      <th>V14</th>\n",
              "      <th>V15</th>\n",
              "      <th>V16</th>\n",
              "      <th>V17</th>\n",
              "      <th>V18</th>\n",
              "      <th>V19</th>\n",
              "      <th>V20</th>\n",
              "      <th>V21</th>\n",
              "      <th>V22</th>\n",
              "      <th>V23</th>\n",
              "      <th>V24</th>\n",
              "      <th>V25</th>\n",
              "      <th>V26</th>\n",
              "      <th>V27</th>\n",
              "      <th>V28</th>\n",
              "      <th>Amount</th>\n",
              "    </tr>\n",
              "  </thead>\n",
              "  <tbody>\n",
              "    <tr>\n",
              "      <th>196</th>\n",
              "      <td>-1.979811</td>\n",
              "      <td>-0.485238</td>\n",
              "      <td>0.658497</td>\n",
              "      <td>1.949967</td>\n",
              "      <td>1.249695</td>\n",
              "      <td>0.426410</td>\n",
              "      <td>0.231513</td>\n",
              "      <td>0.585115</td>\n",
              "      <td>0.029163</td>\n",
              "      <td>-0.520297</td>\n",
              "      <td>0.055911</td>\n",
              "      <td>1.265311</td>\n",
              "      <td>0.521277</td>\n",
              "      <td>-0.830439</td>\n",
              "      <td>0.157455</td>\n",
              "      <td>-0.365075</td>\n",
              "      <td>-1.142187</td>\n",
              "      <td>0.409601</td>\n",
              "      <td>-0.204876</td>\n",
              "      <td>1.010483</td>\n",
              "      <td>0.089378</td>\n",
              "      <td>0.007290</td>\n",
              "      <td>0.328244</td>\n",
              "      <td>-0.232563</td>\n",
              "      <td>0.225572</td>\n",
              "      <td>0.025892</td>\n",
              "      <td>-0.247395</td>\n",
              "      <td>-0.025381</td>\n",
              "      <td>-0.118565</td>\n",
              "      <td>-0.345356</td>\n",
              "    </tr>\n",
              "    <tr>\n",
              "      <th>229</th>\n",
              "      <td>-1.979329</td>\n",
              "      <td>-0.903628</td>\n",
              "      <td>-0.233363</td>\n",
              "      <td>2.580864</td>\n",
              "      <td>-0.990572</td>\n",
              "      <td>-0.397920</td>\n",
              "      <td>0.281755</td>\n",
              "      <td>0.238619</td>\n",
              "      <td>0.249102</td>\n",
              "      <td>0.651330</td>\n",
              "      <td>-0.881775</td>\n",
              "      <td>0.939972</td>\n",
              "      <td>0.397779</td>\n",
              "      <td>-1.494563</td>\n",
              "      <td>-0.428434</td>\n",
              "      <td>-1.307942</td>\n",
              "      <td>-0.095618</td>\n",
              "      <td>-0.080170</td>\n",
              "      <td>-0.432193</td>\n",
              "      <td>-0.336658</td>\n",
              "      <td>0.050471</td>\n",
              "      <td>-0.075017</td>\n",
              "      <td>-0.097906</td>\n",
              "      <td>0.059448</td>\n",
              "      <td>0.244548</td>\n",
              "      <td>-0.316141</td>\n",
              "      <td>0.754405</td>\n",
              "      <td>-0.166316</td>\n",
              "      <td>-0.138177</td>\n",
              "      <td>-0.082732</td>\n",
              "    </tr>\n",
              "    <tr>\n",
              "      <th>258</th>\n",
              "      <td>-1.978741</td>\n",
              "      <td>1.136752</td>\n",
              "      <td>-0.103770</td>\n",
              "      <td>0.904686</td>\n",
              "      <td>0.488211</td>\n",
              "      <td>-0.678524</td>\n",
              "      <td>0.039861</td>\n",
              "      <td>-0.581294</td>\n",
              "      <td>0.270996</td>\n",
              "      <td>0.256540</td>\n",
              "      <td>0.068092</td>\n",
              "      <td>1.445184</td>\n",
              "      <td>0.506268</td>\n",
              "      <td>-0.850215</td>\n",
              "      <td>0.464223</td>\n",
              "      <td>0.963247</td>\n",
              "      <td>0.522012</td>\n",
              "      <td>-0.463008</td>\n",
              "      <td>0.029022</td>\n",
              "      <td>-0.386661</td>\n",
              "      <td>-0.166087</td>\n",
              "      <td>-0.017527</td>\n",
              "      <td>-0.093159</td>\n",
              "      <td>0.119723</td>\n",
              "      <td>-0.000588</td>\n",
              "      <td>0.026252</td>\n",
              "      <td>0.229223</td>\n",
              "      <td>0.000201</td>\n",
              "      <td>0.010945</td>\n",
              "      <td>-0.343345</td>\n",
              "    </tr>\n",
              "    <tr>\n",
              "      <th>482</th>\n",
              "      <td>-1.975090</td>\n",
              "      <td>0.019256</td>\n",
              "      <td>0.471698</td>\n",
              "      <td>0.868060</td>\n",
              "      <td>-1.239124</td>\n",
              "      <td>0.547898</td>\n",
              "      <td>-0.502661</td>\n",
              "      <td>0.808516</td>\n",
              "      <td>-0.247667</td>\n",
              "      <td>0.130741</td>\n",
              "      <td>-0.484994</td>\n",
              "      <td>-0.702094</td>\n",
              "      <td>-0.213445</td>\n",
              "      <td>-0.048713</td>\n",
              "      <td>-0.065307</td>\n",
              "      <td>0.658810</td>\n",
              "      <td>0.168526</td>\n",
              "      <td>-0.621304</td>\n",
              "      <td>-0.690750</td>\n",
              "      <td>-0.697036</td>\n",
              "      <td>-0.107130</td>\n",
              "      <td>0.021430</td>\n",
              "      <td>0.265057</td>\n",
              "      <td>0.066608</td>\n",
              "      <td>-0.381752</td>\n",
              "      <td>-1.305171</td>\n",
              "      <td>0.646049</td>\n",
              "      <td>-0.013625</td>\n",
              "      <td>-0.011985</td>\n",
              "      <td>-0.358872</td>\n",
              "    </tr>\n",
              "    <tr>\n",
              "      <th>541</th>\n",
              "      <td>-1.974020</td>\n",
              "      <td>-2.312227</td>\n",
              "      <td>1.951992</td>\n",
              "      <td>-1.609851</td>\n",
              "      <td>3.997906</td>\n",
              "      <td>-0.522188</td>\n",
              "      <td>-1.426545</td>\n",
              "      <td>-2.537387</td>\n",
              "      <td>1.391657</td>\n",
              "      <td>-2.770089</td>\n",
              "      <td>-2.772272</td>\n",
              "      <td>3.202033</td>\n",
              "      <td>-2.899907</td>\n",
              "      <td>-0.595222</td>\n",
              "      <td>-4.289254</td>\n",
              "      <td>0.389724</td>\n",
              "      <td>-1.140747</td>\n",
              "      <td>-2.830056</td>\n",
              "      <td>-0.016822</td>\n",
              "      <td>0.416956</td>\n",
              "      <td>0.126911</td>\n",
              "      <td>0.517232</td>\n",
              "      <td>-0.035049</td>\n",
              "      <td>-0.465211</td>\n",
              "      <td>0.320198</td>\n",
              "      <td>0.044519</td>\n",
              "      <td>0.177840</td>\n",
              "      <td>0.261145</td>\n",
              "      <td>-0.143276</td>\n",
              "      <td>-0.369370</td>\n",
              "    </tr>\n",
              "  </tbody>\n",
              "</table>\n",
              "</div>"
            ],
            "text/plain": [
              "         Time        V1        V2  ...       V27       V28    Amount\n",
              "196 -1.979811 -0.485238  0.658497  ... -0.025381 -0.118565 -0.345356\n",
              "229 -1.979329 -0.903628 -0.233363  ... -0.166316 -0.138177 -0.082732\n",
              "258 -1.978741  1.136752 -0.103770  ...  0.000201  0.010945 -0.343345\n",
              "482 -1.975090  0.019256  0.471698  ... -0.013625 -0.011985 -0.358872\n",
              "541 -1.974020 -2.312227  1.951992  ...  0.261145 -0.143276 -0.369370\n",
              "\n",
              "[5 rows x 30 columns]"
            ]
          },
          "metadata": {
            "tags": []
          },
          "execution_count": 19
        }
      ]
    },
    {
      "cell_type": "code",
      "metadata": {
        "id": "YseNmepwxfht"
      },
      "source": [
        "def plot_learning_curve(history,epochs):\n",
        "    epoch_range=range(1,epochs+1)\n",
        "    plt.plot(epoch_range,history.history['accuracy'])\n",
        "    plt.plot(epoch_range,history.history[\"val_accuracy\"])\n",
        "    plt.title(\"Model Accuracy\")\n",
        "    plt.xlabel(\"epochs\")\n",
        "    plt.ylabel(\"accuracy\")\n",
        "    plt.legend(\"train\",\"val\",loc=\"upper left\")\n",
        "    plt.show()\n",
        "     \n",
        "    plt.plot(epoch_range,history.history['loss'])\n",
        "    plt.plot(epoch_range,history.history['val_loss'])\n",
        "    plt.title('Model loss')\n",
        "    plt.ylabel('loss')\n",
        "    plt.xlabel('epoch')\n",
        "    plt.legend(['Train','Val'],loc='upper left')\n",
        "    plt.show()"
      ],
      "execution_count": 20,
      "outputs": []
    },
    {
      "cell_type": "markdown",
      "metadata": {
        "id": "gfSPfl1zY5G1"
      },
      "source": [
        "## Deep Neural Network"
      ]
    },
    {
      "cell_type": "code",
      "metadata": {
        "id": "Qf4ikg93tH2c"
      },
      "source": [
        "DNN = Sequential([\n",
        "Dense(input_dim = 30, units = 16, activation = 'relu'),\n",
        "Dense(units = 24, activation = 'relu'),\n",
        "Dense(units = 20, activation = 'relu'),\n",
        "Dense(units = 24, activation = 'relu'),\n",
        "Dense(units =1, activation = 'sigmoid'),])"
      ],
      "execution_count": 21,
      "outputs": []
    },
    {
      "cell_type": "code",
      "metadata": {
        "colab": {
          "base_uri": "https://localhost:8080/"
        },
        "id": "KkS-4ebutYLJ",
        "outputId": "9066daef-e3e4-4875-f9b6-7f3bb8fea427"
      },
      "source": [
        "DNN.compile(optimizer = 'adam', loss = 'binary_crossentropy', metrics = ['accuracy'])\n",
        "history = DNN.fit(x_train, y_train, epochs = 25, validation_data = (x_test,y_test),verbose=1)"
      ],
      "execution_count": 22,
      "outputs": [
        {
          "output_type": "stream",
          "text": [
            "Epoch 1/25\n",
            "50/50 [==============================] - 1s 13ms/step - loss: 0.5750 - accuracy: 0.6283 - val_loss: 0.3381 - val_accuracy: 0.9524\n",
            "Epoch 2/25\n",
            "50/50 [==============================] - 0s 3ms/step - loss: 0.2851 - accuracy: 0.9506 - val_loss: 0.1609 - val_accuracy: 0.9624\n",
            "Epoch 3/25\n",
            "50/50 [==============================] - 0s 3ms/step - loss: 0.1411 - accuracy: 0.9655 - val_loss: 0.1280 - val_accuracy: 0.9624\n",
            "Epoch 4/25\n",
            "50/50 [==============================] - 0s 3ms/step - loss: 0.1192 - accuracy: 0.9653 - val_loss: 0.1263 - val_accuracy: 0.9624\n",
            "Epoch 5/25\n",
            "50/50 [==============================] - 0s 3ms/step - loss: 0.1039 - accuracy: 0.9709 - val_loss: 0.1277 - val_accuracy: 0.9599\n",
            "Epoch 6/25\n",
            "50/50 [==============================] - 0s 3ms/step - loss: 0.0917 - accuracy: 0.9717 - val_loss: 0.1279 - val_accuracy: 0.9574\n",
            "Epoch 7/25\n",
            "50/50 [==============================] - 0s 3ms/step - loss: 0.0850 - accuracy: 0.9729 - val_loss: 0.1303 - val_accuracy: 0.9574\n",
            "Epoch 8/25\n",
            "50/50 [==============================] - 0s 3ms/step - loss: 0.0740 - accuracy: 0.9764 - val_loss: 0.1386 - val_accuracy: 0.9599\n",
            "Epoch 9/25\n",
            "50/50 [==============================] - 0s 3ms/step - loss: 0.0737 - accuracy: 0.9751 - val_loss: 0.1369 - val_accuracy: 0.9599\n",
            "Epoch 10/25\n",
            "50/50 [==============================] - 0s 3ms/step - loss: 0.0813 - accuracy: 0.9771 - val_loss: 0.1411 - val_accuracy: 0.9624\n",
            "Epoch 11/25\n",
            "50/50 [==============================] - 0s 3ms/step - loss: 0.0632 - accuracy: 0.9797 - val_loss: 0.1486 - val_accuracy: 0.9574\n",
            "Epoch 12/25\n",
            "50/50 [==============================] - 0s 3ms/step - loss: 0.0752 - accuracy: 0.9729 - val_loss: 0.1477 - val_accuracy: 0.9624\n",
            "Epoch 13/25\n",
            "50/50 [==============================] - 0s 3ms/step - loss: 0.0727 - accuracy: 0.9788 - val_loss: 0.1518 - val_accuracy: 0.9599\n",
            "Epoch 14/25\n",
            "50/50 [==============================] - 0s 3ms/step - loss: 0.0679 - accuracy: 0.9753 - val_loss: 0.1538 - val_accuracy: 0.9574\n",
            "Epoch 15/25\n",
            "50/50 [==============================] - 0s 6ms/step - loss: 0.0593 - accuracy: 0.9814 - val_loss: 0.1570 - val_accuracy: 0.9574\n",
            "Epoch 16/25\n",
            "50/50 [==============================] - 0s 3ms/step - loss: 0.0469 - accuracy: 0.9850 - val_loss: 0.1763 - val_accuracy: 0.9549\n",
            "Epoch 17/25\n",
            "50/50 [==============================] - 0s 3ms/step - loss: 0.0634 - accuracy: 0.9784 - val_loss: 0.1660 - val_accuracy: 0.9574\n",
            "Epoch 18/25\n",
            "50/50 [==============================] - 0s 3ms/step - loss: 0.0671 - accuracy: 0.9723 - val_loss: 0.1697 - val_accuracy: 0.9599\n",
            "Epoch 19/25\n",
            "50/50 [==============================] - 0s 3ms/step - loss: 0.0469 - accuracy: 0.9833 - val_loss: 0.1737 - val_accuracy: 0.9574\n",
            "Epoch 20/25\n",
            "50/50 [==============================] - 0s 3ms/step - loss: 0.0530 - accuracy: 0.9792 - val_loss: 0.1828 - val_accuracy: 0.9524\n",
            "Epoch 21/25\n",
            "50/50 [==============================] - 0s 3ms/step - loss: 0.0405 - accuracy: 0.9833 - val_loss: 0.1878 - val_accuracy: 0.9574\n",
            "Epoch 22/25\n",
            "50/50 [==============================] - 0s 3ms/step - loss: 0.0399 - accuracy: 0.9860 - val_loss: 0.1911 - val_accuracy: 0.9499\n",
            "Epoch 23/25\n",
            "50/50 [==============================] - 0s 3ms/step - loss: 0.0432 - accuracy: 0.9864 - val_loss: 0.2031 - val_accuracy: 0.9574\n",
            "Epoch 24/25\n",
            "50/50 [==============================] - 0s 3ms/step - loss: 0.0319 - accuracy: 0.9884 - val_loss: 0.2044 - val_accuracy: 0.9574\n",
            "Epoch 25/25\n",
            "50/50 [==============================] - 0s 3ms/step - loss: 0.0396 - accuracy: 0.9837 - val_loss: 0.2145 - val_accuracy: 0.9499\n"
          ],
          "name": "stdout"
        }
      ]
    },
    {
      "cell_type": "code",
      "metadata": {
        "colab": {
          "base_uri": "https://localhost:8080/",
          "height": 791
        },
        "id": "DTGS_1m57C1G",
        "outputId": "ba52f73f-7543-42a1-9ffa-9a6bec4eb962"
      },
      "source": [
        "plot_learning_curve(history, 25)"
      ],
      "execution_count": 23,
      "outputs": [
        {
          "output_type": "stream",
          "text": [
            "/usr/local/lib/python3.7/dist-packages/ipykernel_launcher.py:8: UserWarning: Legend does not support 't' instances.\n",
            "A proxy artist may be used instead.\n",
            "See: http://matplotlib.org/users/legend_guide.html#creating-artists-specifically-for-adding-to-the-legend-aka-proxy-artists\n",
            "  \n",
            "/usr/local/lib/python3.7/dist-packages/ipykernel_launcher.py:8: UserWarning: Legend does not support 'r' instances.\n",
            "A proxy artist may be used instead.\n",
            "See: http://matplotlib.org/users/legend_guide.html#creating-artists-specifically-for-adding-to-the-legend-aka-proxy-artists\n",
            "  \n",
            "/usr/local/lib/python3.7/dist-packages/ipykernel_launcher.py:8: UserWarning: Legend does not support 'a' instances.\n",
            "A proxy artist may be used instead.\n",
            "See: http://matplotlib.org/users/legend_guide.html#creating-artists-specifically-for-adding-to-the-legend-aka-proxy-artists\n",
            "  \n"
          ],
          "name": "stderr"
        },
        {
          "output_type": "display_data",
          "data": {
            "image/png": "[encoded data removed]",
            "text/plain": [
              "<Figure size 432x288 with 1 Axes>"
            ]
          },
          "metadata": {
            "tags": [],
            "needs_background": "light"
          }
        },
        {
          "output_type": "display_data",
          "data": {
            "image/png": "[encoded data removed]",
            "text/plain": [
              "<Figure size 432x288 with 1 Axes>"
            ]
          },
          "metadata": {
            "tags": [],
            "needs_background": "light"
          }
        }
      ]
    },
    {
      "cell_type": "code",
      "metadata": {
        "colab": {
          "base_uri": "https://localhost:8080/"
        },
        "id": "BjOGh4Bkt__K",
        "outputId": "8a48d0ad-1e62-4b54-f278-055612172dda"
      },
      "source": [
        "score = DNN.evaluate(x_test, y_test)"
      ],
      "execution_count": 24,
      "outputs": [
        {
          "output_type": "stream",
          "text": [
            "13/13 [==============================] - 0s 1ms/step - loss: 0.2145 - accuracy: 0.9499\n"
          ],
          "name": "stdout"
        }
      ]
    },
    {
      "cell_type": "code",
      "metadata": {
        "id": "DXUZHbnCupTy"
      },
      "source": [
        "y_pred = DNN.predict(x_test)\n",
        "cm = confusion_matrix(y_test, y_pred.round())"
      ],
      "execution_count": 25,
      "outputs": []
    },
    {
      "cell_type": "code",
      "metadata": {
        "colab": {
          "base_uri": "https://localhost:8080/"
        },
        "id": "3Tc8SX4Z24MV",
        "outputId": "a7b3ecfc-26b1-4602-cf82-99990632301f"
      },
      "source": [
        "print(classification_report(y_test, y_pred.round()))"
      ],
      "execution_count": 26,
      "outputs": [
        {
          "output_type": "stream",
          "text": [
            "              precision    recall  f1-score   support\n",
            "\n",
            "           0       0.96      0.97      0.97       300\n",
            "           1       0.91      0.89      0.90        99\n",
            "\n",
            "    accuracy                           0.95       399\n",
            "   macro avg       0.94      0.93      0.93       399\n",
            "weighted avg       0.95      0.95      0.95       399\n",
            "\n"
          ],
          "name": "stdout"
        }
      ]
    },
    {
      "cell_type": "code",
      "metadata": {
        "colab": {
          "base_uri": "https://localhost:8080/",
          "height": 350
        },
        "id": "1jWIAjadu4a5",
        "outputId": "02112b73-07f9-4cf2-e6c5-e9d6e94d37f2"
      },
      "source": [
        "labels = [\"Fraud\", \"Normal\"]\n",
        "\n",
        "matrix = np.flip(cm)\n",
        "\n",
        "plt.figure(figsize=(5, 5))\n",
        "sns.heatmap(matrix, xticklabels=labels, yticklabels=labels,  annot=True, fmt=\"d\", cbar=False)\n",
        "plt.title(\"Confusion Matrix\")\n",
        "plt.ylabel('Actual')\n",
        "plt.xlabel('Predicted')\n",
        "plt.show()"
      ],
      "execution_count": 27,
      "outputs": [
        {
          "output_type": "display_data",
          "data": {
            "image/png": "[encoded data removed]",
            "text/plain": [
              "<Figure size 360x360 with 1 Axes>"
            ]
          },
          "metadata": {
            "tags": [],
            "needs_background": "light"
          }
        }
      ]
    },
    {
      "cell_type": "markdown",
      "metadata": {
        "id": "zcFmzjTkY-mm"
      },
      "source": [
        "## Convolutional Neural Network"
      ]
    },
    {
      "cell_type": "code",
      "metadata": {
        "colab": {
          "base_uri": "https://localhost:8080/"
        },
        "id": "qAmFi0gy4Va9",
        "outputId": "1bf3ce97-1422-4d05-bed4-66398bd5da11"
      },
      "source": [
        "x_train = np.array(x_train).reshape(x_train.shape[0], x_train.shape[1], 1)\n",
        "x_test = np.array(x_test).reshape(x_test.shape[0], x_test.shape[1], 1)\n",
        "input_shape = (x_train.shape[1], 1)\n",
        "\n",
        "print(\"Shapes:\\nx_train:%s\\ny_train:%s\\n\" % (x_train.shape, y_train.shape))\n",
        "print(\"x_test:%s\\ny_test:%s\\n\" % (x_test.shape, y_test.shape))\n",
        "print(\"input_shape:{}\\n\".format(input_shape))"
      ],
      "execution_count": 28,
      "outputs": [
        {
          "output_type": "stream",
          "text": [
            "Shapes:\n",
            "x_train:(1593, 30, 1)\n",
            "y_train:(1593,)\n",
            "\n",
            "x_test:(399, 30, 1)\n",
            "y_test:(399,)\n",
            "\n",
            "input_shape:(30, 1)\n",
            "\n"
          ],
          "name": "stdout"
        }
      ]
    },
    {
      "cell_type": "code",
      "metadata": {
        "colab": {
          "base_uri": "https://localhost:8080/"
        },
        "id": "k8eM6nG5-X8A",
        "outputId": "e53f4811-5aa7-4b22-eb8a-3f499a74aa18"
      },
      "source": [
        "x_train[:5]"
      ],
      "execution_count": 29,
      "outputs": [
        {
          "output_type": "execute_result",
          "data": {
            "text/plain": [
              "array([[[-1.97981139e+00],\n",
              "        [-4.85237731e-01],\n",
              "        [ 6.58496594e-01],\n",
              "        [ 1.94996662e+00],\n",
              "        [ 1.24969475e+00],\n",
              "        [ 4.26410290e-01],\n",
              "        [ 2.31512687e-01],\n",
              "        [ 5.85115384e-01],\n",
              "        [ 2.91629910e-02],\n",
              "        [-5.20297446e-01],\n",
              "        [ 5.59114747e-02],\n",
              "        [ 1.26531109e+00],\n",
              "        [ 5.21276565e-01],\n",
              "        [-8.30439424e-01],\n",
              "        [ 1.57454834e-01],\n",
              "        [-3.65074566e-01],\n",
              "        [-1.14218704e+00],\n",
              "        [ 4.09601003e-01],\n",
              "        [-2.04876492e-01],\n",
              "        [ 1.01048316e+00],\n",
              "        [ 8.93777272e-02],\n",
              "        [ 7.29012156e-03],\n",
              "        [ 3.28243726e-01],\n",
              "        [-2.32563155e-01],\n",
              "        [ 2.25572061e-01],\n",
              "        [ 2.58916791e-02],\n",
              "        [-2.47395420e-01],\n",
              "        [-2.53810208e-02],\n",
              "        [-1.18564650e-01],\n",
              "        [-3.45356468e-01]],\n",
              "\n",
              "       [[-1.97932880e+00],\n",
              "        [-9.03628224e-01],\n",
              "        [-2.33362598e-01],\n",
              "        [ 2.58086353e+00],\n",
              "        [-9.90572327e-01],\n",
              "        [-3.97920255e-01],\n",
              "        [ 2.81755037e-01],\n",
              "        [ 2.38618916e-01],\n",
              "        [ 2.49101589e-01],\n",
              "        [ 6.51330368e-01],\n",
              "        [-8.81774861e-01],\n",
              "        [ 9.39971814e-01],\n",
              "        [ 3.97778746e-01],\n",
              "        [-1.49456263e+00],\n",
              "        [-4.28434388e-01],\n",
              "        [-1.30794235e+00],\n",
              "        [-9.56183594e-02],\n",
              "        [-8.01697746e-02],\n",
              "        [-4.32193307e-01],\n",
              "        [-3.36658276e-01],\n",
              "        [ 5.04711871e-02],\n",
              "        [-7.50174594e-02],\n",
              "        [-9.79062674e-02],\n",
              "        [ 5.94478702e-02],\n",
              "        [ 2.44547634e-01],\n",
              "        [-3.16141151e-01],\n",
              "        [ 7.54404530e-01],\n",
              "        [-1.66315609e-01],\n",
              "        [-1.38177096e-01],\n",
              "        [-8.27323090e-02]],\n",
              "\n",
              "       [[-1.97874131e+00],\n",
              "        [ 1.13675205e+00],\n",
              "        [-1.03769567e-01],\n",
              "        [ 9.04686444e-01],\n",
              "        [ 4.88210755e-01],\n",
              "        [-6.78523515e-01],\n",
              "        [ 3.98607288e-02],\n",
              "        [-5.81293921e-01],\n",
              "        [ 2.70996198e-01],\n",
              "        [ 2.56539561e-01],\n",
              "        [ 6.80916931e-02],\n",
              "        [ 1.44518366e+00],\n",
              "        [ 5.06268152e-01],\n",
              "        [-8.50214520e-01],\n",
              "        [ 4.64222960e-01],\n",
              "        [ 9.63247298e-01],\n",
              "        [ 5.22011841e-01],\n",
              "        [-4.63008422e-01],\n",
              "        [ 2.90218231e-02],\n",
              "        [-3.86661217e-01],\n",
              "        [-1.66087120e-01],\n",
              "        [-1.75269133e-02],\n",
              "        [-9.31591658e-02],\n",
              "        [ 1.19722965e-01],\n",
              "        [-5.88012209e-04],\n",
              "        [ 2.62521922e-02],\n",
              "        [ 2.29223266e-01],\n",
              "        [ 2.01188153e-04],\n",
              "        [ 1.09449634e-02],\n",
              "        [-3.43345255e-01]],\n",
              "\n",
              "       [[-1.97509045e+00],\n",
              "        [ 1.92558115e-02],\n",
              "        [ 4.71698112e-01],\n",
              "        [ 8.68060279e-01],\n",
              "        [-1.23912416e+00],\n",
              "        [ 5.47897880e-01],\n",
              "        [-5.02661073e-01],\n",
              "        [ 8.08516316e-01],\n",
              "        [-2.47667131e-01],\n",
              "        [ 1.30741129e-01],\n",
              "        [-4.84993915e-01],\n",
              "        [-7.02094465e-01],\n",
              "        [-2.13445399e-01],\n",
              "        [-4.87133367e-02],\n",
              "        [-6.53069918e-02],\n",
              "        [ 6.58810334e-01],\n",
              "        [ 1.68525657e-01],\n",
              "        [-6.21303531e-01],\n",
              "        [-6.90750497e-01],\n",
              "        [-6.97036043e-01],\n",
              "        [-1.07129889e-01],\n",
              "        [ 2.14296481e-02],\n",
              "        [ 2.65056733e-01],\n",
              "        [ 6.66076304e-02],\n",
              "        [-3.81752337e-01],\n",
              "        [-1.30517056e+00],\n",
              "        [ 6.46049380e-01],\n",
              "        [-1.36249438e-02],\n",
              "        [-1.19848055e-02],\n",
              "        [-3.58871818e-01]],\n",
              "\n",
              "       [[-1.97402038e+00],\n",
              "        [-2.31222654e+00],\n",
              "        [ 1.95199201e+00],\n",
              "        [-1.60985073e+00],\n",
              "        [ 3.99790559e+00],\n",
              "        [-5.22187865e-01],\n",
              "        [-1.42654532e+00],\n",
              "        [-2.53738731e+00],\n",
              "        [ 1.39165725e+00],\n",
              "        [-2.77008928e+00],\n",
              "        [-2.77227214e+00],\n",
              "        [ 3.20203321e+00],\n",
              "        [-2.89990739e+00],\n",
              "        [-5.95221881e-01],\n",
              "        [-4.28925378e+00],\n",
              "        [ 3.89724120e-01],\n",
              "        [-1.14074718e+00],\n",
              "        [-2.83005567e+00],\n",
              "        [-1.68224682e-02],\n",
              "        [ 4.16955705e-01],\n",
              "        [ 1.26910559e-01],\n",
              "        [ 5.17232371e-01],\n",
              "        [-3.50493686e-02],\n",
              "        [-4.65211076e-01],\n",
              "        [ 3.20198199e-01],\n",
              "        [ 4.45191675e-02],\n",
              "        [ 1.77839798e-01],\n",
              "        [ 2.61145003e-01],\n",
              "        [-1.43275875e-01],\n",
              "        [-3.69370348e-01]]])"
            ]
          },
          "metadata": {
            "tags": []
          },
          "execution_count": 29
        }
      ]
    },
    {
      "cell_type": "code",
      "metadata": {
        "id": "acKzfHbrY8er"
      },
      "source": [
        "CNN=Sequential()\n",
        "\n",
        "CNN.add(Conv1D(filters=32, kernel_size=2, activation='relu',input_shape=x_train[0].shape))\n",
        "CNN.add(BatchNormalization())\n",
        "CNN.add(MaxPool1D(pool_size=2))\n",
        "CNN.add(Dropout(rate=0.2))\n",
        "\n",
        "CNN.add(Conv1D(64,2,activation='relu'))\n",
        "CNN.add(BatchNormalization())\n",
        "CNN.add(MaxPool1D(pool_size=2))\n",
        "CNN.add(Dropout(rate=0.5))\n",
        "\n",
        "\n",
        "#flattening layer\n",
        "CNN.add(Flatten())\n",
        "CNN.add(Dense(64,activation=\"relu\"))\n",
        "CNN.add(Dropout(rate=0.5))\n",
        "\n",
        "#final layer\n",
        "CNN.add(Dense(units=1,activation=\"sigmoid\"))"
      ],
      "execution_count": 30,
      "outputs": []
    },
    {
      "cell_type": "code",
      "metadata": {
        "id": "Iupg1H77ZBbd",
        "colab": {
          "base_uri": "https://localhost:8080/"
        },
        "outputId": "0247c730-5742-4852-813d-3baa44ba653f"
      },
      "source": [
        "CNN.summary()"
      ],
      "execution_count": 31,
      "outputs": [
        {
          "output_type": "stream",
          "text": [
            "Model: \"sequential_1\"\n",
            "_________________________________________________________________\n",
            "Layer (type)                 Output Shape              Param #   \n",
            "=================================================================\n",
            "conv1d (Conv1D)              (None, 29, 32)            96        \n",
            "_________________________________________________________________\n",
            "batch_normalization (BatchNo (None, 29, 32)            128       \n",
            "_________________________________________________________________\n",
            "max_pooling1d (MaxPooling1D) (None, 14, 32)            0         \n",
            "_________________________________________________________________\n",
            "dropout (Dropout)            (None, 14, 32)            0         \n",
            "_________________________________________________________________\n",
            "conv1d_1 (Conv1D)            (None, 13, 64)            4160      \n",
            "_________________________________________________________________\n",
            "batch_normalization_1 (Batch (None, 13, 64)            256       \n",
            "_________________________________________________________________\n",
            "max_pooling1d_1 (MaxPooling1 (None, 6, 64)             0         \n",
            "_________________________________________________________________\n",
            "dropout_1 (Dropout)          (None, 6, 64)             0         \n",
            "_________________________________________________________________\n",
            "flatten (Flatten)            (None, 384)               0         \n",
            "_________________________________________________________________\n",
            "dense_5 (Dense)              (None, 64)                24640     \n",
            "_________________________________________________________________\n",
            "dropout_2 (Dropout)          (None, 64)                0         \n",
            "_________________________________________________________________\n",
            "dense_6 (Dense)              (None, 1)                 65        \n",
            "=================================================================\n",
            "Total params: 29,345\n",
            "Trainable params: 29,153\n",
            "Non-trainable params: 192\n",
            "_________________________________________________________________\n"
          ],
          "name": "stdout"
        }
      ]
    },
    {
      "cell_type": "code",
      "metadata": {
        "id": "UqbQHw2LZFar"
      },
      "source": [
        "CNN.compile(optimizer=Adam(lr=0.001),loss='binary_crossentropy',metrics=['accuracy'])"
      ],
      "execution_count": 32,
      "outputs": []
    },
    {
      "cell_type": "code",
      "metadata": {
        "id": "oN-zOL7WZKNc",
        "colab": {
          "base_uri": "https://localhost:8080/"
        },
        "outputId": "7959b8e0-c413-4404-b690-5037740e16d2"
      },
      "source": [
        "history =CNN.fit(x_train,y_train,epochs=25, validation_data = (x_test,y_test),verbose=1)"
      ],
      "execution_count": 33,
      "outputs": [
        {
          "output_type": "stream",
          "text": [
            "Epoch 1/25\n",
            "50/50 [==============================] - 2s 11ms/step - loss: 0.5499 - accuracy: 0.7781 - val_loss: 0.3746 - val_accuracy: 0.9023\n",
            "Epoch 2/25\n",
            "50/50 [==============================] - 0s 6ms/step - loss: 0.2058 - accuracy: 0.9351 - val_loss: 0.1957 - val_accuracy: 0.9574\n",
            "Epoch 3/25\n",
            "50/50 [==============================] - 0s 7ms/step - loss: 0.2262 - accuracy: 0.9351 - val_loss: 0.1466 - val_accuracy: 0.9574\n",
            "Epoch 4/25\n",
            "50/50 [==============================] - 0s 7ms/step - loss: 0.1908 - accuracy: 0.9463 - val_loss: 0.1308 - val_accuracy: 0.9574\n",
            "Epoch 5/25\n",
            "50/50 [==============================] - 0s 7ms/step - loss: 0.2292 - accuracy: 0.9298 - val_loss: 0.1233 - val_accuracy: 0.9599\n",
            "Epoch 6/25\n",
            "50/50 [==============================] - 0s 7ms/step - loss: 0.1893 - accuracy: 0.9506 - val_loss: 0.1231 - val_accuracy: 0.9574\n",
            "Epoch 7/25\n",
            "50/50 [==============================] - 0s 8ms/step - loss: 0.1596 - accuracy: 0.9500 - val_loss: 0.1213 - val_accuracy: 0.9574\n",
            "Epoch 8/25\n",
            "50/50 [==============================] - 0s 7ms/step - loss: 0.1728 - accuracy: 0.9480 - val_loss: 0.1122 - val_accuracy: 0.9574\n",
            "Epoch 9/25\n",
            "50/50 [==============================] - 0s 7ms/step - loss: 0.1654 - accuracy: 0.9511 - val_loss: 0.1174 - val_accuracy: 0.9574\n",
            "Epoch 10/25\n",
            "50/50 [==============================] - 0s 7ms/step - loss: 0.1681 - accuracy: 0.9436 - val_loss: 0.1282 - val_accuracy: 0.9549\n",
            "Epoch 11/25\n",
            "50/50 [==============================] - 0s 6ms/step - loss: 0.1445 - accuracy: 0.9558 - val_loss: 0.1248 - val_accuracy: 0.9549\n",
            "Epoch 12/25\n",
            "50/50 [==============================] - 0s 7ms/step - loss: 0.1470 - accuracy: 0.9500 - val_loss: 0.1193 - val_accuracy: 0.9549\n",
            "Epoch 13/25\n",
            "50/50 [==============================] - 0s 7ms/step - loss: 0.1466 - accuracy: 0.9581 - val_loss: 0.1194 - val_accuracy: 0.9549\n",
            "Epoch 14/25\n",
            "50/50 [==============================] - 0s 7ms/step - loss: 0.1256 - accuracy: 0.9645 - val_loss: 0.1159 - val_accuracy: 0.9574\n",
            "Epoch 15/25\n",
            "50/50 [==============================] - 0s 7ms/step - loss: 0.1689 - accuracy: 0.9535 - val_loss: 0.1129 - val_accuracy: 0.9574\n",
            "Epoch 16/25\n",
            "50/50 [==============================] - 0s 7ms/step - loss: 0.1279 - accuracy: 0.9544 - val_loss: 0.1099 - val_accuracy: 0.9574\n",
            "Epoch 17/25\n",
            "50/50 [==============================] - 0s 6ms/step - loss: 0.1203 - accuracy: 0.9660 - val_loss: 0.1080 - val_accuracy: 0.9599\n",
            "Epoch 18/25\n",
            "50/50 [==============================] - 0s 7ms/step - loss: 0.1257 - accuracy: 0.9608 - val_loss: 0.1089 - val_accuracy: 0.9599\n",
            "Epoch 19/25\n",
            "50/50 [==============================] - 0s 6ms/step - loss: 0.1272 - accuracy: 0.9570 - val_loss: 0.1126 - val_accuracy: 0.9599\n",
            "Epoch 20/25\n",
            "50/50 [==============================] - 0s 7ms/step - loss: 0.1278 - accuracy: 0.9587 - val_loss: 0.1096 - val_accuracy: 0.9599\n",
            "Epoch 21/25\n",
            "50/50 [==============================] - 0s 6ms/step - loss: 0.1435 - accuracy: 0.9502 - val_loss: 0.1152 - val_accuracy: 0.9599\n",
            "Epoch 22/25\n",
            "50/50 [==============================] - 0s 7ms/step - loss: 0.1193 - accuracy: 0.9539 - val_loss: 0.1124 - val_accuracy: 0.9624\n",
            "Epoch 23/25\n",
            "50/50 [==============================] - 0s 7ms/step - loss: 0.1113 - accuracy: 0.9631 - val_loss: 0.1178 - val_accuracy: 0.9624\n",
            "Epoch 24/25\n",
            "50/50 [==============================] - 0s 7ms/step - loss: 0.1174 - accuracy: 0.9621 - val_loss: 0.1113 - val_accuracy: 0.9599\n",
            "Epoch 25/25\n",
            "50/50 [==============================] - 0s 7ms/step - loss: 0.1366 - accuracy: 0.9512 - val_loss: 0.1122 - val_accuracy: 0.9624\n"
          ],
          "name": "stdout"
        }
      ]
    },
    {
      "cell_type": "code",
      "metadata": {
        "id": "cUkZRPiWxlWo",
        "colab": {
          "base_uri": "https://localhost:8080/",
          "height": 791
        },
        "outputId": "4a00f9bc-40e4-4cf1-be6e-3ea138c32705"
      },
      "source": [
        "plot_learning_curve(history, 25)"
      ],
      "execution_count": 34,
      "outputs": [
        {
          "output_type": "stream",
          "text": [
            "/usr/local/lib/python3.7/dist-packages/ipykernel_launcher.py:8: UserWarning: Legend does not support 't' instances.\n",
            "A proxy artist may be used instead.\n",
            "See: http://matplotlib.org/users/legend_guide.html#creating-artists-specifically-for-adding-to-the-legend-aka-proxy-artists\n",
            "  \n",
            "/usr/local/lib/python3.7/dist-packages/ipykernel_launcher.py:8: UserWarning: Legend does not support 'r' instances.\n",
            "A proxy artist may be used instead.\n",
            "See: http://matplotlib.org/users/legend_guide.html#creating-artists-specifically-for-adding-to-the-legend-aka-proxy-artists\n",
            "  \n",
            "/usr/local/lib/python3.7/dist-packages/ipykernel_launcher.py:8: UserWarning: Legend does not support 'a' instances.\n",
            "A proxy artist may be used instead.\n",
            "See: http://matplotlib.org/users/legend_guide.html#creating-artists-specifically-for-adding-to-the-legend-aka-proxy-artists\n",
            "  \n"
          ],
          "name": "stderr"
        },
        {
          "output_type": "display_data",
          "data": {
            "image/png": "[encoded data removed]",
            "text/plain": [
              "<Figure size 432x288 with 1 Axes>"
            ]
          },
          "metadata": {
            "tags": [],
            "needs_background": "light"
          }
        },
        {
          "output_type": "display_data",
          "data": {
            "image/png": "[encoded data removed]",
            "text/plain": [
              "<Figure size 432x288 with 1 Axes>"
            ]
          },
          "metadata": {
            "tags": [],
            "needs_background": "light"
          }
        }
      ]
    },
    {
      "cell_type": "code",
      "metadata": {
        "id": "s0WRNA-mxo0_",
        "colab": {
          "base_uri": "https://localhost:8080/"
        },
        "outputId": "37426338-52fc-448a-d651-8d335097782f"
      },
      "source": [
        "final_acc = CNN.evaluate(x_train,y_train, verbose=0)\n",
        "print('Test loss:', final_acc[0])\n",
        "print('Test accuracy:', final_acc[1])"
      ],
      "execution_count": 35,
      "outputs": [
        {
          "output_type": "stream",
          "text": [
            "Test loss: 0.08787184953689575\n",
            "Test accuracy: 0.9661017060279846\n"
          ],
          "name": "stdout"
        }
      ]
    },
    {
      "cell_type": "code",
      "metadata": {
        "colab": {
          "base_uri": "https://localhost:8080/"
        },
        "id": "KdW7JL6q5Glu",
        "outputId": "5823312b-de2a-4e5e-bdef-a53d6d8691a5"
      },
      "source": [
        "print(classification_report(y_test, y_pred.round()))"
      ],
      "execution_count": 36,
      "outputs": [
        {
          "output_type": "stream",
          "text": [
            "              precision    recall  f1-score   support\n",
            "\n",
            "           0       0.96      0.97      0.97       300\n",
            "           1       0.91      0.89      0.90        99\n",
            "\n",
            "    accuracy                           0.95       399\n",
            "   macro avg       0.94      0.93      0.93       399\n",
            "weighted avg       0.95      0.95      0.95       399\n",
            "\n"
          ],
          "name": "stdout"
        }
      ]
    },
    {
      "cell_type": "code",
      "metadata": {
        "id": "KOywukVc5MIO"
      },
      "source": [
        "y_pred = CNN.predict(x_test)\n",
        "cm = confusion_matrix(y_test, y_pred.round())"
      ],
      "execution_count": 37,
      "outputs": []
    },
    {
      "cell_type": "code",
      "metadata": {
        "id": "LDQ-kYbQxuNb",
        "colab": {
          "base_uri": "https://localhost:8080/"
        },
        "outputId": "70e39bfe-c739-435b-b186-d4907d401a37"
      },
      "source": [
        "print(classification_report(y_test, y_pred.round()))"
      ],
      "execution_count": 38,
      "outputs": [
        {
          "output_type": "stream",
          "text": [
            "              precision    recall  f1-score   support\n",
            "\n",
            "           0       0.96      0.99      0.98       300\n",
            "           1       0.96      0.89      0.92        99\n",
            "\n",
            "    accuracy                           0.96       399\n",
            "   macro avg       0.96      0.94      0.95       399\n",
            "weighted avg       0.96      0.96      0.96       399\n",
            "\n"
          ],
          "name": "stdout"
        }
      ]
    },
    {
      "cell_type": "code",
      "metadata": {
        "colab": {
          "base_uri": "https://localhost:8080/",
          "height": 350
        },
        "id": "ArX0yfs15SgH",
        "outputId": "0ddff8bc-7ac3-41d4-c25f-2227af8965a6"
      },
      "source": [
        "labels = [\"Fraud\", \"Normal\"]\n",
        "\n",
        "matrix = np.flip(cm)\n",
        "\n",
        "plt.figure(figsize=(5, 5))\n",
        "sns.heatmap(matrix, xticklabels=labels, yticklabels=labels,  annot=True, fmt=\"d\", cbar=False)\n",
        "plt.title(\"Confusion Matrix\")\n",
        "plt.ylabel('Actual')\n",
        "plt.xlabel('Predicted')\n",
        "plt.show()"
      ],
      "execution_count": 39,
      "outputs": [
        {
          "output_type": "display_data",
          "data": {
            "image/png": "[encoded data removed]",
            "text/plain": [
              "<Figure size 360x360 with 1 Axes>"
            ]
          },
          "metadata": {
            "tags": [],
            "needs_background": "light"
          }
        }
      ]
    },
    {
      "cell_type": "code",
      "metadata": {
        "id": "VHsQJGhpHSYt"
      },
      "source": [
        ""
      ],
      "execution_count": 39,
      "outputs": []
    }
  ]
}