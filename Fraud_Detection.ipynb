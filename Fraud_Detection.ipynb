{
  "nbformat": 4,
  "nbformat_minor": 0,
  "metadata": {
    "colab": {
      "name": "Fraud_Detection.ipynb",
      "provenance": [],
      "collapsed_sections": [],
      "toc_visible": true,
      "mount_file_id": "https://github.com/ldselvera/Fraud_Detection_Deep_Learning/blob/main/Fraud_Detection.ipynb",
      "authorship_tag": "ABX9TyP5RS1ChAF6KZEQ/GU0Ez6E",
      "include_colab_link": true
    },
    "kernelspec": {
      "name": "python3",
      "display_name": "Python 3"
    }
  },
  "cells": [
    {
      "cell_type": "markdown",
      "metadata": {
        "id": "view-in-github",
        "colab_type": "text"
      },
      "source": [
        "<a href=\"https://colab.research.google.com/github/ldselvera/Fraud_Detection_Deep_Learning/blob/main/Fraud_Detection.ipynb\" target=\"_parent\"><img src=\"https://colab.research.google.com/assets/colab-badge.svg\" alt=\"Open In Colab\"/></a>"
      ]
    },
    {
      "cell_type": "markdown",
      "metadata": {
        "id": "mA4C1zNFYYY9"
      },
      "source": [
        "## Imports"
      ]
    },
    {
      "cell_type": "code",
      "metadata": {
        "colab": {
          "base_uri": "https://localhost:8080/"
        },
        "id": "8JIuMMWawJWk",
        "outputId": "efe54fd5-b029-4047-e4dd-31585f747512"
      },
      "source": [
        "import pandas as pd\n",
        "import numpy as np\n",
        "import matplotlib.pyplot as plt\n",
        "import seaborn as sns\n",
        "\n",
        "import tensorflow as tf\n",
        "from tensorflow import keras\n",
        "from tensorflow.keras.optimizers import Adam\n",
        "\n",
        "from keras import regularizers, optimizers\n",
        "from keras.models import Sequential, Model, load_model\n",
        "from keras.layers import Input, Conv1D, Dense, Flatten, Activation, UpSampling1D, MaxPooling1D, ZeroPadding1D\n",
        "from keras.layers import Flatten, Dropout, BatchNormalization, MaxPool1D\n",
        "\n",
        "from sklearn.model_selection import train_test_split\n",
        "from sklearn.preprocessing import StandardScaler\n",
        "from sklearn.metrics import confusion_matrix, classification_report, roc_auc_score\n",
        "from sklearn import datasets, decomposition, preprocessing\n",
        "\n",
        "from mpl_toolkits.mplot3d import Axes3D\n",
        "\n",
        "print(tf.__version__)"
      ],
      "execution_count": 1,
      "outputs": [
        {
          "output_type": "stream",
          "text": [
            "2.5.0\n"
          ],
          "name": "stdout"
        }
      ]
    },
    {
      "cell_type": "markdown",
      "metadata": {
        "id": "A31EgwShR_e0"
      },
      "source": [
        "## Dataset"
      ]
    },
    {
      "cell_type": "code",
      "metadata": {
        "id": "zoYfwsWzwL0j"
      },
      "source": [
        "#import dataset from csv\n",
        "\n",
        "#Modify with your own path\n",
        "df = pd.read_csv(\"/content/drive/MyDrive/Colab Notebooks/fraud/creditcard.csv\")"
      ],
      "execution_count": 2,
      "outputs": []
    },
    {
      "cell_type": "code",
      "metadata": {
        "colab": {
          "base_uri": "https://localhost:8080/",
          "height": 226
        },
        "id": "QDJ7ukVSn4sm",
        "outputId": "e4849cd5-b418-4194-ec41-22898672451f"
      },
      "source": [
        "#preview of the data\n",
        "df.head()"
      ],
      "execution_count": 3,
      "outputs": [
        {
          "output_type": "execute_result",
          "data": {
            "text/html": [
              "<div>\n",
              "<style scoped>\n",
              "    .dataframe tbody tr th:only-of-type {\n",
              "        vertical-align: middle;\n",
              "    }\n",
              "\n",
              "    .dataframe tbody tr th {\n",
              "        vertical-align: top;\n",
              "    }\n",
              "\n",
              "    .dataframe thead th {\n",
              "        text-align: right;\n",
              "    }\n",
              "</style>\n",
              "<table border=\"1\" class=\"dataframe\">\n",
              "  <thead>\n",
              "    <tr style=\"text-align: right;\">\n",
              "      <th></th>\n",
              "      <th>Time</th>\n",
              "      <th>V1</th>\n",
              "      <th>V2</th>\n",
              "      <th>V3</th>\n",
              "      <th>V4</th>\n",
              "      <th>V5</th>\n",
              "      <th>V6</th>\n",
              "      <th>V7</th>\n",
              "      <th>V8</th>\n",
              "      <th>V9</th>\n",
              "      <th>V10</th>\n",
              "      <th>V11</th>\n",
              "      <th>V12</th>\n",
              "      <th>V13</th>\n",
              "      <th>V14</th>\n",
              "      <th>V15</th>\n",
              "      <th>V16</th>\n",
              "      <th>V17</th>\n",
              "      <th>V18</th>\n",
              "      <th>V19</th>\n",
              "      <th>V20</th>\n",
              "      <th>V21</th>\n",
              "      <th>V22</th>\n",
              "      <th>V23</th>\n",
              "      <th>V24</th>\n",
              "      <th>V25</th>\n",
              "      <th>V26</th>\n",
              "      <th>V27</th>\n",
              "      <th>V28</th>\n",
              "      <th>Amount</th>\n",
              "      <th>Class</th>\n",
              "    </tr>\n",
              "  </thead>\n",
              "  <tbody>\n",
              "    <tr>\n",
              "      <th>0</th>\n",
              "      <td>0.0</td>\n",
              "      <td>-1.359807</td>\n",
              "      <td>-0.072781</td>\n",
              "      <td>2.536347</td>\n",
              "      <td>1.378155</td>\n",
              "      <td>-0.338321</td>\n",
              "      <td>0.462388</td>\n",
              "      <td>0.239599</td>\n",
              "      <td>0.098698</td>\n",
              "      <td>0.363787</td>\n",
              "      <td>0.090794</td>\n",
              "      <td>-0.551600</td>\n",
              "      <td>-0.617801</td>\n",
              "      <td>-0.991390</td>\n",
              "      <td>-0.311169</td>\n",
              "      <td>1.468177</td>\n",
              "      <td>-0.470401</td>\n",
              "      <td>0.207971</td>\n",
              "      <td>0.025791</td>\n",
              "      <td>0.403993</td>\n",
              "      <td>0.251412</td>\n",
              "      <td>-0.018307</td>\n",
              "      <td>0.277838</td>\n",
              "      <td>-0.110474</td>\n",
              "      <td>0.066928</td>\n",
              "      <td>0.128539</td>\n",
              "      <td>-0.189115</td>\n",
              "      <td>0.133558</td>\n",
              "      <td>-0.021053</td>\n",
              "      <td>149.62</td>\n",
              "      <td>0</td>\n",
              "    </tr>\n",
              "    <tr>\n",
              "      <th>1</th>\n",
              "      <td>0.0</td>\n",
              "      <td>1.191857</td>\n",
              "      <td>0.266151</td>\n",
              "      <td>0.166480</td>\n",
              "      <td>0.448154</td>\n",
              "      <td>0.060018</td>\n",
              "      <td>-0.082361</td>\n",
              "      <td>-0.078803</td>\n",
              "      <td>0.085102</td>\n",
              "      <td>-0.255425</td>\n",
              "      <td>-0.166974</td>\n",
              "      <td>1.612727</td>\n",
              "      <td>1.065235</td>\n",
              "      <td>0.489095</td>\n",
              "      <td>-0.143772</td>\n",
              "      <td>0.635558</td>\n",
              "      <td>0.463917</td>\n",
              "      <td>-0.114805</td>\n",
              "      <td>-0.183361</td>\n",
              "      <td>-0.145783</td>\n",
              "      <td>-0.069083</td>\n",
              "      <td>-0.225775</td>\n",
              "      <td>-0.638672</td>\n",
              "      <td>0.101288</td>\n",
              "      <td>-0.339846</td>\n",
              "      <td>0.167170</td>\n",
              "      <td>0.125895</td>\n",
              "      <td>-0.008983</td>\n",
              "      <td>0.014724</td>\n",
              "      <td>2.69</td>\n",
              "      <td>0</td>\n",
              "    </tr>\n",
              "    <tr>\n",
              "      <th>2</th>\n",
              "      <td>1.0</td>\n",
              "      <td>-1.358354</td>\n",
              "      <td>-1.340163</td>\n",
              "      <td>1.773209</td>\n",
              "      <td>0.379780</td>\n",
              "      <td>-0.503198</td>\n",
              "      <td>1.800499</td>\n",
              "      <td>0.791461</td>\n",
              "      <td>0.247676</td>\n",
              "      <td>-1.514654</td>\n",
              "      <td>0.207643</td>\n",
              "      <td>0.624501</td>\n",
              "      <td>0.066084</td>\n",
              "      <td>0.717293</td>\n",
              "      <td>-0.165946</td>\n",
              "      <td>2.345865</td>\n",
              "      <td>-2.890083</td>\n",
              "      <td>1.109969</td>\n",
              "      <td>-0.121359</td>\n",
              "      <td>-2.261857</td>\n",
              "      <td>0.524980</td>\n",
              "      <td>0.247998</td>\n",
              "      <td>0.771679</td>\n",
              "      <td>0.909412</td>\n",
              "      <td>-0.689281</td>\n",
              "      <td>-0.327642</td>\n",
              "      <td>-0.139097</td>\n",
              "      <td>-0.055353</td>\n",
              "      <td>-0.059752</td>\n",
              "      <td>378.66</td>\n",
              "      <td>0</td>\n",
              "    </tr>\n",
              "    <tr>\n",
              "      <th>3</th>\n",
              "      <td>1.0</td>\n",
              "      <td>-0.966272</td>\n",
              "      <td>-0.185226</td>\n",
              "      <td>1.792993</td>\n",
              "      <td>-0.863291</td>\n",
              "      <td>-0.010309</td>\n",
              "      <td>1.247203</td>\n",
              "      <td>0.237609</td>\n",
              "      <td>0.377436</td>\n",
              "      <td>-1.387024</td>\n",
              "      <td>-0.054952</td>\n",
              "      <td>-0.226487</td>\n",
              "      <td>0.178228</td>\n",
              "      <td>0.507757</td>\n",
              "      <td>-0.287924</td>\n",
              "      <td>-0.631418</td>\n",
              "      <td>-1.059647</td>\n",
              "      <td>-0.684093</td>\n",
              "      <td>1.965775</td>\n",
              "      <td>-1.232622</td>\n",
              "      <td>-0.208038</td>\n",
              "      <td>-0.108300</td>\n",
              "      <td>0.005274</td>\n",
              "      <td>-0.190321</td>\n",
              "      <td>-1.175575</td>\n",
              "      <td>0.647376</td>\n",
              "      <td>-0.221929</td>\n",
              "      <td>0.062723</td>\n",
              "      <td>0.061458</td>\n",
              "      <td>123.50</td>\n",
              "      <td>0</td>\n",
              "    </tr>\n",
              "    <tr>\n",
              "      <th>4</th>\n",
              "      <td>2.0</td>\n",
              "      <td>-1.158233</td>\n",
              "      <td>0.877737</td>\n",
              "      <td>1.548718</td>\n",
              "      <td>0.403034</td>\n",
              "      <td>-0.407193</td>\n",
              "      <td>0.095921</td>\n",
              "      <td>0.592941</td>\n",
              "      <td>-0.270533</td>\n",
              "      <td>0.817739</td>\n",
              "      <td>0.753074</td>\n",
              "      <td>-0.822843</td>\n",
              "      <td>0.538196</td>\n",
              "      <td>1.345852</td>\n",
              "      <td>-1.119670</td>\n",
              "      <td>0.175121</td>\n",
              "      <td>-0.451449</td>\n",
              "      <td>-0.237033</td>\n",
              "      <td>-0.038195</td>\n",
              "      <td>0.803487</td>\n",
              "      <td>0.408542</td>\n",
              "      <td>-0.009431</td>\n",
              "      <td>0.798278</td>\n",
              "      <td>-0.137458</td>\n",
              "      <td>0.141267</td>\n",
              "      <td>-0.206010</td>\n",
              "      <td>0.502292</td>\n",
              "      <td>0.219422</td>\n",
              "      <td>0.215153</td>\n",
              "      <td>69.99</td>\n",
              "      <td>0</td>\n",
              "    </tr>\n",
              "  </tbody>\n",
              "</table>\n",
              "</div>"
            ],
            "text/plain": [
              "   Time        V1        V2        V3  ...       V27       V28  Amount  Class\n",
              "0   0.0 -1.359807 -0.072781  2.536347  ...  0.133558 -0.021053  149.62      0\n",
              "1   0.0  1.191857  0.266151  0.166480  ... -0.008983  0.014724    2.69      0\n",
              "2   1.0 -1.358354 -1.340163  1.773209  ... -0.055353 -0.059752  378.66      0\n",
              "3   1.0 -0.966272 -0.185226  1.792993  ...  0.062723  0.061458  123.50      0\n",
              "4   2.0 -1.158233  0.877737  1.548718  ...  0.219422  0.215153   69.99      0\n",
              "\n",
              "[5 rows x 31 columns]"
            ]
          },
          "metadata": {
            "tags": []
          },
          "execution_count": 3
        }
      ]
    },
    {
      "cell_type": "code",
      "metadata": {
        "colab": {
          "base_uri": "https://localhost:8080/"
        },
        "id": "T7YEL20rqvAT",
        "outputId": "adb7fe95-7bac-4dc2-8fc4-dc2c9fc7c417"
      },
      "source": [
        "df.columns"
      ],
      "execution_count": 4,
      "outputs": [
        {
          "output_type": "execute_result",
          "data": {
            "text/plain": [
              "Index(['Time', 'V1', 'V2', 'V3', 'V4', 'V5', 'V6', 'V7', 'V8', 'V9', 'V10',\n",
              "       'V11', 'V12', 'V13', 'V14', 'V15', 'V16', 'V17', 'V18', 'V19', 'V20',\n",
              "       'V21', 'V22', 'V23', 'V24', 'V25', 'V26', 'V27', 'V28', 'Amount',\n",
              "       'Class'],\n",
              "      dtype='object')"
            ]
          },
          "metadata": {
            "tags": []
          },
          "execution_count": 4
        }
      ]
    },
    {
      "cell_type": "markdown",
      "metadata": {
        "id": "e3nhTPtQSSib"
      },
      "source": [
        "### Check for missing values (Null/NaN)"
      ]
    },
    {
      "cell_type": "code",
      "metadata": {
        "colab": {
          "base_uri": "https://localhost:8080/"
        },
        "id": "KrfE0ULlw2of",
        "outputId": "4e0ce208-d91d-4039-ed38-5096a3921f74"
      },
      "source": [
        "df.isnull().sum()"
      ],
      "execution_count": 5,
      "outputs": [
        {
          "output_type": "execute_result",
          "data": {
            "text/plain": [
              "Time      0\n",
              "V1        0\n",
              "V2        0\n",
              "V3        0\n",
              "V4        0\n",
              "V5        0\n",
              "V6        0\n",
              "V7        0\n",
              "V8        0\n",
              "V9        0\n",
              "V10       0\n",
              "V11       0\n",
              "V12       0\n",
              "V13       0\n",
              "V14       0\n",
              "V15       0\n",
              "V16       0\n",
              "V17       0\n",
              "V18       0\n",
              "V19       0\n",
              "V20       0\n",
              "V21       0\n",
              "V22       0\n",
              "V23       0\n",
              "V24       0\n",
              "V25       0\n",
              "V26       0\n",
              "V27       0\n",
              "V28       0\n",
              "Amount    0\n",
              "Class     0\n",
              "dtype: int64"
            ]
          },
          "metadata": {
            "tags": []
          },
          "execution_count": 5
        }
      ]
    },
    {
      "cell_type": "markdown",
      "metadata": {
        "id": "PurRX73ASHAy"
      },
      "source": [
        "### Imbalanced data"
      ]
    },
    {
      "cell_type": "code",
      "metadata": {
        "colab": {
          "base_uri": "https://localhost:8080/"
        },
        "id": "A67IsMfews1l",
        "outputId": "bdac38e6-1149-48b4-b741-a265956c3fcd"
      },
      "source": [
        "# Number of instances per class \n",
        "df['Class'].value_counts()"
      ],
      "execution_count": 6,
      "outputs": [
        {
          "output_type": "execute_result",
          "data": {
            "text/plain": [
              "0    284315\n",
              "1       492\n",
              "Name: Class, dtype: int64"
            ]
          },
          "metadata": {
            "tags": []
          },
          "execution_count": 6
        }
      ]
    },
    {
      "cell_type": "code",
      "metadata": {
        "colab": {
          "base_uri": "https://localhost:8080/"
        },
        "id": "Cjgh4YcNqy87",
        "outputId": "18025999-9835-46e0-8a76-64dc87161158"
      },
      "source": [
        "print('No Frauds', round(df['Class'].value_counts()[0]/len(df) * 100,2), '% of the dataset')\n",
        "print('Frauds', round(df['Class'].value_counts()[1]/len(df) * 100,2), '% of the dataset')"
      ],
      "execution_count": 7,
      "outputs": [
        {
          "output_type": "stream",
          "text": [
            "No Frauds 99.83 % of the dataset\n",
            "Frauds 0.17 % of the dataset\n"
          ],
          "name": "stdout"
        }
      ]
    },
    {
      "cell_type": "code",
      "metadata": {
        "colab": {
          "base_uri": "https://localhost:8080/",
          "height": 370
        },
        "id": "KosF-gJaq07z",
        "outputId": "9e40381e-83d8-488b-8896-a39e10a37d6b"
      },
      "source": [
        "sns.countplot('Class', data=df)\n",
        "plt.title('Class Distributions \\n (0: No Fraud || 1: Fraud)', fontsize=14)\n",
        "plt.show()"
      ],
      "execution_count": 8,
      "outputs": [
        {
          "output_type": "stream",
          "text": [
            "/usr/local/lib/python3.7/dist-packages/seaborn/_decorators.py:43: FutureWarning: Pass the following variable as a keyword arg: x. From version 0.12, the only valid positional argument will be `data`, and passing other arguments without an explicit keyword will result in an error or misinterpretation.\n",
            "  FutureWarning\n"
          ],
          "name": "stderr"
        },
        {
          "output_type": "display_data",
          "data": {
            "image/png": "[encoded data removed]",
            "text/plain": [
              "<Figure size 432x288 with 1 Axes>"
            ]
          },
          "metadata": {
            "tags": [],
            "needs_background": "light"
          }
        }
      ]
    },
    {
      "cell_type": "code",
      "metadata": {
        "id": "eQKZAqa_XiN4"
      },
      "source": [
        "def show_pca_df(df):\n",
        "\tx = df[df.columns[1:30]].to_numpy()\n",
        "\ty = df[df.columns[30]].to_numpy()\n",
        "\n",
        "\tx = preprocessing.MinMaxScaler().fit_transform(x)\n",
        "\tpca = decomposition.PCA(n_components=3)\n",
        "\tpca_result = pca.fit_transform(x)\n",
        "\tprint(pca.explained_variance_ratio_)\n",
        "\n",
        "\tpca_df = pd.DataFrame(data=pca_result, columns=['pc_1', 'pc_2', 'pc_3'])\n",
        "\tpca_df = pd.concat([pca_df, pd.DataFrame({'label': y})], axis=1)\n",
        "\n",
        "\tax = Axes3D(plt.figure(figsize=(8, 8)))\n",
        "\tax.scatter(xs=pca_df['pc_1'], ys=pca_df['pc_2'], zs=pca_df['pc_3'], c=pca_df['label'], s=25)\n",
        "\tax.set_xlabel(\"pc_1\")\n",
        "\tax.set_ylabel(\"pc_2\")\n",
        "\tax.set_zlabel(\"pc_3\")\n",
        "\tplt.show()"
      ],
      "execution_count": 9,
      "outputs": []
    },
    {
      "cell_type": "code",
      "metadata": {
        "colab": {
          "base_uri": "https://localhost:8080/",
          "height": 625
        },
        "id": "qjRfLeKoX0z1",
        "outputId": "a99eb6ff-ee54-473a-d9a5-0d5d2b459b30"
      },
      "source": [
        "show_pca_df(df)"
      ],
      "execution_count": 10,
      "outputs": [
        {
          "output_type": "stream",
          "text": [
            "[0.13501016 0.12577773 0.12031404]\n"
          ],
          "name": "stdout"
        },
        {
          "output_type": "display_data",
          "data": {
            "image/png": "[encoded data removed]",
            "text/plain": [
              "<Figure size 576x576 with 1 Axes>"
            ]
          },
          "metadata": {
            "tags": [],
            "needs_background": "light"
          }
        }
      ]
    },
    {
      "cell_type": "markdown",
      "metadata": {
        "id": "wWyXWCpmYTNk"
      },
      "source": [
        "### Subsampling"
      ]
    },
    {
      "cell_type": "code",
      "metadata": {
        "id": "8GxudI2jxBQP"
      },
      "source": [
        "#Split fraud and normal transactions\n",
        "fraud_data = df[df['Class']==1]\n",
        "non_fraud_data = df[df[\"Class\"]==0]\n",
        "\n",
        "#Subsample according to the size of fraud transactions\n",
        "non_fraud_data1 = non_fraud_data.sample(1500)\n",
        "\n",
        "#Rejoin fraud and normal transactions\n",
        "final_data = fraud_data.append(non_fraud_data1,ignore_index=True)\n"
      ],
      "execution_count": 11,
      "outputs": []
    },
    {
      "cell_type": "code",
      "metadata": {
        "colab": {
          "base_uri": "https://localhost:8080/"
        },
        "id": "vHpfJmbOaCrd",
        "outputId": "4439021c-cafd-4906-eb45-877cada8ca1d"
      },
      "source": [
        "print('No Frauds', round(final_data['Class'].value_counts()[0]/len(final_data) * 100,2), '% of the dataset')\n",
        "print('Frauds', round(final_data['Class'].value_counts()[1]/len(final_data) * 100,2), '% of the dataset')"
      ],
      "execution_count": 12,
      "outputs": [
        {
          "output_type": "stream",
          "text": [
            "No Frauds 75.3 % of the dataset\n",
            "Frauds 24.7 % of the dataset\n"
          ],
          "name": "stdout"
        }
      ]
    },
    {
      "cell_type": "code",
      "metadata": {
        "colab": {
          "base_uri": "https://localhost:8080/",
          "height": 426
        },
        "id": "v3xQkb5orArm",
        "outputId": "1704b75b-1e5e-4cb7-a61d-5db8512c9e84"
      },
      "source": [
        "print('Distribution of the Classes in the subsample dataset')\n",
        "print(final_data['Class'].value_counts()/len(final_data))\n",
        "\n",
        "sns.countplot('Class', data=final_data)\n",
        "plt.title('25/75 Distributed Classes', fontsize=14)\n",
        "plt.show()"
      ],
      "execution_count": 13,
      "outputs": [
        {
          "output_type": "stream",
          "text": [
            "Distribution of the Classes in the subsample dataset\n",
            "0    0.753012\n",
            "1    0.246988\n",
            "Name: Class, dtype: float64\n"
          ],
          "name": "stdout"
        },
        {
          "output_type": "stream",
          "text": [
            "/usr/local/lib/python3.7/dist-packages/seaborn/_decorators.py:43: FutureWarning: Pass the following variable as a keyword arg: x. From version 0.12, the only valid positional argument will be `data`, and passing other arguments without an explicit keyword will result in an error or misinterpretation.\n",
            "  FutureWarning\n"
          ],
          "name": "stderr"
        },
        {
          "output_type": "display_data",
          "data": {
            "image/png": "[encoded data removed]",
            "text/plain": [
              "<Figure size 432x288 with 1 Axes>"
            ]
          },
          "metadata": {
            "tags": [],
            "needs_background": "light"
          }
        }
      ]
    },
    {
      "cell_type": "code",
      "metadata": {
        "colab": {
          "base_uri": "https://localhost:8080/"
        },
        "id": "PlvbiGCmrG41",
        "outputId": "bbcb53d9-761e-40d9-98c7-b565d348d380"
      },
      "source": [
        "final_data['Class'].value_counts()"
      ],
      "execution_count": 14,
      "outputs": [
        {
          "output_type": "execute_result",
          "data": {
            "text/plain": [
              "0    1500\n",
              "1     492\n",
              "Name: Class, dtype: int64"
            ]
          },
          "metadata": {
            "tags": []
          },
          "execution_count": 14
        }
      ]
    },
    {
      "cell_type": "code",
      "metadata": {
        "colab": {
          "base_uri": "https://localhost:8080/",
          "height": 625
        },
        "id": "2hAme4xuX73H",
        "outputId": "beed34a4-d910-4dfa-dfaa-e1b4a6b4996b"
      },
      "source": [
        "fraud = df[df[df.columns[30]] > 0]\n",
        "non_fraud = df[df[df.columns[30]] == 0].sample(n=fraud.size, random_state=1, axis='index')\n",
        "df = pd.concat([ fraud, non_fraud])\n",
        "\n",
        "show_pca_df(df)"
      ],
      "execution_count": 15,
      "outputs": [
        {
          "output_type": "stream",
          "text": [
            "[0.20577961 0.14728955 0.09800458]\n"
          ],
          "name": "stdout"
        },
        {
          "output_type": "display_data",
          "data": {
            "image/png": "[encoded data removed]",
            "text/plain": [
              "<Figure size 576x576 with 1 Axes>"
            ]
          },
          "metadata": {
            "tags": [],
            "needs_background": "light"
          }
        }
      ]
    },
    {
      "cell_type": "markdown",
      "metadata": {
        "id": "vFkjaniCYtw1"
      },
      "source": [
        "## Normalize Data"
      ]
    },
    {
      "cell_type": "code",
      "metadata": {
        "id": "W7IqKin1kfqN"
      },
      "source": [
        "df['Amount'] = StandardScaler().fit_transform(df['Amount'].values.reshape(-1, 1))\n",
        "df['Time'] = StandardScaler().fit_transform(df['Time'].values.reshape(-1, 1))"
      ],
      "execution_count": 16,
      "outputs": []
    },
    {
      "cell_type": "markdown",
      "metadata": {
        "id": "h_K1QrdLYgF9"
      },
      "source": [
        "## Splitting Data"
      ]
    },
    {
      "cell_type": "code",
      "metadata": {
        "colab": {
          "base_uri": "https://localhost:8080/",
          "height": 383
        },
        "id": "rLLGfJP3mVDc",
        "outputId": "60f30660-e55b-424c-90d9-40b2f32db711"
      },
      "source": [
        "anomalies = df[df[\"Class\"] == 1]\n",
        "normal = df[df[\"Class\"] == 0]\n",
        "\n",
        "data_set = pd.concat([normal[:1500], anomalies])\n",
        "\n",
        "x_train, x_test = train_test_split(data_set, test_size = 0.2)\n",
        "\n",
        "x_train = x_train.sort_values(by=['Time'])\n",
        "x_test = x_test.sort_values(by=['Time'])\n",
        "\n",
        "y_train = x_train[\"Class\"]\n",
        "y_test = x_test[\"Class\"]\n",
        "\n",
        "x_train = x_train.drop(\"Class\",axis=1)\n",
        "x_test = x_test.drop(\"Class\",axis=1)\n",
        "\n",
        "x_test.head(10)"
      ],
      "execution_count": 17,
      "outputs": [
        {
          "output_type": "execute_result",
          "data": {
            "text/html": [
              "<div>\n",
              "<style scoped>\n",
              "    .dataframe tbody tr th:only-of-type {\n",
              "        vertical-align: middle;\n",
              "    }\n",
              "\n",
              "    .dataframe tbody tr th {\n",
              "        vertical-align: top;\n",
              "    }\n",
              "\n",
              "    .dataframe thead th {\n",
              "        text-align: right;\n",
              "    }\n",
              "</style>\n",
              "<table border=\"1\" class=\"dataframe\">\n",
              "  <thead>\n",
              "    <tr style=\"text-align: right;\">\n",
              "      <th></th>\n",
              "      <th>Time</th>\n",
              "      <th>V1</th>\n",
              "      <th>V2</th>\n",
              "      <th>V3</th>\n",
              "      <th>V4</th>\n",
              "      <th>V5</th>\n",
              "      <th>V6</th>\n",
              "      <th>V7</th>\n",
              "      <th>V8</th>\n",
              "      <th>V9</th>\n",
              "      <th>V10</th>\n",
              "      <th>V11</th>\n",
              "      <th>V12</th>\n",
              "      <th>V13</th>\n",
              "      <th>V14</th>\n",
              "      <th>V15</th>\n",
              "      <th>V16</th>\n",
              "      <th>V17</th>\n",
              "      <th>V18</th>\n",
              "      <th>V19</th>\n",
              "      <th>V20</th>\n",
              "      <th>V21</th>\n",
              "      <th>V22</th>\n",
              "      <th>V23</th>\n",
              "      <th>V24</th>\n",
              "      <th>V25</th>\n",
              "      <th>V26</th>\n",
              "      <th>V27</th>\n",
              "      <th>V28</th>\n",
              "      <th>Amount</th>\n",
              "    </tr>\n",
              "  </thead>\n",
              "  <tbody>\n",
              "    <tr>\n",
              "      <th>196</th>\n",
              "      <td>-1.979811</td>\n",
              "      <td>-0.485238</td>\n",
              "      <td>0.658497</td>\n",
              "      <td>1.949967</td>\n",
              "      <td>1.249695</td>\n",
              "      <td>0.426410</td>\n",
              "      <td>0.231513</td>\n",
              "      <td>0.585115</td>\n",
              "      <td>0.029163</td>\n",
              "      <td>-0.520297</td>\n",
              "      <td>0.055911</td>\n",
              "      <td>1.265311</td>\n",
              "      <td>0.521277</td>\n",
              "      <td>-0.830439</td>\n",
              "      <td>0.157455</td>\n",
              "      <td>-0.365075</td>\n",
              "      <td>-1.142187</td>\n",
              "      <td>0.409601</td>\n",
              "      <td>-0.204876</td>\n",
              "      <td>1.010483</td>\n",
              "      <td>0.089378</td>\n",
              "      <td>0.007290</td>\n",
              "      <td>0.328244</td>\n",
              "      <td>-0.232563</td>\n",
              "      <td>0.225572</td>\n",
              "      <td>0.025892</td>\n",
              "      <td>-0.247395</td>\n",
              "      <td>-0.025381</td>\n",
              "      <td>-0.118565</td>\n",
              "      <td>-0.345356</td>\n",
              "    </tr>\n",
              "    <tr>\n",
              "      <th>1944</th>\n",
              "      <td>-1.951066</td>\n",
              "      <td>-1.485506</td>\n",
              "      <td>1.345714</td>\n",
              "      <td>1.301287</td>\n",
              "      <td>-0.790653</td>\n",
              "      <td>-0.440294</td>\n",
              "      <td>-0.707441</td>\n",
              "      <td>0.426472</td>\n",
              "      <td>0.254075</td>\n",
              "      <td>0.216898</td>\n",
              "      <td>0.130009</td>\n",
              "      <td>0.981704</td>\n",
              "      <td>0.379693</td>\n",
              "      <td>-1.263910</td>\n",
              "      <td>0.235338</td>\n",
              "      <td>-0.846105</td>\n",
              "      <td>0.154939</td>\n",
              "      <td>-0.359138</td>\n",
              "      <td>-0.057451</td>\n",
              "      <td>-0.009569</td>\n",
              "      <td>0.016820</td>\n",
              "      <td>-0.136552</td>\n",
              "      <td>-0.373011</td>\n",
              "      <td>-0.069972</td>\n",
              "      <td>0.532101</td>\n",
              "      <td>-0.147941</td>\n",
              "      <td>0.232079</td>\n",
              "      <td>-0.325921</td>\n",
              "      <td>-0.073754</td>\n",
              "      <td>-0.349258</td>\n",
              "    </tr>\n",
              "    <tr>\n",
              "      <th>2684</th>\n",
              "      <td>-1.935854</td>\n",
              "      <td>-0.935095</td>\n",
              "      <td>0.858052</td>\n",
              "      <td>0.644581</td>\n",
              "      <td>-1.309573</td>\n",
              "      <td>2.123865</td>\n",
              "      <td>3.678254</td>\n",
              "      <td>-0.197846</td>\n",
              "      <td>1.085421</td>\n",
              "      <td>-0.198670</td>\n",
              "      <td>-0.086262</td>\n",
              "      <td>-0.195606</td>\n",
              "      <td>-0.310685</td>\n",
              "      <td>0.034855</td>\n",
              "      <td>-0.004866</td>\n",
              "      <td>1.379410</td>\n",
              "      <td>0.737677</td>\n",
              "      <td>-0.989180</td>\n",
              "      <td>0.474118</td>\n",
              "      <td>0.239864</td>\n",
              "      <td>0.401341</td>\n",
              "      <td>-0.167744</td>\n",
              "      <td>-0.501463</td>\n",
              "      <td>-0.227479</td>\n",
              "      <td>1.002662</td>\n",
              "      <td>0.345228</td>\n",
              "      <td>0.284304</td>\n",
              "      <td>0.389218</td>\n",
              "      <td>0.191140</td>\n",
              "      <td>-0.333209</td>\n",
              "    </tr>\n",
              "    <tr>\n",
              "      <th>3782</th>\n",
              "      <td>-1.913655</td>\n",
              "      <td>-0.317367</td>\n",
              "      <td>0.256325</td>\n",
              "      <td>1.634109</td>\n",
              "      <td>-0.416740</td>\n",
              "      <td>-0.744444</td>\n",
              "      <td>0.669943</td>\n",
              "      <td>-0.820400</td>\n",
              "      <td>-1.526205</td>\n",
              "      <td>-0.619528</td>\n",
              "      <td>0.089157</td>\n",
              "      <td>-1.787544</td>\n",
              "      <td>0.161032</td>\n",
              "      <td>0.878197</td>\n",
              "      <td>-0.566702</td>\n",
              "      <td>-0.524199</td>\n",
              "      <td>-1.119643</td>\n",
              "      <td>-0.373270</td>\n",
              "      <td>1.500997</td>\n",
              "      <td>-1.387021</td>\n",
              "      <td>-0.803982</td>\n",
              "      <td>1.150811</td>\n",
              "      <td>-0.968703</td>\n",
              "      <td>-0.459418</td>\n",
              "      <td>-0.458207</td>\n",
              "      <td>1.727063</td>\n",
              "      <td>-0.114665</td>\n",
              "      <td>0.189558</td>\n",
              "      <td>0.146292</td>\n",
              "      <td>-0.208473</td>\n",
              "    </tr>\n",
              "    <tr>\n",
              "      <th>4922</th>\n",
              "      <td>-1.888792</td>\n",
              "      <td>-0.155718</td>\n",
              "      <td>-0.555641</td>\n",
              "      <td>1.848151</td>\n",
              "      <td>-1.109779</td>\n",
              "      <td>-1.400660</td>\n",
              "      <td>-0.251651</td>\n",
              "      <td>-0.363722</td>\n",
              "      <td>-0.168415</td>\n",
              "      <td>-0.829275</td>\n",
              "      <td>0.573435</td>\n",
              "      <td>0.063423</td>\n",
              "      <td>-3.152961</td>\n",
              "      <td>2.617969</td>\n",
              "      <td>0.568136</td>\n",
              "      <td>-1.187621</td>\n",
              "      <td>-1.125796</td>\n",
              "      <td>1.776016</td>\n",
              "      <td>0.073773</td>\n",
              "      <td>0.779427</td>\n",
              "      <td>-0.008190</td>\n",
              "      <td>-0.480731</td>\n",
              "      <td>-0.747545</td>\n",
              "      <td>0.350116</td>\n",
              "      <td>0.241410</td>\n",
              "      <td>-0.693711</td>\n",
              "      <td>-0.472586</td>\n",
              "      <td>0.157351</td>\n",
              "      <td>0.172324</td>\n",
              "      <td>0.030459</td>\n",
              "    </tr>\n",
              "    <tr>\n",
              "      <th>4977</th>\n",
              "      <td>-1.887281</td>\n",
              "      <td>-1.400193</td>\n",
              "      <td>0.744386</td>\n",
              "      <td>2.118092</td>\n",
              "      <td>3.126864</td>\n",
              "      <td>-1.401758</td>\n",
              "      <td>1.460903</td>\n",
              "      <td>0.375688</td>\n",
              "      <td>0.706134</td>\n",
              "      <td>-0.032459</td>\n",
              "      <td>-0.031022</td>\n",
              "      <td>1.358014</td>\n",
              "      <td>-2.305601</td>\n",
              "      <td>1.751484</td>\n",
              "      <td>1.643707</td>\n",
              "      <td>-0.481714</td>\n",
              "      <td>0.476969</td>\n",
              "      <td>0.606288</td>\n",
              "      <td>1.483834</td>\n",
              "      <td>0.892238</td>\n",
              "      <td>0.791609</td>\n",
              "      <td>0.209277</td>\n",
              "      <td>0.424350</td>\n",
              "      <td>0.388423</td>\n",
              "      <td>-0.072557</td>\n",
              "      <td>0.282644</td>\n",
              "      <td>0.366931</td>\n",
              "      <td>0.111733</td>\n",
              "      <td>0.099355</td>\n",
              "      <td>0.811212</td>\n",
              "    </tr>\n",
              "    <tr>\n",
              "      <th>5160</th>\n",
              "      <td>-1.879937</td>\n",
              "      <td>-1.579944</td>\n",
              "      <td>1.693708</td>\n",
              "      <td>1.375624</td>\n",
              "      <td>-0.227802</td>\n",
              "      <td>-0.067200</td>\n",
              "      <td>-0.254428</td>\n",
              "      <td>0.515911</td>\n",
              "      <td>0.028401</td>\n",
              "      <td>1.921291</td>\n",
              "      <td>1.234694</td>\n",
              "      <td>2.626516</td>\n",
              "      <td>-2.481086</td>\n",
              "      <td>0.152013</td>\n",
              "      <td>1.520242</td>\n",
              "      <td>-0.093135</td>\n",
              "      <td>-0.104059</td>\n",
              "      <td>0.367378</td>\n",
              "      <td>-0.042272</td>\n",
              "      <td>-0.470473</td>\n",
              "      <td>0.629242</td>\n",
              "      <td>-0.512556</td>\n",
              "      <td>-0.711014</td>\n",
              "      <td>0.068333</td>\n",
              "      <td>0.088633</td>\n",
              "      <td>-0.157776</td>\n",
              "      <td>0.031853</td>\n",
              "      <td>0.601539</td>\n",
              "      <td>0.216177</td>\n",
              "      <td>-0.321141</td>\n",
              "    </tr>\n",
              "    <tr>\n",
              "      <th>5526</th>\n",
              "      <td>-1.865082</td>\n",
              "      <td>-5.839071</td>\n",
              "      <td>2.126458</td>\n",
              "      <td>-0.461191</td>\n",
              "      <td>-2.053147</td>\n",
              "      <td>-2.933167</td>\n",
              "      <td>2.909314</td>\n",
              "      <td>-6.275324</td>\n",
              "      <td>-13.456848</td>\n",
              "      <td>1.797212</td>\n",
              "      <td>-0.368951</td>\n",
              "      <td>2.137558</td>\n",
              "      <td>-0.876469</td>\n",
              "      <td>0.643785</td>\n",
              "      <td>2.571242</td>\n",
              "      <td>1.208304</td>\n",
              "      <td>-1.294074</td>\n",
              "      <td>1.616833</td>\n",
              "      <td>2.665464</td>\n",
              "      <td>-0.362191</td>\n",
              "      <td>1.398781</td>\n",
              "      <td>-2.531945</td>\n",
              "      <td>1.074930</td>\n",
              "      <td>1.061461</td>\n",
              "      <td>-0.129583</td>\n",
              "      <td>-0.595260</td>\n",
              "      <td>0.093931</td>\n",
              "      <td>-0.026097</td>\n",
              "      <td>0.712210</td>\n",
              "      <td>0.032872</td>\n",
              "    </tr>\n",
              "    <tr>\n",
              "      <th>5823</th>\n",
              "      <td>-1.850500</td>\n",
              "      <td>-1.107512</td>\n",
              "      <td>1.126265</td>\n",
              "      <td>1.843977</td>\n",
              "      <td>2.160867</td>\n",
              "      <td>0.324171</td>\n",
              "      <td>-0.436906</td>\n",
              "      <td>0.858086</td>\n",
              "      <td>-0.096445</td>\n",
              "      <td>0.544608</td>\n",
              "      <td>-0.931483</td>\n",
              "      <td>0.284886</td>\n",
              "      <td>-2.879143</td>\n",
              "      <td>1.052356</td>\n",
              "      <td>0.011164</td>\n",
              "      <td>-2.129925</td>\n",
              "      <td>0.513214</td>\n",
              "      <td>1.320998</td>\n",
              "      <td>0.272044</td>\n",
              "      <td>-1.639864</td>\n",
              "      <td>-0.202931</td>\n",
              "      <td>-0.169922</td>\n",
              "      <td>-0.197336</td>\n",
              "      <td>-0.109047</td>\n",
              "      <td>0.562367</td>\n",
              "      <td>0.206534</td>\n",
              "      <td>-0.142693</td>\n",
              "      <td>-0.063088</td>\n",
              "      <td>0.153919</td>\n",
              "      <td>-0.067005</td>\n",
              "    </tr>\n",
              "    <tr>\n",
              "      <th>6472</th>\n",
              "      <td>-1.820139</td>\n",
              "      <td>1.023874</td>\n",
              "      <td>2.001485</td>\n",
              "      <td>-4.769752</td>\n",
              "      <td>3.819195</td>\n",
              "      <td>-1.271754</td>\n",
              "      <td>-1.734662</td>\n",
              "      <td>-3.059245</td>\n",
              "      <td>0.889805</td>\n",
              "      <td>0.415382</td>\n",
              "      <td>-3.955812</td>\n",
              "      <td>3.572055</td>\n",
              "      <td>-7.186452</td>\n",
              "      <td>0.147242</td>\n",
              "      <td>-5.249305</td>\n",
              "      <td>1.678334</td>\n",
              "      <td>-2.641473</td>\n",
              "      <td>-1.312059</td>\n",
              "      <td>-0.391716</td>\n",
              "      <td>1.118264</td>\n",
              "      <td>0.204138</td>\n",
              "      <td>0.343283</td>\n",
              "      <td>-0.054196</td>\n",
              "      <td>0.709654</td>\n",
              "      <td>-0.372216</td>\n",
              "      <td>-2.032068</td>\n",
              "      <td>0.366778</td>\n",
              "      <td>0.395171</td>\n",
              "      <td>0.020206</td>\n",
              "      <td>-0.365348</td>\n",
              "    </tr>\n",
              "  </tbody>\n",
              "</table>\n",
              "</div>"
            ],
            "text/plain": [
              "          Time        V1        V2  ...       V27       V28    Amount\n",
              "196  -1.979811 -0.485238  0.658497  ... -0.025381 -0.118565 -0.345356\n",
              "1944 -1.951066 -1.485506  1.345714  ... -0.325921 -0.073754 -0.349258\n",
              "2684 -1.935854 -0.935095  0.858052  ...  0.389218  0.191140 -0.333209\n",
              "3782 -1.913655 -0.317367  0.256325  ...  0.189558  0.146292 -0.208473\n",
              "4922 -1.888792 -0.155718 -0.555641  ...  0.157351  0.172324  0.030459\n",
              "4977 -1.887281 -1.400193  0.744386  ...  0.111733  0.099355  0.811212\n",
              "5160 -1.879937 -1.579944  1.693708  ...  0.601539  0.216177 -0.321141\n",
              "5526 -1.865082 -5.839071  2.126458  ... -0.026097  0.712210  0.032872\n",
              "5823 -1.850500 -1.107512  1.126265  ... -0.063088  0.153919 -0.067005\n",
              "6472 -1.820139  1.023874  2.001485  ...  0.395171  0.020206 -0.365348\n",
              "\n",
              "[10 rows x 30 columns]"
            ]
          },
          "metadata": {
            "tags": []
          },
          "execution_count": 17
        }
      ]
    },
    {
      "cell_type": "code",
      "metadata": {
        "colab": {
          "base_uri": "https://localhost:8080/"
        },
        "id": "H9y6TpyInUKE",
        "outputId": "49893dbe-1494-4d8f-8801-1234f78f9a40"
      },
      "source": [
        "input_shape = (x_train.shape[1], 1)\n",
        "\n",
        "\n",
        "print(\"Shapes:\\nx_train:%s\\ny_train:%s\\n\" % (x_train.shape, y_train.shape))\n",
        "print(\"x_test:%s\\ny_test:%s\\n\" % (x_test.shape, y_test.shape))\n",
        "print(\"input_shape:{}\\n\".format(input_shape))"
      ],
      "execution_count": 18,
      "outputs": [
        {
          "output_type": "stream",
          "text": [
            "Shapes:\n",
            "x_train:(1593, 30)\n",
            "y_train:(1593,)\n",
            "\n",
            "x_test:(399, 30)\n",
            "y_test:(399,)\n",
            "\n",
            "input_shape:(30, 1)\n",
            "\n"
          ],
          "name": "stdout"
        }
      ]
    },
    {
      "cell_type": "code",
      "metadata": {
        "colab": {
          "base_uri": "https://localhost:8080/",
          "height": 226
        },
        "id": "Y5XzMnm8M0ii",
        "outputId": "5d17460c-012b-41f3-bcb5-c851d2c5f66e"
      },
      "source": [
        "x_train[:5]"
      ],
      "execution_count": 19,
      "outputs": [
        {
          "output_type": "execute_result",
          "data": {
            "text/html": [
              "<div>\n",
              "<style scoped>\n",
              "    .dataframe tbody tr th:only-of-type {\n",
              "        vertical-align: middle;\n",
              "    }\n",
              "\n",
              "    .dataframe tbody tr th {\n",
              "        vertical-align: top;\n",
              "    }\n",
              "\n",
              "    .dataframe thead th {\n",
              "        text-align: right;\n",
              "    }\n",
              "</style>\n",
              "<table border=\"1\" class=\"dataframe\">\n",
              "  <thead>\n",
              "    <tr style=\"text-align: right;\">\n",
              "      <th></th>\n",
              "      <th>Time</th>\n",
              "      <th>V1</th>\n",
              "      <th>V2</th>\n",
              "      <th>V3</th>\n",
              "      <th>V4</th>\n",
              "      <th>V5</th>\n",
              "      <th>V6</th>\n",
              "      <th>V7</th>\n",
              "      <th>V8</th>\n",
              "      <th>V9</th>\n",
              "      <th>V10</th>\n",
              "      <th>V11</th>\n",
              "      <th>V12</th>\n",
              "      <th>V13</th>\n",
              "      <th>V14</th>\n",
              "      <th>V15</th>\n",
              "      <th>V16</th>\n",
              "      <th>V17</th>\n",
              "      <th>V18</th>\n",
              "      <th>V19</th>\n",
              "      <th>V20</th>\n",
              "      <th>V21</th>\n",
              "      <th>V22</th>\n",
              "      <th>V23</th>\n",
              "      <th>V24</th>\n",
              "      <th>V25</th>\n",
              "      <th>V26</th>\n",
              "      <th>V27</th>\n",
              "      <th>V28</th>\n",
              "      <th>Amount</th>\n",
              "    </tr>\n",
              "  </thead>\n",
              "  <tbody>\n",
              "    <tr>\n",
              "      <th>229</th>\n",
              "      <td>-1.979329</td>\n",
              "      <td>-0.903628</td>\n",
              "      <td>-0.233363</td>\n",
              "      <td>2.580864</td>\n",
              "      <td>-0.990572</td>\n",
              "      <td>-0.397920</td>\n",
              "      <td>0.281755</td>\n",
              "      <td>0.238619</td>\n",
              "      <td>0.249102</td>\n",
              "      <td>0.651330</td>\n",
              "      <td>-0.881775</td>\n",
              "      <td>0.939972</td>\n",
              "      <td>0.397779</td>\n",
              "      <td>-1.494563</td>\n",
              "      <td>-0.428434</td>\n",
              "      <td>-1.307942</td>\n",
              "      <td>-0.095618</td>\n",
              "      <td>-0.080170</td>\n",
              "      <td>-0.432193</td>\n",
              "      <td>-0.336658</td>\n",
              "      <td>0.050471</td>\n",
              "      <td>-0.075017</td>\n",
              "      <td>-0.097906</td>\n",
              "      <td>0.059448</td>\n",
              "      <td>0.244548</td>\n",
              "      <td>-0.316141</td>\n",
              "      <td>0.754405</td>\n",
              "      <td>-0.166316</td>\n",
              "      <td>-0.138177</td>\n",
              "      <td>-0.082732</td>\n",
              "    </tr>\n",
              "    <tr>\n",
              "      <th>258</th>\n",
              "      <td>-1.978741</td>\n",
              "      <td>1.136752</td>\n",
              "      <td>-0.103770</td>\n",
              "      <td>0.904686</td>\n",
              "      <td>0.488211</td>\n",
              "      <td>-0.678524</td>\n",
              "      <td>0.039861</td>\n",
              "      <td>-0.581294</td>\n",
              "      <td>0.270996</td>\n",
              "      <td>0.256540</td>\n",
              "      <td>0.068092</td>\n",
              "      <td>1.445184</td>\n",
              "      <td>0.506268</td>\n",
              "      <td>-0.850215</td>\n",
              "      <td>0.464223</td>\n",
              "      <td>0.963247</td>\n",
              "      <td>0.522012</td>\n",
              "      <td>-0.463008</td>\n",
              "      <td>0.029022</td>\n",
              "      <td>-0.386661</td>\n",
              "      <td>-0.166087</td>\n",
              "      <td>-0.017527</td>\n",
              "      <td>-0.093159</td>\n",
              "      <td>0.119723</td>\n",
              "      <td>-0.000588</td>\n",
              "      <td>0.026252</td>\n",
              "      <td>0.229223</td>\n",
              "      <td>0.000201</td>\n",
              "      <td>0.010945</td>\n",
              "      <td>-0.343345</td>\n",
              "    </tr>\n",
              "    <tr>\n",
              "      <th>482</th>\n",
              "      <td>-1.975090</td>\n",
              "      <td>0.019256</td>\n",
              "      <td>0.471698</td>\n",
              "      <td>0.868060</td>\n",
              "      <td>-1.239124</td>\n",
              "      <td>0.547898</td>\n",
              "      <td>-0.502661</td>\n",
              "      <td>0.808516</td>\n",
              "      <td>-0.247667</td>\n",
              "      <td>0.130741</td>\n",
              "      <td>-0.484994</td>\n",
              "      <td>-0.702094</td>\n",
              "      <td>-0.213445</td>\n",
              "      <td>-0.048713</td>\n",
              "      <td>-0.065307</td>\n",
              "      <td>0.658810</td>\n",
              "      <td>0.168526</td>\n",
              "      <td>-0.621304</td>\n",
              "      <td>-0.690750</td>\n",
              "      <td>-0.697036</td>\n",
              "      <td>-0.107130</td>\n",
              "      <td>0.021430</td>\n",
              "      <td>0.265057</td>\n",
              "      <td>0.066608</td>\n",
              "      <td>-0.381752</td>\n",
              "      <td>-1.305171</td>\n",
              "      <td>0.646049</td>\n",
              "      <td>-0.013625</td>\n",
              "      <td>-0.011985</td>\n",
              "      <td>-0.358872</td>\n",
              "    </tr>\n",
              "    <tr>\n",
              "      <th>541</th>\n",
              "      <td>-1.974020</td>\n",
              "      <td>-2.312227</td>\n",
              "      <td>1.951992</td>\n",
              "      <td>-1.609851</td>\n",
              "      <td>3.997906</td>\n",
              "      <td>-0.522188</td>\n",
              "      <td>-1.426545</td>\n",
              "      <td>-2.537387</td>\n",
              "      <td>1.391657</td>\n",
              "      <td>-2.770089</td>\n",
              "      <td>-2.772272</td>\n",
              "      <td>3.202033</td>\n",
              "      <td>-2.899907</td>\n",
              "      <td>-0.595222</td>\n",
              "      <td>-4.289254</td>\n",
              "      <td>0.389724</td>\n",
              "      <td>-1.140747</td>\n",
              "      <td>-2.830056</td>\n",
              "      <td>-0.016822</td>\n",
              "      <td>0.416956</td>\n",
              "      <td>0.126911</td>\n",
              "      <td>0.517232</td>\n",
              "      <td>-0.035049</td>\n",
              "      <td>-0.465211</td>\n",
              "      <td>0.320198</td>\n",
              "      <td>0.044519</td>\n",
              "      <td>0.177840</td>\n",
              "      <td>0.261145</td>\n",
              "      <td>-0.143276</td>\n",
              "      <td>-0.369370</td>\n",
              "    </tr>\n",
              "    <tr>\n",
              "      <th>615</th>\n",
              "      <td>-1.972824</td>\n",
              "      <td>-0.634597</td>\n",
              "      <td>0.866354</td>\n",
              "      <td>1.123836</td>\n",
              "      <td>-0.304041</td>\n",
              "      <td>1.173910</td>\n",
              "      <td>0.257118</td>\n",
              "      <td>0.754325</td>\n",
              "      <td>0.171735</td>\n",
              "      <td>-0.825981</td>\n",
              "      <td>-0.531058</td>\n",
              "      <td>0.549389</td>\n",
              "      <td>0.598609</td>\n",
              "      <td>0.313814</td>\n",
              "      <td>0.354548</td>\n",
              "      <td>-0.156778</td>\n",
              "      <td>0.328551</td>\n",
              "      <td>-0.983933</td>\n",
              "      <td>0.235906</td>\n",
              "      <td>-0.630728</td>\n",
              "      <td>-0.105239</td>\n",
              "      <td>0.160463</td>\n",
              "      <td>0.422873</td>\n",
              "      <td>-0.353721</td>\n",
              "      <td>-0.847192</td>\n",
              "      <td>0.206896</td>\n",
              "      <td>-0.436112</td>\n",
              "      <td>0.110134</td>\n",
              "      <td>0.102261</td>\n",
              "      <td>-0.365348</td>\n",
              "    </tr>\n",
              "  </tbody>\n",
              "</table>\n",
              "</div>"
            ],
            "text/plain": [
              "         Time        V1        V2  ...       V27       V28    Amount\n",
              "229 -1.979329 -0.903628 -0.233363  ... -0.166316 -0.138177 -0.082732\n",
              "258 -1.978741  1.136752 -0.103770  ...  0.000201  0.010945 -0.343345\n",
              "482 -1.975090  0.019256  0.471698  ... -0.013625 -0.011985 -0.358872\n",
              "541 -1.974020 -2.312227  1.951992  ...  0.261145 -0.143276 -0.369370\n",
              "615 -1.972824 -0.634597  0.866354  ...  0.110134  0.102261 -0.365348\n",
              "\n",
              "[5 rows x 30 columns]"
            ]
          },
          "metadata": {
            "tags": []
          },
          "execution_count": 19
        }
      ]
    },
    {
      "cell_type": "code",
      "metadata": {
        "id": "YseNmepwxfht"
      },
      "source": [
        "def plot_learning_curve(history,epochs):\n",
        "    epoch_range=range(1,epochs+1)\n",
        "    plt.plot(epoch_range,history.history['accuracy'])\n",
        "    plt.plot(epoch_range,history.history[\"val_accuracy\"])\n",
        "    plt.title(\"Model Accuracy\")\n",
        "    plt.xlabel(\"epochs\")\n",
        "    plt.ylabel(\"accuracy\")\n",
        "    plt.legend(\"train\",\"val\",loc=\"upper left\")\n",
        "    plt.show()\n",
        "     \n",
        "    plt.plot(epoch_range,history.history['loss'])\n",
        "    plt.plot(epoch_range,history.history['val_loss'])\n",
        "    plt.title('Model loss')\n",
        "    plt.ylabel('loss')\n",
        "    plt.xlabel('epoch')\n",
        "    plt.legend(['Train','Val'],loc='upper left')\n",
        "    plt.show()"
      ],
      "execution_count": 20,
      "outputs": []
    },
    {
      "cell_type": "markdown",
      "metadata": {
        "id": "gfSPfl1zY5G1"
      },
      "source": [
        "## Deep Neural Network"
      ]
    },
    {
      "cell_type": "code",
      "metadata": {
        "id": "Qf4ikg93tH2c"
      },
      "source": [
        "DNN = Sequential()\n",
        "DNN.add(Dense(input_dim = 30, units = 16, activation = 'relu'))\n",
        "DNN.add(Dense(units = 24, activation = 'relu'))\n",
        "DNN.add(Dense(units = 20, activation = 'relu'))\n",
        "DNN.add(Dense(units = 24, activation = 'relu'))\n",
        "DNN.add(Dense(units =1, activation = 'sigmoid'))"
      ],
      "execution_count": 21,
      "outputs": []
    },
    {
      "cell_type": "code",
      "metadata": {
        "colab": {
          "base_uri": "https://localhost:8080/"
        },
        "id": "nG8RoQoTqcsc",
        "outputId": "56c78223-7637-42de-e7a3-500400fc60b9"
      },
      "source": [
        "DNN.summary()"
      ],
      "execution_count": 22,
      "outputs": [
        {
          "output_type": "stream",
          "text": [
            "Model: \"sequential\"\n",
            "_________________________________________________________________\n",
            "Layer (type)                 Output Shape              Param #   \n",
            "=================================================================\n",
            "dense (Dense)                (None, 16)                496       \n",
            "_________________________________________________________________\n",
            "dense_1 (Dense)              (None, 24)                408       \n",
            "_________________________________________________________________\n",
            "dense_2 (Dense)              (None, 20)                500       \n",
            "_________________________________________________________________\n",
            "dense_3 (Dense)              (None, 24)                504       \n",
            "_________________________________________________________________\n",
            "dense_4 (Dense)              (None, 1)                 25        \n",
            "=================================================================\n",
            "Total params: 1,933\n",
            "Trainable params: 1,933\n",
            "Non-trainable params: 0\n",
            "_________________________________________________________________\n"
          ],
          "name": "stdout"
        }
      ]
    },
    {
      "cell_type": "code",
      "metadata": {
        "colab": {
          "base_uri": "https://localhost:8080/"
        },
        "id": "KkS-4ebutYLJ",
        "outputId": "23f799f4-1c83-4280-fc63-02963cc01b0a"
      },
      "source": [
        "DNN.compile(optimizer = 'adam', loss = 'binary_crossentropy', metrics = ['accuracy'])\n",
        "history = DNN.fit(x_train, y_train, epochs = 25, validation_data = (x_test,y_test),verbose=1)"
      ],
      "execution_count": 23,
      "outputs": [
        {
          "output_type": "stream",
          "text": [
            "Epoch 1/25\n",
            "50/50 [==============================] - 14s 14ms/step - loss: 0.6084 - accuracy: 0.7274 - val_loss: 0.3677 - val_accuracy: 0.9674\n",
            "Epoch 2/25\n",
            "50/50 [==============================] - 0s 3ms/step - loss: 0.3116 - accuracy: 0.9415 - val_loss: 0.1324 - val_accuracy: 0.9699\n",
            "Epoch 3/25\n",
            "50/50 [==============================] - 0s 2ms/step - loss: 0.1348 - accuracy: 0.9672 - val_loss: 0.1121 - val_accuracy: 0.9674\n",
            "Epoch 4/25\n",
            "50/50 [==============================] - 0s 3ms/step - loss: 0.1150 - accuracy: 0.9619 - val_loss: 0.1104 - val_accuracy: 0.9674\n",
            "Epoch 5/25\n",
            "50/50 [==============================] - 0s 3ms/step - loss: 0.0975 - accuracy: 0.9640 - val_loss: 0.1100 - val_accuracy: 0.9674\n",
            "Epoch 6/25\n",
            "50/50 [==============================] - 0s 2ms/step - loss: 0.0995 - accuracy: 0.9664 - val_loss: 0.1069 - val_accuracy: 0.9674\n",
            "Epoch 7/25\n",
            "50/50 [==============================] - 0s 3ms/step - loss: 0.1032 - accuracy: 0.9613 - val_loss: 0.1138 - val_accuracy: 0.9624\n",
            "Epoch 8/25\n",
            "50/50 [==============================] - 0s 2ms/step - loss: 0.0903 - accuracy: 0.9704 - val_loss: 0.1090 - val_accuracy: 0.9674\n",
            "Epoch 9/25\n",
            "50/50 [==============================] - 0s 2ms/step - loss: 0.0838 - accuracy: 0.9684 - val_loss: 0.1098 - val_accuracy: 0.9674\n",
            "Epoch 10/25\n",
            "50/50 [==============================] - 0s 3ms/step - loss: 0.0775 - accuracy: 0.9740 - val_loss: 0.1076 - val_accuracy: 0.9674\n",
            "Epoch 11/25\n",
            "50/50 [==============================] - 0s 3ms/step - loss: 0.0792 - accuracy: 0.9710 - val_loss: 0.1092 - val_accuracy: 0.9699\n",
            "Epoch 12/25\n",
            "50/50 [==============================] - 0s 2ms/step - loss: 0.0672 - accuracy: 0.9763 - val_loss: 0.1130 - val_accuracy: 0.9674\n",
            "Epoch 13/25\n",
            "50/50 [==============================] - 0s 2ms/step - loss: 0.0623 - accuracy: 0.9748 - val_loss: 0.1128 - val_accuracy: 0.9674\n",
            "Epoch 14/25\n",
            "50/50 [==============================] - 0s 2ms/step - loss: 0.0670 - accuracy: 0.9790 - val_loss: 0.1126 - val_accuracy: 0.9699\n",
            "Epoch 15/25\n",
            "50/50 [==============================] - 0s 3ms/step - loss: 0.0639 - accuracy: 0.9784 - val_loss: 0.1145 - val_accuracy: 0.9699\n",
            "Epoch 16/25\n",
            "50/50 [==============================] - 0s 2ms/step - loss: 0.0550 - accuracy: 0.9825 - val_loss: 0.1172 - val_accuracy: 0.9699\n",
            "Epoch 17/25\n",
            "50/50 [==============================] - 0s 2ms/step - loss: 0.0508 - accuracy: 0.9785 - val_loss: 0.1186 - val_accuracy: 0.9674\n",
            "Epoch 18/25\n",
            "50/50 [==============================] - 0s 3ms/step - loss: 0.0550 - accuracy: 0.9793 - val_loss: 0.1228 - val_accuracy: 0.9624\n",
            "Epoch 19/25\n",
            "50/50 [==============================] - 0s 3ms/step - loss: 0.0506 - accuracy: 0.9803 - val_loss: 0.1158 - val_accuracy: 0.9649\n",
            "Epoch 20/25\n",
            "50/50 [==============================] - 0s 3ms/step - loss: 0.0511 - accuracy: 0.9772 - val_loss: 0.1232 - val_accuracy: 0.9724\n",
            "Epoch 21/25\n",
            "50/50 [==============================] - 0s 2ms/step - loss: 0.0588 - accuracy: 0.9735 - val_loss: 0.1245 - val_accuracy: 0.9649\n",
            "Epoch 22/25\n",
            "50/50 [==============================] - 0s 3ms/step - loss: 0.0561 - accuracy: 0.9768 - val_loss: 0.1395 - val_accuracy: 0.9549\n",
            "Epoch 23/25\n",
            "50/50 [==============================] - 0s 3ms/step - loss: 0.0365 - accuracy: 0.9884 - val_loss: 0.1425 - val_accuracy: 0.9524\n",
            "Epoch 24/25\n",
            "50/50 [==============================] - 0s 2ms/step - loss: 0.0386 - accuracy: 0.9890 - val_loss: 0.1410 - val_accuracy: 0.9574\n",
            "Epoch 25/25\n",
            "50/50 [==============================] - 0s 2ms/step - loss: 0.0330 - accuracy: 0.9897 - val_loss: 0.1471 - val_accuracy: 0.9524\n"
          ],
          "name": "stdout"
        }
      ]
    },
    {
      "cell_type": "code",
      "metadata": {
        "colab": {
          "base_uri": "https://localhost:8080/",
          "height": 793
        },
        "id": "DTGS_1m57C1G",
        "outputId": "24a14ebc-f4d8-4e75-9304-a0d0f2dc46dc"
      },
      "source": [
        "plot_learning_curve(history, 25)"
      ],
      "execution_count": 24,
      "outputs": [
        {
          "output_type": "stream",
          "text": [
            "/usr/local/lib/python3.7/dist-packages/ipykernel_launcher.py:8: UserWarning: Legend does not support 't' instances.\n",
            "A proxy artist may be used instead.\n",
            "See: http://matplotlib.org/users/legend_guide.html#creating-artists-specifically-for-adding-to-the-legend-aka-proxy-artists\n",
            "  \n",
            "/usr/local/lib/python3.7/dist-packages/ipykernel_launcher.py:8: UserWarning: Legend does not support 'r' instances.\n",
            "A proxy artist may be used instead.\n",
            "See: http://matplotlib.org/users/legend_guide.html#creating-artists-specifically-for-adding-to-the-legend-aka-proxy-artists\n",
            "  \n",
            "/usr/local/lib/python3.7/dist-packages/ipykernel_launcher.py:8: UserWarning: Legend does not support 'a' instances.\n",
            "A proxy artist may be used instead.\n",
            "See: http://matplotlib.org/users/legend_guide.html#creating-artists-specifically-for-adding-to-the-legend-aka-proxy-artists\n",
            "  \n"
          ],
          "name": "stderr"
        },
        {
          "output_type": "display_data",
          "data": {
            "image/png": "[encoded data removed]",
            "text/plain": [
              "<Figure size 432x288 with 1 Axes>"
            ]
          },
          "metadata": {
            "tags": [],
            "needs_background": "light"
          }
        },
        {
          "output_type": "display_data",
          "data": {
            "image/png": "[encoded data removed]",
            "text/plain": [
              "<Figure size 432x288 with 1 Axes>"
            ]
          },
          "metadata": {
            "tags": [],
            "needs_background": "light"
          }
        }
      ]
    },
    {
      "cell_type": "code",
      "metadata": {
        "colab": {
          "base_uri": "https://localhost:8080/"
        },
        "id": "BjOGh4Bkt__K",
        "outputId": "a2009223-18ee-4268-f0b6-868eef53a926"
      },
      "source": [
        "score = DNN.evaluate(x_test, y_test)"
      ],
      "execution_count": 25,
      "outputs": [
        {
          "output_type": "stream",
          "text": [
            "13/13 [==============================] - 0s 1ms/step - loss: 0.1471 - accuracy: 0.9524\n"
          ],
          "name": "stdout"
        }
      ]
    },
    {
      "cell_type": "code",
      "metadata": {
        "id": "DXUZHbnCupTy"
      },
      "source": [
        "y_pred = DNN.predict(x_test)\n",
        "cm = confusion_matrix(y_test, y_pred.round())"
      ],
      "execution_count": 26,
      "outputs": []
    },
    {
      "cell_type": "code",
      "metadata": {
        "colab": {
          "base_uri": "https://localhost:8080/"
        },
        "id": "3Tc8SX4Z24MV",
        "outputId": "5a578397-c7e1-4a34-a67e-2da9af8903ef"
      },
      "source": [
        "print(classification_report(y_test, y_pred.round()))"
      ],
      "execution_count": 27,
      "outputs": [
        {
          "output_type": "stream",
          "text": [
            "              precision    recall  f1-score   support\n",
            "\n",
            "           0       0.97      0.96      0.97       303\n",
            "           1       0.89      0.92      0.90        96\n",
            "\n",
            "    accuracy                           0.95       399\n",
            "   macro avg       0.93      0.94      0.94       399\n",
            "weighted avg       0.95      0.95      0.95       399\n",
            "\n"
          ],
          "name": "stdout"
        }
      ]
    },
    {
      "cell_type": "code",
      "metadata": {
        "colab": {
          "base_uri": "https://localhost:8080/",
          "height": 350
        },
        "id": "1jWIAjadu4a5",
        "outputId": "08e73335-309a-4c8b-f496-fc117b3e5954"
      },
      "source": [
        "labels = [\"Fraud\", \"Normal\"]\n",
        "\n",
        "matrix = np.flip(cm)\n",
        "\n",
        "plt.figure(figsize=(5, 5))\n",
        "sns.heatmap(matrix, xticklabels=labels, yticklabels=labels,  annot=True, fmt=\"d\", cbar=False)\n",
        "plt.title(\"Confusion Matrix\")\n",
        "plt.ylabel('Actual')\n",
        "plt.xlabel('Predicted')\n",
        "plt.show()"
      ],
      "execution_count": 28,
      "outputs": [
        {
          "output_type": "display_data",
          "data": {
            "image/png": "[encoded data removed]",
            "text/plain": [
              "<Figure size 360x360 with 1 Axes>"
            ]
          },
          "metadata": {
            "tags": [],
            "needs_background": "light"
          }
        }
      ]
    },
    {
      "cell_type": "markdown",
      "metadata": {
        "id": "zcFmzjTkY-mm"
      },
      "source": [
        "## Convolutional Neural Network"
      ]
    },
    {
      "cell_type": "code",
      "metadata": {
        "colab": {
          "base_uri": "https://localhost:8080/"
        },
        "id": "qAmFi0gy4Va9",
        "outputId": "130889b5-0838-4fdf-fac0-155b40f826a7"
      },
      "source": [
        "x_train = np.array(x_train).reshape(x_train.shape[0], x_train.shape[1], 1)\n",
        "x_test = np.array(x_test).reshape(x_test.shape[0], x_test.shape[1], 1)\n",
        "input_shape = (x_train.shape[1], 1)\n",
        "\n",
        "print(\"Shapes:\\nx_train:%s\\ny_train:%s\\n\" % (x_train.shape, y_train.shape))\n",
        "print(\"x_test:%s\\ny_test:%s\\n\" % (x_test.shape, y_test.shape))\n",
        "print(\"input_shape:{}\\n\".format(input_shape))"
      ],
      "execution_count": 29,
      "outputs": [
        {
          "output_type": "stream",
          "text": [
            "Shapes:\n",
            "x_train:(1593, 30, 1)\n",
            "y_train:(1593,)\n",
            "\n",
            "x_test:(399, 30, 1)\n",
            "y_test:(399,)\n",
            "\n",
            "input_shape:(30, 1)\n",
            "\n"
          ],
          "name": "stdout"
        }
      ]
    },
    {
      "cell_type": "code",
      "metadata": {
        "colab": {
          "base_uri": "https://localhost:8080/"
        },
        "id": "k8eM6nG5-X8A",
        "outputId": "6df8973a-ba48-4408-b854-ada2f3a90a96"
      },
      "source": [
        "x_train[:5]"
      ],
      "execution_count": 30,
      "outputs": [
        {
          "output_type": "execute_result",
          "data": {
            "text/plain": [
              "array([[[-1.97932880e+00],\n",
              "        [-9.03628224e-01],\n",
              "        [-2.33362598e-01],\n",
              "        [ 2.58086353e+00],\n",
              "        [-9.90572327e-01],\n",
              "        [-3.97920255e-01],\n",
              "        [ 2.81755037e-01],\n",
              "        [ 2.38618916e-01],\n",
              "        [ 2.49101589e-01],\n",
              "        [ 6.51330368e-01],\n",
              "        [-8.81774861e-01],\n",
              "        [ 9.39971814e-01],\n",
              "        [ 3.97778746e-01],\n",
              "        [-1.49456263e+00],\n",
              "        [-4.28434388e-01],\n",
              "        [-1.30794235e+00],\n",
              "        [-9.56183594e-02],\n",
              "        [-8.01697746e-02],\n",
              "        [-4.32193307e-01],\n",
              "        [-3.36658276e-01],\n",
              "        [ 5.04711871e-02],\n",
              "        [-7.50174594e-02],\n",
              "        [-9.79062674e-02],\n",
              "        [ 5.94478702e-02],\n",
              "        [ 2.44547634e-01],\n",
              "        [-3.16141151e-01],\n",
              "        [ 7.54404530e-01],\n",
              "        [-1.66315609e-01],\n",
              "        [-1.38177096e-01],\n",
              "        [-8.27323090e-02]],\n",
              "\n",
              "       [[-1.97874131e+00],\n",
              "        [ 1.13675205e+00],\n",
              "        [-1.03769567e-01],\n",
              "        [ 9.04686444e-01],\n",
              "        [ 4.88210755e-01],\n",
              "        [-6.78523515e-01],\n",
              "        [ 3.98607288e-02],\n",
              "        [-5.81293921e-01],\n",
              "        [ 2.70996198e-01],\n",
              "        [ 2.56539561e-01],\n",
              "        [ 6.80916931e-02],\n",
              "        [ 1.44518366e+00],\n",
              "        [ 5.06268152e-01],\n",
              "        [-8.50214520e-01],\n",
              "        [ 4.64222960e-01],\n",
              "        [ 9.63247298e-01],\n",
              "        [ 5.22011841e-01],\n",
              "        [-4.63008422e-01],\n",
              "        [ 2.90218231e-02],\n",
              "        [-3.86661217e-01],\n",
              "        [-1.66087120e-01],\n",
              "        [-1.75269133e-02],\n",
              "        [-9.31591658e-02],\n",
              "        [ 1.19722965e-01],\n",
              "        [-5.88012209e-04],\n",
              "        [ 2.62521922e-02],\n",
              "        [ 2.29223266e-01],\n",
              "        [ 2.01188153e-04],\n",
              "        [ 1.09449634e-02],\n",
              "        [-3.43345255e-01]],\n",
              "\n",
              "       [[-1.97509045e+00],\n",
              "        [ 1.92558115e-02],\n",
              "        [ 4.71698112e-01],\n",
              "        [ 8.68060279e-01],\n",
              "        [-1.23912416e+00],\n",
              "        [ 5.47897880e-01],\n",
              "        [-5.02661073e-01],\n",
              "        [ 8.08516316e-01],\n",
              "        [-2.47667131e-01],\n",
              "        [ 1.30741129e-01],\n",
              "        [-4.84993915e-01],\n",
              "        [-7.02094465e-01],\n",
              "        [-2.13445399e-01],\n",
              "        [-4.87133367e-02],\n",
              "        [-6.53069918e-02],\n",
              "        [ 6.58810334e-01],\n",
              "        [ 1.68525657e-01],\n",
              "        [-6.21303531e-01],\n",
              "        [-6.90750497e-01],\n",
              "        [-6.97036043e-01],\n",
              "        [-1.07129889e-01],\n",
              "        [ 2.14296481e-02],\n",
              "        [ 2.65056733e-01],\n",
              "        [ 6.66076304e-02],\n",
              "        [-3.81752337e-01],\n",
              "        [-1.30517056e+00],\n",
              "        [ 6.46049380e-01],\n",
              "        [-1.36249438e-02],\n",
              "        [-1.19848055e-02],\n",
              "        [-3.58871818e-01]],\n",
              "\n",
              "       [[-1.97402038e+00],\n",
              "        [-2.31222654e+00],\n",
              "        [ 1.95199201e+00],\n",
              "        [-1.60985073e+00],\n",
              "        [ 3.99790559e+00],\n",
              "        [-5.22187865e-01],\n",
              "        [-1.42654532e+00],\n",
              "        [-2.53738731e+00],\n",
              "        [ 1.39165725e+00],\n",
              "        [-2.77008928e+00],\n",
              "        [-2.77227214e+00],\n",
              "        [ 3.20203321e+00],\n",
              "        [-2.89990739e+00],\n",
              "        [-5.95221881e-01],\n",
              "        [-4.28925378e+00],\n",
              "        [ 3.89724120e-01],\n",
              "        [-1.14074718e+00],\n",
              "        [-2.83005567e+00],\n",
              "        [-1.68224682e-02],\n",
              "        [ 4.16955705e-01],\n",
              "        [ 1.26910559e-01],\n",
              "        [ 5.17232371e-01],\n",
              "        [-3.50493686e-02],\n",
              "        [-4.65211076e-01],\n",
              "        [ 3.20198199e-01],\n",
              "        [ 4.45191675e-02],\n",
              "        [ 1.77839798e-01],\n",
              "        [ 2.61145003e-01],\n",
              "        [-1.43275875e-01],\n",
              "        [-3.69370348e-01]],\n",
              "\n",
              "       [[-1.97282441e+00],\n",
              "        [-6.34596978e-01],\n",
              "        [ 8.66354365e-01],\n",
              "        [ 1.12383603e+00],\n",
              "        [-3.04041138e-01],\n",
              "        [ 1.17391035e+00],\n",
              "        [ 2.57117549e-01],\n",
              "        [ 7.54324791e-01],\n",
              "        [ 1.71735204e-01],\n",
              "        [-8.25981000e-01],\n",
              "        [-5.31057505e-01],\n",
              "        [ 5.49388754e-01],\n",
              "        [ 5.98608608e-01],\n",
              "        [ 3.13813741e-01],\n",
              "        [ 3.54547923e-01],\n",
              "        [-1.56778172e-01],\n",
              "        [ 3.28550852e-01],\n",
              "        [-9.83932654e-01],\n",
              "        [ 2.35905880e-01],\n",
              "        [-6.30727658e-01],\n",
              "        [-1.05239310e-01],\n",
              "        [ 1.60462973e-01],\n",
              "        [ 4.22873291e-01],\n",
              "        [-3.53720811e-01],\n",
              "        [-8.47192435e-01],\n",
              "        [ 2.06896351e-01],\n",
              "        [-4.36112266e-01],\n",
              "        [ 1.10134095e-01],\n",
              "        [ 1.02260716e-01],\n",
              "        [-3.65347923e-01]]])"
            ]
          },
          "metadata": {
            "tags": []
          },
          "execution_count": 30
        }
      ]
    },
    {
      "cell_type": "code",
      "metadata": {
        "id": "acKzfHbrY8er"
      },
      "source": [
        "CNN=Sequential()\n",
        "\n",
        "CNN.add(Conv1D(filters=32, kernel_size=2, activation='relu',input_shape=x_train[0].shape))\n",
        "CNN.add(BatchNormalization())\n",
        "CNN.add(MaxPool1D(pool_size=2))\n",
        "CNN.add(Dropout(rate=0.2))\n",
        "\n",
        "CNN.add(Conv1D(64,2,activation='relu'))\n",
        "CNN.add(BatchNormalization())\n",
        "CNN.add(MaxPool1D(pool_size=2))\n",
        "CNN.add(Dropout(rate=0.5))\n",
        "\n",
        "\n",
        "#flattening layer\n",
        "CNN.add(Flatten())\n",
        "CNN.add(Dense(64,activation=\"relu\"))\n",
        "CNN.add(Dropout(rate=0.5))\n",
        "\n",
        "#final layer\n",
        "CNN.add(Dense(units=1,activation=\"sigmoid\"))"
      ],
      "execution_count": 31,
      "outputs": []
    },
    {
      "cell_type": "code",
      "metadata": {
        "id": "Iupg1H77ZBbd",
        "colab": {
          "base_uri": "https://localhost:8080/"
        },
        "outputId": "8513ffe5-dfd0-4092-815b-9e050fe1f685"
      },
      "source": [
        "CNN.summary()"
      ],
      "execution_count": 32,
      "outputs": [
        {
          "output_type": "stream",
          "text": [
            "Model: \"sequential_1\"\n",
            "_________________________________________________________________\n",
            "Layer (type)                 Output Shape              Param #   \n",
            "=================================================================\n",
            "conv1d (Conv1D)              (None, 29, 32)            96        \n",
            "_________________________________________________________________\n",
            "batch_normalization (BatchNo (None, 29, 32)            128       \n",
            "_________________________________________________________________\n",
            "max_pooling1d (MaxPooling1D) (None, 14, 32)            0         \n",
            "_________________________________________________________________\n",
            "dropout (Dropout)            (None, 14, 32)            0         \n",
            "_________________________________________________________________\n",
            "conv1d_1 (Conv1D)            (None, 13, 64)            4160      \n",
            "_________________________________________________________________\n",
            "batch_normalization_1 (Batch (None, 13, 64)            256       \n",
            "_________________________________________________________________\n",
            "max_pooling1d_1 (MaxPooling1 (None, 6, 64)             0         \n",
            "_________________________________________________________________\n",
            "dropout_1 (Dropout)          (None, 6, 64)             0         \n",
            "_________________________________________________________________\n",
            "flatten (Flatten)            (None, 384)               0         \n",
            "_________________________________________________________________\n",
            "dense_5 (Dense)              (None, 64)                24640     \n",
            "_________________________________________________________________\n",
            "dropout_2 (Dropout)          (None, 64)                0         \n",
            "_________________________________________________________________\n",
            "dense_6 (Dense)              (None, 1)                 65        \n",
            "=================================================================\n",
            "Total params: 29,345\n",
            "Trainable params: 29,153\n",
            "Non-trainable params: 192\n",
            "_________________________________________________________________\n"
          ],
          "name": "stdout"
        }
      ]
    },
    {
      "cell_type": "code",
      "metadata": {
        "id": "UqbQHw2LZFar",
        "outputId": "bda55d36-cbd2-4832-fe1e-cbddf30abf88",
        "colab": {
          "base_uri": "https://localhost:8080/"
        }
      },
      "source": [
        "CNN.compile(optimizer=Adam(lr=0.001),loss='binary_crossentropy',metrics=['accuracy'])"
      ],
      "execution_count": 33,
      "outputs": [
        {
          "output_type": "stream",
          "text": [
            "/usr/local/lib/python3.7/dist-packages/tensorflow/python/keras/optimizer_v2/optimizer_v2.py:375: UserWarning: The `lr` argument is deprecated, use `learning_rate` instead.\n",
            "  \"The `lr` argument is deprecated, use `learning_rate` instead.\")\n"
          ],
          "name": "stderr"
        }
      ]
    },
    {
      "cell_type": "code",
      "metadata": {
        "id": "oN-zOL7WZKNc",
        "colab": {
          "base_uri": "https://localhost:8080/"
        },
        "outputId": "27483f60-51a8-4293-a094-c8875366cdb0"
      },
      "source": [
        "history =CNN.fit(x_train,y_train,epochs=25, validation_data = (x_test,y_test),verbose=1)"
      ],
      "execution_count": 34,
      "outputs": [
        {
          "output_type": "stream",
          "text": [
            "Epoch 1/25\n",
            "50/50 [==============================] - 6s 18ms/step - loss: 0.5924 - accuracy: 0.7698 - val_loss: 0.4364 - val_accuracy: 0.8471\n",
            "Epoch 2/25\n",
            "50/50 [==============================] - 0s 7ms/step - loss: 0.2204 - accuracy: 0.9339 - val_loss: 0.2358 - val_accuracy: 0.9499\n",
            "Epoch 3/25\n",
            "50/50 [==============================] - 0s 7ms/step - loss: 0.1998 - accuracy: 0.9448 - val_loss: 0.1709 - val_accuracy: 0.9599\n",
            "Epoch 4/25\n",
            "50/50 [==============================] - 0s 7ms/step - loss: 0.2328 - accuracy: 0.9320 - val_loss: 0.1405 - val_accuracy: 0.9649\n",
            "Epoch 5/25\n",
            "50/50 [==============================] - 0s 7ms/step - loss: 0.1507 - accuracy: 0.9455 - val_loss: 0.1279 - val_accuracy: 0.9624\n",
            "Epoch 6/25\n",
            "50/50 [==============================] - 0s 7ms/step - loss: 0.1448 - accuracy: 0.9552 - val_loss: 0.1235 - val_accuracy: 0.9649\n",
            "Epoch 7/25\n",
            "50/50 [==============================] - 0s 7ms/step - loss: 0.1679 - accuracy: 0.9455 - val_loss: 0.1195 - val_accuracy: 0.9649\n",
            "Epoch 8/25\n",
            "50/50 [==============================] - 0s 8ms/step - loss: 0.1443 - accuracy: 0.9577 - val_loss: 0.1169 - val_accuracy: 0.9649\n",
            "Epoch 9/25\n",
            "50/50 [==============================] - 0s 7ms/step - loss: 0.1546 - accuracy: 0.9503 - val_loss: 0.1194 - val_accuracy: 0.9649\n",
            "Epoch 10/25\n",
            "50/50 [==============================] - 0s 7ms/step - loss: 0.1412 - accuracy: 0.9589 - val_loss: 0.1202 - val_accuracy: 0.9649\n",
            "Epoch 11/25\n",
            "50/50 [==============================] - 0s 8ms/step - loss: 0.1537 - accuracy: 0.9521 - val_loss: 0.1194 - val_accuracy: 0.9649\n",
            "Epoch 12/25\n",
            "50/50 [==============================] - 0s 7ms/step - loss: 0.1652 - accuracy: 0.9450 - val_loss: 0.1245 - val_accuracy: 0.9674\n",
            "Epoch 13/25\n",
            "50/50 [==============================] - 0s 8ms/step - loss: 0.1445 - accuracy: 0.9510 - val_loss: 0.1225 - val_accuracy: 0.9699\n",
            "Epoch 14/25\n",
            "50/50 [==============================] - 0s 7ms/step - loss: 0.1498 - accuracy: 0.9527 - val_loss: 0.1270 - val_accuracy: 0.9724\n",
            "Epoch 15/25\n",
            "50/50 [==============================] - 0s 8ms/step - loss: 0.1160 - accuracy: 0.9704 - val_loss: 0.1252 - val_accuracy: 0.9699\n",
            "Epoch 16/25\n",
            "50/50 [==============================] - 0s 8ms/step - loss: 0.1519 - accuracy: 0.9531 - val_loss: 0.1234 - val_accuracy: 0.9699\n",
            "Epoch 17/25\n",
            "50/50 [==============================] - 0s 7ms/step - loss: 0.0971 - accuracy: 0.9707 - val_loss: 0.1226 - val_accuracy: 0.9699\n",
            "Epoch 18/25\n",
            "50/50 [==============================] - 0s 7ms/step - loss: 0.1535 - accuracy: 0.9451 - val_loss: 0.1231 - val_accuracy: 0.9674\n",
            "Epoch 19/25\n",
            "50/50 [==============================] - 0s 7ms/step - loss: 0.1366 - accuracy: 0.9447 - val_loss: 0.1229 - val_accuracy: 0.9699\n",
            "Epoch 20/25\n",
            "50/50 [==============================] - 0s 7ms/step - loss: 0.1361 - accuracy: 0.9471 - val_loss: 0.1226 - val_accuracy: 0.9724\n",
            "Epoch 21/25\n",
            "50/50 [==============================] - 0s 7ms/step - loss: 0.1194 - accuracy: 0.9522 - val_loss: 0.1244 - val_accuracy: 0.9674\n",
            "Epoch 22/25\n",
            "50/50 [==============================] - 0s 7ms/step - loss: 0.1350 - accuracy: 0.9545 - val_loss: 0.1227 - val_accuracy: 0.9699\n",
            "Epoch 23/25\n",
            "50/50 [==============================] - 0s 7ms/step - loss: 0.1033 - accuracy: 0.9651 - val_loss: 0.1218 - val_accuracy: 0.9674\n",
            "Epoch 24/25\n",
            "50/50 [==============================] - 0s 8ms/step - loss: 0.1156 - accuracy: 0.9602 - val_loss: 0.1172 - val_accuracy: 0.9724\n",
            "Epoch 25/25\n",
            "50/50 [==============================] - 0s 7ms/step - loss: 0.1245 - accuracy: 0.9624 - val_loss: 0.1178 - val_accuracy: 0.9724\n"
          ],
          "name": "stdout"
        }
      ]
    },
    {
      "cell_type": "code",
      "metadata": {
        "id": "cUkZRPiWxlWo",
        "colab": {
          "base_uri": "https://localhost:8080/",
          "height": 793
        },
        "outputId": "4df5d0b5-551b-4227-e5e6-bfe1204251de"
      },
      "source": [
        "plot_learning_curve(history, 25)"
      ],
      "execution_count": 35,
      "outputs": [
        {
          "output_type": "stream",
          "text": [
            "/usr/local/lib/python3.7/dist-packages/ipykernel_launcher.py:8: UserWarning: Legend does not support 't' instances.\n",
            "A proxy artist may be used instead.\n",
            "See: http://matplotlib.org/users/legend_guide.html#creating-artists-specifically-for-adding-to-the-legend-aka-proxy-artists\n",
            "  \n",
            "/usr/local/lib/python3.7/dist-packages/ipykernel_launcher.py:8: UserWarning: Legend does not support 'r' instances.\n",
            "A proxy artist may be used instead.\n",
            "See: http://matplotlib.org/users/legend_guide.html#creating-artists-specifically-for-adding-to-the-legend-aka-proxy-artists\n",
            "  \n",
            "/usr/local/lib/python3.7/dist-packages/ipykernel_launcher.py:8: UserWarning: Legend does not support 'a' instances.\n",
            "A proxy artist may be used instead.\n",
            "See: http://matplotlib.org/users/legend_guide.html#creating-artists-specifically-for-adding-to-the-legend-aka-proxy-artists\n",
            "  \n"
          ],
          "name": "stderr"
        },
        {
          "output_type": "display_data",
          "data": {
            "image/png": "[encoded data removed]",
            "text/plain": [
              "<Figure size 432x288 with 1 Axes>"
            ]
          },
          "metadata": {
            "tags": [],
            "needs_background": "light"
          }
        },
        {
          "output_type": "display_data",
          "data": {
            "image/png": "[encoded data removed]",
            "text/plain": [
              "<Figure size 432x288 with 1 Axes>"
            ]
          },
          "metadata": {
            "tags": [],
            "needs_background": "light"
          }
        }
      ]
    },
    {
      "cell_type": "code",
      "metadata": {
        "id": "s0WRNA-mxo0_",
        "colab": {
          "base_uri": "https://localhost:8080/"
        },
        "outputId": "ace21585-1b92-423e-ef18-98cf697fa666"
      },
      "source": [
        "final_acc = CNN.evaluate(x_train,y_train, verbose=0)\n",
        "print('Test loss:', final_acc[0])\n",
        "print('Test accuracy:', final_acc[1])"
      ],
      "execution_count": 36,
      "outputs": [
        {
          "output_type": "stream",
          "text": [
            "Test loss: 0.08500077575445175\n",
            "Test accuracy: 0.9661017060279846\n"
          ],
          "name": "stdout"
        }
      ]
    },
    {
      "cell_type": "code",
      "metadata": {
        "colab": {
          "base_uri": "https://localhost:8080/"
        },
        "id": "KdW7JL6q5Glu",
        "outputId": "22d77313-34f1-4830-a698-c432cd0049e2"
      },
      "source": [
        "print(classification_report(y_test, y_pred.round()))"
      ],
      "execution_count": 37,
      "outputs": [
        {
          "output_type": "stream",
          "text": [
            "              precision    recall  f1-score   support\n",
            "\n",
            "           0       0.97      0.96      0.97       303\n",
            "           1       0.89      0.92      0.90        96\n",
            "\n",
            "    accuracy                           0.95       399\n",
            "   macro avg       0.93      0.94      0.94       399\n",
            "weighted avg       0.95      0.95      0.95       399\n",
            "\n"
          ],
          "name": "stdout"
        }
      ]
    },
    {
      "cell_type": "code",
      "metadata": {
        "id": "KOywukVc5MIO"
      },
      "source": [
        "y_pred = CNN.predict(x_test)\n",
        "cm = confusion_matrix(y_test, y_pred.round())"
      ],
      "execution_count": 38,
      "outputs": []
    },
    {
      "cell_type": "code",
      "metadata": {
        "id": "LDQ-kYbQxuNb",
        "colab": {
          "base_uri": "https://localhost:8080/"
        },
        "outputId": "bb3c6dfa-e140-4df8-d952-787d156e0cfd"
      },
      "source": [
        "print(classification_report(y_test, y_pred.round()))"
      ],
      "execution_count": 39,
      "outputs": [
        {
          "output_type": "stream",
          "text": [
            "              precision    recall  f1-score   support\n",
            "\n",
            "           0       0.97      1.00      0.98       303\n",
            "           1       0.99      0.90      0.94        96\n",
            "\n",
            "    accuracy                           0.97       399\n",
            "   macro avg       0.98      0.95      0.96       399\n",
            "weighted avg       0.97      0.97      0.97       399\n",
            "\n"
          ],
          "name": "stdout"
        }
      ]
    },
    {
      "cell_type": "code",
      "metadata": {
        "colab": {
          "base_uri": "https://localhost:8080/",
          "height": 350
        },
        "id": "ArX0yfs15SgH",
        "outputId": "7811e34c-fe84-4f34-f145-620b1f15dd87"
      },
      "source": [
        "labels = [\"Fraud\", \"Normal\"]\n",
        "\n",
        "matrix = np.flip(cm)\n",
        "\n",
        "plt.figure(figsize=(5, 5))\n",
        "sns.heatmap(matrix, xticklabels=labels, yticklabels=labels,  annot=True, fmt=\"d\", cbar=False)\n",
        "plt.title(\"Confusion Matrix\")\n",
        "plt.ylabel('Actual')\n",
        "plt.xlabel('Predicted')\n",
        "plt.show()"
      ],
      "execution_count": 40,
      "outputs": [
        {
          "output_type": "display_data",
          "data": {
            "image/png": "[encoded data removed]",
            "text/plain": [
              "<Figure size 360x360 with 1 Axes>"
            ]
          },
          "metadata": {
            "tags": [],
            "needs_background": "light"
          }
        }
      ]
    },
    {
      "cell_type": "code",
      "metadata": {
        "id": "VHsQJGhpHSYt"
      },
      "source": [
        ""
      ],
      "execution_count": null,
      "outputs": []
    }
  ]
}