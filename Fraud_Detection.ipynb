{
  "nbformat": 4,
  "nbformat_minor": 0,
  "metadata": {
    "colab": {
      "name": "Fraud_Detection.ipynb",
      "provenance": [],
      "collapsed_sections": [],
      "mount_file_id": "https://github.com/ldselvera/Fraud_Detection_Deep_Learning/blob/main/Fraud_Detection.ipynb",
      "authorship_tag": "ABX9TyMquKxyBqtB9hQ6SUOPAPSa",
      "include_colab_link": true
    },
    "kernelspec": {
      "name": "python3",
      "display_name": "Python 3"
    }
  },
  "cells": [
    {
      "cell_type": "markdown",
      "metadata": {
        "id": "view-in-github",
        "colab_type": "text"
      },
      "source": [
        "<a href=\"https://colab.research.google.com/github/ldselvera/Fraud_Detection_Deep_Learning/blob/main/Fraud_Detection.ipynb\" target=\"_parent\"><img src=\"https://colab.research.google.com/assets/colab-badge.svg\" alt=\"Open In Colab\"/></a>"
      ]
    },
    {
      "cell_type": "markdown",
      "metadata": {
        "id": "mA4C1zNFYYY9"
      },
      "source": [
        "## Imports"
      ]
    },
    {
      "cell_type": "code",
      "metadata": {
        "colab": {
          "base_uri": "https://localhost:8080/"
        },
        "id": "8JIuMMWawJWk",
        "outputId": "cf00f586-0ec8-47b6-cd18-e622ea50ff51"
      },
      "source": [
        "import pandas as pd\n",
        "import numpy as np\n",
        "import matplotlib.pyplot as plt\n",
        "import seaborn as sns\n",
        "\n",
        "import tensorflow as tf\n",
        "from tensorflow import keras\n",
        "from tensorflow.keras.optimizers import Adam\n",
        "\n",
        "from keras import regularizers, optimizers\n",
        "from keras.models import Sequential, Model, load_model\n",
        "from keras.layers import Input, Conv1D, Dense, Flatten, Activation, UpSampling1D, MaxPooling1D, ZeroPadding1D\n",
        "from keras.layers import Flatten, Dropout, BatchNormalization, MaxPool1D\n",
        "\n",
        "from sklearn.model_selection import train_test_split\n",
        "from sklearn.preprocessing import StandardScaler\n",
        "from sklearn.metrics import confusion_matrix, classification_report, roc_auc_score\n",
        "from sklearn import datasets, decomposition, preprocessing\n",
        "\n",
        "from mpl_toolkits.mplot3d import Axes3D\n",
        "\n",
        "print(tf.__version__)"
      ],
      "execution_count": 1,
      "outputs": [
        {
          "output_type": "stream",
          "text": [
            "2.4.1\n"
          ],
          "name": "stdout"
        }
      ]
    },
    {
      "cell_type": "markdown",
      "metadata": {
        "id": "A31EgwShR_e0"
      },
      "source": [
        "## Dataset"
      ]
    },
    {
      "cell_type": "code",
      "metadata": {
        "id": "zoYfwsWzwL0j"
      },
      "source": [
        "#import dataset from csv\n",
        "\n",
        "#Modify with your own path\n",
        "df = pd.read_csv(\"/content/drive/MyDrive/Colab Notebooks/fraud/creditcard.csv\")"
      ],
      "execution_count": 2,
      "outputs": []
    },
    {
      "cell_type": "code",
      "metadata": {
        "colab": {
          "base_uri": "https://localhost:8080/",
          "height": 226
        },
        "id": "QDJ7ukVSn4sm",
        "outputId": "7eb70156-295f-481c-e753-e0cb3ac401e2"
      },
      "source": [
        "#preview of the data\n",
        "df.head()"
      ],
      "execution_count": 3,
      "outputs": [
        {
          "output_type": "execute_result",
          "data": {
            "text/html": [
              "<div>\n",
              "<style scoped>\n",
              "    .dataframe tbody tr th:only-of-type {\n",
              "        vertical-align: middle;\n",
              "    }\n",
              "\n",
              "    .dataframe tbody tr th {\n",
              "        vertical-align: top;\n",
              "    }\n",
              "\n",
              "    .dataframe thead th {\n",
              "        text-align: right;\n",
              "    }\n",
              "</style>\n",
              "<table border=\"1\" class=\"dataframe\">\n",
              "  <thead>\n",
              "    <tr style=\"text-align: right;\">\n",
              "      <th></th>\n",
              "      <th>Time</th>\n",
              "      <th>V1</th>\n",
              "      <th>V2</th>\n",
              "      <th>V3</th>\n",
              "      <th>V4</th>\n",
              "      <th>V5</th>\n",
              "      <th>V6</th>\n",
              "      <th>V7</th>\n",
              "      <th>V8</th>\n",
              "      <th>V9</th>\n",
              "      <th>V10</th>\n",
              "      <th>V11</th>\n",
              "      <th>V12</th>\n",
              "      <th>V13</th>\n",
              "      <th>V14</th>\n",
              "      <th>V15</th>\n",
              "      <th>V16</th>\n",
              "      <th>V17</th>\n",
              "      <th>V18</th>\n",
              "      <th>V19</th>\n",
              "      <th>V20</th>\n",
              "      <th>V21</th>\n",
              "      <th>V22</th>\n",
              "      <th>V23</th>\n",
              "      <th>V24</th>\n",
              "      <th>V25</th>\n",
              "      <th>V26</th>\n",
              "      <th>V27</th>\n",
              "      <th>V28</th>\n",
              "      <th>Amount</th>\n",
              "      <th>Class</th>\n",
              "    </tr>\n",
              "  </thead>\n",
              "  <tbody>\n",
              "    <tr>\n",
              "      <th>0</th>\n",
              "      <td>0.0</td>\n",
              "      <td>-1.359807</td>\n",
              "      <td>-0.072781</td>\n",
              "      <td>2.536347</td>\n",
              "      <td>1.378155</td>\n",
              "      <td>-0.338321</td>\n",
              "      <td>0.462388</td>\n",
              "      <td>0.239599</td>\n",
              "      <td>0.098698</td>\n",
              "      <td>0.363787</td>\n",
              "      <td>0.090794</td>\n",
              "      <td>-0.551600</td>\n",
              "      <td>-0.617801</td>\n",
              "      <td>-0.991390</td>\n",
              "      <td>-0.311169</td>\n",
              "      <td>1.468177</td>\n",
              "      <td>-0.470401</td>\n",
              "      <td>0.207971</td>\n",
              "      <td>0.025791</td>\n",
              "      <td>0.403993</td>\n",
              "      <td>0.251412</td>\n",
              "      <td>-0.018307</td>\n",
              "      <td>0.277838</td>\n",
              "      <td>-0.110474</td>\n",
              "      <td>0.066928</td>\n",
              "      <td>0.128539</td>\n",
              "      <td>-0.189115</td>\n",
              "      <td>0.133558</td>\n",
              "      <td>-0.021053</td>\n",
              "      <td>149.62</td>\n",
              "      <td>0</td>\n",
              "    </tr>\n",
              "    <tr>\n",
              "      <th>1</th>\n",
              "      <td>0.0</td>\n",
              "      <td>1.191857</td>\n",
              "      <td>0.266151</td>\n",
              "      <td>0.166480</td>\n",
              "      <td>0.448154</td>\n",
              "      <td>0.060018</td>\n",
              "      <td>-0.082361</td>\n",
              "      <td>-0.078803</td>\n",
              "      <td>0.085102</td>\n",
              "      <td>-0.255425</td>\n",
              "      <td>-0.166974</td>\n",
              "      <td>1.612727</td>\n",
              "      <td>1.065235</td>\n",
              "      <td>0.489095</td>\n",
              "      <td>-0.143772</td>\n",
              "      <td>0.635558</td>\n",
              "      <td>0.463917</td>\n",
              "      <td>-0.114805</td>\n",
              "      <td>-0.183361</td>\n",
              "      <td>-0.145783</td>\n",
              "      <td>-0.069083</td>\n",
              "      <td>-0.225775</td>\n",
              "      <td>-0.638672</td>\n",
              "      <td>0.101288</td>\n",
              "      <td>-0.339846</td>\n",
              "      <td>0.167170</td>\n",
              "      <td>0.125895</td>\n",
              "      <td>-0.008983</td>\n",
              "      <td>0.014724</td>\n",
              "      <td>2.69</td>\n",
              "      <td>0</td>\n",
              "    </tr>\n",
              "    <tr>\n",
              "      <th>2</th>\n",
              "      <td>1.0</td>\n",
              "      <td>-1.358354</td>\n",
              "      <td>-1.340163</td>\n",
              "      <td>1.773209</td>\n",
              "      <td>0.379780</td>\n",
              "      <td>-0.503198</td>\n",
              "      <td>1.800499</td>\n",
              "      <td>0.791461</td>\n",
              "      <td>0.247676</td>\n",
              "      <td>-1.514654</td>\n",
              "      <td>0.207643</td>\n",
              "      <td>0.624501</td>\n",
              "      <td>0.066084</td>\n",
              "      <td>0.717293</td>\n",
              "      <td>-0.165946</td>\n",
              "      <td>2.345865</td>\n",
              "      <td>-2.890083</td>\n",
              "      <td>1.109969</td>\n",
              "      <td>-0.121359</td>\n",
              "      <td>-2.261857</td>\n",
              "      <td>0.524980</td>\n",
              "      <td>0.247998</td>\n",
              "      <td>0.771679</td>\n",
              "      <td>0.909412</td>\n",
              "      <td>-0.689281</td>\n",
              "      <td>-0.327642</td>\n",
              "      <td>-0.139097</td>\n",
              "      <td>-0.055353</td>\n",
              "      <td>-0.059752</td>\n",
              "      <td>378.66</td>\n",
              "      <td>0</td>\n",
              "    </tr>\n",
              "    <tr>\n",
              "      <th>3</th>\n",
              "      <td>1.0</td>\n",
              "      <td>-0.966272</td>\n",
              "      <td>-0.185226</td>\n",
              "      <td>1.792993</td>\n",
              "      <td>-0.863291</td>\n",
              "      <td>-0.010309</td>\n",
              "      <td>1.247203</td>\n",
              "      <td>0.237609</td>\n",
              "      <td>0.377436</td>\n",
              "      <td>-1.387024</td>\n",
              "      <td>-0.054952</td>\n",
              "      <td>-0.226487</td>\n",
              "      <td>0.178228</td>\n",
              "      <td>0.507757</td>\n",
              "      <td>-0.287924</td>\n",
              "      <td>-0.631418</td>\n",
              "      <td>-1.059647</td>\n",
              "      <td>-0.684093</td>\n",
              "      <td>1.965775</td>\n",
              "      <td>-1.232622</td>\n",
              "      <td>-0.208038</td>\n",
              "      <td>-0.108300</td>\n",
              "      <td>0.005274</td>\n",
              "      <td>-0.190321</td>\n",
              "      <td>-1.175575</td>\n",
              "      <td>0.647376</td>\n",
              "      <td>-0.221929</td>\n",
              "      <td>0.062723</td>\n",
              "      <td>0.061458</td>\n",
              "      <td>123.50</td>\n",
              "      <td>0</td>\n",
              "    </tr>\n",
              "    <tr>\n",
              "      <th>4</th>\n",
              "      <td>2.0</td>\n",
              "      <td>-1.158233</td>\n",
              "      <td>0.877737</td>\n",
              "      <td>1.548718</td>\n",
              "      <td>0.403034</td>\n",
              "      <td>-0.407193</td>\n",
              "      <td>0.095921</td>\n",
              "      <td>0.592941</td>\n",
              "      <td>-0.270533</td>\n",
              "      <td>0.817739</td>\n",
              "      <td>0.753074</td>\n",
              "      <td>-0.822843</td>\n",
              "      <td>0.538196</td>\n",
              "      <td>1.345852</td>\n",
              "      <td>-1.119670</td>\n",
              "      <td>0.175121</td>\n",
              "      <td>-0.451449</td>\n",
              "      <td>-0.237033</td>\n",
              "      <td>-0.038195</td>\n",
              "      <td>0.803487</td>\n",
              "      <td>0.408542</td>\n",
              "      <td>-0.009431</td>\n",
              "      <td>0.798278</td>\n",
              "      <td>-0.137458</td>\n",
              "      <td>0.141267</td>\n",
              "      <td>-0.206010</td>\n",
              "      <td>0.502292</td>\n",
              "      <td>0.219422</td>\n",
              "      <td>0.215153</td>\n",
              "      <td>69.99</td>\n",
              "      <td>0</td>\n",
              "    </tr>\n",
              "  </tbody>\n",
              "</table>\n",
              "</div>"
            ],
            "text/plain": [
              "   Time        V1        V2        V3  ...       V27       V28  Amount  Class\n",
              "0   0.0 -1.359807 -0.072781  2.536347  ...  0.133558 -0.021053  149.62      0\n",
              "1   0.0  1.191857  0.266151  0.166480  ... -0.008983  0.014724    2.69      0\n",
              "2   1.0 -1.358354 -1.340163  1.773209  ... -0.055353 -0.059752  378.66      0\n",
              "3   1.0 -0.966272 -0.185226  1.792993  ...  0.062723  0.061458  123.50      0\n",
              "4   2.0 -1.158233  0.877737  1.548718  ...  0.219422  0.215153   69.99      0\n",
              "\n",
              "[5 rows x 31 columns]"
            ]
          },
          "metadata": {
            "tags": []
          },
          "execution_count": 3
        }
      ]
    },
    {
      "cell_type": "code",
      "metadata": {
        "colab": {
          "base_uri": "https://localhost:8080/"
        },
        "id": "T7YEL20rqvAT",
        "outputId": "3b586acc-3f95-4e0b-81a1-b72122841a79"
      },
      "source": [
        "df.columns"
      ],
      "execution_count": 4,
      "outputs": [
        {
          "output_type": "execute_result",
          "data": {
            "text/plain": [
              "Index(['Time', 'V1', 'V2', 'V3', 'V4', 'V5', 'V6', 'V7', 'V8', 'V9', 'V10',\n",
              "       'V11', 'V12', 'V13', 'V14', 'V15', 'V16', 'V17', 'V18', 'V19', 'V20',\n",
              "       'V21', 'V22', 'V23', 'V24', 'V25', 'V26', 'V27', 'V28', 'Amount',\n",
              "       'Class'],\n",
              "      dtype='object')"
            ]
          },
          "metadata": {
            "tags": []
          },
          "execution_count": 4
        }
      ]
    },
    {
      "cell_type": "markdown",
      "metadata": {
        "id": "e3nhTPtQSSib"
      },
      "source": [
        "### Check for missing values (Null/NaN)"
      ]
    },
    {
      "cell_type": "code",
      "metadata": {
        "colab": {
          "base_uri": "https://localhost:8080/"
        },
        "id": "KrfE0ULlw2of",
        "outputId": "fb1bf012-3651-487e-cf80-c1180426faba"
      },
      "source": [
        "df.isnull().sum()"
      ],
      "execution_count": 5,
      "outputs": [
        {
          "output_type": "execute_result",
          "data": {
            "text/plain": [
              "Time      0\n",
              "V1        0\n",
              "V2        0\n",
              "V3        0\n",
              "V4        0\n",
              "V5        0\n",
              "V6        0\n",
              "V7        0\n",
              "V8        0\n",
              "V9        0\n",
              "V10       0\n",
              "V11       0\n",
              "V12       0\n",
              "V13       0\n",
              "V14       0\n",
              "V15       0\n",
              "V16       0\n",
              "V17       0\n",
              "V18       0\n",
              "V19       0\n",
              "V20       0\n",
              "V21       0\n",
              "V22       0\n",
              "V23       0\n",
              "V24       0\n",
              "V25       0\n",
              "V26       0\n",
              "V27       0\n",
              "V28       0\n",
              "Amount    0\n",
              "Class     0\n",
              "dtype: int64"
            ]
          },
          "metadata": {
            "tags": []
          },
          "execution_count": 5
        }
      ]
    },
    {
      "cell_type": "markdown",
      "metadata": {
        "id": "PurRX73ASHAy"
      },
      "source": [
        "### Imbalanced data"
      ]
    },
    {
      "cell_type": "code",
      "metadata": {
        "colab": {
          "base_uri": "https://localhost:8080/"
        },
        "id": "A67IsMfews1l",
        "outputId": "1c1562c8-883a-4cfe-bf0d-2ec5f58767cf"
      },
      "source": [
        "# Number of instances per class \n",
        "df['Class'].value_counts()"
      ],
      "execution_count": 6,
      "outputs": [
        {
          "output_type": "execute_result",
          "data": {
            "text/plain": [
              "0    284315\n",
              "1       492\n",
              "Name: Class, dtype: int64"
            ]
          },
          "metadata": {
            "tags": []
          },
          "execution_count": 6
        }
      ]
    },
    {
      "cell_type": "code",
      "metadata": {
        "colab": {
          "base_uri": "https://localhost:8080/"
        },
        "id": "Cjgh4YcNqy87",
        "outputId": "af7bc9d3-2d85-4f0f-a4f6-ee22d5de9a81"
      },
      "source": [
        "print('No Frauds', round(df['Class'].value_counts()[0]/len(df) * 100,2), '% of the dataset')\n",
        "print('Frauds', round(df['Class'].value_counts()[1]/len(df) * 100,2), '% of the dataset')"
      ],
      "execution_count": 7,
      "outputs": [
        {
          "output_type": "stream",
          "text": [
            "No Frauds 99.83 % of the dataset\n",
            "Frauds 0.17 % of the dataset\n"
          ],
          "name": "stdout"
        }
      ]
    },
    {
      "cell_type": "code",
      "metadata": {
        "colab": {
          "base_uri": "https://localhost:8080/",
          "height": 369
        },
        "id": "KosF-gJaq07z",
        "outputId": "e4704156-2d60-4d1b-db9f-e5e14f139a68"
      },
      "source": [
        "sns.countplot('Class', data=df)\n",
        "plt.title('Class Distributions \\n (0: No Fraud || 1: Fraud)', fontsize=14)\n",
        "plt.show()"
      ],
      "execution_count": 8,
      "outputs": [
        {
          "output_type": "stream",
          "text": [
            "/usr/local/lib/python3.7/dist-packages/seaborn/_decorators.py:43: FutureWarning: Pass the following variable as a keyword arg: x. From version 0.12, the only valid positional argument will be `data`, and passing other arguments without an explicit keyword will result in an error or misinterpretation.\n",
            "  FutureWarning\n"
          ],
          "name": "stderr"
        },
        {
          "output_type": "display_data",
          "data": {
            "image/png": "[encoded data removed]",
            "text/plain": [
              "<Figure size 432x288 with 1 Axes>"
            ]
          },
          "metadata": {
            "tags": [],
            "needs_background": "light"
          }
        }
      ]
    },
    {
      "cell_type": "code",
      "metadata": {
        "id": "eQKZAqa_XiN4"
      },
      "source": [
        "def show_pca_df(df):\n",
        "\tx = df[df.columns[1:30]].to_numpy()\n",
        "\ty = df[df.columns[30]].to_numpy()\n",
        "\n",
        "\tx = preprocessing.MinMaxScaler().fit_transform(x)\n",
        "\tpca = decomposition.PCA(n_components=3)\n",
        "\tpca_result = pca.fit_transform(x)\n",
        "\tprint(pca.explained_variance_ratio_)\n",
        "\n",
        "\tpca_df = pd.DataFrame(data=pca_result, columns=['pc_1', 'pc_2', 'pc_3'])\n",
        "\tpca_df = pd.concat([pca_df, pd.DataFrame({'label': y})], axis=1)\n",
        "\n",
        "\tax = Axes3D(plt.figure(figsize=(8, 8)))\n",
        "\tax.scatter(xs=pca_df['pc_1'], ys=pca_df['pc_2'], zs=pca_df['pc_3'], c=pca_df['label'], s=25)\n",
        "\tax.set_xlabel(\"pc_1\")\n",
        "\tax.set_ylabel(\"pc_2\")\n",
        "\tax.set_zlabel(\"pc_3\")\n",
        "\tplt.show()"
      ],
      "execution_count": 9,
      "outputs": []
    },
    {
      "cell_type": "code",
      "metadata": {
        "colab": {
          "base_uri": "https://localhost:8080/",
          "height": 625
        },
        "id": "qjRfLeKoX0z1",
        "outputId": "b8370301-937c-4b82-88ce-2c3694c7865f"
      },
      "source": [
        "show_pca_df(df)"
      ],
      "execution_count": 10,
      "outputs": [
        {
          "output_type": "stream",
          "text": [
            "[0.13501016 0.12577772 0.12031401]\n"
          ],
          "name": "stdout"
        },
        {
          "output_type": "display_data",
          "data": {
            "image/png": "[encoded data removed]",
            "text/plain": [
              "<Figure size 576x576 with 1 Axes>"
            ]
          },
          "metadata": {
            "tags": [],
            "needs_background": "light"
          }
        }
      ]
    },
    {
      "cell_type": "markdown",
      "metadata": {
        "id": "wWyXWCpmYTNk"
      },
      "source": [
        "### Subsampling"
      ]
    },
    {
      "cell_type": "code",
      "metadata": {
        "id": "8GxudI2jxBQP"
      },
      "source": [
        "#Split fraud and normal transactions\n",
        "fraud_data = df[df['Class']==1]\n",
        "non_fraud_data = df[df[\"Class\"]==0]\n",
        "\n",
        "#Subsample according to the size of fraud transactions\n",
        "non_fraud_data1 = non_fraud_data.sample(1500)\n",
        "\n",
        "#Rejoin fraud and normal transactions\n",
        "final_data = fraud_data.append(non_fraud_data1,ignore_index=True)\n"
      ],
      "execution_count": 11,
      "outputs": []
    },
    {
      "cell_type": "code",
      "metadata": {
        "colab": {
          "base_uri": "https://localhost:8080/"
        },
        "id": "vHpfJmbOaCrd",
        "outputId": "86f5e13f-189d-4931-efea-dfdb133c1a20"
      },
      "source": [
        "print('No Frauds', round(final_data['Class'].value_counts()[0]/len(final_data) * 100,2), '% of the dataset')\n",
        "print('Frauds', round(final_data['Class'].value_counts()[1]/len(final_data) * 100,2), '% of the dataset')"
      ],
      "execution_count": 12,
      "outputs": [
        {
          "output_type": "stream",
          "text": [
            "No Frauds 75.3 % of the dataset\n",
            "Frauds 24.7 % of the dataset\n"
          ],
          "name": "stdout"
        }
      ]
    },
    {
      "cell_type": "code",
      "metadata": {
        "colab": {
          "base_uri": "https://localhost:8080/",
          "height": 425
        },
        "id": "v3xQkb5orArm",
        "outputId": "30600446-5bd2-44ab-fbab-7ee9a32c9a31"
      },
      "source": [
        "print('Distribution of the Classes in the subsample dataset')\n",
        "print(final_data['Class'].value_counts()/len(final_data))\n",
        "\n",
        "sns.countplot('Class', data=final_data)\n",
        "plt.title('25/75 Distributed Classes', fontsize=14)\n",
        "plt.show()"
      ],
      "execution_count": 13,
      "outputs": [
        {
          "output_type": "stream",
          "text": [
            "Distribution of the Classes in the subsample dataset\n",
            "0    0.753012\n",
            "1    0.246988\n",
            "Name: Class, dtype: float64\n"
          ],
          "name": "stdout"
        },
        {
          "output_type": "stream",
          "text": [
            "/usr/local/lib/python3.7/dist-packages/seaborn/_decorators.py:43: FutureWarning: Pass the following variable as a keyword arg: x. From version 0.12, the only valid positional argument will be `data`, and passing other arguments without an explicit keyword will result in an error or misinterpretation.\n",
            "  FutureWarning\n"
          ],
          "name": "stderr"
        },
        {
          "output_type": "display_data",
          "data": {
            "image/png": "[encoded data removed]",
            "text/plain": [
              "<Figure size 432x288 with 1 Axes>"
            ]
          },
          "metadata": {
            "tags": [],
            "needs_background": "light"
          }
        }
      ]
    },
    {
      "cell_type": "code",
      "metadata": {
        "colab": {
          "base_uri": "https://localhost:8080/"
        },
        "id": "PlvbiGCmrG41",
        "outputId": "943f860d-2cd4-4dfb-d615-5b5bbd62dc8d"
      },
      "source": [
        "final_data['Class'].value_counts()"
      ],
      "execution_count": 14,
      "outputs": [
        {
          "output_type": "execute_result",
          "data": {
            "text/plain": [
              "0    1500\n",
              "1     492\n",
              "Name: Class, dtype: int64"
            ]
          },
          "metadata": {
            "tags": []
          },
          "execution_count": 14
        }
      ]
    },
    {
      "cell_type": "code",
      "metadata": {
        "colab": {
          "base_uri": "https://localhost:8080/",
          "height": 625
        },
        "id": "2hAme4xuX73H",
        "outputId": "d68fbbff-5bdb-4de2-ce16-e48cad421817"
      },
      "source": [
        "fraud = df[df[df.columns[30]] > 0]\n",
        "non_fraud = df[df[df.columns[30]] == 0].sample(n=fraud.size, random_state=1, axis='index')\n",
        "df = pd.concat([ fraud, non_fraud])\n",
        "\n",
        "show_pca_df(df)"
      ],
      "execution_count": 15,
      "outputs": [
        {
          "output_type": "stream",
          "text": [
            "[0.20577961 0.14728955 0.09800455]\n"
          ],
          "name": "stdout"
        },
        {
          "output_type": "display_data",
          "data": {
            "image/png": "[encoded data removed]",
            "text/plain": [
              "<Figure size 576x576 with 1 Axes>"
            ]
          },
          "metadata": {
            "tags": [],
            "needs_background": "light"
          }
        }
      ]
    },
    {
      "cell_type": "markdown",
      "metadata": {
        "id": "vFkjaniCYtw1"
      },
      "source": [
        "## Normalize Data"
      ]
    },
    {
      "cell_type": "code",
      "metadata": {
        "id": "W7IqKin1kfqN"
      },
      "source": [
        "df['Amount'] = StandardScaler().fit_transform(df['Amount'].values.reshape(-1, 1))\n",
        "df['Time'] = StandardScaler().fit_transform(df['Time'].values.reshape(-1, 1))"
      ],
      "execution_count": 16,
      "outputs": []
    },
    {
      "cell_type": "markdown",
      "metadata": {
        "id": "h_K1QrdLYgF9"
      },
      "source": [
        "## Splitting Data"
      ]
    },
    {
      "cell_type": "code",
      "metadata": {
        "colab": {
          "base_uri": "https://localhost:8080/",
          "height": 383
        },
        "id": "rLLGfJP3mVDc",
        "outputId": "eccdbcd3-fa16-448c-a22a-9fbffb5d3640"
      },
      "source": [
        "anomalies = df[df[\"Class\"] == 1]\n",
        "normal = df[df[\"Class\"] == 0]\n",
        "\n",
        "data_set = pd.concat([normal[:1500], anomalies])\n",
        "\n",
        "x_train, x_test = train_test_split(data_set, test_size = 0.2)\n",
        "\n",
        "x_train = x_train.sort_values(by=['Time'])\n",
        "x_test = x_test.sort_values(by=['Time'])\n",
        "\n",
        "y_train = x_train[\"Class\"]\n",
        "y_test = x_test[\"Class\"]\n",
        "\n",
        "x_train = x_train.drop(\"Class\",axis=1)\n",
        "x_test = x_test.drop(\"Class\",axis=1)\n",
        "\n",
        "x_test.head(10)"
      ],
      "execution_count": 17,
      "outputs": [
        {
          "output_type": "execute_result",
          "data": {
            "text/html": [
              "<div>\n",
              "<style scoped>\n",
              "    .dataframe tbody tr th:only-of-type {\n",
              "        vertical-align: middle;\n",
              "    }\n",
              "\n",
              "    .dataframe tbody tr th {\n",
              "        vertical-align: top;\n",
              "    }\n",
              "\n",
              "    .dataframe thead th {\n",
              "        text-align: right;\n",
              "    }\n",
              "</style>\n",
              "<table border=\"1\" class=\"dataframe\">\n",
              "  <thead>\n",
              "    <tr style=\"text-align: right;\">\n",
              "      <th></th>\n",
              "      <th>Time</th>\n",
              "      <th>V1</th>\n",
              "      <th>V2</th>\n",
              "      <th>V3</th>\n",
              "      <th>V4</th>\n",
              "      <th>V5</th>\n",
              "      <th>V6</th>\n",
              "      <th>V7</th>\n",
              "      <th>V8</th>\n",
              "      <th>V9</th>\n",
              "      <th>V10</th>\n",
              "      <th>V11</th>\n",
              "      <th>V12</th>\n",
              "      <th>V13</th>\n",
              "      <th>V14</th>\n",
              "      <th>V15</th>\n",
              "      <th>V16</th>\n",
              "      <th>V17</th>\n",
              "      <th>V18</th>\n",
              "      <th>V19</th>\n",
              "      <th>V20</th>\n",
              "      <th>V21</th>\n",
              "      <th>V22</th>\n",
              "      <th>V23</th>\n",
              "      <th>V24</th>\n",
              "      <th>V25</th>\n",
              "      <th>V26</th>\n",
              "      <th>V27</th>\n",
              "      <th>V28</th>\n",
              "      <th>Amount</th>\n",
              "    </tr>\n",
              "  </thead>\n",
              "  <tbody>\n",
              "    <tr>\n",
              "      <th>482</th>\n",
              "      <td>-1.975090</td>\n",
              "      <td>0.019256</td>\n",
              "      <td>0.471698</td>\n",
              "      <td>0.868060</td>\n",
              "      <td>-1.239124</td>\n",
              "      <td>0.547898</td>\n",
              "      <td>-0.502661</td>\n",
              "      <td>0.808516</td>\n",
              "      <td>-0.247667</td>\n",
              "      <td>0.130741</td>\n",
              "      <td>-0.484994</td>\n",
              "      <td>-0.702094</td>\n",
              "      <td>-0.213445</td>\n",
              "      <td>-0.048713</td>\n",
              "      <td>-0.065307</td>\n",
              "      <td>0.658810</td>\n",
              "      <td>0.168526</td>\n",
              "      <td>-0.621304</td>\n",
              "      <td>-0.690750</td>\n",
              "      <td>-0.697036</td>\n",
              "      <td>-0.107130</td>\n",
              "      <td>0.021430</td>\n",
              "      <td>0.265057</td>\n",
              "      <td>0.066608</td>\n",
              "      <td>-0.381752</td>\n",
              "      <td>-1.305171</td>\n",
              "      <td>0.646049</td>\n",
              "      <td>-0.013625</td>\n",
              "      <td>-0.011985</td>\n",
              "      <td>-0.358872</td>\n",
              "    </tr>\n",
              "    <tr>\n",
              "      <th>541</th>\n",
              "      <td>-1.974020</td>\n",
              "      <td>-2.312227</td>\n",
              "      <td>1.951992</td>\n",
              "      <td>-1.609851</td>\n",
              "      <td>3.997906</td>\n",
              "      <td>-0.522188</td>\n",
              "      <td>-1.426545</td>\n",
              "      <td>-2.537387</td>\n",
              "      <td>1.391657</td>\n",
              "      <td>-2.770089</td>\n",
              "      <td>-2.772272</td>\n",
              "      <td>3.202033</td>\n",
              "      <td>-2.899907</td>\n",
              "      <td>-0.595222</td>\n",
              "      <td>-4.289254</td>\n",
              "      <td>0.389724</td>\n",
              "      <td>-1.140747</td>\n",
              "      <td>-2.830056</td>\n",
              "      <td>-0.016822</td>\n",
              "      <td>0.416956</td>\n",
              "      <td>0.126911</td>\n",
              "      <td>0.517232</td>\n",
              "      <td>-0.035049</td>\n",
              "      <td>-0.465211</td>\n",
              "      <td>0.320198</td>\n",
              "      <td>0.044519</td>\n",
              "      <td>0.177840</td>\n",
              "      <td>0.261145</td>\n",
              "      <td>-0.143276</td>\n",
              "      <td>-0.369370</td>\n",
              "    </tr>\n",
              "    <tr>\n",
              "      <th>1088</th>\n",
              "      <td>-1.964998</td>\n",
              "      <td>0.056141</td>\n",
              "      <td>0.239849</td>\n",
              "      <td>1.954964</td>\n",
              "      <td>0.447887</td>\n",
              "      <td>-1.668848</td>\n",
              "      <td>0.640006</td>\n",
              "      <td>-2.158143</td>\n",
              "      <td>-2.414163</td>\n",
              "      <td>-1.408986</td>\n",
              "      <td>0.264521</td>\n",
              "      <td>1.223291</td>\n",
              "      <td>1.180411</td>\n",
              "      <td>0.993944</td>\n",
              "      <td>0.222771</td>\n",
              "      <td>0.796051</td>\n",
              "      <td>-0.732271</td>\n",
              "      <td>-0.387030</td>\n",
              "      <td>2.417564</td>\n",
              "      <td>-0.939343</td>\n",
              "      <td>0.310594</td>\n",
              "      <td>-1.265408</td>\n",
              "      <td>0.901002</td>\n",
              "      <td>0.032997</td>\n",
              "      <td>0.519744</td>\n",
              "      <td>0.303611</td>\n",
              "      <td>-0.185666</td>\n",
              "      <td>0.212197</td>\n",
              "      <td>0.283123</td>\n",
              "      <td>-0.329146</td>\n",
              "    </tr>\n",
              "    <tr>\n",
              "      <th>1300</th>\n",
              "      <td>-1.961137</td>\n",
              "      <td>0.414441</td>\n",
              "      <td>-0.957193</td>\n",
              "      <td>-0.277388</td>\n",
              "      <td>1.707264</td>\n",
              "      <td>-0.533226</td>\n",
              "      <td>-0.690275</td>\n",
              "      <td>0.924293</td>\n",
              "      <td>-0.381707</td>\n",
              "      <td>-0.089759</td>\n",
              "      <td>-0.221693</td>\n",
              "      <td>-0.529581</td>\n",
              "      <td>0.657116</td>\n",
              "      <td>0.562364</td>\n",
              "      <td>0.223669</td>\n",
              "      <td>-0.024087</td>\n",
              "      <td>-0.348942</td>\n",
              "      <td>-0.134683</td>\n",
              "      <td>-0.426564</td>\n",
              "      <td>-0.270321</td>\n",
              "      <td>0.743023</td>\n",
              "      <td>0.231007</td>\n",
              "      <td>-0.114463</td>\n",
              "      <td>-0.530896</td>\n",
              "      <td>0.452978</td>\n",
              "      <td>0.703282</td>\n",
              "      <td>-0.308887</td>\n",
              "      <td>-0.067590</td>\n",
              "      <td>0.089635</td>\n",
              "      <td>1.364295</td>\n",
              "    </tr>\n",
              "    <tr>\n",
              "      <th>1569</th>\n",
              "      <td>-1.956773</td>\n",
              "      <td>-0.693097</td>\n",
              "      <td>0.720897</td>\n",
              "      <td>0.487926</td>\n",
              "      <td>1.545283</td>\n",
              "      <td>-0.123343</td>\n",
              "      <td>0.151906</td>\n",
              "      <td>1.821822</td>\n",
              "      <td>-0.176592</td>\n",
              "      <td>-1.514396</td>\n",
              "      <td>-0.581211</td>\n",
              "      <td>1.491590</td>\n",
              "      <td>0.523781</td>\n",
              "      <td>0.824358</td>\n",
              "      <td>-0.591794</td>\n",
              "      <td>0.879726</td>\n",
              "      <td>-0.158535</td>\n",
              "      <td>0.702919</td>\n",
              "      <td>1.172998</td>\n",
              "      <td>1.713201</td>\n",
              "      <td>0.846036</td>\n",
              "      <td>0.200782</td>\n",
              "      <td>0.193611</td>\n",
              "      <td>0.288196</td>\n",
              "      <td>-0.081502</td>\n",
              "      <td>0.281742</td>\n",
              "      <td>-0.136080</td>\n",
              "      <td>0.050083</td>\n",
              "      <td>0.147487</td>\n",
              "      <td>0.756627</td>\n",
              "    </tr>\n",
              "    <tr>\n",
              "      <th>2418</th>\n",
              "      <td>-1.940890</td>\n",
              "      <td>-1.087323</td>\n",
              "      <td>0.413475</td>\n",
              "      <td>2.388311</td>\n",
              "      <td>0.799852</td>\n",
              "      <td>0.272501</td>\n",
              "      <td>-0.196010</td>\n",
              "      <td>0.592504</td>\n",
              "      <td>-0.059448</td>\n",
              "      <td>-0.186005</td>\n",
              "      <td>-0.166775</td>\n",
              "      <td>0.907927</td>\n",
              "      <td>0.548670</td>\n",
              "      <td>-0.742662</td>\n",
              "      <td>-0.208097</td>\n",
              "      <td>-1.185010</td>\n",
              "      <td>-0.438734</td>\n",
              "      <td>-0.213281</td>\n",
              "      <td>0.244220</td>\n",
              "      <td>0.467393</td>\n",
              "      <td>-0.054513</td>\n",
              "      <td>-0.019972</td>\n",
              "      <td>0.269333</td>\n",
              "      <td>-0.136500</td>\n",
              "      <td>0.546388</td>\n",
              "      <td>0.575795</td>\n",
              "      <td>-0.324648</td>\n",
              "      <td>-0.195600</td>\n",
              "      <td>-0.169624</td>\n",
              "      <td>-0.329146</td>\n",
              "    </tr>\n",
              "    <tr>\n",
              "      <th>2681</th>\n",
              "      <td>-1.935896</td>\n",
              "      <td>-1.014510</td>\n",
              "      <td>1.003668</td>\n",
              "      <td>1.447820</td>\n",
              "      <td>-1.200423</td>\n",
              "      <td>-0.490699</td>\n",
              "      <td>-0.847863</td>\n",
              "      <td>0.191709</td>\n",
              "      <td>0.498659</td>\n",
              "      <td>-0.202517</td>\n",
              "      <td>-0.996134</td>\n",
              "      <td>-0.128617</td>\n",
              "      <td>0.281219</td>\n",
              "      <td>-0.072674</td>\n",
              "      <td>0.324020</td>\n",
              "      <td>0.702199</td>\n",
              "      <td>0.336343</td>\n",
              "      <td>-0.105417</td>\n",
              "      <td>-0.858342</td>\n",
              "      <td>-1.172480</td>\n",
              "      <td>-0.120591</td>\n",
              "      <td>0.009143</td>\n",
              "      <td>-0.028588</td>\n",
              "      <td>0.051347</td>\n",
              "      <td>0.431757</td>\n",
              "      <td>-0.437568</td>\n",
              "      <td>0.731000</td>\n",
              "      <td>0.149978</td>\n",
              "      <td>0.109183</td>\n",
              "      <td>-0.353321</td>\n",
              "    </tr>\n",
              "    <tr>\n",
              "      <th>2684</th>\n",
              "      <td>-1.935854</td>\n",
              "      <td>-0.935095</td>\n",
              "      <td>0.858052</td>\n",
              "      <td>0.644581</td>\n",
              "      <td>-1.309573</td>\n",
              "      <td>2.123865</td>\n",
              "      <td>3.678254</td>\n",
              "      <td>-0.197846</td>\n",
              "      <td>1.085421</td>\n",
              "      <td>-0.198670</td>\n",
              "      <td>-0.086262</td>\n",
              "      <td>-0.195606</td>\n",
              "      <td>-0.310685</td>\n",
              "      <td>0.034855</td>\n",
              "      <td>-0.004866</td>\n",
              "      <td>1.379410</td>\n",
              "      <td>0.737677</td>\n",
              "      <td>-0.989180</td>\n",
              "      <td>0.474118</td>\n",
              "      <td>0.239864</td>\n",
              "      <td>0.401341</td>\n",
              "      <td>-0.167744</td>\n",
              "      <td>-0.501463</td>\n",
              "      <td>-0.227479</td>\n",
              "      <td>1.002662</td>\n",
              "      <td>0.345228</td>\n",
              "      <td>0.284304</td>\n",
              "      <td>0.389218</td>\n",
              "      <td>0.191140</td>\n",
              "      <td>-0.333209</td>\n",
              "    </tr>\n",
              "    <tr>\n",
              "      <th>5641</th>\n",
              "      <td>-1.859669</td>\n",
              "      <td>1.012633</td>\n",
              "      <td>0.185475</td>\n",
              "      <td>1.857025</td>\n",
              "      <td>2.625659</td>\n",
              "      <td>-0.813666</td>\n",
              "      <td>0.741190</td>\n",
              "      <td>-1.050536</td>\n",
              "      <td>0.411454</td>\n",
              "      <td>1.078232</td>\n",
              "      <td>0.410754</td>\n",
              "      <td>2.237912</td>\n",
              "      <td>-2.310506</td>\n",
              "      <td>0.771148</td>\n",
              "      <td>1.647483</td>\n",
              "      <td>0.005916</td>\n",
              "      <td>1.168254</td>\n",
              "      <td>-0.044723</td>\n",
              "      <td>0.838385</td>\n",
              "      <td>-1.766318</td>\n",
              "      <td>-0.240510</td>\n",
              "      <td>0.167710</td>\n",
              "      <td>0.665263</td>\n",
              "      <td>0.034245</td>\n",
              "      <td>0.149376</td>\n",
              "      <td>0.061459</td>\n",
              "      <td>0.073727</td>\n",
              "      <td>0.024627</td>\n",
              "      <td>0.023361</td>\n",
              "      <td>-0.320538</td>\n",
              "    </tr>\n",
              "    <tr>\n",
              "      <th>6108</th>\n",
              "      <td>-1.835959</td>\n",
              "      <td>-4.397974</td>\n",
              "      <td>1.358367</td>\n",
              "      <td>-2.592844</td>\n",
              "      <td>2.679787</td>\n",
              "      <td>-1.128131</td>\n",
              "      <td>-1.706536</td>\n",
              "      <td>-3.496197</td>\n",
              "      <td>-0.248778</td>\n",
              "      <td>-0.247768</td>\n",
              "      <td>-4.801637</td>\n",
              "      <td>4.895844</td>\n",
              "      <td>-10.912819</td>\n",
              "      <td>0.184372</td>\n",
              "      <td>-6.771097</td>\n",
              "      <td>-0.007326</td>\n",
              "      <td>-7.358083</td>\n",
              "      <td>-12.598419</td>\n",
              "      <td>-5.131549</td>\n",
              "      <td>0.308334</td>\n",
              "      <td>-0.171608</td>\n",
              "      <td>0.573574</td>\n",
              "      <td>0.176968</td>\n",
              "      <td>-0.436207</td>\n",
              "      <td>-0.053502</td>\n",
              "      <td>0.252405</td>\n",
              "      <td>-0.657488</td>\n",
              "      <td>-0.827136</td>\n",
              "      <td>0.849573</td>\n",
              "      <td>-0.132047</td>\n",
              "    </tr>\n",
              "  </tbody>\n",
              "</table>\n",
              "</div>"
            ],
            "text/plain": [
              "          Time        V1        V2  ...       V27       V28    Amount\n",
              "482  -1.975090  0.019256  0.471698  ... -0.013625 -0.011985 -0.358872\n",
              "541  -1.974020 -2.312227  1.951992  ...  0.261145 -0.143276 -0.369370\n",
              "1088 -1.964998  0.056141  0.239849  ...  0.212197  0.283123 -0.329146\n",
              "1300 -1.961137  0.414441 -0.957193  ... -0.067590  0.089635  1.364295\n",
              "1569 -1.956773 -0.693097  0.720897  ...  0.050083  0.147487  0.756627\n",
              "2418 -1.940890 -1.087323  0.413475  ... -0.195600 -0.169624 -0.329146\n",
              "2681 -1.935896 -1.014510  1.003668  ...  0.149978  0.109183 -0.353321\n",
              "2684 -1.935854 -0.935095  0.858052  ...  0.389218  0.191140 -0.333209\n",
              "5641 -1.859669  1.012633  0.185475  ...  0.024627  0.023361 -0.320538\n",
              "6108 -1.835959 -4.397974  1.358367  ... -0.827136  0.849573 -0.132047\n",
              "\n",
              "[10 rows x 30 columns]"
            ]
          },
          "metadata": {
            "tags": []
          },
          "execution_count": 17
        }
      ]
    },
    {
      "cell_type": "code",
      "metadata": {
        "colab": {
          "base_uri": "https://localhost:8080/"
        },
        "id": "H9y6TpyInUKE",
        "outputId": "4f0cc909-4aa0-4c55-f62d-c023edd576ae"
      },
      "source": [
        "input_shape = (x_train.shape[1], 1)\n",
        "\n",
        "\n",
        "print(\"Shapes:\\nx_train:%s\\ny_train:%s\\n\" % (x_train.shape, y_train.shape))\n",
        "print(\"x_test:%s\\ny_test:%s\\n\" % (x_test.shape, y_test.shape))\n",
        "print(\"input_shape:{}\\n\".format(input_shape))"
      ],
      "execution_count": 18,
      "outputs": [
        {
          "output_type": "stream",
          "text": [
            "Shapes:\n",
            "x_train:(1593, 30)\n",
            "y_train:(1593,)\n",
            "\n",
            "x_test:(399, 30)\n",
            "y_test:(399,)\n",
            "\n",
            "input_shape:(30, 1)\n",
            "\n"
          ],
          "name": "stdout"
        }
      ]
    },
    {
      "cell_type": "code",
      "metadata": {
        "colab": {
          "base_uri": "https://localhost:8080/",
          "height": 226
        },
        "id": "Y5XzMnm8M0ii",
        "outputId": "16e01fd1-6d5a-4323-9da8-e4c967cf77a5"
      },
      "source": [
        "x_train[:5]"
      ],
      "execution_count": 19,
      "outputs": [
        {
          "output_type": "execute_result",
          "data": {
            "text/html": [
              "<div>\n",
              "<style scoped>\n",
              "    .dataframe tbody tr th:only-of-type {\n",
              "        vertical-align: middle;\n",
              "    }\n",
              "\n",
              "    .dataframe tbody tr th {\n",
              "        vertical-align: top;\n",
              "    }\n",
              "\n",
              "    .dataframe thead th {\n",
              "        text-align: right;\n",
              "    }\n",
              "</style>\n",
              "<table border=\"1\" class=\"dataframe\">\n",
              "  <thead>\n",
              "    <tr style=\"text-align: right;\">\n",
              "      <th></th>\n",
              "      <th>Time</th>\n",
              "      <th>V1</th>\n",
              "      <th>V2</th>\n",
              "      <th>V3</th>\n",
              "      <th>V4</th>\n",
              "      <th>V5</th>\n",
              "      <th>V6</th>\n",
              "      <th>V7</th>\n",
              "      <th>V8</th>\n",
              "      <th>V9</th>\n",
              "      <th>V10</th>\n",
              "      <th>V11</th>\n",
              "      <th>V12</th>\n",
              "      <th>V13</th>\n",
              "      <th>V14</th>\n",
              "      <th>V15</th>\n",
              "      <th>V16</th>\n",
              "      <th>V17</th>\n",
              "      <th>V18</th>\n",
              "      <th>V19</th>\n",
              "      <th>V20</th>\n",
              "      <th>V21</th>\n",
              "      <th>V22</th>\n",
              "      <th>V23</th>\n",
              "      <th>V24</th>\n",
              "      <th>V25</th>\n",
              "      <th>V26</th>\n",
              "      <th>V27</th>\n",
              "      <th>V28</th>\n",
              "      <th>Amount</th>\n",
              "    </tr>\n",
              "  </thead>\n",
              "  <tbody>\n",
              "    <tr>\n",
              "      <th>196</th>\n",
              "      <td>-1.979811</td>\n",
              "      <td>-0.485238</td>\n",
              "      <td>0.658497</td>\n",
              "      <td>1.949967</td>\n",
              "      <td>1.249695</td>\n",
              "      <td>0.426410</td>\n",
              "      <td>0.231513</td>\n",
              "      <td>0.585115</td>\n",
              "      <td>0.029163</td>\n",
              "      <td>-0.520297</td>\n",
              "      <td>0.055911</td>\n",
              "      <td>1.265311</td>\n",
              "      <td>0.521277</td>\n",
              "      <td>-0.830439</td>\n",
              "      <td>0.157455</td>\n",
              "      <td>-0.365075</td>\n",
              "      <td>-1.142187</td>\n",
              "      <td>0.409601</td>\n",
              "      <td>-0.204876</td>\n",
              "      <td>1.010483</td>\n",
              "      <td>0.089378</td>\n",
              "      <td>0.007290</td>\n",
              "      <td>0.328244</td>\n",
              "      <td>-0.232563</td>\n",
              "      <td>0.225572</td>\n",
              "      <td>0.025892</td>\n",
              "      <td>-0.247395</td>\n",
              "      <td>-0.025381</td>\n",
              "      <td>-0.118565</td>\n",
              "      <td>-0.345356</td>\n",
              "    </tr>\n",
              "    <tr>\n",
              "      <th>229</th>\n",
              "      <td>-1.979329</td>\n",
              "      <td>-0.903628</td>\n",
              "      <td>-0.233363</td>\n",
              "      <td>2.580864</td>\n",
              "      <td>-0.990572</td>\n",
              "      <td>-0.397920</td>\n",
              "      <td>0.281755</td>\n",
              "      <td>0.238619</td>\n",
              "      <td>0.249102</td>\n",
              "      <td>0.651330</td>\n",
              "      <td>-0.881775</td>\n",
              "      <td>0.939972</td>\n",
              "      <td>0.397779</td>\n",
              "      <td>-1.494563</td>\n",
              "      <td>-0.428434</td>\n",
              "      <td>-1.307942</td>\n",
              "      <td>-0.095618</td>\n",
              "      <td>-0.080170</td>\n",
              "      <td>-0.432193</td>\n",
              "      <td>-0.336658</td>\n",
              "      <td>0.050471</td>\n",
              "      <td>-0.075017</td>\n",
              "      <td>-0.097906</td>\n",
              "      <td>0.059448</td>\n",
              "      <td>0.244548</td>\n",
              "      <td>-0.316141</td>\n",
              "      <td>0.754405</td>\n",
              "      <td>-0.166316</td>\n",
              "      <td>-0.138177</td>\n",
              "      <td>-0.082732</td>\n",
              "    </tr>\n",
              "    <tr>\n",
              "      <th>258</th>\n",
              "      <td>-1.978741</td>\n",
              "      <td>1.136752</td>\n",
              "      <td>-0.103770</td>\n",
              "      <td>0.904686</td>\n",
              "      <td>0.488211</td>\n",
              "      <td>-0.678524</td>\n",
              "      <td>0.039861</td>\n",
              "      <td>-0.581294</td>\n",
              "      <td>0.270996</td>\n",
              "      <td>0.256540</td>\n",
              "      <td>0.068092</td>\n",
              "      <td>1.445184</td>\n",
              "      <td>0.506268</td>\n",
              "      <td>-0.850215</td>\n",
              "      <td>0.464223</td>\n",
              "      <td>0.963247</td>\n",
              "      <td>0.522012</td>\n",
              "      <td>-0.463008</td>\n",
              "      <td>0.029022</td>\n",
              "      <td>-0.386661</td>\n",
              "      <td>-0.166087</td>\n",
              "      <td>-0.017527</td>\n",
              "      <td>-0.093159</td>\n",
              "      <td>0.119723</td>\n",
              "      <td>-0.000588</td>\n",
              "      <td>0.026252</td>\n",
              "      <td>0.229223</td>\n",
              "      <td>0.000201</td>\n",
              "      <td>0.010945</td>\n",
              "      <td>-0.343345</td>\n",
              "    </tr>\n",
              "    <tr>\n",
              "      <th>615</th>\n",
              "      <td>-1.972824</td>\n",
              "      <td>-0.634597</td>\n",
              "      <td>0.866354</td>\n",
              "      <td>1.123836</td>\n",
              "      <td>-0.304041</td>\n",
              "      <td>1.173910</td>\n",
              "      <td>0.257118</td>\n",
              "      <td>0.754325</td>\n",
              "      <td>0.171735</td>\n",
              "      <td>-0.825981</td>\n",
              "      <td>-0.531058</td>\n",
              "      <td>0.549389</td>\n",
              "      <td>0.598609</td>\n",
              "      <td>0.313814</td>\n",
              "      <td>0.354548</td>\n",
              "      <td>-0.156778</td>\n",
              "      <td>0.328551</td>\n",
              "      <td>-0.983933</td>\n",
              "      <td>0.235906</td>\n",
              "      <td>-0.630728</td>\n",
              "      <td>-0.105239</td>\n",
              "      <td>0.160463</td>\n",
              "      <td>0.422873</td>\n",
              "      <td>-0.353721</td>\n",
              "      <td>-0.847192</td>\n",
              "      <td>0.206896</td>\n",
              "      <td>-0.436112</td>\n",
              "      <td>0.110134</td>\n",
              "      <td>0.102261</td>\n",
              "      <td>-0.365348</td>\n",
              "    </tr>\n",
              "    <tr>\n",
              "      <th>623</th>\n",
              "      <td>-1.972636</td>\n",
              "      <td>-3.043541</td>\n",
              "      <td>-3.157307</td>\n",
              "      <td>1.088463</td>\n",
              "      <td>2.288644</td>\n",
              "      <td>1.359805</td>\n",
              "      <td>-1.064823</td>\n",
              "      <td>0.325574</td>\n",
              "      <td>-0.067794</td>\n",
              "      <td>-0.270953</td>\n",
              "      <td>-0.838587</td>\n",
              "      <td>-0.414575</td>\n",
              "      <td>-0.503141</td>\n",
              "      <td>0.676502</td>\n",
              "      <td>-1.692029</td>\n",
              "      <td>2.000635</td>\n",
              "      <td>0.666780</td>\n",
              "      <td>0.599717</td>\n",
              "      <td>1.725321</td>\n",
              "      <td>0.283345</td>\n",
              "      <td>2.102339</td>\n",
              "      <td>0.661696</td>\n",
              "      <td>0.435477</td>\n",
              "      <td>1.375966</td>\n",
              "      <td>-0.293803</td>\n",
              "      <td>0.279798</td>\n",
              "      <td>-0.145362</td>\n",
              "      <td>-0.252773</td>\n",
              "      <td>0.035764</td>\n",
              "      <td>1.758493</td>\n",
              "    </tr>\n",
              "  </tbody>\n",
              "</table>\n",
              "</div>"
            ],
            "text/plain": [
              "         Time        V1        V2  ...       V27       V28    Amount\n",
              "196 -1.979811 -0.485238  0.658497  ... -0.025381 -0.118565 -0.345356\n",
              "229 -1.979329 -0.903628 -0.233363  ... -0.166316 -0.138177 -0.082732\n",
              "258 -1.978741  1.136752 -0.103770  ...  0.000201  0.010945 -0.343345\n",
              "615 -1.972824 -0.634597  0.866354  ...  0.110134  0.102261 -0.365348\n",
              "623 -1.972636 -3.043541 -3.157307  ... -0.252773  0.035764  1.758493\n",
              "\n",
              "[5 rows x 30 columns]"
            ]
          },
          "metadata": {
            "tags": []
          },
          "execution_count": 19
        }
      ]
    },
    {
      "cell_type": "code",
      "metadata": {
        "id": "YseNmepwxfht"
      },
      "source": [
        "def plot_learning_curve(history,epochs):\n",
        "    epoch_range=range(1,epochs+1)\n",
        "    plt.plot(epoch_range,history.history['accuracy'])\n",
        "    plt.plot(epoch_range,history.history[\"val_accuracy\"])\n",
        "    plt.title(\"Model Accuracy\")\n",
        "    plt.xlabel(\"epochs\")\n",
        "    plt.ylabel(\"accuracy\")\n",
        "    plt.legend(\"train\",\"val\",loc=\"upper left\")\n",
        "    plt.show()\n",
        "     \n",
        "    plt.plot(epoch_range,history.history['loss'])\n",
        "    plt.plot(epoch_range,history.history['val_loss'])\n",
        "    plt.title('Model loss')\n",
        "    plt.ylabel('loss')\n",
        "    plt.xlabel('epoch')\n",
        "    plt.legend(['Train','Val'],loc='upper left')\n",
        "    plt.show()"
      ],
      "execution_count": 20,
      "outputs": []
    },
    {
      "cell_type": "markdown",
      "metadata": {
        "id": "gfSPfl1zY5G1"
      },
      "source": [
        "## Deep Neural Network"
      ]
    },
    {
      "cell_type": "code",
      "metadata": {
        "id": "Qf4ikg93tH2c"
      },
      "source": [
        "DNN = Sequential()\n",
        "DNN.add(Dense(input_dim = 30, units = 16, activation = 'relu'))\n",
        "DNN.add(Dense(units = 24, activation = 'relu'))\n",
        "DNN.add(Dense(units = 20, activation = 'relu'))\n",
        "DNN.add(Dense(units = 24, activation = 'relu'))\n",
        "DNN.add(Dense(units =1, activation = 'sigmoid'))"
      ],
      "execution_count": 21,
      "outputs": []
    },
    {
      "cell_type": "code",
      "metadata": {
        "colab": {
          "base_uri": "https://localhost:8080/"
        },
        "id": "KkS-4ebutYLJ",
        "outputId": "c269469a-6719-4db0-830e-13b6c5ea4641"
      },
      "source": [
        "DNN.compile(optimizer = 'adam', loss = 'binary_crossentropy', metrics = ['accuracy'])\n",
        "history = DNN.fit(x_train, y_train, epochs = 25, validation_data = (x_test,y_test),verbose=1)"
      ],
      "execution_count": 22,
      "outputs": [
        {
          "output_type": "stream",
          "text": [
            "Epoch 1/25\n",
            "50/50 [==============================] - 1s 13ms/step - loss: 0.5910 - accuracy: 0.7788 - val_loss: 0.3235 - val_accuracy: 0.9348\n",
            "Epoch 2/25\n",
            "50/50 [==============================] - 0s 3ms/step - loss: 0.2679 - accuracy: 0.9332 - val_loss: 0.2043 - val_accuracy: 0.9424\n",
            "Epoch 3/25\n",
            "50/50 [==============================] - 0s 3ms/step - loss: 0.1576 - accuracy: 0.9522 - val_loss: 0.1568 - val_accuracy: 0.9574\n",
            "Epoch 4/25\n",
            "50/50 [==============================] - 0s 2ms/step - loss: 0.1054 - accuracy: 0.9731 - val_loss: 0.1310 - val_accuracy: 0.9624\n",
            "Epoch 5/25\n",
            "50/50 [==============================] - 0s 3ms/step - loss: 0.1219 - accuracy: 0.9609 - val_loss: 0.1232 - val_accuracy: 0.9599\n",
            "Epoch 6/25\n",
            "50/50 [==============================] - 0s 3ms/step - loss: 0.0940 - accuracy: 0.9717 - val_loss: 0.1145 - val_accuracy: 0.9624\n",
            "Epoch 7/25\n",
            "50/50 [==============================] - 0s 3ms/step - loss: 0.0819 - accuracy: 0.9734 - val_loss: 0.1256 - val_accuracy: 0.9624\n",
            "Epoch 8/25\n",
            "50/50 [==============================] - 0s 3ms/step - loss: 0.0623 - accuracy: 0.9754 - val_loss: 0.1198 - val_accuracy: 0.9549\n",
            "Epoch 9/25\n",
            "50/50 [==============================] - 0s 3ms/step - loss: 0.0713 - accuracy: 0.9775 - val_loss: 0.1237 - val_accuracy: 0.9599\n",
            "Epoch 10/25\n",
            "50/50 [==============================] - 0s 3ms/step - loss: 0.0800 - accuracy: 0.9752 - val_loss: 0.1276 - val_accuracy: 0.9624\n",
            "Epoch 11/25\n",
            "50/50 [==============================] - 0s 3ms/step - loss: 0.0664 - accuracy: 0.9802 - val_loss: 0.1271 - val_accuracy: 0.9599\n",
            "Epoch 12/25\n",
            "50/50 [==============================] - 0s 3ms/step - loss: 0.0620 - accuracy: 0.9833 - val_loss: 0.1333 - val_accuracy: 0.9599\n",
            "Epoch 13/25\n",
            "50/50 [==============================] - 0s 3ms/step - loss: 0.0507 - accuracy: 0.9826 - val_loss: 0.1328 - val_accuracy: 0.9574\n",
            "Epoch 14/25\n",
            "50/50 [==============================] - 0s 3ms/step - loss: 0.0542 - accuracy: 0.9825 - val_loss: 0.1422 - val_accuracy: 0.9574\n",
            "Epoch 15/25\n",
            "50/50 [==============================] - 0s 6ms/step - loss: 0.0443 - accuracy: 0.9869 - val_loss: 0.1450 - val_accuracy: 0.9574\n",
            "Epoch 16/25\n",
            "50/50 [==============================] - 0s 3ms/step - loss: 0.0403 - accuracy: 0.9877 - val_loss: 0.1481 - val_accuracy: 0.9574\n",
            "Epoch 17/25\n",
            "50/50 [==============================] - 0s 3ms/step - loss: 0.0355 - accuracy: 0.9913 - val_loss: 0.1558 - val_accuracy: 0.9574\n",
            "Epoch 18/25\n",
            "50/50 [==============================] - 0s 3ms/step - loss: 0.0332 - accuracy: 0.9925 - val_loss: 0.1562 - val_accuracy: 0.9549\n",
            "Epoch 19/25\n",
            "50/50 [==============================] - 0s 3ms/step - loss: 0.0417 - accuracy: 0.9867 - val_loss: 0.1694 - val_accuracy: 0.9574\n",
            "Epoch 20/25\n",
            "50/50 [==============================] - 0s 3ms/step - loss: 0.0358 - accuracy: 0.9881 - val_loss: 0.1607 - val_accuracy: 0.9549\n",
            "Epoch 21/25\n",
            "50/50 [==============================] - 0s 3ms/step - loss: 0.0338 - accuracy: 0.9915 - val_loss: 0.1842 - val_accuracy: 0.9574\n",
            "Epoch 22/25\n",
            "50/50 [==============================] - 0s 3ms/step - loss: 0.0330 - accuracy: 0.9860 - val_loss: 0.1687 - val_accuracy: 0.9574\n",
            "Epoch 23/25\n",
            "50/50 [==============================] - 0s 3ms/step - loss: 0.0415 - accuracy: 0.9866 - val_loss: 0.1741 - val_accuracy: 0.9549\n",
            "Epoch 24/25\n",
            "50/50 [==============================] - 0s 3ms/step - loss: 0.0247 - accuracy: 0.9913 - val_loss: 0.1806 - val_accuracy: 0.9524\n",
            "Epoch 25/25\n",
            "50/50 [==============================] - 0s 3ms/step - loss: 0.0190 - accuracy: 0.9936 - val_loss: 0.1966 - val_accuracy: 0.9549\n"
          ],
          "name": "stdout"
        }
      ]
    },
    {
      "cell_type": "code",
      "metadata": {
        "colab": {
          "base_uri": "https://localhost:8080/",
          "height": 791
        },
        "id": "DTGS_1m57C1G",
        "outputId": "14dd7bbf-f8e9-4c53-c0b8-96fd522c09f3"
      },
      "source": [
        "plot_learning_curve(history, 25)"
      ],
      "execution_count": 23,
      "outputs": [
        {
          "output_type": "stream",
          "text": [
            "/usr/local/lib/python3.7/dist-packages/ipykernel_launcher.py:8: UserWarning: Legend does not support 't' instances.\n",
            "A proxy artist may be used instead.\n",
            "See: http://matplotlib.org/users/legend_guide.html#creating-artists-specifically-for-adding-to-the-legend-aka-proxy-artists\n",
            "  \n",
            "/usr/local/lib/python3.7/dist-packages/ipykernel_launcher.py:8: UserWarning: Legend does not support 'r' instances.\n",
            "A proxy artist may be used instead.\n",
            "See: http://matplotlib.org/users/legend_guide.html#creating-artists-specifically-for-adding-to-the-legend-aka-proxy-artists\n",
            "  \n",
            "/usr/local/lib/python3.7/dist-packages/ipykernel_launcher.py:8: UserWarning: Legend does not support 'a' instances.\n",
            "A proxy artist may be used instead.\n",
            "See: http://matplotlib.org/users/legend_guide.html#creating-artists-specifically-for-adding-to-the-legend-aka-proxy-artists\n",
            "  \n"
          ],
          "name": "stderr"
        },
        {
          "output_type": "display_data",
          "data": {
            "image/png": "[encoded data removed]",
            "text/plain": [
              "<Figure size 432x288 with 1 Axes>"
            ]
          },
          "metadata": {
            "tags": [],
            "needs_background": "light"
          }
        },
        {
          "output_type": "display_data",
          "data": {
            "image/png": "[encoded data removed]",
            "text/plain": [
              "<Figure size 432x288 with 1 Axes>"
            ]
          },
          "metadata": {
            "tags": [],
            "needs_background": "light"
          }
        }
      ]
    },
    {
      "cell_type": "code",
      "metadata": {
        "colab": {
          "base_uri": "https://localhost:8080/"
        },
        "id": "BjOGh4Bkt__K",
        "outputId": "30e0d87e-7ea1-4e0f-e817-b6223788a6bd"
      },
      "source": [
        "score = DNN.evaluate(x_test, y_test)"
      ],
      "execution_count": 24,
      "outputs": [
        {
          "output_type": "stream",
          "text": [
            "13/13 [==============================] - 0s 1ms/step - loss: 0.1966 - accuracy: 0.9549\n"
          ],
          "name": "stdout"
        }
      ]
    },
    {
      "cell_type": "code",
      "metadata": {
        "id": "DXUZHbnCupTy"
      },
      "source": [
        "y_pred = DNN.predict(x_test)\n",
        "cm = confusion_matrix(y_test, y_pred.round())"
      ],
      "execution_count": 25,
      "outputs": []
    },
    {
      "cell_type": "code",
      "metadata": {
        "colab": {
          "base_uri": "https://localhost:8080/"
        },
        "id": "3Tc8SX4Z24MV",
        "outputId": "2f92b5de-c8a3-4d25-821d-819d7ff6106b"
      },
      "source": [
        "print(classification_report(y_test, y_pred.round()))"
      ],
      "execution_count": 26,
      "outputs": [
        {
          "output_type": "stream",
          "text": [
            "              precision    recall  f1-score   support\n",
            "\n",
            "           0       0.96      0.98      0.97       301\n",
            "           1       0.93      0.88      0.91        98\n",
            "\n",
            "    accuracy                           0.95       399\n",
            "   macro avg       0.95      0.93      0.94       399\n",
            "weighted avg       0.95      0.95      0.95       399\n",
            "\n"
          ],
          "name": "stdout"
        }
      ]
    },
    {
      "cell_type": "code",
      "metadata": {
        "colab": {
          "base_uri": "https://localhost:8080/",
          "height": 350
        },
        "id": "1jWIAjadu4a5",
        "outputId": "a9eccb7c-4462-4c25-876b-2ce2c955633d"
      },
      "source": [
        "labels = [\"Fraud\", \"Normal\"]\n",
        "\n",
        "matrix = np.flip(cm)\n",
        "\n",
        "plt.figure(figsize=(5, 5))\n",
        "sns.heatmap(matrix, xticklabels=labels, yticklabels=labels,  annot=True, fmt=\"d\", cbar=False)\n",
        "plt.title(\"Confusion Matrix\")\n",
        "plt.ylabel('Actual')\n",
        "plt.xlabel('Predicted')\n",
        "plt.show()"
      ],
      "execution_count": 27,
      "outputs": [
        {
          "output_type": "display_data",
          "data": {
            "image/png": "[encoded data removed]",
            "text/plain": [
              "<Figure size 360x360 with 1 Axes>"
            ]
          },
          "metadata": {
            "tags": [],
            "needs_background": "light"
          }
        }
      ]
    },
    {
      "cell_type": "markdown",
      "metadata": {
        "id": "zcFmzjTkY-mm"
      },
      "source": [
        "## Convolutional Neural Network"
      ]
    },
    {
      "cell_type": "code",
      "metadata": {
        "colab": {
          "base_uri": "https://localhost:8080/"
        },
        "id": "qAmFi0gy4Va9",
        "outputId": "722532c3-3814-4c6c-8458-e9d68be7d497"
      },
      "source": [
        "x_train = np.array(x_train).reshape(x_train.shape[0], x_train.shape[1], 1)\n",
        "x_test = np.array(x_test).reshape(x_test.shape[0], x_test.shape[1], 1)\n",
        "input_shape = (x_train.shape[1], 1)\n",
        "\n",
        "print(\"Shapes:\\nx_train:%s\\ny_train:%s\\n\" % (x_train.shape, y_train.shape))\n",
        "print(\"x_test:%s\\ny_test:%s\\n\" % (x_test.shape, y_test.shape))\n",
        "print(\"input_shape:{}\\n\".format(input_shape))"
      ],
      "execution_count": 28,
      "outputs": [
        {
          "output_type": "stream",
          "text": [
            "Shapes:\n",
            "x_train:(1593, 30, 1)\n",
            "y_train:(1593,)\n",
            "\n",
            "x_test:(399, 30, 1)\n",
            "y_test:(399,)\n",
            "\n",
            "input_shape:(30, 1)\n",
            "\n"
          ],
          "name": "stdout"
        }
      ]
    },
    {
      "cell_type": "code",
      "metadata": {
        "colab": {
          "base_uri": "https://localhost:8080/"
        },
        "id": "k8eM6nG5-X8A",
        "outputId": "92cc8717-772a-4d0c-c3f9-567ca0e6dc77"
      },
      "source": [
        "x_train[:5]"
      ],
      "execution_count": 29,
      "outputs": [
        {
          "output_type": "execute_result",
          "data": {
            "text/plain": [
              "array([[[-1.97981139e+00],\n",
              "        [-4.85237731e-01],\n",
              "        [ 6.58496594e-01],\n",
              "        [ 1.94996662e+00],\n",
              "        [ 1.24969475e+00],\n",
              "        [ 4.26410290e-01],\n",
              "        [ 2.31512687e-01],\n",
              "        [ 5.85115384e-01],\n",
              "        [ 2.91629910e-02],\n",
              "        [-5.20297446e-01],\n",
              "        [ 5.59114747e-02],\n",
              "        [ 1.26531109e+00],\n",
              "        [ 5.21276565e-01],\n",
              "        [-8.30439424e-01],\n",
              "        [ 1.57454834e-01],\n",
              "        [-3.65074566e-01],\n",
              "        [-1.14218704e+00],\n",
              "        [ 4.09601003e-01],\n",
              "        [-2.04876492e-01],\n",
              "        [ 1.01048316e+00],\n",
              "        [ 8.93777272e-02],\n",
              "        [ 7.29012156e-03],\n",
              "        [ 3.28243726e-01],\n",
              "        [-2.32563155e-01],\n",
              "        [ 2.25572061e-01],\n",
              "        [ 2.58916791e-02],\n",
              "        [-2.47395420e-01],\n",
              "        [-2.53810208e-02],\n",
              "        [-1.18564650e-01],\n",
              "        [-3.45356468e-01]],\n",
              "\n",
              "       [[-1.97932880e+00],\n",
              "        [-9.03628224e-01],\n",
              "        [-2.33362598e-01],\n",
              "        [ 2.58086353e+00],\n",
              "        [-9.90572327e-01],\n",
              "        [-3.97920255e-01],\n",
              "        [ 2.81755037e-01],\n",
              "        [ 2.38618916e-01],\n",
              "        [ 2.49101589e-01],\n",
              "        [ 6.51330368e-01],\n",
              "        [-8.81774861e-01],\n",
              "        [ 9.39971814e-01],\n",
              "        [ 3.97778746e-01],\n",
              "        [-1.49456263e+00],\n",
              "        [-4.28434388e-01],\n",
              "        [-1.30794235e+00],\n",
              "        [-9.56183594e-02],\n",
              "        [-8.01697746e-02],\n",
              "        [-4.32193307e-01],\n",
              "        [-3.36658276e-01],\n",
              "        [ 5.04711871e-02],\n",
              "        [-7.50174594e-02],\n",
              "        [-9.79062674e-02],\n",
              "        [ 5.94478702e-02],\n",
              "        [ 2.44547634e-01],\n",
              "        [-3.16141151e-01],\n",
              "        [ 7.54404530e-01],\n",
              "        [-1.66315609e-01],\n",
              "        [-1.38177096e-01],\n",
              "        [-8.27323090e-02]],\n",
              "\n",
              "       [[-1.97874131e+00],\n",
              "        [ 1.13675205e+00],\n",
              "        [-1.03769567e-01],\n",
              "        [ 9.04686444e-01],\n",
              "        [ 4.88210755e-01],\n",
              "        [-6.78523515e-01],\n",
              "        [ 3.98607288e-02],\n",
              "        [-5.81293921e-01],\n",
              "        [ 2.70996198e-01],\n",
              "        [ 2.56539561e-01],\n",
              "        [ 6.80916931e-02],\n",
              "        [ 1.44518366e+00],\n",
              "        [ 5.06268152e-01],\n",
              "        [-8.50214520e-01],\n",
              "        [ 4.64222960e-01],\n",
              "        [ 9.63247298e-01],\n",
              "        [ 5.22011841e-01],\n",
              "        [-4.63008422e-01],\n",
              "        [ 2.90218231e-02],\n",
              "        [-3.86661217e-01],\n",
              "        [-1.66087120e-01],\n",
              "        [-1.75269133e-02],\n",
              "        [-9.31591658e-02],\n",
              "        [ 1.19722965e-01],\n",
              "        [-5.88012209e-04],\n",
              "        [ 2.62521922e-02],\n",
              "        [ 2.29223266e-01],\n",
              "        [ 2.01188153e-04],\n",
              "        [ 1.09449634e-02],\n",
              "        [-3.43345255e-01]],\n",
              "\n",
              "       [[-1.97282441e+00],\n",
              "        [-6.34596978e-01],\n",
              "        [ 8.66354365e-01],\n",
              "        [ 1.12383603e+00],\n",
              "        [-3.04041138e-01],\n",
              "        [ 1.17391035e+00],\n",
              "        [ 2.57117549e-01],\n",
              "        [ 7.54324791e-01],\n",
              "        [ 1.71735204e-01],\n",
              "        [-8.25981000e-01],\n",
              "        [-5.31057505e-01],\n",
              "        [ 5.49388754e-01],\n",
              "        [ 5.98608608e-01],\n",
              "        [ 3.13813741e-01],\n",
              "        [ 3.54547923e-01],\n",
              "        [-1.56778172e-01],\n",
              "        [ 3.28550852e-01],\n",
              "        [-9.83932654e-01],\n",
              "        [ 2.35905880e-01],\n",
              "        [-6.30727658e-01],\n",
              "        [-1.05239310e-01],\n",
              "        [ 1.60462973e-01],\n",
              "        [ 4.22873291e-01],\n",
              "        [-3.53720811e-01],\n",
              "        [-8.47192435e-01],\n",
              "        [ 2.06896351e-01],\n",
              "        [-4.36112266e-01],\n",
              "        [ 1.10134095e-01],\n",
              "        [ 1.02260716e-01],\n",
              "        [-3.65347923e-01]],\n",
              "\n",
              "       [[-1.97263557e+00],\n",
              "        [-3.04354062e+00],\n",
              "        [-3.15730712e+00],\n",
              "        [ 1.08846278e+00],\n",
              "        [ 2.28864362e+00],\n",
              "        [ 1.35980513e+00],\n",
              "        [-1.06482252e+00],\n",
              "        [ 3.25574266e-01],\n",
              "        [-6.77936532e-02],\n",
              "        [-2.70952836e-01],\n",
              "        [-8.38586565e-01],\n",
              "        [-4.14575448e-01],\n",
              "        [-5.03140860e-01],\n",
              "        [ 6.76501545e-01],\n",
              "        [-1.69202893e+00],\n",
              "        [ 2.00063484e+00],\n",
              "        [ 6.66779696e-01],\n",
              "        [ 5.99717414e-01],\n",
              "        [ 1.72532101e+00],\n",
              "        [ 2.83344830e-01],\n",
              "        [ 2.10233879e+00],\n",
              "        [ 6.61695925e-01],\n",
              "        [ 4.35477209e-01],\n",
              "        [ 1.37596574e+00],\n",
              "        [-2.93803153e-01],\n",
              "        [ 2.79798032e-01],\n",
              "        [-1.45361715e-01],\n",
              "        [-2.52773123e-01],\n",
              "        [ 3.57642252e-02],\n",
              "        [ 1.75849273e+00]]])"
            ]
          },
          "metadata": {
            "tags": []
          },
          "execution_count": 29
        }
      ]
    },
    {
      "cell_type": "code",
      "metadata": {
        "id": "acKzfHbrY8er"
      },
      "source": [
        "CNN=Sequential()\n",
        "\n",
        "CNN.add(Conv1D(filters=32, kernel_size=2, activation='relu',input_shape=x_train[0].shape))\n",
        "CNN.add(BatchNormalization())\n",
        "CNN.add(MaxPool1D(pool_size=2))\n",
        "CNN.add(Dropout(rate=0.2))\n",
        "\n",
        "CNN.add(Conv1D(64,2,activation='relu'))\n",
        "CNN.add(BatchNormalization())\n",
        "CNN.add(MaxPool1D(pool_size=2))\n",
        "CNN.add(Dropout(rate=0.5))\n",
        "\n",
        "\n",
        "#flattening layer\n",
        "CNN.add(Flatten())\n",
        "CNN.add(Dense(64,activation=\"relu\"))\n",
        "CNN.add(Dropout(rate=0.5))\n",
        "\n",
        "#final layer\n",
        "CNN.add(Dense(units=1,activation=\"sigmoid\"))"
      ],
      "execution_count": 30,
      "outputs": []
    },
    {
      "cell_type": "code",
      "metadata": {
        "id": "Iupg1H77ZBbd",
        "colab": {
          "base_uri": "https://localhost:8080/"
        },
        "outputId": "d1761c84-02ec-4fb9-a286-10c8c68e3340"
      },
      "source": [
        "CNN.summary()"
      ],
      "execution_count": 31,
      "outputs": [
        {
          "output_type": "stream",
          "text": [
            "Model: \"sequential_1\"\n",
            "_________________________________________________________________\n",
            "Layer (type)                 Output Shape              Param #   \n",
            "=================================================================\n",
            "conv1d (Conv1D)              (None, 29, 32)            96        \n",
            "_________________________________________________________________\n",
            "batch_normalization (BatchNo (None, 29, 32)            128       \n",
            "_________________________________________________________________\n",
            "max_pooling1d (MaxPooling1D) (None, 14, 32)            0         \n",
            "_________________________________________________________________\n",
            "dropout (Dropout)            (None, 14, 32)            0         \n",
            "_________________________________________________________________\n",
            "conv1d_1 (Conv1D)            (None, 13, 64)            4160      \n",
            "_________________________________________________________________\n",
            "batch_normalization_1 (Batch (None, 13, 64)            256       \n",
            "_________________________________________________________________\n",
            "max_pooling1d_1 (MaxPooling1 (None, 6, 64)             0         \n",
            "_________________________________________________________________\n",
            "dropout_1 (Dropout)          (None, 6, 64)             0         \n",
            "_________________________________________________________________\n",
            "flatten (Flatten)            (None, 384)               0         \n",
            "_________________________________________________________________\n",
            "dense_5 (Dense)              (None, 64)                24640     \n",
            "_________________________________________________________________\n",
            "dropout_2 (Dropout)          (None, 64)                0         \n",
            "_________________________________________________________________\n",
            "dense_6 (Dense)              (None, 1)                 65        \n",
            "=================================================================\n",
            "Total params: 29,345\n",
            "Trainable params: 29,153\n",
            "Non-trainable params: 192\n",
            "_________________________________________________________________\n"
          ],
          "name": "stdout"
        }
      ]
    },
    {
      "cell_type": "code",
      "metadata": {
        "id": "UqbQHw2LZFar"
      },
      "source": [
        "CNN.compile(optimizer=Adam(lr=0.001),loss='binary_crossentropy',metrics=['accuracy'])"
      ],
      "execution_count": 32,
      "outputs": []
    },
    {
      "cell_type": "code",
      "metadata": {
        "id": "oN-zOL7WZKNc",
        "colab": {
          "base_uri": "https://localhost:8080/"
        },
        "outputId": "83919935-866a-449c-c3c6-c60779c3f58f"
      },
      "source": [
        "history =CNN.fit(x_train,y_train,epochs=25, validation_data = (x_test,y_test),verbose=1)"
      ],
      "execution_count": 33,
      "outputs": [
        {
          "output_type": "stream",
          "text": [
            "Epoch 1/25\n",
            "50/50 [==============================] - 2s 12ms/step - loss: 0.6469 - accuracy: 0.7911 - val_loss: 0.3757 - val_accuracy: 0.9098\n",
            "Epoch 2/25\n",
            "50/50 [==============================] - 0s 7ms/step - loss: 0.2419 - accuracy: 0.9282 - val_loss: 0.2230 - val_accuracy: 0.9549\n",
            "Epoch 3/25\n",
            "50/50 [==============================] - 0s 7ms/step - loss: 0.2201 - accuracy: 0.9485 - val_loss: 0.1804 - val_accuracy: 0.9549\n",
            "Epoch 4/25\n",
            "50/50 [==============================] - 0s 6ms/step - loss: 0.2186 - accuracy: 0.9372 - val_loss: 0.1618 - val_accuracy: 0.9549\n",
            "Epoch 5/25\n",
            "50/50 [==============================] - 0s 7ms/step - loss: 0.1947 - accuracy: 0.9407 - val_loss: 0.1535 - val_accuracy: 0.9549\n",
            "Epoch 6/25\n",
            "50/50 [==============================] - 0s 7ms/step - loss: 0.1769 - accuracy: 0.9521 - val_loss: 0.1485 - val_accuracy: 0.9549\n",
            "Epoch 7/25\n",
            "50/50 [==============================] - 0s 8ms/step - loss: 0.1411 - accuracy: 0.9592 - val_loss: 0.1455 - val_accuracy: 0.9549\n",
            "Epoch 8/25\n",
            "50/50 [==============================] - 0s 7ms/step - loss: 0.1438 - accuracy: 0.9580 - val_loss: 0.1496 - val_accuracy: 0.9549\n",
            "Epoch 9/25\n",
            "50/50 [==============================] - 0s 7ms/step - loss: 0.1453 - accuracy: 0.9540 - val_loss: 0.1432 - val_accuracy: 0.9524\n",
            "Epoch 10/25\n",
            "50/50 [==============================] - 0s 7ms/step - loss: 0.1576 - accuracy: 0.9455 - val_loss: 0.1442 - val_accuracy: 0.9549\n",
            "Epoch 11/25\n",
            "50/50 [==============================] - 0s 7ms/step - loss: 0.1346 - accuracy: 0.9640 - val_loss: 0.1406 - val_accuracy: 0.9574\n",
            "Epoch 12/25\n",
            "50/50 [==============================] - 0s 7ms/step - loss: 0.1397 - accuracy: 0.9558 - val_loss: 0.1384 - val_accuracy: 0.9549\n",
            "Epoch 13/25\n",
            "50/50 [==============================] - 0s 7ms/step - loss: 0.1173 - accuracy: 0.9620 - val_loss: 0.1392 - val_accuracy: 0.9574\n",
            "Epoch 14/25\n",
            "50/50 [==============================] - 0s 7ms/step - loss: 0.1439 - accuracy: 0.9626 - val_loss: 0.1366 - val_accuracy: 0.9524\n",
            "Epoch 15/25\n",
            "50/50 [==============================] - 0s 7ms/step - loss: 0.1262 - accuracy: 0.9626 - val_loss: 0.1467 - val_accuracy: 0.9524\n",
            "Epoch 16/25\n",
            "50/50 [==============================] - 0s 6ms/step - loss: 0.1501 - accuracy: 0.9554 - val_loss: 0.1434 - val_accuracy: 0.9574\n",
            "Epoch 17/25\n",
            "50/50 [==============================] - 0s 6ms/step - loss: 0.1355 - accuracy: 0.9542 - val_loss: 0.1392 - val_accuracy: 0.9549\n",
            "Epoch 18/25\n",
            "50/50 [==============================] - 0s 6ms/step - loss: 0.1554 - accuracy: 0.9508 - val_loss: 0.1490 - val_accuracy: 0.9599\n",
            "Epoch 19/25\n",
            "50/50 [==============================] - 0s 7ms/step - loss: 0.1177 - accuracy: 0.9602 - val_loss: 0.1495 - val_accuracy: 0.9524\n",
            "Epoch 20/25\n",
            "50/50 [==============================] - 0s 6ms/step - loss: 0.1012 - accuracy: 0.9619 - val_loss: 0.1488 - val_accuracy: 0.9549\n",
            "Epoch 21/25\n",
            "50/50 [==============================] - 0s 7ms/step - loss: 0.1205 - accuracy: 0.9576 - val_loss: 0.1473 - val_accuracy: 0.9549\n",
            "Epoch 22/25\n",
            "50/50 [==============================] - 0s 7ms/step - loss: 0.1044 - accuracy: 0.9640 - val_loss: 0.1429 - val_accuracy: 0.9549\n",
            "Epoch 23/25\n",
            "50/50 [==============================] - 0s 6ms/step - loss: 0.1086 - accuracy: 0.9692 - val_loss: 0.1339 - val_accuracy: 0.9574\n",
            "Epoch 24/25\n",
            "50/50 [==============================] - 0s 7ms/step - loss: 0.1151 - accuracy: 0.9592 - val_loss: 0.1382 - val_accuracy: 0.9524\n",
            "Epoch 25/25\n",
            "50/50 [==============================] - 0s 6ms/step - loss: 0.1023 - accuracy: 0.9671 - val_loss: 0.1443 - val_accuracy: 0.9574\n"
          ],
          "name": "stdout"
        }
      ]
    },
    {
      "cell_type": "code",
      "metadata": {
        "id": "cUkZRPiWxlWo",
        "colab": {
          "base_uri": "https://localhost:8080/",
          "height": 791
        },
        "outputId": "73655b4a-80be-4c42-8f85-17c548c56d81"
      },
      "source": [
        "plot_learning_curve(history, 25)"
      ],
      "execution_count": 34,
      "outputs": [
        {
          "output_type": "stream",
          "text": [
            "/usr/local/lib/python3.7/dist-packages/ipykernel_launcher.py:8: UserWarning: Legend does not support 't' instances.\n",
            "A proxy artist may be used instead.\n",
            "See: http://matplotlib.org/users/legend_guide.html#creating-artists-specifically-for-adding-to-the-legend-aka-proxy-artists\n",
            "  \n",
            "/usr/local/lib/python3.7/dist-packages/ipykernel_launcher.py:8: UserWarning: Legend does not support 'r' instances.\n",
            "A proxy artist may be used instead.\n",
            "See: http://matplotlib.org/users/legend_guide.html#creating-artists-specifically-for-adding-to-the-legend-aka-proxy-artists\n",
            "  \n",
            "/usr/local/lib/python3.7/dist-packages/ipykernel_launcher.py:8: UserWarning: Legend does not support 'a' instances.\n",
            "A proxy artist may be used instead.\n",
            "See: http://matplotlib.org/users/legend_guide.html#creating-artists-specifically-for-adding-to-the-legend-aka-proxy-artists\n",
            "  \n"
          ],
          "name": "stderr"
        },
        {
          "output_type": "display_data",
          "data": {
            "image/png": "[encoded data removed]",
            "text/plain": [
              "<Figure size 432x288 with 1 Axes>"
            ]
          },
          "metadata": {
            "tags": [],
            "needs_background": "light"
          }
        },
        {
          "output_type": "display_data",
          "data": {
            "image/png": "[encoded data removed]",
            "text/plain": [
              "<Figure size 432x288 with 1 Axes>"
            ]
          },
          "metadata": {
            "tags": [],
            "needs_background": "light"
          }
        }
      ]
    },
    {
      "cell_type": "code",
      "metadata": {
        "id": "s0WRNA-mxo0_",
        "colab": {
          "base_uri": "https://localhost:8080/"
        },
        "outputId": "c201c35a-84cf-4009-9a74-53ebd0f56768"
      },
      "source": [
        "final_acc = CNN.evaluate(x_train,y_train, verbose=0)\n",
        "print('Test loss:', final_acc[0])\n",
        "print('Test accuracy:', final_acc[1])"
      ],
      "execution_count": 35,
      "outputs": [
        {
          "output_type": "stream",
          "text": [
            "Test loss: 0.08167319744825363\n",
            "Test accuracy: 0.966729462146759\n"
          ],
          "name": "stdout"
        }
      ]
    },
    {
      "cell_type": "code",
      "metadata": {
        "colab": {
          "base_uri": "https://localhost:8080/"
        },
        "id": "KdW7JL6q5Glu",
        "outputId": "bc53f1a7-84bf-4a8b-ef31-df0f17edd9c6"
      },
      "source": [
        "print(classification_report(y_test, y_pred.round()))"
      ],
      "execution_count": 36,
      "outputs": [
        {
          "output_type": "stream",
          "text": [
            "              precision    recall  f1-score   support\n",
            "\n",
            "           0       0.96      0.98      0.97       301\n",
            "           1       0.93      0.88      0.91        98\n",
            "\n",
            "    accuracy                           0.95       399\n",
            "   macro avg       0.95      0.93      0.94       399\n",
            "weighted avg       0.95      0.95      0.95       399\n",
            "\n"
          ],
          "name": "stdout"
        }
      ]
    },
    {
      "cell_type": "code",
      "metadata": {
        "id": "KOywukVc5MIO"
      },
      "source": [
        "y_pred = CNN.predict(x_test)\n",
        "cm = confusion_matrix(y_test, y_pred.round())"
      ],
      "execution_count": 37,
      "outputs": []
    },
    {
      "cell_type": "code",
      "metadata": {
        "id": "LDQ-kYbQxuNb",
        "colab": {
          "base_uri": "https://localhost:8080/"
        },
        "outputId": "e44b7ac7-1e89-4b74-f27d-ff2d7ff61c8d"
      },
      "source": [
        "print(classification_report(y_test, y_pred.round()))"
      ],
      "execution_count": 38,
      "outputs": [
        {
          "output_type": "stream",
          "text": [
            "              precision    recall  f1-score   support\n",
            "\n",
            "           0       0.95      1.00      0.97       301\n",
            "           1       0.99      0.84      0.91        98\n",
            "\n",
            "    accuracy                           0.96       399\n",
            "   macro avg       0.97      0.92      0.94       399\n",
            "weighted avg       0.96      0.96      0.96       399\n",
            "\n"
          ],
          "name": "stdout"
        }
      ]
    },
    {
      "cell_type": "code",
      "metadata": {
        "colab": {
          "base_uri": "https://localhost:8080/",
          "height": 350
        },
        "id": "ArX0yfs15SgH",
        "outputId": "b412421b-9379-4058-a113-abe8de6a5335"
      },
      "source": [
        "labels = [\"Fraud\", \"Normal\"]\n",
        "\n",
        "matrix = np.flip(cm)\n",
        "\n",
        "plt.figure(figsize=(5, 5))\n",
        "sns.heatmap(matrix, xticklabels=labels, yticklabels=labels,  annot=True, fmt=\"d\", cbar=False)\n",
        "plt.title(\"Confusion Matrix\")\n",
        "plt.ylabel('Actual')\n",
        "plt.xlabel('Predicted')\n",
        "plt.show()"
      ],
      "execution_count": 39,
      "outputs": [
        {
          "output_type": "display_data",
          "data": {
            "image/png": "[encoded data removed]",
            "text/plain": [
              "<Figure size 360x360 with 1 Axes>"
            ]
          },
          "metadata": {
            "tags": [],
            "needs_background": "light"
          }
        }
      ]
    },
    {
      "cell_type": "code",
      "metadata": {
        "id": "VHsQJGhpHSYt"
      },
      "source": [
        ""
      ],
      "execution_count": 39,
      "outputs": []
    }
  ]
}