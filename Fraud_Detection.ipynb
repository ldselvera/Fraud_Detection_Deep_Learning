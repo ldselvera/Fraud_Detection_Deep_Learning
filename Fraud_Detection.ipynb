{
  "nbformat": 4,
  "nbformat_minor": 0,
  "metadata": {
    "colab": {
      "name": "Fraud_Detection.ipynb",
      "provenance": [],
      "collapsed_sections": [],
      "mount_file_id": "https://github.com/ldselvera/Fraud_Detection_Deep_Learning/blob/main/Fraud_Detection.ipynb",
      "authorship_tag": "ABX9TyN43QrOjauimet3AnrkrYtg",
      "include_colab_link": true
    },
    "kernelspec": {
      "name": "python3",
      "display_name": "Python 3"
    }
  },
  "cells": [
    {
      "cell_type": "markdown",
      "metadata": {
        "id": "view-in-github",
        "colab_type": "text"
      },
      "source": [
        "<a href=\"https://colab.research.google.com/github/ldselvera/Fraud_Detection_Deep_Learning/blob/main/Fraud_Detection.ipynb\" target=\"_parent\"><img src=\"https://colab.research.google.com/assets/colab-badge.svg\" alt=\"Open In Colab\"/></a>"
      ]
    },
    {
      "cell_type": "markdown",
      "metadata": {
        "id": "mA4C1zNFYYY9"
      },
      "source": [
        "## Imports"
      ]
    },
    {
      "cell_type": "code",
      "metadata": {
        "colab": {
          "base_uri": "https://localhost:8080/"
        },
        "id": "8JIuMMWawJWk",
        "outputId": "2bb72738-d6a1-48b1-e047-ba0a3b01a70a"
      },
      "source": [
        "import pandas as pd\n",
        "import numpy as np\n",
        "import matplotlib.pyplot as plt\n",
        "import seaborn as sns\n",
        "\n",
        "import tensorflow as tf\n",
        "from tensorflow import keras\n",
        "from tensorflow.keras.optimizers import Adam\n",
        "\n",
        "from keras import regularizers, optimizers\n",
        "from keras.models import Sequential, Model, load_model\n",
        "from keras.layers import Input, Conv1D, Dense, Flatten, Activation, UpSampling1D, MaxPooling1D, ZeroPadding1D\n",
        "from keras.layers import Flatten, Dropout, BatchNormalization, MaxPool1D\n",
        "\n",
        "from sklearn.model_selection import train_test_split\n",
        "from sklearn.preprocessing import StandardScaler\n",
        "from sklearn.metrics import confusion_matrix, classification_report, roc_auc_score\n",
        "from sklearn import datasets, decomposition, preprocessing\n",
        "\n",
        "from mpl_toolkits.mplot3d import Axes3D\n",
        "\n",
        "print(tf.__version__)"
      ],
      "execution_count": 1,
      "outputs": [
        {
          "output_type": "stream",
          "text": [
            "2.4.1\n"
          ],
          "name": "stdout"
        }
      ]
    },
    {
      "cell_type": "markdown",
      "metadata": {
        "id": "A31EgwShR_e0"
      },
      "source": [
        "## Dataset"
      ]
    },
    {
      "cell_type": "code",
      "metadata": {
        "id": "zoYfwsWzwL0j"
      },
      "source": [
        "#import dataset from csv\n",
        "\n",
        "#Modify with your own path\n",
        "df = pd.read_csv(\"/content/drive/MyDrive/Colab Notebooks/fraud/creditcard.csv\")"
      ],
      "execution_count": 2,
      "outputs": []
    },
    {
      "cell_type": "code",
      "metadata": {
        "colab": {
          "base_uri": "https://localhost:8080/",
          "height": 226
        },
        "id": "QDJ7ukVSn4sm",
        "outputId": "d0fd4b97-ae7f-4490-8b6a-3e29de6e15fb"
      },
      "source": [
        "#preview of the data\n",
        "df.head()"
      ],
      "execution_count": 3,
      "outputs": [
        {
          "output_type": "execute_result",
          "data": {
            "text/html": [
              "<div>\n",
              "<style scoped>\n",
              "    .dataframe tbody tr th:only-of-type {\n",
              "        vertical-align: middle;\n",
              "    }\n",
              "\n",
              "    .dataframe tbody tr th {\n",
              "        vertical-align: top;\n",
              "    }\n",
              "\n",
              "    .dataframe thead th {\n",
              "        text-align: right;\n",
              "    }\n",
              "</style>\n",
              "<table border=\"1\" class=\"dataframe\">\n",
              "  <thead>\n",
              "    <tr style=\"text-align: right;\">\n",
              "      <th></th>\n",
              "      <th>Time</th>\n",
              "      <th>V1</th>\n",
              "      <th>V2</th>\n",
              "      <th>V3</th>\n",
              "      <th>V4</th>\n",
              "      <th>V5</th>\n",
              "      <th>V6</th>\n",
              "      <th>V7</th>\n",
              "      <th>V8</th>\n",
              "      <th>V9</th>\n",
              "      <th>V10</th>\n",
              "      <th>V11</th>\n",
              "      <th>V12</th>\n",
              "      <th>V13</th>\n",
              "      <th>V14</th>\n",
              "      <th>V15</th>\n",
              "      <th>V16</th>\n",
              "      <th>V17</th>\n",
              "      <th>V18</th>\n",
              "      <th>V19</th>\n",
              "      <th>V20</th>\n",
              "      <th>V21</th>\n",
              "      <th>V22</th>\n",
              "      <th>V23</th>\n",
              "      <th>V24</th>\n",
              "      <th>V25</th>\n",
              "      <th>V26</th>\n",
              "      <th>V27</th>\n",
              "      <th>V28</th>\n",
              "      <th>Amount</th>\n",
              "      <th>Class</th>\n",
              "    </tr>\n",
              "  </thead>\n",
              "  <tbody>\n",
              "    <tr>\n",
              "      <th>0</th>\n",
              "      <td>0.0</td>\n",
              "      <td>-1.359807</td>\n",
              "      <td>-0.072781</td>\n",
              "      <td>2.536347</td>\n",
              "      <td>1.378155</td>\n",
              "      <td>-0.338321</td>\n",
              "      <td>0.462388</td>\n",
              "      <td>0.239599</td>\n",
              "      <td>0.098698</td>\n",
              "      <td>0.363787</td>\n",
              "      <td>0.090794</td>\n",
              "      <td>-0.551600</td>\n",
              "      <td>-0.617801</td>\n",
              "      <td>-0.991390</td>\n",
              "      <td>-0.311169</td>\n",
              "      <td>1.468177</td>\n",
              "      <td>-0.470401</td>\n",
              "      <td>0.207971</td>\n",
              "      <td>0.025791</td>\n",
              "      <td>0.403993</td>\n",
              "      <td>0.251412</td>\n",
              "      <td>-0.018307</td>\n",
              "      <td>0.277838</td>\n",
              "      <td>-0.110474</td>\n",
              "      <td>0.066928</td>\n",
              "      <td>0.128539</td>\n",
              "      <td>-0.189115</td>\n",
              "      <td>0.133558</td>\n",
              "      <td>-0.021053</td>\n",
              "      <td>149.62</td>\n",
              "      <td>0</td>\n",
              "    </tr>\n",
              "    <tr>\n",
              "      <th>1</th>\n",
              "      <td>0.0</td>\n",
              "      <td>1.191857</td>\n",
              "      <td>0.266151</td>\n",
              "      <td>0.166480</td>\n",
              "      <td>0.448154</td>\n",
              "      <td>0.060018</td>\n",
              "      <td>-0.082361</td>\n",
              "      <td>-0.078803</td>\n",
              "      <td>0.085102</td>\n",
              "      <td>-0.255425</td>\n",
              "      <td>-0.166974</td>\n",
              "      <td>1.612727</td>\n",
              "      <td>1.065235</td>\n",
              "      <td>0.489095</td>\n",
              "      <td>-0.143772</td>\n",
              "      <td>0.635558</td>\n",
              "      <td>0.463917</td>\n",
              "      <td>-0.114805</td>\n",
              "      <td>-0.183361</td>\n",
              "      <td>-0.145783</td>\n",
              "      <td>-0.069083</td>\n",
              "      <td>-0.225775</td>\n",
              "      <td>-0.638672</td>\n",
              "      <td>0.101288</td>\n",
              "      <td>-0.339846</td>\n",
              "      <td>0.167170</td>\n",
              "      <td>0.125895</td>\n",
              "      <td>-0.008983</td>\n",
              "      <td>0.014724</td>\n",
              "      <td>2.69</td>\n",
              "      <td>0</td>\n",
              "    </tr>\n",
              "    <tr>\n",
              "      <th>2</th>\n",
              "      <td>1.0</td>\n",
              "      <td>-1.358354</td>\n",
              "      <td>-1.340163</td>\n",
              "      <td>1.773209</td>\n",
              "      <td>0.379780</td>\n",
              "      <td>-0.503198</td>\n",
              "      <td>1.800499</td>\n",
              "      <td>0.791461</td>\n",
              "      <td>0.247676</td>\n",
              "      <td>-1.514654</td>\n",
              "      <td>0.207643</td>\n",
              "      <td>0.624501</td>\n",
              "      <td>0.066084</td>\n",
              "      <td>0.717293</td>\n",
              "      <td>-0.165946</td>\n",
              "      <td>2.345865</td>\n",
              "      <td>-2.890083</td>\n",
              "      <td>1.109969</td>\n",
              "      <td>-0.121359</td>\n",
              "      <td>-2.261857</td>\n",
              "      <td>0.524980</td>\n",
              "      <td>0.247998</td>\n",
              "      <td>0.771679</td>\n",
              "      <td>0.909412</td>\n",
              "      <td>-0.689281</td>\n",
              "      <td>-0.327642</td>\n",
              "      <td>-0.139097</td>\n",
              "      <td>-0.055353</td>\n",
              "      <td>-0.059752</td>\n",
              "      <td>378.66</td>\n",
              "      <td>0</td>\n",
              "    </tr>\n",
              "    <tr>\n",
              "      <th>3</th>\n",
              "      <td>1.0</td>\n",
              "      <td>-0.966272</td>\n",
              "      <td>-0.185226</td>\n",
              "      <td>1.792993</td>\n",
              "      <td>-0.863291</td>\n",
              "      <td>-0.010309</td>\n",
              "      <td>1.247203</td>\n",
              "      <td>0.237609</td>\n",
              "      <td>0.377436</td>\n",
              "      <td>-1.387024</td>\n",
              "      <td>-0.054952</td>\n",
              "      <td>-0.226487</td>\n",
              "      <td>0.178228</td>\n",
              "      <td>0.507757</td>\n",
              "      <td>-0.287924</td>\n",
              "      <td>-0.631418</td>\n",
              "      <td>-1.059647</td>\n",
              "      <td>-0.684093</td>\n",
              "      <td>1.965775</td>\n",
              "      <td>-1.232622</td>\n",
              "      <td>-0.208038</td>\n",
              "      <td>-0.108300</td>\n",
              "      <td>0.005274</td>\n",
              "      <td>-0.190321</td>\n",
              "      <td>-1.175575</td>\n",
              "      <td>0.647376</td>\n",
              "      <td>-0.221929</td>\n",
              "      <td>0.062723</td>\n",
              "      <td>0.061458</td>\n",
              "      <td>123.50</td>\n",
              "      <td>0</td>\n",
              "    </tr>\n",
              "    <tr>\n",
              "      <th>4</th>\n",
              "      <td>2.0</td>\n",
              "      <td>-1.158233</td>\n",
              "      <td>0.877737</td>\n",
              "      <td>1.548718</td>\n",
              "      <td>0.403034</td>\n",
              "      <td>-0.407193</td>\n",
              "      <td>0.095921</td>\n",
              "      <td>0.592941</td>\n",
              "      <td>-0.270533</td>\n",
              "      <td>0.817739</td>\n",
              "      <td>0.753074</td>\n",
              "      <td>-0.822843</td>\n",
              "      <td>0.538196</td>\n",
              "      <td>1.345852</td>\n",
              "      <td>-1.119670</td>\n",
              "      <td>0.175121</td>\n",
              "      <td>-0.451449</td>\n",
              "      <td>-0.237033</td>\n",
              "      <td>-0.038195</td>\n",
              "      <td>0.803487</td>\n",
              "      <td>0.408542</td>\n",
              "      <td>-0.009431</td>\n",
              "      <td>0.798278</td>\n",
              "      <td>-0.137458</td>\n",
              "      <td>0.141267</td>\n",
              "      <td>-0.206010</td>\n",
              "      <td>0.502292</td>\n",
              "      <td>0.219422</td>\n",
              "      <td>0.215153</td>\n",
              "      <td>69.99</td>\n",
              "      <td>0</td>\n",
              "    </tr>\n",
              "  </tbody>\n",
              "</table>\n",
              "</div>"
            ],
            "text/plain": [
              "   Time        V1        V2        V3  ...       V27       V28  Amount  Class\n",
              "0   0.0 -1.359807 -0.072781  2.536347  ...  0.133558 -0.021053  149.62      0\n",
              "1   0.0  1.191857  0.266151  0.166480  ... -0.008983  0.014724    2.69      0\n",
              "2   1.0 -1.358354 -1.340163  1.773209  ... -0.055353 -0.059752  378.66      0\n",
              "3   1.0 -0.966272 -0.185226  1.792993  ...  0.062723  0.061458  123.50      0\n",
              "4   2.0 -1.158233  0.877737  1.548718  ...  0.219422  0.215153   69.99      0\n",
              "\n",
              "[5 rows x 31 columns]"
            ]
          },
          "metadata": {
            "tags": []
          },
          "execution_count": 3
        }
      ]
    },
    {
      "cell_type": "code",
      "metadata": {
        "colab": {
          "base_uri": "https://localhost:8080/"
        },
        "id": "T7YEL20rqvAT",
        "outputId": "c68022f6-4c38-4145-eb55-43960d25248d"
      },
      "source": [
        "df.columns"
      ],
      "execution_count": 4,
      "outputs": [
        {
          "output_type": "execute_result",
          "data": {
            "text/plain": [
              "Index(['Time', 'V1', 'V2', 'V3', 'V4', 'V5', 'V6', 'V7', 'V8', 'V9', 'V10',\n",
              "       'V11', 'V12', 'V13', 'V14', 'V15', 'V16', 'V17', 'V18', 'V19', 'V20',\n",
              "       'V21', 'V22', 'V23', 'V24', 'V25', 'V26', 'V27', 'V28', 'Amount',\n",
              "       'Class'],\n",
              "      dtype='object')"
            ]
          },
          "metadata": {
            "tags": []
          },
          "execution_count": 4
        }
      ]
    },
    {
      "cell_type": "markdown",
      "metadata": {
        "id": "e3nhTPtQSSib"
      },
      "source": [
        "### Check for missing values (Null/NaN)"
      ]
    },
    {
      "cell_type": "code",
      "metadata": {
        "colab": {
          "base_uri": "https://localhost:8080/"
        },
        "id": "KrfE0ULlw2of",
        "outputId": "ef6c859f-f37c-4d70-b729-418603eb3cd9"
      },
      "source": [
        "df.isnull().sum()"
      ],
      "execution_count": 5,
      "outputs": [
        {
          "output_type": "execute_result",
          "data": {
            "text/plain": [
              "Time      0\n",
              "V1        0\n",
              "V2        0\n",
              "V3        0\n",
              "V4        0\n",
              "V5        0\n",
              "V6        0\n",
              "V7        0\n",
              "V8        0\n",
              "V9        0\n",
              "V10       0\n",
              "V11       0\n",
              "V12       0\n",
              "V13       0\n",
              "V14       0\n",
              "V15       0\n",
              "V16       0\n",
              "V17       0\n",
              "V18       0\n",
              "V19       0\n",
              "V20       0\n",
              "V21       0\n",
              "V22       0\n",
              "V23       0\n",
              "V24       0\n",
              "V25       0\n",
              "V26       0\n",
              "V27       0\n",
              "V28       0\n",
              "Amount    0\n",
              "Class     0\n",
              "dtype: int64"
            ]
          },
          "metadata": {
            "tags": []
          },
          "execution_count": 5
        }
      ]
    },
    {
      "cell_type": "markdown",
      "metadata": {
        "id": "PurRX73ASHAy"
      },
      "source": [
        "### Imbalanced data"
      ]
    },
    {
      "cell_type": "code",
      "metadata": {
        "colab": {
          "base_uri": "https://localhost:8080/"
        },
        "id": "A67IsMfews1l",
        "outputId": "654e5f95-6b89-4321-dbde-6eb5138af334"
      },
      "source": [
        "# Number of instances per class \n",
        "df['Class'].value_counts()"
      ],
      "execution_count": 6,
      "outputs": [
        {
          "output_type": "execute_result",
          "data": {
            "text/plain": [
              "0    284315\n",
              "1       492\n",
              "Name: Class, dtype: int64"
            ]
          },
          "metadata": {
            "tags": []
          },
          "execution_count": 6
        }
      ]
    },
    {
      "cell_type": "code",
      "metadata": {
        "colab": {
          "base_uri": "https://localhost:8080/"
        },
        "id": "Cjgh4YcNqy87",
        "outputId": "b7674b56-24e7-4b16-bfb6-346e1ccbf4df"
      },
      "source": [
        "print('No Frauds', round(df['Class'].value_counts()[0]/len(df) * 100,2), '% of the dataset')\n",
        "print('Frauds', round(df['Class'].value_counts()[1]/len(df) * 100,2), '% of the dataset')"
      ],
      "execution_count": 7,
      "outputs": [
        {
          "output_type": "stream",
          "text": [
            "No Frauds 99.83 % of the dataset\n",
            "Frauds 0.17 % of the dataset\n"
          ],
          "name": "stdout"
        }
      ]
    },
    {
      "cell_type": "code",
      "metadata": {
        "colab": {
          "base_uri": "https://localhost:8080/",
          "height": 369
        },
        "id": "KosF-gJaq07z",
        "outputId": "3959e1f9-438f-41f7-b999-5497998ba300"
      },
      "source": [
        "sns.countplot('Class', data=df)\n",
        "plt.title('Class Distributions \\n (0: No Fraud || 1: Fraud)', fontsize=14)\n",
        "plt.show()"
      ],
      "execution_count": 8,
      "outputs": [
        {
          "output_type": "stream",
          "text": [
            "/usr/local/lib/python3.7/dist-packages/seaborn/_decorators.py:43: FutureWarning: Pass the following variable as a keyword arg: x. From version 0.12, the only valid positional argument will be `data`, and passing other arguments without an explicit keyword will result in an error or misinterpretation.\n",
            "  FutureWarning\n"
          ],
          "name": "stderr"
        },
        {
          "output_type": "display_data",
          "data": {
            "image/png": "[encoded data removed]",
            "text/plain": [
              "<Figure size 432x288 with 1 Axes>"
            ]
          },
          "metadata": {
            "tags": [],
            "needs_background": "light"
          }
        }
      ]
    },
    {
      "cell_type": "code",
      "metadata": {
        "id": "eQKZAqa_XiN4"
      },
      "source": [
        "def show_pca_df(df):\n",
        "\tx = df[df.columns[1:30]].to_numpy()\n",
        "\ty = df[df.columns[30]].to_numpy()\n",
        "\n",
        "\tx = preprocessing.MinMaxScaler().fit_transform(x)\n",
        "\tpca = decomposition.PCA(n_components=3)\n",
        "\tpca_result = pca.fit_transform(x)\n",
        "\tprint(pca.explained_variance_ratio_)\n",
        "\n",
        "\tpca_df = pd.DataFrame(data=pca_result, columns=['pc_1', 'pc_2', 'pc_3'])\n",
        "\tpca_df = pd.concat([pca_df, pd.DataFrame({'label': y})], axis=1)\n",
        "\n",
        "\tax = Axes3D(plt.figure(figsize=(8, 8)))\n",
        "\tax.scatter(xs=pca_df['pc_1'], ys=pca_df['pc_2'], zs=pca_df['pc_3'], c=pca_df['label'], s=25)\n",
        "\tax.set_xlabel(\"pc_1\")\n",
        "\tax.set_ylabel(\"pc_2\")\n",
        "\tax.set_zlabel(\"pc_3\")\n",
        "\tplt.show()"
      ],
      "execution_count": 9,
      "outputs": []
    },
    {
      "cell_type": "code",
      "metadata": {
        "colab": {
          "base_uri": "https://localhost:8080/",
          "height": 625
        },
        "id": "qjRfLeKoX0z1",
        "outputId": "92d75c24-23f7-4ddc-e99e-b72a405f1ea8"
      },
      "source": [
        "show_pca_df(df)"
      ],
      "execution_count": 10,
      "outputs": [
        {
          "output_type": "stream",
          "text": [
            "[0.13501008 0.12577769 0.1203139 ]\n"
          ],
          "name": "stdout"
        },
        {
          "output_type": "display_data",
          "data": {
            "image/png": "[encoded data removed]",
            "text/plain": [
              "<Figure size 576x576 with 1 Axes>"
            ]
          },
          "metadata": {
            "tags": [],
            "needs_background": "light"
          }
        }
      ]
    },
    {
      "cell_type": "markdown",
      "metadata": {
        "id": "wWyXWCpmYTNk"
      },
      "source": [
        "### Subsampling"
      ]
    },
    {
      "cell_type": "code",
      "metadata": {
        "id": "8GxudI2jxBQP"
      },
      "source": [
        "#Split fraud and normal transactions\n",
        "fraud_data = df[df['Class']==1]\n",
        "non_fraud_data = df[df[\"Class\"]==0]\n",
        "\n",
        "#Subsample according to the size of fraud transactions\n",
        "non_fraud_data1 = non_fraud_data.sample(1500)\n",
        "\n",
        "#Rejoin fraud and normal transactions\n",
        "final_data = fraud_data.append(non_fraud_data1,ignore_index=True)\n"
      ],
      "execution_count": 11,
      "outputs": []
    },
    {
      "cell_type": "code",
      "metadata": {
        "colab": {
          "base_uri": "https://localhost:8080/"
        },
        "id": "vHpfJmbOaCrd",
        "outputId": "2289d002-4f22-48b0-fc8a-09fe0bc25a5e"
      },
      "source": [
        "print('No Frauds', round(final_data['Class'].value_counts()[0]/len(final_data) * 100,2), '% of the dataset')\n",
        "print('Frauds', round(final_data['Class'].value_counts()[1]/len(final_data) * 100,2), '% of the dataset')"
      ],
      "execution_count": 12,
      "outputs": [
        {
          "output_type": "stream",
          "text": [
            "No Frauds 75.3 % of the dataset\n",
            "Frauds 24.7 % of the dataset\n"
          ],
          "name": "stdout"
        }
      ]
    },
    {
      "cell_type": "code",
      "metadata": {
        "colab": {
          "base_uri": "https://localhost:8080/",
          "height": 425
        },
        "id": "v3xQkb5orArm",
        "outputId": "4fa7f083-f868-46a4-a5b1-0bc71db3565c"
      },
      "source": [
        "print('Distribution of the Classes in the subsample dataset')\n",
        "print(final_data['Class'].value_counts()/len(final_data))\n",
        "\n",
        "sns.countplot('Class', data=final_data)\n",
        "plt.title('25/75 Distributed Classes', fontsize=14)\n",
        "plt.show()"
      ],
      "execution_count": 13,
      "outputs": [
        {
          "output_type": "stream",
          "text": [
            "Distribution of the Classes in the subsample dataset\n",
            "0    0.753012\n",
            "1    0.246988\n",
            "Name: Class, dtype: float64\n"
          ],
          "name": "stdout"
        },
        {
          "output_type": "stream",
          "text": [
            "/usr/local/lib/python3.7/dist-packages/seaborn/_decorators.py:43: FutureWarning: Pass the following variable as a keyword arg: x. From version 0.12, the only valid positional argument will be `data`, and passing other arguments without an explicit keyword will result in an error or misinterpretation.\n",
            "  FutureWarning\n"
          ],
          "name": "stderr"
        },
        {
          "output_type": "display_data",
          "data": {
            "image/png": "[encoded data removed]",
            "text/plain": [
              "<Figure size 432x288 with 1 Axes>"
            ]
          },
          "metadata": {
            "tags": [],
            "needs_background": "light"
          }
        }
      ]
    },
    {
      "cell_type": "code",
      "metadata": {
        "colab": {
          "base_uri": "https://localhost:8080/"
        },
        "id": "PlvbiGCmrG41",
        "outputId": "76649ef5-cd6e-4ad0-be38-31ab713992a5"
      },
      "source": [
        "final_data['Class'].value_counts()"
      ],
      "execution_count": 14,
      "outputs": [
        {
          "output_type": "execute_result",
          "data": {
            "text/plain": [
              "0    1500\n",
              "1     492\n",
              "Name: Class, dtype: int64"
            ]
          },
          "metadata": {
            "tags": []
          },
          "execution_count": 14
        }
      ]
    },
    {
      "cell_type": "code",
      "metadata": {
        "colab": {
          "base_uri": "https://localhost:8080/",
          "height": 625
        },
        "id": "2hAme4xuX73H",
        "outputId": "acb82a7a-41f6-48c1-9a81-81df46d1e75e"
      },
      "source": [
        "fraud = df[df[df.columns[30]] > 0]\n",
        "non_fraud = df[df[df.columns[30]] == 0].sample(n=fraud.size, random_state=1, axis='index')\n",
        "df = pd.concat([ fraud, non_fraud])\n",
        "\n",
        "show_pca_df(df)"
      ],
      "execution_count": 15,
      "outputs": [
        {
          "output_type": "stream",
          "text": [
            "[0.20577961 0.14728955 0.09800457]\n"
          ],
          "name": "stdout"
        },
        {
          "output_type": "display_data",
          "data": {
            "image/png": "[encoded data removed]",
            "text/plain": [
              "<Figure size 576x576 with 1 Axes>"
            ]
          },
          "metadata": {
            "tags": [],
            "needs_background": "light"
          }
        }
      ]
    },
    {
      "cell_type": "markdown",
      "metadata": {
        "id": "vFkjaniCYtw1"
      },
      "source": [
        "## Normalize Data"
      ]
    },
    {
      "cell_type": "code",
      "metadata": {
        "id": "W7IqKin1kfqN"
      },
      "source": [
        "df['Amount'] = StandardScaler().fit_transform(df['Amount'].values.reshape(-1, 1))\n",
        "df['Time'] = StandardScaler().fit_transform(df['Time'].values.reshape(-1, 1))"
      ],
      "execution_count": 16,
      "outputs": []
    },
    {
      "cell_type": "markdown",
      "metadata": {
        "id": "h_K1QrdLYgF9"
      },
      "source": [
        "## Splitting Data"
      ]
    },
    {
      "cell_type": "code",
      "metadata": {
        "colab": {
          "base_uri": "https://localhost:8080/",
          "height": 383
        },
        "id": "rLLGfJP3mVDc",
        "outputId": "3b60ec47-3ccc-4a82-e157-ef2e73ba51eb"
      },
      "source": [
        "anomalies = df[df[\"Class\"] == 1]\n",
        "normal = df[df[\"Class\"] == 0]\n",
        "\n",
        "data_set = pd.concat([normal[:1500], anomalies])\n",
        "\n",
        "x_train, x_test = train_test_split(data_set, test_size = 0.2)\n",
        "\n",
        "x_train = x_train.sort_values(by=['Time'])\n",
        "x_test = x_test.sort_values(by=['Time'])\n",
        "\n",
        "y_train = x_train[\"Class\"]\n",
        "y_test = x_test[\"Class\"]\n",
        "\n",
        "x_train = x_train.drop(\"Class\",axis=1)\n",
        "x_test = x_test.drop(\"Class\",axis=1)\n",
        "\n",
        "x_test.head(10)"
      ],
      "execution_count": 17,
      "outputs": [
        {
          "output_type": "execute_result",
          "data": {
            "text/html": [
              "<div>\n",
              "<style scoped>\n",
              "    .dataframe tbody tr th:only-of-type {\n",
              "        vertical-align: middle;\n",
              "    }\n",
              "\n",
              "    .dataframe tbody tr th {\n",
              "        vertical-align: top;\n",
              "    }\n",
              "\n",
              "    .dataframe thead th {\n",
              "        text-align: right;\n",
              "    }\n",
              "</style>\n",
              "<table border=\"1\" class=\"dataframe\">\n",
              "  <thead>\n",
              "    <tr style=\"text-align: right;\">\n",
              "      <th></th>\n",
              "      <th>Time</th>\n",
              "      <th>V1</th>\n",
              "      <th>V2</th>\n",
              "      <th>V3</th>\n",
              "      <th>V4</th>\n",
              "      <th>V5</th>\n",
              "      <th>V6</th>\n",
              "      <th>V7</th>\n",
              "      <th>V8</th>\n",
              "      <th>V9</th>\n",
              "      <th>V10</th>\n",
              "      <th>V11</th>\n",
              "      <th>V12</th>\n",
              "      <th>V13</th>\n",
              "      <th>V14</th>\n",
              "      <th>V15</th>\n",
              "      <th>V16</th>\n",
              "      <th>V17</th>\n",
              "      <th>V18</th>\n",
              "      <th>V19</th>\n",
              "      <th>V20</th>\n",
              "      <th>V21</th>\n",
              "      <th>V22</th>\n",
              "      <th>V23</th>\n",
              "      <th>V24</th>\n",
              "      <th>V25</th>\n",
              "      <th>V26</th>\n",
              "      <th>V27</th>\n",
              "      <th>V28</th>\n",
              "      <th>Amount</th>\n",
              "    </tr>\n",
              "  </thead>\n",
              "  <tbody>\n",
              "    <tr>\n",
              "      <th>258</th>\n",
              "      <td>-1.978741</td>\n",
              "      <td>1.136752</td>\n",
              "      <td>-0.103770</td>\n",
              "      <td>0.904686</td>\n",
              "      <td>0.488211</td>\n",
              "      <td>-0.678524</td>\n",
              "      <td>0.039861</td>\n",
              "      <td>-0.581294</td>\n",
              "      <td>0.270996</td>\n",
              "      <td>0.256540</td>\n",
              "      <td>0.068092</td>\n",
              "      <td>1.445184</td>\n",
              "      <td>0.506268</td>\n",
              "      <td>-0.850215</td>\n",
              "      <td>0.464223</td>\n",
              "      <td>0.963247</td>\n",
              "      <td>0.522012</td>\n",
              "      <td>-0.463008</td>\n",
              "      <td>0.029022</td>\n",
              "      <td>-0.386661</td>\n",
              "      <td>-0.166087</td>\n",
              "      <td>-0.017527</td>\n",
              "      <td>-0.093159</td>\n",
              "      <td>0.119723</td>\n",
              "      <td>-0.000588</td>\n",
              "      <td>0.026252</td>\n",
              "      <td>0.229223</td>\n",
              "      <td>0.000201</td>\n",
              "      <td>0.010945</td>\n",
              "      <td>-0.343345</td>\n",
              "    </tr>\n",
              "    <tr>\n",
              "      <th>541</th>\n",
              "      <td>-1.974020</td>\n",
              "      <td>-2.312227</td>\n",
              "      <td>1.951992</td>\n",
              "      <td>-1.609851</td>\n",
              "      <td>3.997906</td>\n",
              "      <td>-0.522188</td>\n",
              "      <td>-1.426545</td>\n",
              "      <td>-2.537387</td>\n",
              "      <td>1.391657</td>\n",
              "      <td>-2.770089</td>\n",
              "      <td>-2.772272</td>\n",
              "      <td>3.202033</td>\n",
              "      <td>-2.899907</td>\n",
              "      <td>-0.595222</td>\n",
              "      <td>-4.289254</td>\n",
              "      <td>0.389724</td>\n",
              "      <td>-1.140747</td>\n",
              "      <td>-2.830056</td>\n",
              "      <td>-0.016822</td>\n",
              "      <td>0.416956</td>\n",
              "      <td>0.126911</td>\n",
              "      <td>0.517232</td>\n",
              "      <td>-0.035049</td>\n",
              "      <td>-0.465211</td>\n",
              "      <td>0.320198</td>\n",
              "      <td>0.044519</td>\n",
              "      <td>0.177840</td>\n",
              "      <td>0.261145</td>\n",
              "      <td>-0.143276</td>\n",
              "      <td>-0.369370</td>\n",
              "    </tr>\n",
              "    <tr>\n",
              "      <th>615</th>\n",
              "      <td>-1.972824</td>\n",
              "      <td>-0.634597</td>\n",
              "      <td>0.866354</td>\n",
              "      <td>1.123836</td>\n",
              "      <td>-0.304041</td>\n",
              "      <td>1.173910</td>\n",
              "      <td>0.257118</td>\n",
              "      <td>0.754325</td>\n",
              "      <td>0.171735</td>\n",
              "      <td>-0.825981</td>\n",
              "      <td>-0.531058</td>\n",
              "      <td>0.549389</td>\n",
              "      <td>0.598609</td>\n",
              "      <td>0.313814</td>\n",
              "      <td>0.354548</td>\n",
              "      <td>-0.156778</td>\n",
              "      <td>0.328551</td>\n",
              "      <td>-0.983933</td>\n",
              "      <td>0.235906</td>\n",
              "      <td>-0.630728</td>\n",
              "      <td>-0.105239</td>\n",
              "      <td>0.160463</td>\n",
              "      <td>0.422873</td>\n",
              "      <td>-0.353721</td>\n",
              "      <td>-0.847192</td>\n",
              "      <td>0.206896</td>\n",
              "      <td>-0.436112</td>\n",
              "      <td>0.110134</td>\n",
              "      <td>0.102261</td>\n",
              "      <td>-0.365348</td>\n",
              "    </tr>\n",
              "    <tr>\n",
              "      <th>623</th>\n",
              "      <td>-1.972636</td>\n",
              "      <td>-3.043541</td>\n",
              "      <td>-3.157307</td>\n",
              "      <td>1.088463</td>\n",
              "      <td>2.288644</td>\n",
              "      <td>1.359805</td>\n",
              "      <td>-1.064823</td>\n",
              "      <td>0.325574</td>\n",
              "      <td>-0.067794</td>\n",
              "      <td>-0.270953</td>\n",
              "      <td>-0.838587</td>\n",
              "      <td>-0.414575</td>\n",
              "      <td>-0.503141</td>\n",
              "      <td>0.676502</td>\n",
              "      <td>-1.692029</td>\n",
              "      <td>2.000635</td>\n",
              "      <td>0.666780</td>\n",
              "      <td>0.599717</td>\n",
              "      <td>1.725321</td>\n",
              "      <td>0.283345</td>\n",
              "      <td>2.102339</td>\n",
              "      <td>0.661696</td>\n",
              "      <td>0.435477</td>\n",
              "      <td>1.375966</td>\n",
              "      <td>-0.293803</td>\n",
              "      <td>0.279798</td>\n",
              "      <td>-0.145362</td>\n",
              "      <td>-0.252773</td>\n",
              "      <td>0.035764</td>\n",
              "      <td>1.758493</td>\n",
              "    </tr>\n",
              "    <tr>\n",
              "      <th>2418</th>\n",
              "      <td>-1.940890</td>\n",
              "      <td>-1.087323</td>\n",
              "      <td>0.413475</td>\n",
              "      <td>2.388311</td>\n",
              "      <td>0.799852</td>\n",
              "      <td>0.272501</td>\n",
              "      <td>-0.196010</td>\n",
              "      <td>0.592504</td>\n",
              "      <td>-0.059448</td>\n",
              "      <td>-0.186005</td>\n",
              "      <td>-0.166775</td>\n",
              "      <td>0.907927</td>\n",
              "      <td>0.548670</td>\n",
              "      <td>-0.742662</td>\n",
              "      <td>-0.208097</td>\n",
              "      <td>-1.185010</td>\n",
              "      <td>-0.438734</td>\n",
              "      <td>-0.213281</td>\n",
              "      <td>0.244220</td>\n",
              "      <td>0.467393</td>\n",
              "      <td>-0.054513</td>\n",
              "      <td>-0.019972</td>\n",
              "      <td>0.269333</td>\n",
              "      <td>-0.136500</td>\n",
              "      <td>0.546388</td>\n",
              "      <td>0.575795</td>\n",
              "      <td>-0.324648</td>\n",
              "      <td>-0.195600</td>\n",
              "      <td>-0.169624</td>\n",
              "      <td>-0.329146</td>\n",
              "    </tr>\n",
              "    <tr>\n",
              "      <th>3782</th>\n",
              "      <td>-1.913655</td>\n",
              "      <td>-0.317367</td>\n",
              "      <td>0.256325</td>\n",
              "      <td>1.634109</td>\n",
              "      <td>-0.416740</td>\n",
              "      <td>-0.744444</td>\n",
              "      <td>0.669943</td>\n",
              "      <td>-0.820400</td>\n",
              "      <td>-1.526205</td>\n",
              "      <td>-0.619528</td>\n",
              "      <td>0.089157</td>\n",
              "      <td>-1.787544</td>\n",
              "      <td>0.161032</td>\n",
              "      <td>0.878197</td>\n",
              "      <td>-0.566702</td>\n",
              "      <td>-0.524199</td>\n",
              "      <td>-1.119643</td>\n",
              "      <td>-0.373270</td>\n",
              "      <td>1.500997</td>\n",
              "      <td>-1.387021</td>\n",
              "      <td>-0.803982</td>\n",
              "      <td>1.150811</td>\n",
              "      <td>-0.968703</td>\n",
              "      <td>-0.459418</td>\n",
              "      <td>-0.458207</td>\n",
              "      <td>1.727063</td>\n",
              "      <td>-0.114665</td>\n",
              "      <td>0.189558</td>\n",
              "      <td>0.146292</td>\n",
              "      <td>-0.208473</td>\n",
              "    </tr>\n",
              "    <tr>\n",
              "      <th>4922</th>\n",
              "      <td>-1.888792</td>\n",
              "      <td>-0.155718</td>\n",
              "      <td>-0.555641</td>\n",
              "      <td>1.848151</td>\n",
              "      <td>-1.109779</td>\n",
              "      <td>-1.400660</td>\n",
              "      <td>-0.251651</td>\n",
              "      <td>-0.363722</td>\n",
              "      <td>-0.168415</td>\n",
              "      <td>-0.829275</td>\n",
              "      <td>0.573435</td>\n",
              "      <td>0.063423</td>\n",
              "      <td>-3.152961</td>\n",
              "      <td>2.617969</td>\n",
              "      <td>0.568136</td>\n",
              "      <td>-1.187621</td>\n",
              "      <td>-1.125796</td>\n",
              "      <td>1.776016</td>\n",
              "      <td>0.073773</td>\n",
              "      <td>0.779427</td>\n",
              "      <td>-0.008190</td>\n",
              "      <td>-0.480731</td>\n",
              "      <td>-0.747545</td>\n",
              "      <td>0.350116</td>\n",
              "      <td>0.241410</td>\n",
              "      <td>-0.693711</td>\n",
              "      <td>-0.472586</td>\n",
              "      <td>0.157351</td>\n",
              "      <td>0.172324</td>\n",
              "      <td>0.030459</td>\n",
              "    </tr>\n",
              "    <tr>\n",
              "      <th>5160</th>\n",
              "      <td>-1.879937</td>\n",
              "      <td>-1.579944</td>\n",
              "      <td>1.693708</td>\n",
              "      <td>1.375624</td>\n",
              "      <td>-0.227802</td>\n",
              "      <td>-0.067200</td>\n",
              "      <td>-0.254428</td>\n",
              "      <td>0.515911</td>\n",
              "      <td>0.028401</td>\n",
              "      <td>1.921291</td>\n",
              "      <td>1.234694</td>\n",
              "      <td>2.626516</td>\n",
              "      <td>-2.481086</td>\n",
              "      <td>0.152013</td>\n",
              "      <td>1.520242</td>\n",
              "      <td>-0.093135</td>\n",
              "      <td>-0.104059</td>\n",
              "      <td>0.367378</td>\n",
              "      <td>-0.042272</td>\n",
              "      <td>-0.470473</td>\n",
              "      <td>0.629242</td>\n",
              "      <td>-0.512556</td>\n",
              "      <td>-0.711014</td>\n",
              "      <td>0.068333</td>\n",
              "      <td>0.088633</td>\n",
              "      <td>-0.157776</td>\n",
              "      <td>0.031853</td>\n",
              "      <td>0.601539</td>\n",
              "      <td>0.216177</td>\n",
              "      <td>-0.321141</td>\n",
              "    </tr>\n",
              "    <tr>\n",
              "      <th>5204</th>\n",
              "      <td>-1.878112</td>\n",
              "      <td>-0.932469</td>\n",
              "      <td>1.059019</td>\n",
              "      <td>2.301186</td>\n",
              "      <td>2.302338</td>\n",
              "      <td>-2.566305</td>\n",
              "      <td>1.698418</td>\n",
              "      <td>1.868445</td>\n",
              "      <td>-0.596502</td>\n",
              "      <td>0.874434</td>\n",
              "      <td>0.325215</td>\n",
              "      <td>0.313964</td>\n",
              "      <td>-3.449276</td>\n",
              "      <td>1.358727</td>\n",
              "      <td>0.749358</td>\n",
              "      <td>0.471233</td>\n",
              "      <td>0.167343</td>\n",
              "      <td>0.753639</td>\n",
              "      <td>0.503317</td>\n",
              "      <td>0.887324</td>\n",
              "      <td>-0.259166</td>\n",
              "      <td>-0.188526</td>\n",
              "      <td>0.330571</td>\n",
              "      <td>-0.338884</td>\n",
              "      <td>0.443990</td>\n",
              "      <td>-0.215671</td>\n",
              "      <td>1.224011</td>\n",
              "      <td>-0.349856</td>\n",
              "      <td>-0.299940</td>\n",
              "      <td>1.338109</td>\n",
              "    </tr>\n",
              "    <tr>\n",
              "      <th>6609</th>\n",
              "      <td>-1.812795</td>\n",
              "      <td>-1.783229</td>\n",
              "      <td>3.402794</td>\n",
              "      <td>-3.822742</td>\n",
              "      <td>2.625368</td>\n",
              "      <td>-1.976415</td>\n",
              "      <td>-2.731689</td>\n",
              "      <td>-3.430559</td>\n",
              "      <td>1.413204</td>\n",
              "      <td>-0.776941</td>\n",
              "      <td>-6.199882</td>\n",
              "      <td>4.366713</td>\n",
              "      <td>-8.243262</td>\n",
              "      <td>0.345761</td>\n",
              "      <td>-6.590550</td>\n",
              "      <td>0.265576</td>\n",
              "      <td>-3.028452</td>\n",
              "      <td>-4.214486</td>\n",
              "      <td>-1.213608</td>\n",
              "      <td>-0.265422</td>\n",
              "      <td>0.364089</td>\n",
              "      <td>0.454032</td>\n",
              "      <td>-0.577526</td>\n",
              "      <td>0.045967</td>\n",
              "      <td>0.461700</td>\n",
              "      <td>0.044146</td>\n",
              "      <td>0.305704</td>\n",
              "      <td>0.530981</td>\n",
              "      <td>0.243746</td>\n",
              "      <td>-0.365348</td>\n",
              "    </tr>\n",
              "  </tbody>\n",
              "</table>\n",
              "</div>"
            ],
            "text/plain": [
              "          Time        V1        V2  ...       V27       V28    Amount\n",
              "258  -1.978741  1.136752 -0.103770  ...  0.000201  0.010945 -0.343345\n",
              "541  -1.974020 -2.312227  1.951992  ...  0.261145 -0.143276 -0.369370\n",
              "615  -1.972824 -0.634597  0.866354  ...  0.110134  0.102261 -0.365348\n",
              "623  -1.972636 -3.043541 -3.157307  ... -0.252773  0.035764  1.758493\n",
              "2418 -1.940890 -1.087323  0.413475  ... -0.195600 -0.169624 -0.329146\n",
              "3782 -1.913655 -0.317367  0.256325  ...  0.189558  0.146292 -0.208473\n",
              "4922 -1.888792 -0.155718 -0.555641  ...  0.157351  0.172324  0.030459\n",
              "5160 -1.879937 -1.579944  1.693708  ...  0.601539  0.216177 -0.321141\n",
              "5204 -1.878112 -0.932469  1.059019  ... -0.349856 -0.299940  1.338109\n",
              "6609 -1.812795 -1.783229  3.402794  ...  0.530981  0.243746 -0.365348\n",
              "\n",
              "[10 rows x 30 columns]"
            ]
          },
          "metadata": {
            "tags": []
          },
          "execution_count": 17
        }
      ]
    },
    {
      "cell_type": "code",
      "metadata": {
        "colab": {
          "base_uri": "https://localhost:8080/"
        },
        "id": "H9y6TpyInUKE",
        "outputId": "2edaea44-d972-4789-bfb5-e6abdda1a4c9"
      },
      "source": [
        "input_shape = (x_train.shape[1], 1)\n",
        "\n",
        "\n",
        "print(\"Shapes:\\nx_train:%s\\ny_train:%s\\n\" % (x_train.shape, y_train.shape))\n",
        "print(\"x_test:%s\\ny_test:%s\\n\" % (x_test.shape, y_test.shape))\n",
        "print(\"input_shape:{}\\n\".format(input_shape))"
      ],
      "execution_count": 18,
      "outputs": [
        {
          "output_type": "stream",
          "text": [
            "Shapes:\n",
            "x_train:(1593, 30)\n",
            "y_train:(1593,)\n",
            "\n",
            "x_test:(399, 30)\n",
            "y_test:(399,)\n",
            "\n",
            "input_shape:(30, 1)\n",
            "\n"
          ],
          "name": "stdout"
        }
      ]
    },
    {
      "cell_type": "code",
      "metadata": {
        "colab": {
          "base_uri": "https://localhost:8080/",
          "height": 226
        },
        "id": "Y5XzMnm8M0ii",
        "outputId": "6c8f57c9-1c33-4813-8085-def47e024546"
      },
      "source": [
        "x_train[:5]"
      ],
      "execution_count": 19,
      "outputs": [
        {
          "output_type": "execute_result",
          "data": {
            "text/html": [
              "<div>\n",
              "<style scoped>\n",
              "    .dataframe tbody tr th:only-of-type {\n",
              "        vertical-align: middle;\n",
              "    }\n",
              "\n",
              "    .dataframe tbody tr th {\n",
              "        vertical-align: top;\n",
              "    }\n",
              "\n",
              "    .dataframe thead th {\n",
              "        text-align: right;\n",
              "    }\n",
              "</style>\n",
              "<table border=\"1\" class=\"dataframe\">\n",
              "  <thead>\n",
              "    <tr style=\"text-align: right;\">\n",
              "      <th></th>\n",
              "      <th>Time</th>\n",
              "      <th>V1</th>\n",
              "      <th>V2</th>\n",
              "      <th>V3</th>\n",
              "      <th>V4</th>\n",
              "      <th>V5</th>\n",
              "      <th>V6</th>\n",
              "      <th>V7</th>\n",
              "      <th>V8</th>\n",
              "      <th>V9</th>\n",
              "      <th>V10</th>\n",
              "      <th>V11</th>\n",
              "      <th>V12</th>\n",
              "      <th>V13</th>\n",
              "      <th>V14</th>\n",
              "      <th>V15</th>\n",
              "      <th>V16</th>\n",
              "      <th>V17</th>\n",
              "      <th>V18</th>\n",
              "      <th>V19</th>\n",
              "      <th>V20</th>\n",
              "      <th>V21</th>\n",
              "      <th>V22</th>\n",
              "      <th>V23</th>\n",
              "      <th>V24</th>\n",
              "      <th>V25</th>\n",
              "      <th>V26</th>\n",
              "      <th>V27</th>\n",
              "      <th>V28</th>\n",
              "      <th>Amount</th>\n",
              "    </tr>\n",
              "  </thead>\n",
              "  <tbody>\n",
              "    <tr>\n",
              "      <th>196</th>\n",
              "      <td>-1.979811</td>\n",
              "      <td>-0.485238</td>\n",
              "      <td>0.658497</td>\n",
              "      <td>1.949967</td>\n",
              "      <td>1.249695</td>\n",
              "      <td>0.426410</td>\n",
              "      <td>0.231513</td>\n",
              "      <td>0.585115</td>\n",
              "      <td>0.029163</td>\n",
              "      <td>-0.520297</td>\n",
              "      <td>0.055911</td>\n",
              "      <td>1.265311</td>\n",
              "      <td>0.521277</td>\n",
              "      <td>-0.830439</td>\n",
              "      <td>0.157455</td>\n",
              "      <td>-0.365075</td>\n",
              "      <td>-1.142187</td>\n",
              "      <td>0.409601</td>\n",
              "      <td>-0.204876</td>\n",
              "      <td>1.010483</td>\n",
              "      <td>0.089378</td>\n",
              "      <td>0.007290</td>\n",
              "      <td>0.328244</td>\n",
              "      <td>-0.232563</td>\n",
              "      <td>0.225572</td>\n",
              "      <td>0.025892</td>\n",
              "      <td>-0.247395</td>\n",
              "      <td>-0.025381</td>\n",
              "      <td>-0.118565</td>\n",
              "      <td>-0.345356</td>\n",
              "    </tr>\n",
              "    <tr>\n",
              "      <th>229</th>\n",
              "      <td>-1.979329</td>\n",
              "      <td>-0.903628</td>\n",
              "      <td>-0.233363</td>\n",
              "      <td>2.580864</td>\n",
              "      <td>-0.990572</td>\n",
              "      <td>-0.397920</td>\n",
              "      <td>0.281755</td>\n",
              "      <td>0.238619</td>\n",
              "      <td>0.249102</td>\n",
              "      <td>0.651330</td>\n",
              "      <td>-0.881775</td>\n",
              "      <td>0.939972</td>\n",
              "      <td>0.397779</td>\n",
              "      <td>-1.494563</td>\n",
              "      <td>-0.428434</td>\n",
              "      <td>-1.307942</td>\n",
              "      <td>-0.095618</td>\n",
              "      <td>-0.080170</td>\n",
              "      <td>-0.432193</td>\n",
              "      <td>-0.336658</td>\n",
              "      <td>0.050471</td>\n",
              "      <td>-0.075017</td>\n",
              "      <td>-0.097906</td>\n",
              "      <td>0.059448</td>\n",
              "      <td>0.244548</td>\n",
              "      <td>-0.316141</td>\n",
              "      <td>0.754405</td>\n",
              "      <td>-0.166316</td>\n",
              "      <td>-0.138177</td>\n",
              "      <td>-0.082732</td>\n",
              "    </tr>\n",
              "    <tr>\n",
              "      <th>482</th>\n",
              "      <td>-1.975090</td>\n",
              "      <td>0.019256</td>\n",
              "      <td>0.471698</td>\n",
              "      <td>0.868060</td>\n",
              "      <td>-1.239124</td>\n",
              "      <td>0.547898</td>\n",
              "      <td>-0.502661</td>\n",
              "      <td>0.808516</td>\n",
              "      <td>-0.247667</td>\n",
              "      <td>0.130741</td>\n",
              "      <td>-0.484994</td>\n",
              "      <td>-0.702094</td>\n",
              "      <td>-0.213445</td>\n",
              "      <td>-0.048713</td>\n",
              "      <td>-0.065307</td>\n",
              "      <td>0.658810</td>\n",
              "      <td>0.168526</td>\n",
              "      <td>-0.621304</td>\n",
              "      <td>-0.690750</td>\n",
              "      <td>-0.697036</td>\n",
              "      <td>-0.107130</td>\n",
              "      <td>0.021430</td>\n",
              "      <td>0.265057</td>\n",
              "      <td>0.066608</td>\n",
              "      <td>-0.381752</td>\n",
              "      <td>-1.305171</td>\n",
              "      <td>0.646049</td>\n",
              "      <td>-0.013625</td>\n",
              "      <td>-0.011985</td>\n",
              "      <td>-0.358872</td>\n",
              "    </tr>\n",
              "    <tr>\n",
              "      <th>958</th>\n",
              "      <td>-1.967327</td>\n",
              "      <td>-0.534913</td>\n",
              "      <td>0.550684</td>\n",
              "      <td>4.017561</td>\n",
              "      <td>3.254904</td>\n",
              "      <td>-0.919559</td>\n",
              "      <td>1.644716</td>\n",
              "      <td>-0.638287</td>\n",
              "      <td>0.432396</td>\n",
              "      <td>0.000158</td>\n",
              "      <td>0.501195</td>\n",
              "      <td>0.446254</td>\n",
              "      <td>1.052726</td>\n",
              "      <td>0.451786</td>\n",
              "      <td>-1.402749</td>\n",
              "      <td>-1.870148</td>\n",
              "      <td>-0.619166</td>\n",
              "      <td>0.436713</td>\n",
              "      <td>0.612061</td>\n",
              "      <td>1.522573</td>\n",
              "      <td>0.247874</td>\n",
              "      <td>0.147772</td>\n",
              "      <td>1.096225</td>\n",
              "      <td>-0.416073</td>\n",
              "      <td>0.628186</td>\n",
              "      <td>0.106290</td>\n",
              "      <td>0.474381</td>\n",
              "      <td>0.019260</td>\n",
              "      <td>-0.126126</td>\n",
              "      <td>-0.366313</td>\n",
              "    </tr>\n",
              "    <tr>\n",
              "      <th>1088</th>\n",
              "      <td>-1.964998</td>\n",
              "      <td>0.056141</td>\n",
              "      <td>0.239849</td>\n",
              "      <td>1.954964</td>\n",
              "      <td>0.447887</td>\n",
              "      <td>-1.668848</td>\n",
              "      <td>0.640006</td>\n",
              "      <td>-2.158143</td>\n",
              "      <td>-2.414163</td>\n",
              "      <td>-1.408986</td>\n",
              "      <td>0.264521</td>\n",
              "      <td>1.223291</td>\n",
              "      <td>1.180411</td>\n",
              "      <td>0.993944</td>\n",
              "      <td>0.222771</td>\n",
              "      <td>0.796051</td>\n",
              "      <td>-0.732271</td>\n",
              "      <td>-0.387030</td>\n",
              "      <td>2.417564</td>\n",
              "      <td>-0.939343</td>\n",
              "      <td>0.310594</td>\n",
              "      <td>-1.265408</td>\n",
              "      <td>0.901002</td>\n",
              "      <td>0.032997</td>\n",
              "      <td>0.519744</td>\n",
              "      <td>0.303611</td>\n",
              "      <td>-0.185666</td>\n",
              "      <td>0.212197</td>\n",
              "      <td>0.283123</td>\n",
              "      <td>-0.329146</td>\n",
              "    </tr>\n",
              "  </tbody>\n",
              "</table>\n",
              "</div>"
            ],
            "text/plain": [
              "          Time        V1        V2  ...       V27       V28    Amount\n",
              "196  -1.979811 -0.485238  0.658497  ... -0.025381 -0.118565 -0.345356\n",
              "229  -1.979329 -0.903628 -0.233363  ... -0.166316 -0.138177 -0.082732\n",
              "482  -1.975090  0.019256  0.471698  ... -0.013625 -0.011985 -0.358872\n",
              "958  -1.967327 -0.534913  0.550684  ...  0.019260 -0.126126 -0.366313\n",
              "1088 -1.964998  0.056141  0.239849  ...  0.212197  0.283123 -0.329146\n",
              "\n",
              "[5 rows x 30 columns]"
            ]
          },
          "metadata": {
            "tags": []
          },
          "execution_count": 19
        }
      ]
    },
    {
      "cell_type": "code",
      "metadata": {
        "id": "YseNmepwxfht"
      },
      "source": [
        "def plot_learning_curve(history,epochs):\n",
        "    epoch_range=range(1,epochs+1)\n",
        "    plt.plot(epoch_range,history.history['accuracy'])\n",
        "    plt.plot(epoch_range,history.history[\"val_accuracy\"])\n",
        "    plt.title(\"Model Accuracy\")\n",
        "    plt.xlabel(\"epochs\")\n",
        "    plt.ylabel(\"accuracy\")\n",
        "    plt.legend(\"train\",\"val\",loc=\"upper left\")\n",
        "    plt.show()\n",
        "     \n",
        "    plt.plot(epoch_range,history.history['loss'])\n",
        "    plt.plot(epoch_range,history.history['val_loss'])\n",
        "    plt.title('Model loss')\n",
        "    plt.ylabel('loss')\n",
        "    plt.xlabel('epoch')\n",
        "    plt.legend(['Train','Val'],loc='upper left')\n",
        "    plt.show()"
      ],
      "execution_count": 20,
      "outputs": []
    },
    {
      "cell_type": "markdown",
      "metadata": {
        "id": "gfSPfl1zY5G1"
      },
      "source": [
        "## Deep Neural Network"
      ]
    },
    {
      "cell_type": "code",
      "metadata": {
        "id": "Qf4ikg93tH2c"
      },
      "source": [
        "DNN = Sequential()\n",
        "DNN.add(Dense(input_dim = 30, units = 16, activation = 'relu'))\n",
        "DNN.add(Dense(units = 24, activation = 'relu'))\n",
        "DNN.add(Dense(units = 20, activation = 'relu'))\n",
        "DNN.add(Dense(units = 24, activation = 'relu'))\n",
        "DNN.add(Dense(units =1, activation = 'sigmoid'))"
      ],
      "execution_count": 21,
      "outputs": []
    },
    {
      "cell_type": "code",
      "metadata": {
        "id": "nG8RoQoTqcsc",
        "outputId": "1045e13d-3615-4e1c-8fb0-560e7590a460",
        "colab": {
          "base_uri": "https://localhost:8080/"
        }
      },
      "source": [
        "DNN.summary()"
      ],
      "execution_count": 22,
      "outputs": [
        {
          "output_type": "stream",
          "text": [
            "Model: \"sequential\"\n",
            "_________________________________________________________________\n",
            "Layer (type)                 Output Shape              Param #   \n",
            "=================================================================\n",
            "dense (Dense)                (None, 16)                496       \n",
            "_________________________________________________________________\n",
            "dense_1 (Dense)              (None, 24)                408       \n",
            "_________________________________________________________________\n",
            "dense_2 (Dense)              (None, 20)                500       \n",
            "_________________________________________________________________\n",
            "dense_3 (Dense)              (None, 24)                504       \n",
            "_________________________________________________________________\n",
            "dense_4 (Dense)              (None, 1)                 25        \n",
            "=================================================================\n",
            "Total params: 1,933\n",
            "Trainable params: 1,933\n",
            "Non-trainable params: 0\n",
            "_________________________________________________________________\n"
          ],
          "name": "stdout"
        }
      ]
    },
    {
      "cell_type": "code",
      "metadata": {
        "colab": {
          "base_uri": "https://localhost:8080/"
        },
        "id": "KkS-4ebutYLJ",
        "outputId": "df1c6b1a-6053-4657-a1ac-0a006c7e4b97"
      },
      "source": [
        "DNN.compile(optimizer = 'adam', loss = 'binary_crossentropy', metrics = ['accuracy'])\n",
        "history = DNN.fit(x_train, y_train, epochs = 25, validation_data = (x_test,y_test),verbose=1)"
      ],
      "execution_count": 23,
      "outputs": [
        {
          "output_type": "stream",
          "text": [
            "Epoch 1/25\n",
            "50/50 [==============================] - 1s 13ms/step - loss: 0.5733 - accuracy: 0.6170 - val_loss: 0.2953 - val_accuracy: 0.9574\n",
            "Epoch 2/25\n",
            "50/50 [==============================] - 0s 3ms/step - loss: 0.2271 - accuracy: 0.9561 - val_loss: 0.1333 - val_accuracy: 0.9699\n",
            "Epoch 3/25\n",
            "50/50 [==============================] - 0s 3ms/step - loss: 0.1419 - accuracy: 0.9627 - val_loss: 0.1122 - val_accuracy: 0.9749\n",
            "Epoch 4/25\n",
            "50/50 [==============================] - 0s 3ms/step - loss: 0.1370 - accuracy: 0.9543 - val_loss: 0.1033 - val_accuracy: 0.9749\n",
            "Epoch 5/25\n",
            "50/50 [==============================] - 0s 3ms/step - loss: 0.1344 - accuracy: 0.9541 - val_loss: 0.0953 - val_accuracy: 0.9749\n",
            "Epoch 6/25\n",
            "50/50 [==============================] - 0s 3ms/step - loss: 0.1126 - accuracy: 0.9602 - val_loss: 0.0916 - val_accuracy: 0.9749\n",
            "Epoch 7/25\n",
            "50/50 [==============================] - 0s 3ms/step - loss: 0.1208 - accuracy: 0.9479 - val_loss: 0.0893 - val_accuracy: 0.9774\n",
            "Epoch 8/25\n",
            "50/50 [==============================] - 0s 3ms/step - loss: 0.0880 - accuracy: 0.9719 - val_loss: 0.0876 - val_accuracy: 0.9825\n",
            "Epoch 9/25\n",
            "50/50 [==============================] - 0s 3ms/step - loss: 0.0932 - accuracy: 0.9610 - val_loss: 0.0865 - val_accuracy: 0.9825\n",
            "Epoch 10/25\n",
            "50/50 [==============================] - 0s 3ms/step - loss: 0.0848 - accuracy: 0.9657 - val_loss: 0.0862 - val_accuracy: 0.9825\n",
            "Epoch 11/25\n",
            "50/50 [==============================] - 0s 3ms/step - loss: 0.0642 - accuracy: 0.9762 - val_loss: 0.0839 - val_accuracy: 0.9825\n",
            "Epoch 12/25\n",
            "50/50 [==============================] - 0s 3ms/step - loss: 0.0697 - accuracy: 0.9723 - val_loss: 0.0837 - val_accuracy: 0.9825\n",
            "Epoch 13/25\n",
            "50/50 [==============================] - 0s 3ms/step - loss: 0.0758 - accuracy: 0.9730 - val_loss: 0.0882 - val_accuracy: 0.9799\n",
            "Epoch 14/25\n",
            "50/50 [==============================] - 0s 5ms/step - loss: 0.0623 - accuracy: 0.9791 - val_loss: 0.0861 - val_accuracy: 0.9825\n",
            "Epoch 15/25\n",
            "50/50 [==============================] - 0s 3ms/step - loss: 0.0687 - accuracy: 0.9720 - val_loss: 0.0865 - val_accuracy: 0.9799\n",
            "Epoch 16/25\n",
            "50/50 [==============================] - 0s 3ms/step - loss: 0.0694 - accuracy: 0.9724 - val_loss: 0.0875 - val_accuracy: 0.9825\n",
            "Epoch 17/25\n",
            "50/50 [==============================] - 0s 3ms/step - loss: 0.0578 - accuracy: 0.9772 - val_loss: 0.0900 - val_accuracy: 0.9825\n",
            "Epoch 18/25\n",
            "50/50 [==============================] - 0s 3ms/step - loss: 0.0551 - accuracy: 0.9807 - val_loss: 0.0929 - val_accuracy: 0.9825\n",
            "Epoch 19/25\n",
            "50/50 [==============================] - 0s 3ms/step - loss: 0.0569 - accuracy: 0.9803 - val_loss: 0.0942 - val_accuracy: 0.9825\n",
            "Epoch 20/25\n",
            "50/50 [==============================] - 0s 3ms/step - loss: 0.0518 - accuracy: 0.9759 - val_loss: 0.0988 - val_accuracy: 0.9799\n",
            "Epoch 21/25\n",
            "50/50 [==============================] - 0s 3ms/step - loss: 0.0433 - accuracy: 0.9855 - val_loss: 0.1064 - val_accuracy: 0.9774\n",
            "Epoch 22/25\n",
            "50/50 [==============================] - 0s 3ms/step - loss: 0.0345 - accuracy: 0.9866 - val_loss: 0.1028 - val_accuracy: 0.9724\n",
            "Epoch 23/25\n",
            "50/50 [==============================] - 0s 3ms/step - loss: 0.0356 - accuracy: 0.9890 - val_loss: 0.1124 - val_accuracy: 0.9724\n",
            "Epoch 24/25\n",
            "50/50 [==============================] - 0s 3ms/step - loss: 0.0371 - accuracy: 0.9895 - val_loss: 0.1231 - val_accuracy: 0.9749\n",
            "Epoch 25/25\n",
            "50/50 [==============================] - 0s 3ms/step - loss: 0.0301 - accuracy: 0.9885 - val_loss: 0.1246 - val_accuracy: 0.9674\n"
          ],
          "name": "stdout"
        }
      ]
    },
    {
      "cell_type": "code",
      "metadata": {
        "colab": {
          "base_uri": "https://localhost:8080/",
          "height": 791
        },
        "id": "DTGS_1m57C1G",
        "outputId": "8e137a3d-8fbd-41e1-dab6-7b5c619041ee"
      },
      "source": [
        "plot_learning_curve(history, 25)"
      ],
      "execution_count": 24,
      "outputs": [
        {
          "output_type": "stream",
          "text": [
            "/usr/local/lib/python3.7/dist-packages/ipykernel_launcher.py:8: UserWarning: Legend does not support 't' instances.\n",
            "A proxy artist may be used instead.\n",
            "See: http://matplotlib.org/users/legend_guide.html#creating-artists-specifically-for-adding-to-the-legend-aka-proxy-artists\n",
            "  \n",
            "/usr/local/lib/python3.7/dist-packages/ipykernel_launcher.py:8: UserWarning: Legend does not support 'r' instances.\n",
            "A proxy artist may be used instead.\n",
            "See: http://matplotlib.org/users/legend_guide.html#creating-artists-specifically-for-adding-to-the-legend-aka-proxy-artists\n",
            "  \n",
            "/usr/local/lib/python3.7/dist-packages/ipykernel_launcher.py:8: UserWarning: Legend does not support 'a' instances.\n",
            "A proxy artist may be used instead.\n",
            "See: http://matplotlib.org/users/legend_guide.html#creating-artists-specifically-for-adding-to-the-legend-aka-proxy-artists\n",
            "  \n"
          ],
          "name": "stderr"
        },
        {
          "output_type": "display_data",
          "data": {
            "image/png": "[encoded data removed]",
            "text/plain": [
              "<Figure size 432x288 with 1 Axes>"
            ]
          },
          "metadata": {
            "tags": [],
            "needs_background": "light"
          }
        },
        {
          "output_type": "display_data",
          "data": {
            "image/png": "[encoded data removed]",
            "text/plain": [
              "<Figure size 432x288 with 1 Axes>"
            ]
          },
          "metadata": {
            "tags": [],
            "needs_background": "light"
          }
        }
      ]
    },
    {
      "cell_type": "code",
      "metadata": {
        "colab": {
          "base_uri": "https://localhost:8080/"
        },
        "id": "BjOGh4Bkt__K",
        "outputId": "af94d696-ea25-488c-f7a5-c914c5a66277"
      },
      "source": [
        "score = DNN.evaluate(x_test, y_test)"
      ],
      "execution_count": 25,
      "outputs": [
        {
          "output_type": "stream",
          "text": [
            "13/13 [==============================] - 0s 1ms/step - loss: 0.1246 - accuracy: 0.9674\n"
          ],
          "name": "stdout"
        }
      ]
    },
    {
      "cell_type": "code",
      "metadata": {
        "id": "DXUZHbnCupTy"
      },
      "source": [
        "y_pred = DNN.predict(x_test)\n",
        "cm = confusion_matrix(y_test, y_pred.round())"
      ],
      "execution_count": 26,
      "outputs": []
    },
    {
      "cell_type": "code",
      "metadata": {
        "colab": {
          "base_uri": "https://localhost:8080/"
        },
        "id": "3Tc8SX4Z24MV",
        "outputId": "91ed0f2a-e204-41d2-aaf5-4205a5858d94"
      },
      "source": [
        "print(classification_report(y_test, y_pred.round()))"
      ],
      "execution_count": 27,
      "outputs": [
        {
          "output_type": "stream",
          "text": [
            "              precision    recall  f1-score   support\n",
            "\n",
            "           0       0.98      0.98      0.98       315\n",
            "           1       0.92      0.93      0.92        84\n",
            "\n",
            "    accuracy                           0.97       399\n",
            "   macro avg       0.95      0.95      0.95       399\n",
            "weighted avg       0.97      0.97      0.97       399\n",
            "\n"
          ],
          "name": "stdout"
        }
      ]
    },
    {
      "cell_type": "code",
      "metadata": {
        "colab": {
          "base_uri": "https://localhost:8080/",
          "height": 350
        },
        "id": "1jWIAjadu4a5",
        "outputId": "5fbca0ff-fc41-4687-815b-bb4caaaa0f45"
      },
      "source": [
        "labels = [\"Fraud\", \"Normal\"]\n",
        "\n",
        "matrix = np.flip(cm)\n",
        "\n",
        "plt.figure(figsize=(5, 5))\n",
        "sns.heatmap(matrix, xticklabels=labels, yticklabels=labels,  annot=True, fmt=\"d\", cbar=False)\n",
        "plt.title(\"Confusion Matrix\")\n",
        "plt.ylabel('Actual')\n",
        "plt.xlabel('Predicted')\n",
        "plt.show()"
      ],
      "execution_count": 28,
      "outputs": [
        {
          "output_type": "display_data",
          "data": {
            "image/png": "[encoded data removed]",
            "text/plain": [
              "<Figure size 360x360 with 1 Axes>"
            ]
          },
          "metadata": {
            "tags": [],
            "needs_background": "light"
          }
        }
      ]
    },
    {
      "cell_type": "markdown",
      "metadata": {
        "id": "zcFmzjTkY-mm"
      },
      "source": [
        "## Convolutional Neural Network"
      ]
    },
    {
      "cell_type": "code",
      "metadata": {
        "colab": {
          "base_uri": "https://localhost:8080/"
        },
        "id": "qAmFi0gy4Va9",
        "outputId": "96571612-2c9d-4ba0-abe5-51f15fddaaff"
      },
      "source": [
        "x_train = np.array(x_train).reshape(x_train.shape[0], x_train.shape[1], 1)\n",
        "x_test = np.array(x_test).reshape(x_test.shape[0], x_test.shape[1], 1)\n",
        "input_shape = (x_train.shape[1], 1)\n",
        "\n",
        "print(\"Shapes:\\nx_train:%s\\ny_train:%s\\n\" % (x_train.shape, y_train.shape))\n",
        "print(\"x_test:%s\\ny_test:%s\\n\" % (x_test.shape, y_test.shape))\n",
        "print(\"input_shape:{}\\n\".format(input_shape))"
      ],
      "execution_count": 41,
      "outputs": [
        {
          "output_type": "stream",
          "text": [
            "Shapes:\n",
            "x_train:(1593, 30, 1)\n",
            "y_train:(1593,)\n",
            "\n",
            "x_test:(399, 30, 1)\n",
            "y_test:(399,)\n",
            "\n",
            "input_shape:(30, 1)\n",
            "\n"
          ],
          "name": "stdout"
        }
      ]
    },
    {
      "cell_type": "code",
      "metadata": {
        "colab": {
          "base_uri": "https://localhost:8080/"
        },
        "id": "k8eM6nG5-X8A",
        "outputId": "9858de81-23e0-4a8d-b299-b547cd2d050f"
      },
      "source": [
        "x_train[:5]"
      ],
      "execution_count": 30,
      "outputs": [
        {
          "output_type": "execute_result",
          "data": {
            "text/plain": [
              "array([[[-1.97981139e+00],\n",
              "        [-4.85237731e-01],\n",
              "        [ 6.58496594e-01],\n",
              "        [ 1.94996662e+00],\n",
              "        [ 1.24969475e+00],\n",
              "        [ 4.26410290e-01],\n",
              "        [ 2.31512687e-01],\n",
              "        [ 5.85115384e-01],\n",
              "        [ 2.91629910e-02],\n",
              "        [-5.20297446e-01],\n",
              "        [ 5.59114747e-02],\n",
              "        [ 1.26531109e+00],\n",
              "        [ 5.21276565e-01],\n",
              "        [-8.30439424e-01],\n",
              "        [ 1.57454834e-01],\n",
              "        [-3.65074566e-01],\n",
              "        [-1.14218704e+00],\n",
              "        [ 4.09601003e-01],\n",
              "        [-2.04876492e-01],\n",
              "        [ 1.01048316e+00],\n",
              "        [ 8.93777272e-02],\n",
              "        [ 7.29012156e-03],\n",
              "        [ 3.28243726e-01],\n",
              "        [-2.32563155e-01],\n",
              "        [ 2.25572061e-01],\n",
              "        [ 2.58916791e-02],\n",
              "        [-2.47395420e-01],\n",
              "        [-2.53810208e-02],\n",
              "        [-1.18564650e-01],\n",
              "        [-3.45356468e-01]],\n",
              "\n",
              "       [[-1.97932880e+00],\n",
              "        [-9.03628224e-01],\n",
              "        [-2.33362598e-01],\n",
              "        [ 2.58086353e+00],\n",
              "        [-9.90572327e-01],\n",
              "        [-3.97920255e-01],\n",
              "        [ 2.81755037e-01],\n",
              "        [ 2.38618916e-01],\n",
              "        [ 2.49101589e-01],\n",
              "        [ 6.51330368e-01],\n",
              "        [-8.81774861e-01],\n",
              "        [ 9.39971814e-01],\n",
              "        [ 3.97778746e-01],\n",
              "        [-1.49456263e+00],\n",
              "        [-4.28434388e-01],\n",
              "        [-1.30794235e+00],\n",
              "        [-9.56183594e-02],\n",
              "        [-8.01697746e-02],\n",
              "        [-4.32193307e-01],\n",
              "        [-3.36658276e-01],\n",
              "        [ 5.04711871e-02],\n",
              "        [-7.50174594e-02],\n",
              "        [-9.79062674e-02],\n",
              "        [ 5.94478702e-02],\n",
              "        [ 2.44547634e-01],\n",
              "        [-3.16141151e-01],\n",
              "        [ 7.54404530e-01],\n",
              "        [-1.66315609e-01],\n",
              "        [-1.38177096e-01],\n",
              "        [-8.27323090e-02]],\n",
              "\n",
              "       [[-1.97509045e+00],\n",
              "        [ 1.92558115e-02],\n",
              "        [ 4.71698112e-01],\n",
              "        [ 8.68060279e-01],\n",
              "        [-1.23912416e+00],\n",
              "        [ 5.47897880e-01],\n",
              "        [-5.02661073e-01],\n",
              "        [ 8.08516316e-01],\n",
              "        [-2.47667131e-01],\n",
              "        [ 1.30741129e-01],\n",
              "        [-4.84993915e-01],\n",
              "        [-7.02094465e-01],\n",
              "        [-2.13445399e-01],\n",
              "        [-4.87133367e-02],\n",
              "        [-6.53069918e-02],\n",
              "        [ 6.58810334e-01],\n",
              "        [ 1.68525657e-01],\n",
              "        [-6.21303531e-01],\n",
              "        [-6.90750497e-01],\n",
              "        [-6.97036043e-01],\n",
              "        [-1.07129889e-01],\n",
              "        [ 2.14296481e-02],\n",
              "        [ 2.65056733e-01],\n",
              "        [ 6.66076304e-02],\n",
              "        [-3.81752337e-01],\n",
              "        [-1.30517056e+00],\n",
              "        [ 6.46049380e-01],\n",
              "        [-1.36249438e-02],\n",
              "        [-1.19848055e-02],\n",
              "        [-3.58871818e-01]],\n",
              "\n",
              "       [[-1.96732714e+00],\n",
              "        [-5.34912931e-01],\n",
              "        [ 5.50683625e-01],\n",
              "        [ 4.01756142e+00],\n",
              "        [ 3.25490376e+00],\n",
              "        [-9.19558650e-01],\n",
              "        [ 1.64471618e+00],\n",
              "        [-6.38287211e-01],\n",
              "        [ 4.32395644e-01],\n",
              "        [ 1.58196246e-04],\n",
              "        [ 5.01194758e-01],\n",
              "        [ 4.46253534e-01],\n",
              "        [ 1.05272567e+00],\n",
              "        [ 4.51786445e-01],\n",
              "        [-1.40274890e+00],\n",
              "        [-1.87014770e+00],\n",
              "        [-6.19165995e-01],\n",
              "        [ 4.36712873e-01],\n",
              "        [ 6.12060647e-01],\n",
              "        [ 1.52257262e+00],\n",
              "        [ 2.47874081e-01],\n",
              "        [ 1.47772109e-01],\n",
              "        [ 1.09622494e+00],\n",
              "        [-4.16072514e-01],\n",
              "        [ 6.28185801e-01],\n",
              "        [ 1.06290010e-01],\n",
              "        [ 4.74380524e-01],\n",
              "        [ 1.92600756e-02],\n",
              "        [-1.26125635e-01],\n",
              "        [-3.66313305e-01]],\n",
              "\n",
              "       [[-1.96499815e+00],\n",
              "        [ 5.61409146e-02],\n",
              "        [ 2.39849057e-01],\n",
              "        [ 1.95496398e+00],\n",
              "        [ 4.47886626e-01],\n",
              "        [-1.66884832e+00],\n",
              "        [ 6.40006233e-01],\n",
              "        [-2.15814275e+00],\n",
              "        [-2.41416293e+00],\n",
              "        [-1.40898577e+00],\n",
              "        [ 2.64521225e-01],\n",
              "        [ 1.22329065e+00],\n",
              "        [ 1.18041108e+00],\n",
              "        [ 9.93944046e-01],\n",
              "        [ 2.22771475e-01],\n",
              "        [ 7.96051157e-01],\n",
              "        [-7.32271362e-01],\n",
              "        [-3.87030270e-01],\n",
              "        [ 2.41756394e+00],\n",
              "        [-9.39342683e-01],\n",
              "        [ 3.10594382e-01],\n",
              "        [-1.26540766e+00],\n",
              "        [ 9.01001748e-01],\n",
              "        [ 3.29967514e-02],\n",
              "        [ 5.19744313e-01],\n",
              "        [ 3.03610711e-01],\n",
              "        [-1.85665605e-01],\n",
              "        [ 2.12196535e-01],\n",
              "        [ 2.83123133e-01],\n",
              "        [-3.29146093e-01]]])"
            ]
          },
          "metadata": {
            "tags": []
          },
          "execution_count": 30
        }
      ]
    },
    {
      "cell_type": "code",
      "metadata": {
        "id": "acKzfHbrY8er"
      },
      "source": [
        "CNN=Sequential()\n",
        "\n",
        "CNN.add(Conv1D(filters=32, kernel_size=2, activation='relu',input_shape=x_train[0].shape))\n",
        "CNN.add(BatchNormalization())\n",
        "CNN.add(MaxPool1D(pool_size=2))\n",
        "CNN.add(Dropout(rate=0.2))\n",
        "\n",
        "CNN.add(Conv1D(64,2,activation='relu'))\n",
        "CNN.add(BatchNormalization())\n",
        "CNN.add(MaxPool1D(pool_size=2))\n",
        "CNN.add(Dropout(rate=0.5))\n",
        "\n",
        "\n",
        "#flattening layer\n",
        "CNN.add(Flatten())\n",
        "CNN.add(Dense(64,activation=\"relu\"))\n",
        "CNN.add(Dropout(rate=0.5))\n",
        "\n",
        "#final layer\n",
        "CNN.add(Dense(units=1,activation=\"sigmoid\"))"
      ],
      "execution_count": 42,
      "outputs": []
    },
    {
      "cell_type": "code",
      "metadata": {
        "id": "Iupg1H77ZBbd",
        "colab": {
          "base_uri": "https://localhost:8080/"
        },
        "outputId": "922885a4-e248-4582-c73a-8288433154d2"
      },
      "source": [
        "CNN.summary()"
      ],
      "execution_count": 43,
      "outputs": [
        {
          "output_type": "stream",
          "text": [
            "Model: \"sequential_2\"\n",
            "_________________________________________________________________\n",
            "Layer (type)                 Output Shape              Param #   \n",
            "=================================================================\n",
            "conv1d_2 (Conv1D)            (None, 29, 32)            96        \n",
            "_________________________________________________________________\n",
            "batch_normalization_2 (Batch (None, 29, 32)            128       \n",
            "_________________________________________________________________\n",
            "max_pooling1d_2 (MaxPooling1 (None, 14, 32)            0         \n",
            "_________________________________________________________________\n",
            "dropout_3 (Dropout)          (None, 14, 32)            0         \n",
            "_________________________________________________________________\n",
            "conv1d_3 (Conv1D)            (None, 13, 64)            4160      \n",
            "_________________________________________________________________\n",
            "batch_normalization_3 (Batch (None, 13, 64)            256       \n",
            "_________________________________________________________________\n",
            "max_pooling1d_3 (MaxPooling1 (None, 6, 64)             0         \n",
            "_________________________________________________________________\n",
            "dropout_4 (Dropout)          (None, 6, 64)             0         \n",
            "_________________________________________________________________\n",
            "flatten_1 (Flatten)          (None, 384)               0         \n",
            "_________________________________________________________________\n",
            "dense_7 (Dense)              (None, 64)                24640     \n",
            "_________________________________________________________________\n",
            "dropout_5 (Dropout)          (None, 64)                0         \n",
            "_________________________________________________________________\n",
            "dense_8 (Dense)              (None, 1)                 65        \n",
            "=================================================================\n",
            "Total params: 29,345\n",
            "Trainable params: 29,153\n",
            "Non-trainable params: 192\n",
            "_________________________________________________________________\n"
          ],
          "name": "stdout"
        }
      ]
    },
    {
      "cell_type": "code",
      "metadata": {
        "id": "UqbQHw2LZFar"
      },
      "source": [
        "CNN.compile(optimizer=Adam(lr=0.001),loss='binary_crossentropy',metrics=['accuracy'])"
      ],
      "execution_count": 44,
      "outputs": []
    },
    {
      "cell_type": "code",
      "metadata": {
        "id": "oN-zOL7WZKNc",
        "colab": {
          "base_uri": "https://localhost:8080/"
        },
        "outputId": "fe781cfb-6e86-476c-aed6-a08c6c6ab0c3"
      },
      "source": [
        "history =CNN.fit(x_train,y_train,epochs=25, validation_data = (x_test,y_test),verbose=1)"
      ],
      "execution_count": 45,
      "outputs": [
        {
          "output_type": "stream",
          "text": [
            "Epoch 1/25\n",
            "50/50 [==============================] - 2s 11ms/step - loss: 0.5936 - accuracy: 0.7944 - val_loss: 0.3942 - val_accuracy: 0.8922\n",
            "Epoch 2/25\n",
            "50/50 [==============================] - 0s 6ms/step - loss: 0.2205 - accuracy: 0.9291 - val_loss: 0.2077 - val_accuracy: 0.9649\n",
            "Epoch 3/25\n",
            "50/50 [==============================] - 0s 7ms/step - loss: 0.2018 - accuracy: 0.9355 - val_loss: 0.1439 - val_accuracy: 0.9724\n",
            "Epoch 4/25\n",
            "50/50 [==============================] - 0s 7ms/step - loss: 0.2083 - accuracy: 0.9362 - val_loss: 0.1223 - val_accuracy: 0.9749\n",
            "Epoch 5/25\n",
            "50/50 [==============================] - 0s 7ms/step - loss: 0.1849 - accuracy: 0.9423 - val_loss: 0.0945 - val_accuracy: 0.9749\n",
            "Epoch 6/25\n",
            "50/50 [==============================] - 0s 6ms/step - loss: 0.1694 - accuracy: 0.9507 - val_loss: 0.0902 - val_accuracy: 0.9749\n",
            "Epoch 7/25\n",
            "50/50 [==============================] - 0s 7ms/step - loss: 0.1590 - accuracy: 0.9515 - val_loss: 0.0934 - val_accuracy: 0.9774\n",
            "Epoch 8/25\n",
            "50/50 [==============================] - 0s 6ms/step - loss: 0.1691 - accuracy: 0.9452 - val_loss: 0.0933 - val_accuracy: 0.9749\n",
            "Epoch 9/25\n",
            "50/50 [==============================] - 0s 7ms/step - loss: 0.1641 - accuracy: 0.9489 - val_loss: 0.0897 - val_accuracy: 0.9774\n",
            "Epoch 10/25\n",
            "50/50 [==============================] - 0s 6ms/step - loss: 0.1645 - accuracy: 0.9474 - val_loss: 0.0831 - val_accuracy: 0.9799\n",
            "Epoch 11/25\n",
            "50/50 [==============================] - 0s 6ms/step - loss: 0.1608 - accuracy: 0.9364 - val_loss: 0.0813 - val_accuracy: 0.9774\n",
            "Epoch 12/25\n",
            "50/50 [==============================] - 0s 6ms/step - loss: 0.1530 - accuracy: 0.9534 - val_loss: 0.0815 - val_accuracy: 0.9799\n",
            "Epoch 13/25\n",
            "50/50 [==============================] - 0s 6ms/step - loss: 0.1532 - accuracy: 0.9548 - val_loss: 0.0816 - val_accuracy: 0.9825\n",
            "Epoch 14/25\n",
            "50/50 [==============================] - 0s 6ms/step - loss: 0.1399 - accuracy: 0.9495 - val_loss: 0.0803 - val_accuracy: 0.9774\n",
            "Epoch 15/25\n",
            "50/50 [==============================] - 0s 7ms/step - loss: 0.1480 - accuracy: 0.9530 - val_loss: 0.0778 - val_accuracy: 0.9825\n",
            "Epoch 16/25\n",
            "50/50 [==============================] - 0s 6ms/step - loss: 0.1713 - accuracy: 0.9420 - val_loss: 0.0797 - val_accuracy: 0.9799\n",
            "Epoch 17/25\n",
            "50/50 [==============================] - 0s 7ms/step - loss: 0.1174 - accuracy: 0.9629 - val_loss: 0.0788 - val_accuracy: 0.9799\n",
            "Epoch 18/25\n",
            "50/50 [==============================] - 0s 6ms/step - loss: 0.1574 - accuracy: 0.9516 - val_loss: 0.0793 - val_accuracy: 0.9774\n",
            "Epoch 19/25\n",
            "50/50 [==============================] - 0s 6ms/step - loss: 0.1159 - accuracy: 0.9631 - val_loss: 0.0791 - val_accuracy: 0.9825\n",
            "Epoch 20/25\n",
            "50/50 [==============================] - 0s 6ms/step - loss: 0.1522 - accuracy: 0.9445 - val_loss: 0.0781 - val_accuracy: 0.9799\n",
            "Epoch 21/25\n",
            "50/50 [==============================] - 0s 6ms/step - loss: 0.1068 - accuracy: 0.9611 - val_loss: 0.0845 - val_accuracy: 0.9825\n",
            "Epoch 22/25\n",
            "50/50 [==============================] - 0s 6ms/step - loss: 0.1228 - accuracy: 0.9565 - val_loss: 0.0779 - val_accuracy: 0.9799\n",
            "Epoch 23/25\n",
            "50/50 [==============================] - 0s 6ms/step - loss: 0.1565 - accuracy: 0.9503 - val_loss: 0.0798 - val_accuracy: 0.9799\n",
            "Epoch 24/25\n",
            "50/50 [==============================] - 0s 6ms/step - loss: 0.1495 - accuracy: 0.9499 - val_loss: 0.0763 - val_accuracy: 0.9825\n",
            "Epoch 25/25\n",
            "50/50 [==============================] - 0s 6ms/step - loss: 0.1219 - accuracy: 0.9650 - val_loss: 0.0774 - val_accuracy: 0.9825\n"
          ],
          "name": "stdout"
        }
      ]
    },
    {
      "cell_type": "code",
      "metadata": {
        "id": "cUkZRPiWxlWo",
        "colab": {
          "base_uri": "https://localhost:8080/",
          "height": 791
        },
        "outputId": "904c606f-06fb-4854-f658-8e1dd8b481a9"
      },
      "source": [
        "plot_learning_curve(history, 25)"
      ],
      "execution_count": 46,
      "outputs": [
        {
          "output_type": "stream",
          "text": [
            "/usr/local/lib/python3.7/dist-packages/ipykernel_launcher.py:8: UserWarning: Legend does not support 't' instances.\n",
            "A proxy artist may be used instead.\n",
            "See: http://matplotlib.org/users/legend_guide.html#creating-artists-specifically-for-adding-to-the-legend-aka-proxy-artists\n",
            "  \n",
            "/usr/local/lib/python3.7/dist-packages/ipykernel_launcher.py:8: UserWarning: Legend does not support 'r' instances.\n",
            "A proxy artist may be used instead.\n",
            "See: http://matplotlib.org/users/legend_guide.html#creating-artists-specifically-for-adding-to-the-legend-aka-proxy-artists\n",
            "  \n",
            "/usr/local/lib/python3.7/dist-packages/ipykernel_launcher.py:8: UserWarning: Legend does not support 'a' instances.\n",
            "A proxy artist may be used instead.\n",
            "See: http://matplotlib.org/users/legend_guide.html#creating-artists-specifically-for-adding-to-the-legend-aka-proxy-artists\n",
            "  \n"
          ],
          "name": "stderr"
        },
        {
          "output_type": "display_data",
          "data": {
            "image/png": "[encoded data removed]",
            "text/plain": [
              "<Figure size 432x288 with 1 Axes>"
            ]
          },
          "metadata": {
            "tags": [],
            "needs_background": "light"
          }
        },
        {
          "output_type": "display_data",
          "data": {
            "image/png": "[encoded data removed]",
            "text/plain": [
              "<Figure size 432x288 with 1 Axes>"
            ]
          },
          "metadata": {
            "tags": [],
            "needs_background": "light"
          }
        }
      ]
    },
    {
      "cell_type": "code",
      "metadata": {
        "id": "s0WRNA-mxo0_",
        "colab": {
          "base_uri": "https://localhost:8080/"
        },
        "outputId": "1da50a68-2df2-4ded-b920-7bd530ae5c6a"
      },
      "source": [
        "final_acc = CNN.evaluate(x_train,y_train, verbose=0)\n",
        "print('Test loss:', final_acc[0])\n",
        "print('Test accuracy:', final_acc[1])"
      ],
      "execution_count": 47,
      "outputs": [
        {
          "output_type": "stream",
          "text": [
            "Test loss: 0.09846452623605728\n",
            "Test accuracy: 0.963590681552887\n"
          ],
          "name": "stdout"
        }
      ]
    },
    {
      "cell_type": "code",
      "metadata": {
        "colab": {
          "base_uri": "https://localhost:8080/"
        },
        "id": "KdW7JL6q5Glu",
        "outputId": "c4cd584e-07c3-4649-9bf0-8273c4c9606d"
      },
      "source": [
        "print(classification_report(y_test, y_pred.round()))"
      ],
      "execution_count": 48,
      "outputs": [
        {
          "output_type": "stream",
          "text": [
            "              precision    recall  f1-score   support\n",
            "\n",
            "           0       0.98      1.00      0.99       315\n",
            "           1       0.99      0.90      0.94        84\n",
            "\n",
            "    accuracy                           0.98       399\n",
            "   macro avg       0.98      0.95      0.96       399\n",
            "weighted avg       0.98      0.98      0.98       399\n",
            "\n"
          ],
          "name": "stdout"
        }
      ]
    },
    {
      "cell_type": "code",
      "metadata": {
        "id": "KOywukVc5MIO"
      },
      "source": [
        "y_pred = CNN.predict(x_test)\n",
        "cm = confusion_matrix(y_test, y_pred.round())"
      ],
      "execution_count": 49,
      "outputs": []
    },
    {
      "cell_type": "code",
      "metadata": {
        "id": "LDQ-kYbQxuNb",
        "colab": {
          "base_uri": "https://localhost:8080/"
        },
        "outputId": "08a1022a-76ef-430c-c3c5-3a1ce401329d"
      },
      "source": [
        "print(classification_report(y_test, y_pred.round()))"
      ],
      "execution_count": 50,
      "outputs": [
        {
          "output_type": "stream",
          "text": [
            "              precision    recall  f1-score   support\n",
            "\n",
            "           0       0.98      1.00      0.99       315\n",
            "           1       0.99      0.93      0.96        84\n",
            "\n",
            "    accuracy                           0.98       399\n",
            "   macro avg       0.98      0.96      0.97       399\n",
            "weighted avg       0.98      0.98      0.98       399\n",
            "\n"
          ],
          "name": "stdout"
        }
      ]
    },
    {
      "cell_type": "code",
      "metadata": {
        "colab": {
          "base_uri": "https://localhost:8080/",
          "height": 350
        },
        "id": "ArX0yfs15SgH",
        "outputId": "bb9f808e-71ef-403f-938d-15e0d484367d"
      },
      "source": [
        "labels = [\"Fraud\", \"Normal\"]\n",
        "\n",
        "matrix = np.flip(cm)\n",
        "\n",
        "plt.figure(figsize=(5, 5))\n",
        "sns.heatmap(matrix, xticklabels=labels, yticklabels=labels,  annot=True, fmt=\"d\", cbar=False)\n",
        "plt.title(\"Confusion Matrix\")\n",
        "plt.ylabel('Actual')\n",
        "plt.xlabel('Predicted')\n",
        "plt.show()"
      ],
      "execution_count": 51,
      "outputs": [
        {
          "output_type": "display_data",
          "data": {
            "image/png": "[encoded data removed]",
            "text/plain": [
              "<Figure size 360x360 with 1 Axes>"
            ]
          },
          "metadata": {
            "tags": [],
            "needs_background": "light"
          }
        }
      ]
    },
    {
      "cell_type": "code",
      "metadata": {
        "id": "VHsQJGhpHSYt"
      },
      "source": [
        "Z"
      ],
      "execution_count": 40,
      "outputs": []
    }
  ]
}