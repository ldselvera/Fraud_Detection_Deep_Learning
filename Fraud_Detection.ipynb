{
  "nbformat": 4,
  "nbformat_minor": 0,
  "metadata": {
    "colab": {
      "name": "Fraud_Detection.ipynb",
      "provenance": [],
      "collapsed_sections": [],
      "mount_file_id": "https://github.com/ldselvera/Fraud_Detection_Deep_Learning/blob/main/Fraud_Detection.ipynb",
      "authorship_tag": "ABX9TyPt3rldjCme9wt3ek5Ym+SQ",
      "include_colab_link": true
    },
    "kernelspec": {
      "name": "python3",
      "display_name": "Python 3"
    }
  },
  "cells": [
    {
      "cell_type": "markdown",
      "metadata": {
        "id": "view-in-github",
        "colab_type": "text"
      },
      "source": [
        "<a href=\"https://colab.research.google.com/github/ldselvera/Fraud_Detection_Deep_Learning/blob/main/Fraud_Detection.ipynb\" target=\"_parent\"><img src=\"https://colab.research.google.com/assets/colab-badge.svg\" alt=\"Open In Colab\"/></a>"
      ]
    },
    {
      "cell_type": "markdown",
      "metadata": {
        "id": "mA4C1zNFYYY9"
      },
      "source": [
        "## Imports"
      ]
    },
    {
      "cell_type": "code",
      "metadata": {
        "colab": {
          "base_uri": "https://localhost:8080/"
        },
        "id": "8JIuMMWawJWk",
        "outputId": "31e1e09d-f2e2-42ac-ea45-7b19fa7eee50"
      },
      "source": [
        "import pandas as pd\n",
        "import numpy as np\n",
        "import matplotlib.pyplot as plt\n",
        "import seaborn as sns\n",
        "\n",
        "import tensorflow as tf\n",
        "from tensorflow import keras\n",
        "from tensorflow.keras.optimizers import Adam\n",
        "\n",
        "from keras import regularizers, optimizers\n",
        "from keras.models import Sequential, Model, load_model\n",
        "from keras.layers import Input, Conv1D, Dense, Flatten, Activation, UpSampling1D, MaxPooling1D, ZeroPadding1D\n",
        "from keras.layers import Flatten, Dropout, BatchNormalization, MaxPool1D\n",
        "\n",
        "from sklearn.model_selection import train_test_split\n",
        "from sklearn.preprocessing import StandardScaler\n",
        "from sklearn.metrics import confusion_matrix, classification_report, roc_auc_score\n",
        "from sklearn import datasets, decomposition, preprocessing\n",
        "\n",
        "from mpl_toolkits.mplot3d import Axes3D\n",
        "\n",
        "print(tf.__version__)"
      ],
      "execution_count": 1,
      "outputs": [
        {
          "output_type": "stream",
          "text": [
            "2.4.1\n"
          ],
          "name": "stdout"
        }
      ]
    },
    {
      "cell_type": "markdown",
      "metadata": {
        "id": "A31EgwShR_e0"
      },
      "source": [
        "## Dataset"
      ]
    },
    {
      "cell_type": "code",
      "metadata": {
        "id": "zoYfwsWzwL0j"
      },
      "source": [
        "#import dataset from csv\n",
        "\n",
        "#Modify with your own path\n",
        "df = pd.read_csv(\"/content/drive/MyDrive/Colab Notebooks/fraud/creditcard.csv\")"
      ],
      "execution_count": 2,
      "outputs": []
    },
    {
      "cell_type": "code",
      "metadata": {
        "colab": {
          "base_uri": "https://localhost:8080/",
          "height": 226
        },
        "id": "QDJ7ukVSn4sm",
        "outputId": "b5a87e98-b634-4b13-a2d1-10764aba3575"
      },
      "source": [
        "#preview of the data\n",
        "df.head()"
      ],
      "execution_count": 3,
      "outputs": [
        {
          "output_type": "execute_result",
          "data": {
            "text/html": [
              "<div>\n",
              "<style scoped>\n",
              "    .dataframe tbody tr th:only-of-type {\n",
              "        vertical-align: middle;\n",
              "    }\n",
              "\n",
              "    .dataframe tbody tr th {\n",
              "        vertical-align: top;\n",
              "    }\n",
              "\n",
              "    .dataframe thead th {\n",
              "        text-align: right;\n",
              "    }\n",
              "</style>\n",
              "<table border=\"1\" class=\"dataframe\">\n",
              "  <thead>\n",
              "    <tr style=\"text-align: right;\">\n",
              "      <th></th>\n",
              "      <th>Time</th>\n",
              "      <th>V1</th>\n",
              "      <th>V2</th>\n",
              "      <th>V3</th>\n",
              "      <th>V4</th>\n",
              "      <th>V5</th>\n",
              "      <th>V6</th>\n",
              "      <th>V7</th>\n",
              "      <th>V8</th>\n",
              "      <th>V9</th>\n",
              "      <th>V10</th>\n",
              "      <th>V11</th>\n",
              "      <th>V12</th>\n",
              "      <th>V13</th>\n",
              "      <th>V14</th>\n",
              "      <th>V15</th>\n",
              "      <th>V16</th>\n",
              "      <th>V17</th>\n",
              "      <th>V18</th>\n",
              "      <th>V19</th>\n",
              "      <th>V20</th>\n",
              "      <th>V21</th>\n",
              "      <th>V22</th>\n",
              "      <th>V23</th>\n",
              "      <th>V24</th>\n",
              "      <th>V25</th>\n",
              "      <th>V26</th>\n",
              "      <th>V27</th>\n",
              "      <th>V28</th>\n",
              "      <th>Amount</th>\n",
              "      <th>Class</th>\n",
              "    </tr>\n",
              "  </thead>\n",
              "  <tbody>\n",
              "    <tr>\n",
              "      <th>0</th>\n",
              "      <td>0.0</td>\n",
              "      <td>-1.359807</td>\n",
              "      <td>-0.072781</td>\n",
              "      <td>2.536347</td>\n",
              "      <td>1.378155</td>\n",
              "      <td>-0.338321</td>\n",
              "      <td>0.462388</td>\n",
              "      <td>0.239599</td>\n",
              "      <td>0.098698</td>\n",
              "      <td>0.363787</td>\n",
              "      <td>0.090794</td>\n",
              "      <td>-0.551600</td>\n",
              "      <td>-0.617801</td>\n",
              "      <td>-0.991390</td>\n",
              "      <td>-0.311169</td>\n",
              "      <td>1.468177</td>\n",
              "      <td>-0.470401</td>\n",
              "      <td>0.207971</td>\n",
              "      <td>0.025791</td>\n",
              "      <td>0.403993</td>\n",
              "      <td>0.251412</td>\n",
              "      <td>-0.018307</td>\n",
              "      <td>0.277838</td>\n",
              "      <td>-0.110474</td>\n",
              "      <td>0.066928</td>\n",
              "      <td>0.128539</td>\n",
              "      <td>-0.189115</td>\n",
              "      <td>0.133558</td>\n",
              "      <td>-0.021053</td>\n",
              "      <td>149.62</td>\n",
              "      <td>0</td>\n",
              "    </tr>\n",
              "    <tr>\n",
              "      <th>1</th>\n",
              "      <td>0.0</td>\n",
              "      <td>1.191857</td>\n",
              "      <td>0.266151</td>\n",
              "      <td>0.166480</td>\n",
              "      <td>0.448154</td>\n",
              "      <td>0.060018</td>\n",
              "      <td>-0.082361</td>\n",
              "      <td>-0.078803</td>\n",
              "      <td>0.085102</td>\n",
              "      <td>-0.255425</td>\n",
              "      <td>-0.166974</td>\n",
              "      <td>1.612727</td>\n",
              "      <td>1.065235</td>\n",
              "      <td>0.489095</td>\n",
              "      <td>-0.143772</td>\n",
              "      <td>0.635558</td>\n",
              "      <td>0.463917</td>\n",
              "      <td>-0.114805</td>\n",
              "      <td>-0.183361</td>\n",
              "      <td>-0.145783</td>\n",
              "      <td>-0.069083</td>\n",
              "      <td>-0.225775</td>\n",
              "      <td>-0.638672</td>\n",
              "      <td>0.101288</td>\n",
              "      <td>-0.339846</td>\n",
              "      <td>0.167170</td>\n",
              "      <td>0.125895</td>\n",
              "      <td>-0.008983</td>\n",
              "      <td>0.014724</td>\n",
              "      <td>2.69</td>\n",
              "      <td>0</td>\n",
              "    </tr>\n",
              "    <tr>\n",
              "      <th>2</th>\n",
              "      <td>1.0</td>\n",
              "      <td>-1.358354</td>\n",
              "      <td>-1.340163</td>\n",
              "      <td>1.773209</td>\n",
              "      <td>0.379780</td>\n",
              "      <td>-0.503198</td>\n",
              "      <td>1.800499</td>\n",
              "      <td>0.791461</td>\n",
              "      <td>0.247676</td>\n",
              "      <td>-1.514654</td>\n",
              "      <td>0.207643</td>\n",
              "      <td>0.624501</td>\n",
              "      <td>0.066084</td>\n",
              "      <td>0.717293</td>\n",
              "      <td>-0.165946</td>\n",
              "      <td>2.345865</td>\n",
              "      <td>-2.890083</td>\n",
              "      <td>1.109969</td>\n",
              "      <td>-0.121359</td>\n",
              "      <td>-2.261857</td>\n",
              "      <td>0.524980</td>\n",
              "      <td>0.247998</td>\n",
              "      <td>0.771679</td>\n",
              "      <td>0.909412</td>\n",
              "      <td>-0.689281</td>\n",
              "      <td>-0.327642</td>\n",
              "      <td>-0.139097</td>\n",
              "      <td>-0.055353</td>\n",
              "      <td>-0.059752</td>\n",
              "      <td>378.66</td>\n",
              "      <td>0</td>\n",
              "    </tr>\n",
              "    <tr>\n",
              "      <th>3</th>\n",
              "      <td>1.0</td>\n",
              "      <td>-0.966272</td>\n",
              "      <td>-0.185226</td>\n",
              "      <td>1.792993</td>\n",
              "      <td>-0.863291</td>\n",
              "      <td>-0.010309</td>\n",
              "      <td>1.247203</td>\n",
              "      <td>0.237609</td>\n",
              "      <td>0.377436</td>\n",
              "      <td>-1.387024</td>\n",
              "      <td>-0.054952</td>\n",
              "      <td>-0.226487</td>\n",
              "      <td>0.178228</td>\n",
              "      <td>0.507757</td>\n",
              "      <td>-0.287924</td>\n",
              "      <td>-0.631418</td>\n",
              "      <td>-1.059647</td>\n",
              "      <td>-0.684093</td>\n",
              "      <td>1.965775</td>\n",
              "      <td>-1.232622</td>\n",
              "      <td>-0.208038</td>\n",
              "      <td>-0.108300</td>\n",
              "      <td>0.005274</td>\n",
              "      <td>-0.190321</td>\n",
              "      <td>-1.175575</td>\n",
              "      <td>0.647376</td>\n",
              "      <td>-0.221929</td>\n",
              "      <td>0.062723</td>\n",
              "      <td>0.061458</td>\n",
              "      <td>123.50</td>\n",
              "      <td>0</td>\n",
              "    </tr>\n",
              "    <tr>\n",
              "      <th>4</th>\n",
              "      <td>2.0</td>\n",
              "      <td>-1.158233</td>\n",
              "      <td>0.877737</td>\n",
              "      <td>1.548718</td>\n",
              "      <td>0.403034</td>\n",
              "      <td>-0.407193</td>\n",
              "      <td>0.095921</td>\n",
              "      <td>0.592941</td>\n",
              "      <td>-0.270533</td>\n",
              "      <td>0.817739</td>\n",
              "      <td>0.753074</td>\n",
              "      <td>-0.822843</td>\n",
              "      <td>0.538196</td>\n",
              "      <td>1.345852</td>\n",
              "      <td>-1.119670</td>\n",
              "      <td>0.175121</td>\n",
              "      <td>-0.451449</td>\n",
              "      <td>-0.237033</td>\n",
              "      <td>-0.038195</td>\n",
              "      <td>0.803487</td>\n",
              "      <td>0.408542</td>\n",
              "      <td>-0.009431</td>\n",
              "      <td>0.798278</td>\n",
              "      <td>-0.137458</td>\n",
              "      <td>0.141267</td>\n",
              "      <td>-0.206010</td>\n",
              "      <td>0.502292</td>\n",
              "      <td>0.219422</td>\n",
              "      <td>0.215153</td>\n",
              "      <td>69.99</td>\n",
              "      <td>0</td>\n",
              "    </tr>\n",
              "  </tbody>\n",
              "</table>\n",
              "</div>"
            ],
            "text/plain": [
              "   Time        V1        V2        V3  ...       V27       V28  Amount  Class\n",
              "0   0.0 -1.359807 -0.072781  2.536347  ...  0.133558 -0.021053  149.62      0\n",
              "1   0.0  1.191857  0.266151  0.166480  ... -0.008983  0.014724    2.69      0\n",
              "2   1.0 -1.358354 -1.340163  1.773209  ... -0.055353 -0.059752  378.66      0\n",
              "3   1.0 -0.966272 -0.185226  1.792993  ...  0.062723  0.061458  123.50      0\n",
              "4   2.0 -1.158233  0.877737  1.548718  ...  0.219422  0.215153   69.99      0\n",
              "\n",
              "[5 rows x 31 columns]"
            ]
          },
          "metadata": {
            "tags": []
          },
          "execution_count": 3
        }
      ]
    },
    {
      "cell_type": "code",
      "metadata": {
        "colab": {
          "base_uri": "https://localhost:8080/"
        },
        "id": "T7YEL20rqvAT",
        "outputId": "7460364e-4d6b-44d3-d542-59803de5e8b4"
      },
      "source": [
        "df.columns"
      ],
      "execution_count": 4,
      "outputs": [
        {
          "output_type": "execute_result",
          "data": {
            "text/plain": [
              "Index(['Time', 'V1', 'V2', 'V3', 'V4', 'V5', 'V6', 'V7', 'V8', 'V9', 'V10',\n",
              "       'V11', 'V12', 'V13', 'V14', 'V15', 'V16', 'V17', 'V18', 'V19', 'V20',\n",
              "       'V21', 'V22', 'V23', 'V24', 'V25', 'V26', 'V27', 'V28', 'Amount',\n",
              "       'Class'],\n",
              "      dtype='object')"
            ]
          },
          "metadata": {
            "tags": []
          },
          "execution_count": 4
        }
      ]
    },
    {
      "cell_type": "markdown",
      "metadata": {
        "id": "e3nhTPtQSSib"
      },
      "source": [
        "### Check for missing values (Null/NaN)"
      ]
    },
    {
      "cell_type": "code",
      "metadata": {
        "colab": {
          "base_uri": "https://localhost:8080/"
        },
        "id": "KrfE0ULlw2of",
        "outputId": "3291c69c-8dc9-4213-e9fe-7a4c1f86ea55"
      },
      "source": [
        "df.isnull().sum()"
      ],
      "execution_count": 5,
      "outputs": [
        {
          "output_type": "execute_result",
          "data": {
            "text/plain": [
              "Time      0\n",
              "V1        0\n",
              "V2        0\n",
              "V3        0\n",
              "V4        0\n",
              "V5        0\n",
              "V6        0\n",
              "V7        0\n",
              "V8        0\n",
              "V9        0\n",
              "V10       0\n",
              "V11       0\n",
              "V12       0\n",
              "V13       0\n",
              "V14       0\n",
              "V15       0\n",
              "V16       0\n",
              "V17       0\n",
              "V18       0\n",
              "V19       0\n",
              "V20       0\n",
              "V21       0\n",
              "V22       0\n",
              "V23       0\n",
              "V24       0\n",
              "V25       0\n",
              "V26       0\n",
              "V27       0\n",
              "V28       0\n",
              "Amount    0\n",
              "Class     0\n",
              "dtype: int64"
            ]
          },
          "metadata": {
            "tags": []
          },
          "execution_count": 5
        }
      ]
    },
    {
      "cell_type": "markdown",
      "metadata": {
        "id": "PurRX73ASHAy"
      },
      "source": [
        "### Imbalanced data"
      ]
    },
    {
      "cell_type": "code",
      "metadata": {
        "colab": {
          "base_uri": "https://localhost:8080/"
        },
        "id": "A67IsMfews1l",
        "outputId": "092521bc-3947-458b-8948-5a9b6f83a0ad"
      },
      "source": [
        "# Number of instances per class \n",
        "df['Class'].value_counts()"
      ],
      "execution_count": 6,
      "outputs": [
        {
          "output_type": "execute_result",
          "data": {
            "text/plain": [
              "0    284315\n",
              "1       492\n",
              "Name: Class, dtype: int64"
            ]
          },
          "metadata": {
            "tags": []
          },
          "execution_count": 6
        }
      ]
    },
    {
      "cell_type": "code",
      "metadata": {
        "colab": {
          "base_uri": "https://localhost:8080/"
        },
        "id": "Cjgh4YcNqy87",
        "outputId": "fc81303b-e20b-4966-ef68-de014e15b5c7"
      },
      "source": [
        "print('No Frauds', round(df['Class'].value_counts()[0]/len(df) * 100,2), '% of the dataset')\n",
        "print('Frauds', round(df['Class'].value_counts()[1]/len(df) * 100,2), '% of the dataset')"
      ],
      "execution_count": 7,
      "outputs": [
        {
          "output_type": "stream",
          "text": [
            "No Frauds 99.83 % of the dataset\n",
            "Frauds 0.17 % of the dataset\n"
          ],
          "name": "stdout"
        }
      ]
    },
    {
      "cell_type": "code",
      "metadata": {
        "colab": {
          "base_uri": "https://localhost:8080/",
          "height": 369
        },
        "id": "KosF-gJaq07z",
        "outputId": "68a4b42e-881c-44b5-8059-7f4e9fb28c5f"
      },
      "source": [
        "sns.countplot('Class', data=df)\n",
        "plt.title('Class Distributions \\n (0: No Fraud || 1: Fraud)', fontsize=14)\n",
        "plt.show()"
      ],
      "execution_count": 8,
      "outputs": [
        {
          "output_type": "stream",
          "text": [
            "/usr/local/lib/python3.7/dist-packages/seaborn/_decorators.py:43: FutureWarning: Pass the following variable as a keyword arg: x. From version 0.12, the only valid positional argument will be `data`, and passing other arguments without an explicit keyword will result in an error or misinterpretation.\n",
            "  FutureWarning\n"
          ],
          "name": "stderr"
        },
        {
          "output_type": "display_data",
          "data": {
            "image/png": "[encoded data removed]",
            "text/plain": [
              "<Figure size 432x288 with 1 Axes>"
            ]
          },
          "metadata": {
            "tags": [],
            "needs_background": "light"
          }
        }
      ]
    },
    {
      "cell_type": "code",
      "metadata": {
        "id": "eQKZAqa_XiN4"
      },
      "source": [
        "def show_pca_df(df):\n",
        "\tx = df[df.columns[1:30]].to_numpy()\n",
        "\ty = df[df.columns[30]].to_numpy()\n",
        "\n",
        "\tx = preprocessing.MinMaxScaler().fit_transform(x)\n",
        "\tpca = decomposition.PCA(n_components=3)\n",
        "\tpca_result = pca.fit_transform(x)\n",
        "\tprint(pca.explained_variance_ratio_)\n",
        "\n",
        "\tpca_df = pd.DataFrame(data=pca_result, columns=['pc_1', 'pc_2', 'pc_3'])\n",
        "\tpca_df = pd.concat([pca_df, pd.DataFrame({'label': y})], axis=1)\n",
        "\n",
        "\tax = Axes3D(plt.figure(figsize=(8, 8)))\n",
        "\tax.scatter(xs=pca_df['pc_1'], ys=pca_df['pc_2'], zs=pca_df['pc_3'], c=pca_df['label'], s=25)\n",
        "\tax.set_xlabel(\"pc_1\")\n",
        "\tax.set_ylabel(\"pc_2\")\n",
        "\tax.set_zlabel(\"pc_3\")\n",
        "\tplt.show()"
      ],
      "execution_count": 9,
      "outputs": []
    },
    {
      "cell_type": "code",
      "metadata": {
        "colab": {
          "base_uri": "https://localhost:8080/",
          "height": 625
        },
        "id": "qjRfLeKoX0z1",
        "outputId": "5bc4a48b-f922-4e51-92ca-dccac4706e71"
      },
      "source": [
        "show_pca_df(df)"
      ],
      "execution_count": 10,
      "outputs": [
        {
          "output_type": "stream",
          "text": [
            "[0.13501016 0.12577773 0.12031404]\n"
          ],
          "name": "stdout"
        },
        {
          "output_type": "display_data",
          "data": {
            "image/png": "[encoded data removed]",
            "text/plain": [
              "<Figure size 576x576 with 1 Axes>"
            ]
          },
          "metadata": {
            "tags": [],
            "needs_background": "light"
          }
        }
      ]
    },
    {
      "cell_type": "markdown",
      "metadata": {
        "id": "wWyXWCpmYTNk"
      },
      "source": [
        "### Subsampling"
      ]
    },
    {
      "cell_type": "code",
      "metadata": {
        "id": "8GxudI2jxBQP"
      },
      "source": [
        "#Split fraud and normal transactions\n",
        "fraud_data = df[df['Class']==1]\n",
        "non_fraud_data = df[df[\"Class\"]==0]\n",
        "\n",
        "#Subsample according to the size of fraud transactions\n",
        "non_fraud_data1 = non_fraud_data.sample(1500)\n",
        "\n",
        "#Rejoin fraud and normal transactions\n",
        "final_data = fraud_data.append(non_fraud_data1,ignore_index=True)\n"
      ],
      "execution_count": 11,
      "outputs": []
    },
    {
      "cell_type": "code",
      "metadata": {
        "colab": {
          "base_uri": "https://localhost:8080/"
        },
        "id": "vHpfJmbOaCrd",
        "outputId": "498f3440-31da-43c8-de4c-747e9841ed20"
      },
      "source": [
        "print('No Frauds', round(final_data['Class'].value_counts()[0]/len(final_data) * 100,2), '% of the dataset')\n",
        "print('Frauds', round(final_data['Class'].value_counts()[1]/len(final_data) * 100,2), '% of the dataset')"
      ],
      "execution_count": 12,
      "outputs": [
        {
          "output_type": "stream",
          "text": [
            "No Frauds 75.3 % of the dataset\n",
            "Frauds 24.7 % of the dataset\n"
          ],
          "name": "stdout"
        }
      ]
    },
    {
      "cell_type": "code",
      "metadata": {
        "colab": {
          "base_uri": "https://localhost:8080/",
          "height": 425
        },
        "id": "v3xQkb5orArm",
        "outputId": "04831f93-af28-4365-9c3d-dabc11a5271f"
      },
      "source": [
        "print('Distribution of the Classes in the subsample dataset')\n",
        "print(final_data['Class'].value_counts()/len(final_data))\n",
        "\n",
        "sns.countplot('Class', data=final_data)\n",
        "plt.title('25/75 Distributed Classes', fontsize=14)\n",
        "plt.show()"
      ],
      "execution_count": 13,
      "outputs": [
        {
          "output_type": "stream",
          "text": [
            "Distribution of the Classes in the subsample dataset\n",
            "0    0.753012\n",
            "1    0.246988\n",
            "Name: Class, dtype: float64\n"
          ],
          "name": "stdout"
        },
        {
          "output_type": "stream",
          "text": [
            "/usr/local/lib/python3.7/dist-packages/seaborn/_decorators.py:43: FutureWarning: Pass the following variable as a keyword arg: x. From version 0.12, the only valid positional argument will be `data`, and passing other arguments without an explicit keyword will result in an error or misinterpretation.\n",
            "  FutureWarning\n"
          ],
          "name": "stderr"
        },
        {
          "output_type": "display_data",
          "data": {
            "image/png": "[encoded data removed]",
            "text/plain": [
              "<Figure size 432x288 with 1 Axes>"
            ]
          },
          "metadata": {
            "tags": [],
            "needs_background": "light"
          }
        }
      ]
    },
    {
      "cell_type": "code",
      "metadata": {
        "colab": {
          "base_uri": "https://localhost:8080/"
        },
        "id": "PlvbiGCmrG41",
        "outputId": "53a7cbb3-488c-41f9-f1a2-269c6936637f"
      },
      "source": [
        "final_data['Class'].value_counts()"
      ],
      "execution_count": 14,
      "outputs": [
        {
          "output_type": "execute_result",
          "data": {
            "text/plain": [
              "0    1500\n",
              "1     492\n",
              "Name: Class, dtype: int64"
            ]
          },
          "metadata": {
            "tags": []
          },
          "execution_count": 14
        }
      ]
    },
    {
      "cell_type": "code",
      "metadata": {
        "colab": {
          "base_uri": "https://localhost:8080/",
          "height": 625
        },
        "id": "2hAme4xuX73H",
        "outputId": "c3d387de-2e4b-4070-c093-141b9a10ad5e"
      },
      "source": [
        "fraud = df[df[df.columns[30]] > 0]\n",
        "non_fraud = df[df[df.columns[30]] == 0].sample(n=fraud.size, random_state=1, axis='index')\n",
        "df = pd.concat([ fraud, non_fraud])\n",
        "\n",
        "show_pca_df(df)"
      ],
      "execution_count": 15,
      "outputs": [
        {
          "output_type": "stream",
          "text": [
            "[0.20577961 0.14728955 0.09800457]\n"
          ],
          "name": "stdout"
        },
        {
          "output_type": "display_data",
          "data": {
            "image/png": "[encoded data removed]",
            "text/plain": [
              "<Figure size 576x576 with 1 Axes>"
            ]
          },
          "metadata": {
            "tags": [],
            "needs_background": "light"
          }
        }
      ]
    },
    {
      "cell_type": "markdown",
      "metadata": {
        "id": "vFkjaniCYtw1"
      },
      "source": [
        "## Normalize Data"
      ]
    },
    {
      "cell_type": "code",
      "metadata": {
        "id": "W7IqKin1kfqN"
      },
      "source": [
        "df['Amount'] = StandardScaler().fit_transform(df['Amount'].values.reshape(-1, 1))\n",
        "df['Time'] = StandardScaler().fit_transform(df['Time'].values.reshape(-1, 1))"
      ],
      "execution_count": 16,
      "outputs": []
    },
    {
      "cell_type": "markdown",
      "metadata": {
        "id": "h_K1QrdLYgF9"
      },
      "source": [
        "## Splitting Data"
      ]
    },
    {
      "cell_type": "code",
      "metadata": {
        "id": "oLbAmBvrm7AU"
      },
      "source": [
        ""
      ],
      "execution_count": 16,
      "outputs": []
    },
    {
      "cell_type": "code",
      "metadata": {
        "colab": {
          "base_uri": "https://localhost:8080/",
          "height": 383
        },
        "id": "rLLGfJP3mVDc",
        "outputId": "6eb0367b-0887-4fda-fbb5-aea76d4b54c6"
      },
      "source": [
        "anomalies = df[df[\"Class\"] == 1]\n",
        "normal = df[df[\"Class\"] == 0]\n",
        "\n",
        "data_set = pd.concat([normal[:1500], anomalies])\n",
        "\n",
        "x_train, x_test = train_test_split(data_set, test_size = 0.2)\n",
        "\n",
        "x_train = x_train.sort_values(by=['Time'])\n",
        "x_test = x_test.sort_values(by=['Time'])\n",
        "\n",
        "y_train = x_train[\"Class\"]\n",
        "y_test = x_test[\"Class\"]\n",
        "\n",
        "x_train = x_train.drop(\"Class\",axis=1)\n",
        "x_test = x_test.drop(\"Class\",axis=1)\n",
        "\n",
        "x_test.head(10)"
      ],
      "execution_count": 17,
      "outputs": [
        {
          "output_type": "execute_result",
          "data": {
            "text/html": [
              "<div>\n",
              "<style scoped>\n",
              "    .dataframe tbody tr th:only-of-type {\n",
              "        vertical-align: middle;\n",
              "    }\n",
              "\n",
              "    .dataframe tbody tr th {\n",
              "        vertical-align: top;\n",
              "    }\n",
              "\n",
              "    .dataframe thead th {\n",
              "        text-align: right;\n",
              "    }\n",
              "</style>\n",
              "<table border=\"1\" class=\"dataframe\">\n",
              "  <thead>\n",
              "    <tr style=\"text-align: right;\">\n",
              "      <th></th>\n",
              "      <th>Time</th>\n",
              "      <th>V1</th>\n",
              "      <th>V2</th>\n",
              "      <th>V3</th>\n",
              "      <th>V4</th>\n",
              "      <th>V5</th>\n",
              "      <th>V6</th>\n",
              "      <th>V7</th>\n",
              "      <th>V8</th>\n",
              "      <th>V9</th>\n",
              "      <th>V10</th>\n",
              "      <th>V11</th>\n",
              "      <th>V12</th>\n",
              "      <th>V13</th>\n",
              "      <th>V14</th>\n",
              "      <th>V15</th>\n",
              "      <th>V16</th>\n",
              "      <th>V17</th>\n",
              "      <th>V18</th>\n",
              "      <th>V19</th>\n",
              "      <th>V20</th>\n",
              "      <th>V21</th>\n",
              "      <th>V22</th>\n",
              "      <th>V23</th>\n",
              "      <th>V24</th>\n",
              "      <th>V25</th>\n",
              "      <th>V26</th>\n",
              "      <th>V27</th>\n",
              "      <th>V28</th>\n",
              "      <th>Amount</th>\n",
              "    </tr>\n",
              "  </thead>\n",
              "  <tbody>\n",
              "    <tr>\n",
              "      <th>229</th>\n",
              "      <td>-1.979329</td>\n",
              "      <td>-0.903628</td>\n",
              "      <td>-0.233363</td>\n",
              "      <td>2.580864</td>\n",
              "      <td>-0.990572</td>\n",
              "      <td>-0.397920</td>\n",
              "      <td>0.281755</td>\n",
              "      <td>0.238619</td>\n",
              "      <td>0.249102</td>\n",
              "      <td>0.651330</td>\n",
              "      <td>-0.881775</td>\n",
              "      <td>0.939972</td>\n",
              "      <td>0.397779</td>\n",
              "      <td>-1.494563</td>\n",
              "      <td>-0.428434</td>\n",
              "      <td>-1.307942</td>\n",
              "      <td>-0.095618</td>\n",
              "      <td>-0.080170</td>\n",
              "      <td>-0.432193</td>\n",
              "      <td>-0.336658</td>\n",
              "      <td>0.050471</td>\n",
              "      <td>-0.075017</td>\n",
              "      <td>-0.097906</td>\n",
              "      <td>0.059448</td>\n",
              "      <td>0.244548</td>\n",
              "      <td>-0.316141</td>\n",
              "      <td>0.754405</td>\n",
              "      <td>-0.166316</td>\n",
              "      <td>-0.138177</td>\n",
              "      <td>-0.082732</td>\n",
              "    </tr>\n",
              "    <tr>\n",
              "      <th>2831</th>\n",
              "      <td>-1.932057</td>\n",
              "      <td>-0.518394</td>\n",
              "      <td>1.108301</td>\n",
              "      <td>1.163560</td>\n",
              "      <td>-0.148488</td>\n",
              "      <td>0.490939</td>\n",
              "      <td>-0.314171</td>\n",
              "      <td>0.792125</td>\n",
              "      <td>-0.106798</td>\n",
              "      <td>0.000491</td>\n",
              "      <td>-0.026223</td>\n",
              "      <td>-0.236882</td>\n",
              "      <td>-0.313890</td>\n",
              "      <td>-0.091448</td>\n",
              "      <td>-0.656768</td>\n",
              "      <td>1.244535</td>\n",
              "      <td>0.102987</td>\n",
              "      <td>0.055869</td>\n",
              "      <td>-0.485115</td>\n",
              "      <td>-0.335946</td>\n",
              "      <td>0.273204</td>\n",
              "      <td>-0.346534</td>\n",
              "      <td>-0.653056</td>\n",
              "      <td>-0.029312</td>\n",
              "      <td>-0.347864</td>\n",
              "      <td>-0.161376</td>\n",
              "      <td>0.101977</td>\n",
              "      <td>0.206212</td>\n",
              "      <td>-0.073040</td>\n",
              "      <td>-0.353321</td>\n",
              "    </tr>\n",
              "    <tr>\n",
              "      <th>3649</th>\n",
              "      <td>-1.917075</td>\n",
              "      <td>1.248387</td>\n",
              "      <td>-0.091206</td>\n",
              "      <td>0.303811</td>\n",
              "      <td>-0.104753</td>\n",
              "      <td>-0.526679</td>\n",
              "      <td>-0.707099</td>\n",
              "      <td>-0.163463</td>\n",
              "      <td>-0.041177</td>\n",
              "      <td>0.399964</td>\n",
              "      <td>-0.206574</td>\n",
              "      <td>-0.169019</td>\n",
              "      <td>-0.240756</td>\n",
              "      <td>-0.925812</td>\n",
              "      <td>0.465589</td>\n",
              "      <td>1.499286</td>\n",
              "      <td>0.011357</td>\n",
              "      <td>0.032397</td>\n",
              "      <td>-0.822384</td>\n",
              "      <td>-0.281581</td>\n",
              "      <td>-0.158507</td>\n",
              "      <td>-0.091895</td>\n",
              "      <td>-0.269220</td>\n",
              "      <td>0.084743</td>\n",
              "      <td>0.119461</td>\n",
              "      <td>0.132489</td>\n",
              "      <td>0.992821</td>\n",
              "      <td>-0.074608</td>\n",
              "      <td>-0.001264</td>\n",
              "      <td>-0.344954</td>\n",
              "    </tr>\n",
              "    <tr>\n",
              "      <th>4922</th>\n",
              "      <td>-1.888792</td>\n",
              "      <td>-0.155718</td>\n",
              "      <td>-0.555641</td>\n",
              "      <td>1.848151</td>\n",
              "      <td>-1.109779</td>\n",
              "      <td>-1.400660</td>\n",
              "      <td>-0.251651</td>\n",
              "      <td>-0.363722</td>\n",
              "      <td>-0.168415</td>\n",
              "      <td>-0.829275</td>\n",
              "      <td>0.573435</td>\n",
              "      <td>0.063423</td>\n",
              "      <td>-3.152961</td>\n",
              "      <td>2.617969</td>\n",
              "      <td>0.568136</td>\n",
              "      <td>-1.187621</td>\n",
              "      <td>-1.125796</td>\n",
              "      <td>1.776016</td>\n",
              "      <td>0.073773</td>\n",
              "      <td>0.779427</td>\n",
              "      <td>-0.008190</td>\n",
              "      <td>-0.480731</td>\n",
              "      <td>-0.747545</td>\n",
              "      <td>0.350116</td>\n",
              "      <td>0.241410</td>\n",
              "      <td>-0.693711</td>\n",
              "      <td>-0.472586</td>\n",
              "      <td>0.157351</td>\n",
              "      <td>0.172324</td>\n",
              "      <td>0.030459</td>\n",
              "    </tr>\n",
              "    <tr>\n",
              "      <th>4977</th>\n",
              "      <td>-1.887281</td>\n",
              "      <td>-1.400193</td>\n",
              "      <td>0.744386</td>\n",
              "      <td>2.118092</td>\n",
              "      <td>3.126864</td>\n",
              "      <td>-1.401758</td>\n",
              "      <td>1.460903</td>\n",
              "      <td>0.375688</td>\n",
              "      <td>0.706134</td>\n",
              "      <td>-0.032459</td>\n",
              "      <td>-0.031022</td>\n",
              "      <td>1.358014</td>\n",
              "      <td>-2.305601</td>\n",
              "      <td>1.751484</td>\n",
              "      <td>1.643707</td>\n",
              "      <td>-0.481714</td>\n",
              "      <td>0.476969</td>\n",
              "      <td>0.606288</td>\n",
              "      <td>1.483834</td>\n",
              "      <td>0.892238</td>\n",
              "      <td>0.791609</td>\n",
              "      <td>0.209277</td>\n",
              "      <td>0.424350</td>\n",
              "      <td>0.388423</td>\n",
              "      <td>-0.072557</td>\n",
              "      <td>0.282644</td>\n",
              "      <td>0.366931</td>\n",
              "      <td>0.111733</td>\n",
              "      <td>0.099355</td>\n",
              "      <td>0.811212</td>\n",
              "    </tr>\n",
              "    <tr>\n",
              "      <th>5641</th>\n",
              "      <td>-1.859669</td>\n",
              "      <td>1.012633</td>\n",
              "      <td>0.185475</td>\n",
              "      <td>1.857025</td>\n",
              "      <td>2.625659</td>\n",
              "      <td>-0.813666</td>\n",
              "      <td>0.741190</td>\n",
              "      <td>-1.050536</td>\n",
              "      <td>0.411454</td>\n",
              "      <td>1.078232</td>\n",
              "      <td>0.410754</td>\n",
              "      <td>2.237912</td>\n",
              "      <td>-2.310506</td>\n",
              "      <td>0.771148</td>\n",
              "      <td>1.647483</td>\n",
              "      <td>0.005916</td>\n",
              "      <td>1.168254</td>\n",
              "      <td>-0.044723</td>\n",
              "      <td>0.838385</td>\n",
              "      <td>-1.766318</td>\n",
              "      <td>-0.240510</td>\n",
              "      <td>0.167710</td>\n",
              "      <td>0.665263</td>\n",
              "      <td>0.034245</td>\n",
              "      <td>0.149376</td>\n",
              "      <td>0.061459</td>\n",
              "      <td>0.073727</td>\n",
              "      <td>0.024627</td>\n",
              "      <td>0.023361</td>\n",
              "      <td>-0.320538</td>\n",
              "    </tr>\n",
              "    <tr>\n",
              "      <th>5932</th>\n",
              "      <td>-1.845191</td>\n",
              "      <td>-0.448185</td>\n",
              "      <td>0.987939</td>\n",
              "      <td>1.800664</td>\n",
              "      <td>1.039269</td>\n",
              "      <td>0.107695</td>\n",
              "      <td>-0.425207</td>\n",
              "      <td>0.578578</td>\n",
              "      <td>-0.086358</td>\n",
              "      <td>0.319713</td>\n",
              "      <td>-0.499242</td>\n",
              "      <td>2.403731</td>\n",
              "      <td>-1.659643</td>\n",
              "      <td>1.967790</td>\n",
              "      <td>1.858422</td>\n",
              "      <td>-0.348536</td>\n",
              "      <td>-0.109896</td>\n",
              "      <td>0.309484</td>\n",
              "      <td>0.765043</td>\n",
              "      <td>0.449594</td>\n",
              "      <td>0.084419</td>\n",
              "      <td>0.005555</td>\n",
              "      <td>0.191573</td>\n",
              "      <td>-0.027589</td>\n",
              "      <td>0.480824</td>\n",
              "      <td>-0.294946</td>\n",
              "      <td>-0.487604</td>\n",
              "      <td>0.120259</td>\n",
              "      <td>0.141266</td>\n",
              "      <td>-0.228626</td>\n",
              "    </tr>\n",
              "    <tr>\n",
              "      <th>6004</th>\n",
              "      <td>-1.841163</td>\n",
              "      <td>1.041129</td>\n",
              "      <td>-0.136980</td>\n",
              "      <td>1.611763</td>\n",
              "      <td>1.266538</td>\n",
              "      <td>-1.047898</td>\n",
              "      <td>0.374092</td>\n",
              "      <td>-1.089656</td>\n",
              "      <td>0.365252</td>\n",
              "      <td>1.939952</td>\n",
              "      <td>-0.271491</td>\n",
              "      <td>2.315360</td>\n",
              "      <td>-2.250095</td>\n",
              "      <td>0.274533</td>\n",
              "      <td>1.794196</td>\n",
              "      <td>0.524404</td>\n",
              "      <td>0.641067</td>\n",
              "      <td>0.156434</td>\n",
              "      <td>1.032053</td>\n",
              "      <td>-1.128070</td>\n",
              "      <td>-0.245933</td>\n",
              "      <td>0.184673</td>\n",
              "      <td>0.748325</td>\n",
              "      <td>-0.009773</td>\n",
              "      <td>0.132448</td>\n",
              "      <td>0.163238</td>\n",
              "      <td>-0.288829</td>\n",
              "      <td>0.051591</td>\n",
              "      <td>0.024520</td>\n",
              "      <td>-0.288962</td>\n",
              "    </tr>\n",
              "    <tr>\n",
              "      <th>6108</th>\n",
              "      <td>-1.835959</td>\n",
              "      <td>-4.397974</td>\n",
              "      <td>1.358367</td>\n",
              "      <td>-2.592844</td>\n",
              "      <td>2.679787</td>\n",
              "      <td>-1.128131</td>\n",
              "      <td>-1.706536</td>\n",
              "      <td>-3.496197</td>\n",
              "      <td>-0.248778</td>\n",
              "      <td>-0.247768</td>\n",
              "      <td>-4.801637</td>\n",
              "      <td>4.895844</td>\n",
              "      <td>-10.912819</td>\n",
              "      <td>0.184372</td>\n",
              "      <td>-6.771097</td>\n",
              "      <td>-0.007326</td>\n",
              "      <td>-7.358083</td>\n",
              "      <td>-12.598419</td>\n",
              "      <td>-5.131549</td>\n",
              "      <td>0.308334</td>\n",
              "      <td>-0.171608</td>\n",
              "      <td>0.573574</td>\n",
              "      <td>0.176968</td>\n",
              "      <td>-0.436207</td>\n",
              "      <td>-0.053502</td>\n",
              "      <td>0.252405</td>\n",
              "      <td>-0.657488</td>\n",
              "      <td>-0.827136</td>\n",
              "      <td>0.849573</td>\n",
              "      <td>-0.132047</td>\n",
              "    </tr>\n",
              "    <tr>\n",
              "      <th>6566</th>\n",
              "      <td>-1.815439</td>\n",
              "      <td>-1.175765</td>\n",
              "      <td>1.038493</td>\n",
              "      <td>1.331686</td>\n",
              "      <td>-0.461610</td>\n",
              "      <td>0.289981</td>\n",
              "      <td>-0.360334</td>\n",
              "      <td>0.293541</td>\n",
              "      <td>0.613002</td>\n",
              "      <td>0.745002</td>\n",
              "      <td>-1.382102</td>\n",
              "      <td>1.690985</td>\n",
              "      <td>-2.474468</td>\n",
              "      <td>-0.250246</td>\n",
              "      <td>2.445880</td>\n",
              "      <td>-1.291850</td>\n",
              "      <td>0.792981</td>\n",
              "      <td>-0.095394</td>\n",
              "      <td>0.379293</td>\n",
              "      <td>-2.211593</td>\n",
              "      <td>-0.536409</td>\n",
              "      <td>0.011623</td>\n",
              "      <td>-0.083085</td>\n",
              "      <td>-0.081805</td>\n",
              "      <td>-0.120049</td>\n",
              "      <td>-0.086699</td>\n",
              "      <td>-0.812416</td>\n",
              "      <td>-0.059887</td>\n",
              "      <td>0.021954</td>\n",
              "      <td>-0.329146</td>\n",
              "    </tr>\n",
              "  </tbody>\n",
              "</table>\n",
              "</div>"
            ],
            "text/plain": [
              "          Time        V1        V2  ...       V27       V28    Amount\n",
              "229  -1.979329 -0.903628 -0.233363  ... -0.166316 -0.138177 -0.082732\n",
              "2831 -1.932057 -0.518394  1.108301  ...  0.206212 -0.073040 -0.353321\n",
              "3649 -1.917075  1.248387 -0.091206  ... -0.074608 -0.001264 -0.344954\n",
              "4922 -1.888792 -0.155718 -0.555641  ...  0.157351  0.172324  0.030459\n",
              "4977 -1.887281 -1.400193  0.744386  ...  0.111733  0.099355  0.811212\n",
              "5641 -1.859669  1.012633  0.185475  ...  0.024627  0.023361 -0.320538\n",
              "5932 -1.845191 -0.448185  0.987939  ...  0.120259  0.141266 -0.228626\n",
              "6004 -1.841163  1.041129 -0.136980  ...  0.051591  0.024520 -0.288962\n",
              "6108 -1.835959 -4.397974  1.358367  ... -0.827136  0.849573 -0.132047\n",
              "6566 -1.815439 -1.175765  1.038493  ... -0.059887  0.021954 -0.329146\n",
              "\n",
              "[10 rows x 30 columns]"
            ]
          },
          "metadata": {
            "tags": []
          },
          "execution_count": 17
        }
      ]
    },
    {
      "cell_type": "code",
      "metadata": {
        "colab": {
          "base_uri": "https://localhost:8080/"
        },
        "id": "H9y6TpyInUKE",
        "outputId": "bf4e5dec-3179-4e37-88ce-f647477b2906"
      },
      "source": [
        "input_shape = (x_train.shape[1], 1)\n",
        "\n",
        "\n",
        "print(\"Shapes:\\nx_train:%s\\ny_train:%s\\n\" % (x_train.shape, y_train.shape))\n",
        "print(\"x_test:%s\\ny_test:%s\\n\" % (x_test.shape, y_test.shape))\n",
        "print(\"input_shape:{}\\n\".format(input_shape))"
      ],
      "execution_count": 18,
      "outputs": [
        {
          "output_type": "stream",
          "text": [
            "Shapes:\n",
            "x_train:(1593, 30)\n",
            "y_train:(1593,)\n",
            "\n",
            "x_test:(399, 30)\n",
            "y_test:(399,)\n",
            "\n",
            "input_shape:(30, 1)\n",
            "\n"
          ],
          "name": "stdout"
        }
      ]
    },
    {
      "cell_type": "code",
      "metadata": {
        "colab": {
          "base_uri": "https://localhost:8080/",
          "height": 226
        },
        "id": "Y5XzMnm8M0ii",
        "outputId": "eca8feb5-3613-46e1-fc4d-072def31adc2"
      },
      "source": [
        "x_train[:5]"
      ],
      "execution_count": 19,
      "outputs": [
        {
          "output_type": "execute_result",
          "data": {
            "text/html": [
              "<div>\n",
              "<style scoped>\n",
              "    .dataframe tbody tr th:only-of-type {\n",
              "        vertical-align: middle;\n",
              "    }\n",
              "\n",
              "    .dataframe tbody tr th {\n",
              "        vertical-align: top;\n",
              "    }\n",
              "\n",
              "    .dataframe thead th {\n",
              "        text-align: right;\n",
              "    }\n",
              "</style>\n",
              "<table border=\"1\" class=\"dataframe\">\n",
              "  <thead>\n",
              "    <tr style=\"text-align: right;\">\n",
              "      <th></th>\n",
              "      <th>Time</th>\n",
              "      <th>V1</th>\n",
              "      <th>V2</th>\n",
              "      <th>V3</th>\n",
              "      <th>V4</th>\n",
              "      <th>V5</th>\n",
              "      <th>V6</th>\n",
              "      <th>V7</th>\n",
              "      <th>V8</th>\n",
              "      <th>V9</th>\n",
              "      <th>V10</th>\n",
              "      <th>V11</th>\n",
              "      <th>V12</th>\n",
              "      <th>V13</th>\n",
              "      <th>V14</th>\n",
              "      <th>V15</th>\n",
              "      <th>V16</th>\n",
              "      <th>V17</th>\n",
              "      <th>V18</th>\n",
              "      <th>V19</th>\n",
              "      <th>V20</th>\n",
              "      <th>V21</th>\n",
              "      <th>V22</th>\n",
              "      <th>V23</th>\n",
              "      <th>V24</th>\n",
              "      <th>V25</th>\n",
              "      <th>V26</th>\n",
              "      <th>V27</th>\n",
              "      <th>V28</th>\n",
              "      <th>Amount</th>\n",
              "    </tr>\n",
              "  </thead>\n",
              "  <tbody>\n",
              "    <tr>\n",
              "      <th>196</th>\n",
              "      <td>-1.979811</td>\n",
              "      <td>-0.485238</td>\n",
              "      <td>0.658497</td>\n",
              "      <td>1.949967</td>\n",
              "      <td>1.249695</td>\n",
              "      <td>0.426410</td>\n",
              "      <td>0.231513</td>\n",
              "      <td>0.585115</td>\n",
              "      <td>0.029163</td>\n",
              "      <td>-0.520297</td>\n",
              "      <td>0.055911</td>\n",
              "      <td>1.265311</td>\n",
              "      <td>0.521277</td>\n",
              "      <td>-0.830439</td>\n",
              "      <td>0.157455</td>\n",
              "      <td>-0.365075</td>\n",
              "      <td>-1.142187</td>\n",
              "      <td>0.409601</td>\n",
              "      <td>-0.204876</td>\n",
              "      <td>1.010483</td>\n",
              "      <td>0.089378</td>\n",
              "      <td>0.007290</td>\n",
              "      <td>0.328244</td>\n",
              "      <td>-0.232563</td>\n",
              "      <td>0.225572</td>\n",
              "      <td>0.025892</td>\n",
              "      <td>-0.247395</td>\n",
              "      <td>-0.025381</td>\n",
              "      <td>-0.118565</td>\n",
              "      <td>-0.345356</td>\n",
              "    </tr>\n",
              "    <tr>\n",
              "      <th>258</th>\n",
              "      <td>-1.978741</td>\n",
              "      <td>1.136752</td>\n",
              "      <td>-0.103770</td>\n",
              "      <td>0.904686</td>\n",
              "      <td>0.488211</td>\n",
              "      <td>-0.678524</td>\n",
              "      <td>0.039861</td>\n",
              "      <td>-0.581294</td>\n",
              "      <td>0.270996</td>\n",
              "      <td>0.256540</td>\n",
              "      <td>0.068092</td>\n",
              "      <td>1.445184</td>\n",
              "      <td>0.506268</td>\n",
              "      <td>-0.850215</td>\n",
              "      <td>0.464223</td>\n",
              "      <td>0.963247</td>\n",
              "      <td>0.522012</td>\n",
              "      <td>-0.463008</td>\n",
              "      <td>0.029022</td>\n",
              "      <td>-0.386661</td>\n",
              "      <td>-0.166087</td>\n",
              "      <td>-0.017527</td>\n",
              "      <td>-0.093159</td>\n",
              "      <td>0.119723</td>\n",
              "      <td>-0.000588</td>\n",
              "      <td>0.026252</td>\n",
              "      <td>0.229223</td>\n",
              "      <td>0.000201</td>\n",
              "      <td>0.010945</td>\n",
              "      <td>-0.343345</td>\n",
              "    </tr>\n",
              "    <tr>\n",
              "      <th>482</th>\n",
              "      <td>-1.975090</td>\n",
              "      <td>0.019256</td>\n",
              "      <td>0.471698</td>\n",
              "      <td>0.868060</td>\n",
              "      <td>-1.239124</td>\n",
              "      <td>0.547898</td>\n",
              "      <td>-0.502661</td>\n",
              "      <td>0.808516</td>\n",
              "      <td>-0.247667</td>\n",
              "      <td>0.130741</td>\n",
              "      <td>-0.484994</td>\n",
              "      <td>-0.702094</td>\n",
              "      <td>-0.213445</td>\n",
              "      <td>-0.048713</td>\n",
              "      <td>-0.065307</td>\n",
              "      <td>0.658810</td>\n",
              "      <td>0.168526</td>\n",
              "      <td>-0.621304</td>\n",
              "      <td>-0.690750</td>\n",
              "      <td>-0.697036</td>\n",
              "      <td>-0.107130</td>\n",
              "      <td>0.021430</td>\n",
              "      <td>0.265057</td>\n",
              "      <td>0.066608</td>\n",
              "      <td>-0.381752</td>\n",
              "      <td>-1.305171</td>\n",
              "      <td>0.646049</td>\n",
              "      <td>-0.013625</td>\n",
              "      <td>-0.011985</td>\n",
              "      <td>-0.358872</td>\n",
              "    </tr>\n",
              "    <tr>\n",
              "      <th>541</th>\n",
              "      <td>-1.974020</td>\n",
              "      <td>-2.312227</td>\n",
              "      <td>1.951992</td>\n",
              "      <td>-1.609851</td>\n",
              "      <td>3.997906</td>\n",
              "      <td>-0.522188</td>\n",
              "      <td>-1.426545</td>\n",
              "      <td>-2.537387</td>\n",
              "      <td>1.391657</td>\n",
              "      <td>-2.770089</td>\n",
              "      <td>-2.772272</td>\n",
              "      <td>3.202033</td>\n",
              "      <td>-2.899907</td>\n",
              "      <td>-0.595222</td>\n",
              "      <td>-4.289254</td>\n",
              "      <td>0.389724</td>\n",
              "      <td>-1.140747</td>\n",
              "      <td>-2.830056</td>\n",
              "      <td>-0.016822</td>\n",
              "      <td>0.416956</td>\n",
              "      <td>0.126911</td>\n",
              "      <td>0.517232</td>\n",
              "      <td>-0.035049</td>\n",
              "      <td>-0.465211</td>\n",
              "      <td>0.320198</td>\n",
              "      <td>0.044519</td>\n",
              "      <td>0.177840</td>\n",
              "      <td>0.261145</td>\n",
              "      <td>-0.143276</td>\n",
              "      <td>-0.369370</td>\n",
              "    </tr>\n",
              "    <tr>\n",
              "      <th>615</th>\n",
              "      <td>-1.972824</td>\n",
              "      <td>-0.634597</td>\n",
              "      <td>0.866354</td>\n",
              "      <td>1.123836</td>\n",
              "      <td>-0.304041</td>\n",
              "      <td>1.173910</td>\n",
              "      <td>0.257118</td>\n",
              "      <td>0.754325</td>\n",
              "      <td>0.171735</td>\n",
              "      <td>-0.825981</td>\n",
              "      <td>-0.531058</td>\n",
              "      <td>0.549389</td>\n",
              "      <td>0.598609</td>\n",
              "      <td>0.313814</td>\n",
              "      <td>0.354548</td>\n",
              "      <td>-0.156778</td>\n",
              "      <td>0.328551</td>\n",
              "      <td>-0.983933</td>\n",
              "      <td>0.235906</td>\n",
              "      <td>-0.630728</td>\n",
              "      <td>-0.105239</td>\n",
              "      <td>0.160463</td>\n",
              "      <td>0.422873</td>\n",
              "      <td>-0.353721</td>\n",
              "      <td>-0.847192</td>\n",
              "      <td>0.206896</td>\n",
              "      <td>-0.436112</td>\n",
              "      <td>0.110134</td>\n",
              "      <td>0.102261</td>\n",
              "      <td>-0.365348</td>\n",
              "    </tr>\n",
              "  </tbody>\n",
              "</table>\n",
              "</div>"
            ],
            "text/plain": [
              "         Time        V1        V2  ...       V27       V28    Amount\n",
              "196 -1.979811 -0.485238  0.658497  ... -0.025381 -0.118565 -0.345356\n",
              "258 -1.978741  1.136752 -0.103770  ...  0.000201  0.010945 -0.343345\n",
              "482 -1.975090  0.019256  0.471698  ... -0.013625 -0.011985 -0.358872\n",
              "541 -1.974020 -2.312227  1.951992  ...  0.261145 -0.143276 -0.369370\n",
              "615 -1.972824 -0.634597  0.866354  ...  0.110134  0.102261 -0.365348\n",
              "\n",
              "[5 rows x 30 columns]"
            ]
          },
          "metadata": {
            "tags": []
          },
          "execution_count": 19
        }
      ]
    },
    {
      "cell_type": "code",
      "metadata": {
        "id": "YseNmepwxfht"
      },
      "source": [
        "def plot_learning_curve(history,epochs):\n",
        "    epoch_range=range(1,epochs+1)\n",
        "    plt.plot(epoch_range,history.history['accuracy'])\n",
        "    plt.plot(epoch_range,history.history[\"val_accuracy\"])\n",
        "    plt.title(\"Model Accuracy\")\n",
        "    plt.xlabel(\"epochs\")\n",
        "    plt.ylabel(\"accuracy\")\n",
        "    plt.legend(\"train\",\"val\",loc=\"upper left\")\n",
        "    plt.show()\n",
        "     \n",
        "    plt.plot(epoch_range,history.history['loss'])\n",
        "    plt.plot(epoch_range,history.history['val_loss'])\n",
        "    plt.title('Model loss')\n",
        "    plt.ylabel('loss')\n",
        "    plt.xlabel('epoch')\n",
        "    plt.legend(['Train','Val'],loc='upper left')\n",
        "    plt.show()"
      ],
      "execution_count": 20,
      "outputs": []
    },
    {
      "cell_type": "markdown",
      "metadata": {
        "id": "gfSPfl1zY5G1"
      },
      "source": [
        "## Deep Neural Network"
      ]
    },
    {
      "cell_type": "code",
      "metadata": {
        "id": "Qf4ikg93tH2c"
      },
      "source": [
        "DNN = Sequential([\n",
        "Dense(input_dim = 30, units = 16, activation = 'relu'),\n",
        "Dense(units = 24, activation = 'relu'),\n",
        "Dense(units = 20, activation = 'relu'),\n",
        "Dense(units = 24, activation = 'relu'),\n",
        "Dense(units =1, activation = 'sigmoid'),])"
      ],
      "execution_count": 21,
      "outputs": []
    },
    {
      "cell_type": "code",
      "metadata": {
        "colab": {
          "base_uri": "https://localhost:8080/"
        },
        "id": "KkS-4ebutYLJ",
        "outputId": "65d93355-a51b-4bbd-de8e-d2ab47b9de58"
      },
      "source": [
        "DNN.compile(optimizer = 'adam', loss = 'binary_crossentropy', metrics = ['accuracy'])\n",
        "history = DNN.fit(x_train, y_train, epochs = 50, validation_data = (x_test,y_test),verbose=1)"
      ],
      "execution_count": 22,
      "outputs": [
        {
          "output_type": "stream",
          "text": [
            "Epoch 1/50\n",
            "50/50 [==============================] - 1s 13ms/step - loss: 0.5885 - accuracy: 0.8429 - val_loss: 0.3750 - val_accuracy: 0.9373\n",
            "Epoch 2/50\n",
            "50/50 [==============================] - 0s 3ms/step - loss: 0.2845 - accuracy: 0.9577 - val_loss: 0.1945 - val_accuracy: 0.9474\n",
            "Epoch 3/50\n",
            "50/50 [==============================] - 0s 3ms/step - loss: 0.1768 - accuracy: 0.9548 - val_loss: 0.1557 - val_accuracy: 0.9524\n",
            "Epoch 4/50\n",
            "50/50 [==============================] - 0s 3ms/step - loss: 0.1123 - accuracy: 0.9659 - val_loss: 0.1457 - val_accuracy: 0.9524\n",
            "Epoch 5/50\n",
            "50/50 [==============================] - 0s 3ms/step - loss: 0.0905 - accuracy: 0.9739 - val_loss: 0.1434 - val_accuracy: 0.9499\n",
            "Epoch 6/50\n",
            "50/50 [==============================] - 0s 3ms/step - loss: 0.1014 - accuracy: 0.9663 - val_loss: 0.1439 - val_accuracy: 0.9499\n",
            "Epoch 7/50\n",
            "50/50 [==============================] - 0s 3ms/step - loss: 0.1004 - accuracy: 0.9655 - val_loss: 0.1433 - val_accuracy: 0.9524\n",
            "Epoch 8/50\n",
            "50/50 [==============================] - 0s 3ms/step - loss: 0.0893 - accuracy: 0.9664 - val_loss: 0.1436 - val_accuracy: 0.9524\n",
            "Epoch 9/50\n",
            "50/50 [==============================] - 0s 3ms/step - loss: 0.0887 - accuracy: 0.9710 - val_loss: 0.1412 - val_accuracy: 0.9549\n",
            "Epoch 10/50\n",
            "50/50 [==============================] - 0s 3ms/step - loss: 0.0860 - accuracy: 0.9675 - val_loss: 0.1393 - val_accuracy: 0.9549\n",
            "Epoch 11/50\n",
            "50/50 [==============================] - 0s 3ms/step - loss: 0.0653 - accuracy: 0.9787 - val_loss: 0.1433 - val_accuracy: 0.9499\n",
            "Epoch 12/50\n",
            "50/50 [==============================] - 0s 3ms/step - loss: 0.0622 - accuracy: 0.9744 - val_loss: 0.1425 - val_accuracy: 0.9549\n",
            "Epoch 13/50\n",
            "50/50 [==============================] - 0s 3ms/step - loss: 0.0819 - accuracy: 0.9710 - val_loss: 0.1544 - val_accuracy: 0.9549\n",
            "Epoch 14/50\n",
            "50/50 [==============================] - 0s 3ms/step - loss: 0.0684 - accuracy: 0.9727 - val_loss: 0.1523 - val_accuracy: 0.9524\n",
            "Epoch 15/50\n",
            "50/50 [==============================] - 0s 6ms/step - loss: 0.0492 - accuracy: 0.9839 - val_loss: 0.1513 - val_accuracy: 0.9549\n",
            "Epoch 16/50\n",
            "50/50 [==============================] - 0s 3ms/step - loss: 0.0462 - accuracy: 0.9822 - val_loss: 0.1550 - val_accuracy: 0.9549\n",
            "Epoch 17/50\n",
            "50/50 [==============================] - 0s 3ms/step - loss: 0.0401 - accuracy: 0.9855 - val_loss: 0.1592 - val_accuracy: 0.9549\n",
            "Epoch 18/50\n",
            "50/50 [==============================] - 0s 3ms/step - loss: 0.0535 - accuracy: 0.9786 - val_loss: 0.1651 - val_accuracy: 0.9549\n",
            "Epoch 19/50\n",
            "50/50 [==============================] - 0s 2ms/step - loss: 0.0487 - accuracy: 0.9843 - val_loss: 0.1700 - val_accuracy: 0.9574\n",
            "Epoch 20/50\n",
            "50/50 [==============================] - 0s 2ms/step - loss: 0.0456 - accuracy: 0.9851 - val_loss: 0.1698 - val_accuracy: 0.9549\n",
            "Epoch 21/50\n",
            "50/50 [==============================] - 0s 3ms/step - loss: 0.0448 - accuracy: 0.9827 - val_loss: 0.1628 - val_accuracy: 0.9549\n",
            "Epoch 22/50\n",
            "50/50 [==============================] - 0s 3ms/step - loss: 0.0309 - accuracy: 0.9912 - val_loss: 0.1748 - val_accuracy: 0.9524\n",
            "Epoch 23/50\n",
            "50/50 [==============================] - 0s 3ms/step - loss: 0.0368 - accuracy: 0.9877 - val_loss: 0.1856 - val_accuracy: 0.9574\n",
            "Epoch 24/50\n",
            "50/50 [==============================] - 0s 3ms/step - loss: 0.0258 - accuracy: 0.9932 - val_loss: 0.1849 - val_accuracy: 0.9524\n",
            "Epoch 25/50\n",
            "50/50 [==============================] - 0s 3ms/step - loss: 0.0321 - accuracy: 0.9887 - val_loss: 0.1953 - val_accuracy: 0.9549\n",
            "Epoch 26/50\n",
            "50/50 [==============================] - 0s 3ms/step - loss: 0.0423 - accuracy: 0.9861 - val_loss: 0.1986 - val_accuracy: 0.9499\n",
            "Epoch 27/50\n",
            "50/50 [==============================] - 0s 3ms/step - loss: 0.0267 - accuracy: 0.9933 - val_loss: 0.2079 - val_accuracy: 0.9524\n",
            "Epoch 28/50\n",
            "50/50 [==============================] - 0s 3ms/step - loss: 0.0225 - accuracy: 0.9941 - val_loss: 0.2180 - val_accuracy: 0.9524\n",
            "Epoch 29/50\n",
            "50/50 [==============================] - 0s 3ms/step - loss: 0.0332 - accuracy: 0.9941 - val_loss: 0.2277 - val_accuracy: 0.9549\n",
            "Epoch 30/50\n",
            "50/50 [==============================] - 0s 3ms/step - loss: 0.0176 - accuracy: 0.9950 - val_loss: 0.2477 - val_accuracy: 0.9549\n",
            "Epoch 31/50\n",
            "50/50 [==============================] - 0s 3ms/step - loss: 0.0184 - accuracy: 0.9961 - val_loss: 0.2420 - val_accuracy: 0.9549\n",
            "Epoch 32/50\n",
            "50/50 [==============================] - 0s 3ms/step - loss: 0.0190 - accuracy: 0.9952 - val_loss: 0.2449 - val_accuracy: 0.9549\n",
            "Epoch 33/50\n",
            "50/50 [==============================] - 0s 3ms/step - loss: 0.0256 - accuracy: 0.9947 - val_loss: 0.2450 - val_accuracy: 0.9574\n",
            "Epoch 34/50\n",
            "50/50 [==============================] - 0s 3ms/step - loss: 0.0126 - accuracy: 0.9985 - val_loss: 0.2584 - val_accuracy: 0.9549\n",
            "Epoch 35/50\n",
            "50/50 [==============================] - 0s 3ms/step - loss: 0.0122 - accuracy: 0.9982 - val_loss: 0.2698 - val_accuracy: 0.9549\n",
            "Epoch 36/50\n",
            "50/50 [==============================] - 0s 3ms/step - loss: 0.0138 - accuracy: 0.9982 - val_loss: 0.2575 - val_accuracy: 0.9574\n",
            "Epoch 37/50\n",
            "50/50 [==============================] - 0s 3ms/step - loss: 0.0143 - accuracy: 0.9974 - val_loss: 0.2800 - val_accuracy: 0.9549\n",
            "Epoch 38/50\n",
            "50/50 [==============================] - 0s 3ms/step - loss: 0.0132 - accuracy: 0.9978 - val_loss: 0.2787 - val_accuracy: 0.9574\n",
            "Epoch 39/50\n",
            "50/50 [==============================] - 0s 3ms/step - loss: 0.0135 - accuracy: 0.9970 - val_loss: 0.2883 - val_accuracy: 0.9549\n",
            "Epoch 40/50\n",
            "50/50 [==============================] - 0s 3ms/step - loss: 0.0169 - accuracy: 0.9945 - val_loss: 0.3039 - val_accuracy: 0.9574\n",
            "Epoch 41/50\n",
            "50/50 [==============================] - 0s 3ms/step - loss: 0.0121 - accuracy: 0.9975 - val_loss: 0.3136 - val_accuracy: 0.9574\n",
            "Epoch 42/50\n",
            "50/50 [==============================] - 0s 3ms/step - loss: 0.0082 - accuracy: 0.9984 - val_loss: 0.3111 - val_accuracy: 0.9524\n",
            "Epoch 43/50\n",
            "50/50 [==============================] - 0s 3ms/step - loss: 0.0067 - accuracy: 0.9985 - val_loss: 0.3208 - val_accuracy: 0.9524\n",
            "Epoch 44/50\n",
            "50/50 [==============================] - 0s 3ms/step - loss: 0.0093 - accuracy: 0.9978 - val_loss: 0.3160 - val_accuracy: 0.9449\n",
            "Epoch 45/50\n",
            "50/50 [==============================] - 0s 3ms/step - loss: 0.0097 - accuracy: 0.9982 - val_loss: 0.3351 - val_accuracy: 0.9549\n",
            "Epoch 46/50\n",
            "50/50 [==============================] - 0s 3ms/step - loss: 0.0097 - accuracy: 0.9982 - val_loss: 0.3344 - val_accuracy: 0.9449\n",
            "Epoch 47/50\n",
            "50/50 [==============================] - 0s 3ms/step - loss: 0.0085 - accuracy: 0.9974 - val_loss: 0.3410 - val_accuracy: 0.9549\n",
            "Epoch 48/50\n",
            "50/50 [==============================] - 0s 3ms/step - loss: 0.0061 - accuracy: 0.9984 - val_loss: 0.3512 - val_accuracy: 0.9549\n",
            "Epoch 49/50\n",
            "50/50 [==============================] - 0s 3ms/step - loss: 0.0076 - accuracy: 0.9983 - val_loss: 0.3488 - val_accuracy: 0.9524\n",
            "Epoch 50/50\n",
            "50/50 [==============================] - 0s 3ms/step - loss: 0.0106 - accuracy: 0.9967 - val_loss: 0.3812 - val_accuracy: 0.9549\n"
          ],
          "name": "stdout"
        }
      ]
    },
    {
      "cell_type": "code",
      "metadata": {
        "colab": {
          "base_uri": "https://localhost:8080/",
          "height": 791
        },
        "id": "DTGS_1m57C1G",
        "outputId": "9dc9f3b9-0674-4ffe-a8fc-9042cde8ce1b"
      },
      "source": [
        "plot_learning_curve(history, 50)"
      ],
      "execution_count": 23,
      "outputs": [
        {
          "output_type": "stream",
          "text": [
            "/usr/local/lib/python3.7/dist-packages/ipykernel_launcher.py:8: UserWarning: Legend does not support 't' instances.\n",
            "A proxy artist may be used instead.\n",
            "See: http://matplotlib.org/users/legend_guide.html#creating-artists-specifically-for-adding-to-the-legend-aka-proxy-artists\n",
            "  \n",
            "/usr/local/lib/python3.7/dist-packages/ipykernel_launcher.py:8: UserWarning: Legend does not support 'r' instances.\n",
            "A proxy artist may be used instead.\n",
            "See: http://matplotlib.org/users/legend_guide.html#creating-artists-specifically-for-adding-to-the-legend-aka-proxy-artists\n",
            "  \n",
            "/usr/local/lib/python3.7/dist-packages/ipykernel_launcher.py:8: UserWarning: Legend does not support 'a' instances.\n",
            "A proxy artist may be used instead.\n",
            "See: http://matplotlib.org/users/legend_guide.html#creating-artists-specifically-for-adding-to-the-legend-aka-proxy-artists\n",
            "  \n"
          ],
          "name": "stderr"
        },
        {
          "output_type": "display_data",
          "data": {
            "image/png": "[encoded data removed]",
            "text/plain": [
              "<Figure size 432x288 with 1 Axes>"
            ]
          },
          "metadata": {
            "tags": [],
            "needs_background": "light"
          }
        },
        {
          "output_type": "display_data",
          "data": {
            "image/png": "[encoded data removed]",
            "text/plain": [
              "<Figure size 432x288 with 1 Axes>"
            ]
          },
          "metadata": {
            "tags": [],
            "needs_background": "light"
          }
        }
      ]
    },
    {
      "cell_type": "code",
      "metadata": {
        "colab": {
          "base_uri": "https://localhost:8080/"
        },
        "id": "BjOGh4Bkt__K",
        "outputId": "526b0a0f-3c43-4aa1-d256-00958113ba8f"
      },
      "source": [
        "score = DNN.evaluate(x_test, y_test)"
      ],
      "execution_count": 24,
      "outputs": [
        {
          "output_type": "stream",
          "text": [
            "13/13 [==============================] - 0s 2ms/step - loss: 0.3812 - accuracy: 0.9549\n"
          ],
          "name": "stdout"
        }
      ]
    },
    {
      "cell_type": "code",
      "metadata": {
        "id": "DXUZHbnCupTy"
      },
      "source": [
        "y_pred = DNN.predict(x_test)\n",
        "cm = confusion_matrix(y_test, y_pred.round())"
      ],
      "execution_count": 25,
      "outputs": []
    },
    {
      "cell_type": "code",
      "metadata": {
        "colab": {
          "base_uri": "https://localhost:8080/"
        },
        "id": "3Tc8SX4Z24MV",
        "outputId": "c7b2fa3f-12a3-4b9a-ee2e-d19d358f853e"
      },
      "source": [
        "print(classification_report(y_test, y_pred.round()))"
      ],
      "execution_count": 26,
      "outputs": [
        {
          "output_type": "stream",
          "text": [
            "              precision    recall  f1-score   support\n",
            "\n",
            "           0       0.95      0.99      0.97       300\n",
            "           1       0.96      0.86      0.90        99\n",
            "\n",
            "    accuracy                           0.95       399\n",
            "   macro avg       0.95      0.92      0.94       399\n",
            "weighted avg       0.95      0.95      0.95       399\n",
            "\n"
          ],
          "name": "stdout"
        }
      ]
    },
    {
      "cell_type": "code",
      "metadata": {
        "colab": {
          "base_uri": "https://localhost:8080/",
          "height": 350
        },
        "id": "1jWIAjadu4a5",
        "outputId": "87457bb5-71a4-4c9d-d985-5f252a41661d"
      },
      "source": [
        "labels = [\"Fraud\", \"Normal\"]\n",
        "\n",
        "matrix = np.flip(cm)\n",
        "\n",
        "plt.figure(figsize=(5, 5))\n",
        "sns.heatmap(matrix, xticklabels=labels, yticklabels=labels,  annot=True, fmt=\"d\", cbar=False)\n",
        "plt.title(\"Confusion Matrix\")\n",
        "plt.ylabel('Actual')\n",
        "plt.xlabel('Predicted')\n",
        "plt.show()"
      ],
      "execution_count": 27,
      "outputs": [
        {
          "output_type": "display_data",
          "data": {
            "image/png": "[encoded data removed]",
            "text/plain": [
              "<Figure size 360x360 with 1 Axes>"
            ]
          },
          "metadata": {
            "tags": [],
            "needs_background": "light"
          }
        }
      ]
    },
    {
      "cell_type": "markdown",
      "metadata": {
        "id": "zcFmzjTkY-mm"
      },
      "source": [
        "## Convolutional Neural Network"
      ]
    },
    {
      "cell_type": "code",
      "metadata": {
        "colab": {
          "base_uri": "https://localhost:8080/"
        },
        "id": "qAmFi0gy4Va9",
        "outputId": "0d00e7ff-395a-4306-a81d-3c305aa65bc7"
      },
      "source": [
        "x_train = np.array(x_train).reshape(x_train.shape[0], x_train.shape[1], 1)\n",
        "x_test = np.array(x_test).reshape(x_test.shape[0], x_test.shape[1], 1)\n",
        "input_shape = (x_train.shape[1], 1)\n",
        "\n",
        "print(\"Shapes:\\nx_train:%s\\ny_train:%s\\n\" % (x_train.shape, y_train.shape))\n",
        "print(\"x_test:%s\\ny_test:%s\\n\" % (x_test.shape, y_test.shape))\n",
        "print(\"input_shape:{}\\n\".format(input_shape))"
      ],
      "execution_count": 28,
      "outputs": [
        {
          "output_type": "stream",
          "text": [
            "Shapes:\n",
            "x_train:(1593, 30, 1)\n",
            "y_train:(1593,)\n",
            "\n",
            "x_test:(399, 30, 1)\n",
            "y_test:(399,)\n",
            "\n",
            "input_shape:(30, 1)\n",
            "\n"
          ],
          "name": "stdout"
        }
      ]
    },
    {
      "cell_type": "code",
      "metadata": {
        "colab": {
          "base_uri": "https://localhost:8080/"
        },
        "id": "k8eM6nG5-X8A",
        "outputId": "1235ea08-5579-4317-baaa-df087d900b0f"
      },
      "source": [
        "x_train[:5]"
      ],
      "execution_count": 29,
      "outputs": [
        {
          "output_type": "execute_result",
          "data": {
            "text/plain": [
              "array([[[-1.97981139e+00],\n",
              "        [-4.85237731e-01],\n",
              "        [ 6.58496594e-01],\n",
              "        [ 1.94996662e+00],\n",
              "        [ 1.24969475e+00],\n",
              "        [ 4.26410290e-01],\n",
              "        [ 2.31512687e-01],\n",
              "        [ 5.85115384e-01],\n",
              "        [ 2.91629910e-02],\n",
              "        [-5.20297446e-01],\n",
              "        [ 5.59114747e-02],\n",
              "        [ 1.26531109e+00],\n",
              "        [ 5.21276565e-01],\n",
              "        [-8.30439424e-01],\n",
              "        [ 1.57454834e-01],\n",
              "        [-3.65074566e-01],\n",
              "        [-1.14218704e+00],\n",
              "        [ 4.09601003e-01],\n",
              "        [-2.04876492e-01],\n",
              "        [ 1.01048316e+00],\n",
              "        [ 8.93777272e-02],\n",
              "        [ 7.29012156e-03],\n",
              "        [ 3.28243726e-01],\n",
              "        [-2.32563155e-01],\n",
              "        [ 2.25572061e-01],\n",
              "        [ 2.58916791e-02],\n",
              "        [-2.47395420e-01],\n",
              "        [-2.53810208e-02],\n",
              "        [-1.18564650e-01],\n",
              "        [-3.45356468e-01]],\n",
              "\n",
              "       [[-1.97874131e+00],\n",
              "        [ 1.13675205e+00],\n",
              "        [-1.03769567e-01],\n",
              "        [ 9.04686444e-01],\n",
              "        [ 4.88210755e-01],\n",
              "        [-6.78523515e-01],\n",
              "        [ 3.98607288e-02],\n",
              "        [-5.81293921e-01],\n",
              "        [ 2.70996198e-01],\n",
              "        [ 2.56539561e-01],\n",
              "        [ 6.80916931e-02],\n",
              "        [ 1.44518366e+00],\n",
              "        [ 5.06268152e-01],\n",
              "        [-8.50214520e-01],\n",
              "        [ 4.64222960e-01],\n",
              "        [ 9.63247298e-01],\n",
              "        [ 5.22011841e-01],\n",
              "        [-4.63008422e-01],\n",
              "        [ 2.90218231e-02],\n",
              "        [-3.86661217e-01],\n",
              "        [-1.66087120e-01],\n",
              "        [-1.75269133e-02],\n",
              "        [-9.31591658e-02],\n",
              "        [ 1.19722965e-01],\n",
              "        [-5.88012209e-04],\n",
              "        [ 2.62521922e-02],\n",
              "        [ 2.29223266e-01],\n",
              "        [ 2.01188153e-04],\n",
              "        [ 1.09449634e-02],\n",
              "        [-3.43345255e-01]],\n",
              "\n",
              "       [[-1.97509045e+00],\n",
              "        [ 1.92558115e-02],\n",
              "        [ 4.71698112e-01],\n",
              "        [ 8.68060279e-01],\n",
              "        [-1.23912416e+00],\n",
              "        [ 5.47897880e-01],\n",
              "        [-5.02661073e-01],\n",
              "        [ 8.08516316e-01],\n",
              "        [-2.47667131e-01],\n",
              "        [ 1.30741129e-01],\n",
              "        [-4.84993915e-01],\n",
              "        [-7.02094465e-01],\n",
              "        [-2.13445399e-01],\n",
              "        [-4.87133367e-02],\n",
              "        [-6.53069918e-02],\n",
              "        [ 6.58810334e-01],\n",
              "        [ 1.68525657e-01],\n",
              "        [-6.21303531e-01],\n",
              "        [-6.90750497e-01],\n",
              "        [-6.97036043e-01],\n",
              "        [-1.07129889e-01],\n",
              "        [ 2.14296481e-02],\n",
              "        [ 2.65056733e-01],\n",
              "        [ 6.66076304e-02],\n",
              "        [-3.81752337e-01],\n",
              "        [-1.30517056e+00],\n",
              "        [ 6.46049380e-01],\n",
              "        [-1.36249438e-02],\n",
              "        [-1.19848055e-02],\n",
              "        [-3.58871818e-01]],\n",
              "\n",
              "       [[-1.97402038e+00],\n",
              "        [-2.31222654e+00],\n",
              "        [ 1.95199201e+00],\n",
              "        [-1.60985073e+00],\n",
              "        [ 3.99790559e+00],\n",
              "        [-5.22187865e-01],\n",
              "        [-1.42654532e+00],\n",
              "        [-2.53738731e+00],\n",
              "        [ 1.39165725e+00],\n",
              "        [-2.77008928e+00],\n",
              "        [-2.77227214e+00],\n",
              "        [ 3.20203321e+00],\n",
              "        [-2.89990739e+00],\n",
              "        [-5.95221881e-01],\n",
              "        [-4.28925378e+00],\n",
              "        [ 3.89724120e-01],\n",
              "        [-1.14074718e+00],\n",
              "        [-2.83005567e+00],\n",
              "        [-1.68224682e-02],\n",
              "        [ 4.16955705e-01],\n",
              "        [ 1.26910559e-01],\n",
              "        [ 5.17232371e-01],\n",
              "        [-3.50493686e-02],\n",
              "        [-4.65211076e-01],\n",
              "        [ 3.20198199e-01],\n",
              "        [ 4.45191675e-02],\n",
              "        [ 1.77839798e-01],\n",
              "        [ 2.61145003e-01],\n",
              "        [-1.43275875e-01],\n",
              "        [-3.69370348e-01]],\n",
              "\n",
              "       [[-1.97282441e+00],\n",
              "        [-6.34596978e-01],\n",
              "        [ 8.66354365e-01],\n",
              "        [ 1.12383603e+00],\n",
              "        [-3.04041138e-01],\n",
              "        [ 1.17391035e+00],\n",
              "        [ 2.57117549e-01],\n",
              "        [ 7.54324791e-01],\n",
              "        [ 1.71735204e-01],\n",
              "        [-8.25981000e-01],\n",
              "        [-5.31057505e-01],\n",
              "        [ 5.49388754e-01],\n",
              "        [ 5.98608608e-01],\n",
              "        [ 3.13813741e-01],\n",
              "        [ 3.54547923e-01],\n",
              "        [-1.56778172e-01],\n",
              "        [ 3.28550852e-01],\n",
              "        [-9.83932654e-01],\n",
              "        [ 2.35905880e-01],\n",
              "        [-6.30727658e-01],\n",
              "        [-1.05239310e-01],\n",
              "        [ 1.60462973e-01],\n",
              "        [ 4.22873291e-01],\n",
              "        [-3.53720811e-01],\n",
              "        [-8.47192435e-01],\n",
              "        [ 2.06896351e-01],\n",
              "        [-4.36112266e-01],\n",
              "        [ 1.10134095e-01],\n",
              "        [ 1.02260716e-01],\n",
              "        [-3.65347923e-01]]])"
            ]
          },
          "metadata": {
            "tags": []
          },
          "execution_count": 29
        }
      ]
    },
    {
      "cell_type": "code",
      "metadata": {
        "id": "acKzfHbrY8er"
      },
      "source": [
        "CNN=Sequential()\n",
        "\n",
        "CNN.add(Conv1D(filters=32, kernel_size=2, activation='relu', padding='causal',input_shape=x_train[0].shape))\n",
        "CNN.add(BatchNormalization())\n",
        "CNN.add(MaxPool1D(pool_size=2))\n",
        "CNN.add(Dropout(rate=0.2))\n",
        "\n",
        "CNN.add(Conv1D(64,2, padding='causal',activation='relu'))\n",
        "CNN.add(BatchNormalization())\n",
        "CNN.add(MaxPool1D(pool_size=2))\n",
        "CNN.add(Dropout(rate=0.5))\n",
        "\n",
        "\n",
        "#flattening layer\n",
        "CNN.add(Flatten())\n",
        "CNN.add(Dense(64,activation=\"relu\"))\n",
        "CNN.add(Dropout(rate=0.5))\n",
        "\n",
        "#final layer\n",
        "CNN.add(Dense(units=1,activation=\"sigmoid\"))"
      ],
      "execution_count": 30,
      "outputs": []
    },
    {
      "cell_type": "code",
      "metadata": {
        "id": "Iupg1H77ZBbd",
        "colab": {
          "base_uri": "https://localhost:8080/"
        },
        "outputId": "da5405a1-e5ec-4e51-ae64-f148a6b2bfba"
      },
      "source": [
        "CNN.summary()"
      ],
      "execution_count": 31,
      "outputs": [
        {
          "output_type": "stream",
          "text": [
            "Model: \"sequential_1\"\n",
            "_________________________________________________________________\n",
            "Layer (type)                 Output Shape              Param #   \n",
            "=================================================================\n",
            "conv1d (Conv1D)              (None, 30, 32)            96        \n",
            "_________________________________________________________________\n",
            "batch_normalization (BatchNo (None, 30, 32)            128       \n",
            "_________________________________________________________________\n",
            "max_pooling1d (MaxPooling1D) (None, 15, 32)            0         \n",
            "_________________________________________________________________\n",
            "dropout (Dropout)            (None, 15, 32)            0         \n",
            "_________________________________________________________________\n",
            "conv1d_1 (Conv1D)            (None, 15, 64)            4160      \n",
            "_________________________________________________________________\n",
            "batch_normalization_1 (Batch (None, 15, 64)            256       \n",
            "_________________________________________________________________\n",
            "max_pooling1d_1 (MaxPooling1 (None, 7, 64)             0         \n",
            "_________________________________________________________________\n",
            "dropout_1 (Dropout)          (None, 7, 64)             0         \n",
            "_________________________________________________________________\n",
            "flatten (Flatten)            (None, 448)               0         \n",
            "_________________________________________________________________\n",
            "dense_5 (Dense)              (None, 64)                28736     \n",
            "_________________________________________________________________\n",
            "dropout_2 (Dropout)          (None, 64)                0         \n",
            "_________________________________________________________________\n",
            "dense_6 (Dense)              (None, 1)                 65        \n",
            "=================================================================\n",
            "Total params: 33,441\n",
            "Trainable params: 33,249\n",
            "Non-trainable params: 192\n",
            "_________________________________________________________________\n"
          ],
          "name": "stdout"
        }
      ]
    },
    {
      "cell_type": "code",
      "metadata": {
        "id": "UqbQHw2LZFar"
      },
      "source": [
        "CNN.compile(optimizer=Adam(lr=0.001),loss='binary_crossentropy',metrics=['accuracy'])"
      ],
      "execution_count": 32,
      "outputs": []
    },
    {
      "cell_type": "code",
      "metadata": {
        "id": "oN-zOL7WZKNc",
        "colab": {
          "base_uri": "https://localhost:8080/"
        },
        "outputId": "df076707-9d99-456f-f45f-e3e56caa346f"
      },
      "source": [
        "history =CNN.fit(x_train,y_train,epochs=50, validation_data = (x_test,y_test),verbose=1)"
      ],
      "execution_count": null,
      "outputs": [
        {
          "output_type": "stream",
          "text": [
            "Epoch 1/50\n",
            "50/50 [==============================] - 2s 12ms/step - loss: 0.5601 - accuracy: 0.7861 - val_loss: 0.3562 - val_accuracy: 0.9348\n",
            "Epoch 2/50\n",
            "50/50 [==============================] - 0s 7ms/step - loss: 0.2443 - accuracy: 0.9338 - val_loss: 0.2321 - val_accuracy: 0.9474\n",
            "Epoch 3/50\n",
            "50/50 [==============================] - 0s 7ms/step - loss: 0.2179 - accuracy: 0.9453 - val_loss: 0.1828 - val_accuracy: 0.9524\n",
            "Epoch 4/50\n",
            "50/50 [==============================] - 0s 7ms/step - loss: 0.1830 - accuracy: 0.9441 - val_loss: 0.1630 - val_accuracy: 0.9524\n",
            "Epoch 5/50\n",
            "50/50 [==============================] - 0s 7ms/step - loss: 0.1755 - accuracy: 0.9453 - val_loss: 0.1498 - val_accuracy: 0.9524\n",
            "Epoch 6/50\n",
            "50/50 [==============================] - 0s 7ms/step - loss: 0.1885 - accuracy: 0.9457 - val_loss: 0.1472 - val_accuracy: 0.9524\n",
            "Epoch 7/50\n",
            "50/50 [==============================] - 0s 7ms/step - loss: 0.1548 - accuracy: 0.9508 - val_loss: 0.1431 - val_accuracy: 0.9499\n",
            "Epoch 8/50\n",
            "50/50 [==============================] - 0s 7ms/step - loss: 0.1508 - accuracy: 0.9553 - val_loss: 0.1384 - val_accuracy: 0.9499\n",
            "Epoch 9/50\n",
            "50/50 [==============================] - 0s 6ms/step - loss: 0.1348 - accuracy: 0.9628 - val_loss: 0.1435 - val_accuracy: 0.9499\n",
            "Epoch 10/50\n",
            "50/50 [==============================] - 0s 7ms/step - loss: 0.1275 - accuracy: 0.9635 - val_loss: 0.1442 - val_accuracy: 0.9499\n",
            "Epoch 11/50\n",
            "50/50 [==============================] - 0s 7ms/step - loss: 0.1014 - accuracy: 0.9722 - val_loss: 0.1432 - val_accuracy: 0.9499\n",
            "Epoch 12/50\n",
            "50/50 [==============================] - 0s 7ms/step - loss: 0.1586 - accuracy: 0.9535 - val_loss: 0.1395 - val_accuracy: 0.9499\n",
            "Epoch 13/50\n",
            "50/50 [==============================] - 0s 8ms/step - loss: 0.1368 - accuracy: 0.9575 - val_loss: 0.1423 - val_accuracy: 0.9524\n",
            "Epoch 14/50\n",
            "50/50 [==============================] - 0s 7ms/step - loss: 0.1178 - accuracy: 0.9614 - val_loss: 0.1341 - val_accuracy: 0.9549\n",
            "Epoch 15/50\n",
            "50/50 [==============================] - 0s 7ms/step - loss: 0.1291 - accuracy: 0.9581 - val_loss: 0.1375 - val_accuracy: 0.9549\n",
            "Epoch 16/50\n",
            "50/50 [==============================] - 0s 7ms/step - loss: 0.1507 - accuracy: 0.9533 - val_loss: 0.1409 - val_accuracy: 0.9524\n",
            "Epoch 17/50\n",
            "50/50 [==============================] - 0s 7ms/step - loss: 0.0857 - accuracy: 0.9705 - val_loss: 0.1334 - val_accuracy: 0.9549\n",
            "Epoch 18/50\n",
            "50/50 [==============================] - 0s 7ms/step - loss: 0.1028 - accuracy: 0.9627 - val_loss: 0.1324 - val_accuracy: 0.9549\n",
            "Epoch 19/50\n",
            "50/50 [==============================] - 0s 7ms/step - loss: 0.1343 - accuracy: 0.9530 - val_loss: 0.1309 - val_accuracy: 0.9549\n",
            "Epoch 20/50\n",
            "50/50 [==============================] - 0s 7ms/step - loss: 0.1249 - accuracy: 0.9561 - val_loss: 0.1323 - val_accuracy: 0.9549\n",
            "Epoch 21/50\n",
            "50/50 [==============================] - 0s 7ms/step - loss: 0.1105 - accuracy: 0.9660 - val_loss: 0.1383 - val_accuracy: 0.9574\n",
            "Epoch 22/50\n",
            "50/50 [==============================] - 0s 7ms/step - loss: 0.0986 - accuracy: 0.9662 - val_loss: 0.1333 - val_accuracy: 0.9549\n",
            "Epoch 23/50\n",
            "50/50 [==============================] - 0s 7ms/step - loss: 0.1197 - accuracy: 0.9593 - val_loss: 0.1319 - val_accuracy: 0.9574\n",
            "Epoch 24/50\n",
            "50/50 [==============================] - 0s 7ms/step - loss: 0.1114 - accuracy: 0.9677 - val_loss: 0.1341 - val_accuracy: 0.9599\n",
            "Epoch 25/50\n",
            "50/50 [==============================] - 0s 7ms/step - loss: 0.1129 - accuracy: 0.9586 - val_loss: 0.1330 - val_accuracy: 0.9574\n",
            "Epoch 26/50\n",
            "50/50 [==============================] - 0s 7ms/step - loss: 0.1173 - accuracy: 0.9615 - val_loss: 0.1348 - val_accuracy: 0.9574\n",
            "Epoch 27/50\n",
            "50/50 [==============================] - 0s 7ms/step - loss: 0.0962 - accuracy: 0.9668 - val_loss: 0.1334 - val_accuracy: 0.9574\n",
            "Epoch 28/50\n",
            "50/50 [==============================] - 0s 7ms/step - loss: 0.1252 - accuracy: 0.9566 - val_loss: 0.1327 - val_accuracy: 0.9574\n",
            "Epoch 29/50\n",
            "50/50 [==============================] - 0s 7ms/step - loss: 0.1168 - accuracy: 0.9647 - val_loss: 0.1345 - val_accuracy: 0.9549\n",
            "Epoch 30/50\n",
            "50/50 [==============================] - 0s 7ms/step - loss: 0.1005 - accuracy: 0.9681 - val_loss: 0.1322 - val_accuracy: 0.9549\n",
            "Epoch 31/50\n",
            "50/50 [==============================] - 0s 7ms/step - loss: 0.1005 - accuracy: 0.9649 - val_loss: 0.1304 - val_accuracy: 0.9574\n",
            "Epoch 32/50\n",
            "50/50 [==============================] - 0s 7ms/step - loss: 0.1084 - accuracy: 0.9673 - val_loss: 0.1364 - val_accuracy: 0.9524\n",
            "Epoch 33/50\n",
            "50/50 [==============================] - 0s 7ms/step - loss: 0.0821 - accuracy: 0.9711 - val_loss: 0.1336 - val_accuracy: 0.9574\n",
            "Epoch 34/50\n",
            "50/50 [==============================] - 0s 7ms/step - loss: 0.0845 - accuracy: 0.9663 - val_loss: 0.1336 - val_accuracy: 0.9549\n",
            "Epoch 35/50\n",
            "50/50 [==============================] - 0s 7ms/step - loss: 0.1197 - accuracy: 0.9570 - val_loss: 0.1412 - val_accuracy: 0.9574\n",
            "Epoch 36/50\n",
            "50/50 [==============================] - 0s 7ms/step - loss: 0.1157 - accuracy: 0.9602 - val_loss: 0.1323 - val_accuracy: 0.9599\n",
            "Epoch 37/50\n",
            "50/50 [==============================] - 0s 7ms/step - loss: 0.1096 - accuracy: 0.9579 - val_loss: 0.1364 - val_accuracy: 0.9599\n",
            "Epoch 38/50\n",
            "50/50 [==============================] - 0s 7ms/step - loss: 0.1196 - accuracy: 0.9574 - val_loss: 0.1403 - val_accuracy: 0.9599\n",
            "Epoch 39/50\n",
            "50/50 [==============================] - 0s 7ms/step - loss: 0.0962 - accuracy: 0.9671 - val_loss: 0.1337 - val_accuracy: 0.9599\n",
            "Epoch 40/50\n",
            "50/50 [==============================] - 0s 7ms/step - loss: 0.0971 - accuracy: 0.9662 - val_loss: 0.1385 - val_accuracy: 0.9599\n",
            "Epoch 41/50\n",
            "50/50 [==============================] - 0s 7ms/step - loss: 0.1232 - accuracy: 0.9619 - val_loss: 0.1434 - val_accuracy: 0.9574\n",
            "Epoch 42/50\n",
            "50/50 [==============================] - 0s 7ms/step - loss: 0.1025 - accuracy: 0.9670 - val_loss: 0.1376 - val_accuracy: 0.9574\n",
            "Epoch 43/50\n",
            "50/50 [==============================] - 0s 7ms/step - loss: 0.1049 - accuracy: 0.9638 - val_loss: 0.1367 - val_accuracy: 0.9574\n",
            "Epoch 44/50\n",
            "50/50 [==============================] - 0s 7ms/step - loss: 0.0996 - accuracy: 0.9650 - val_loss: 0.1325 - val_accuracy: 0.9624\n",
            "Epoch 45/50\n",
            "50/50 [==============================] - 0s 6ms/step - loss: 0.0933 - accuracy: 0.9673 - val_loss: 0.1323 - val_accuracy: 0.9549\n",
            "Epoch 46/50\n",
            "50/50 [==============================] - 0s 7ms/step - loss: 0.0856 - accuracy: 0.9708 - val_loss: 0.1334 - val_accuracy: 0.9574\n",
            "Epoch 47/50\n",
            "50/50 [==============================] - 0s 7ms/step - loss: 0.1035 - accuracy: 0.9664 - val_loss: 0.1358 - val_accuracy: 0.9599\n",
            "Epoch 48/50\n",
            " 1/50 [..............................] - ETA: 0s - loss: 0.0572 - accuracy: 1.0000"
          ],
          "name": "stdout"
        }
      ]
    },
    {
      "cell_type": "code",
      "metadata": {
        "id": "cUkZRPiWxlWo"
      },
      "source": [
        "plot_learning_curve(history, 50)"
      ],
      "execution_count": null,
      "outputs": []
    },
    {
      "cell_type": "code",
      "metadata": {
        "id": "s0WRNA-mxo0_"
      },
      "source": [
        "final_acc = CNN.evaluate(x_train,y_train, verbose=0)\n",
        "print('Test loss:', final_acc[0])\n",
        "print('Test accuracy:', final_acc[1])"
      ],
      "execution_count": null,
      "outputs": []
    },
    {
      "cell_type": "code",
      "metadata": {
        "id": "KdW7JL6q5Glu"
      },
      "source": [
        "print(classification_report(y_test, y_pred.round()))"
      ],
      "execution_count": null,
      "outputs": []
    },
    {
      "cell_type": "code",
      "metadata": {
        "id": "KOywukVc5MIO"
      },
      "source": [
        "y_pred = CNN.predict(x_test)\n",
        "cm = confusion_matrix(y_test, y_pred.round())"
      ],
      "execution_count": null,
      "outputs": []
    },
    {
      "cell_type": "code",
      "metadata": {
        "id": "LDQ-kYbQxuNb"
      },
      "source": [
        "print(classification_report(y_test, y_pred.round()))"
      ],
      "execution_count": null,
      "outputs": []
    },
    {
      "cell_type": "code",
      "metadata": {
        "id": "ArX0yfs15SgH"
      },
      "source": [
        "labels = [\"Fraud\", \"Normal\"]\n",
        "\n",
        "matrix = np.flip(cm)\n",
        "\n",
        "plt.figure(figsize=(5, 5))\n",
        "sns.heatmap(matrix, xticklabels=labels, yticklabels=labels,  annot=True, fmt=\"d\", cbar=False)\n",
        "plt.title(\"Confusion Matrix\")\n",
        "plt.ylabel('Actual')\n",
        "plt.xlabel('Predicted')\n",
        "plt.show()"
      ],
      "execution_count": null,
      "outputs": []
    },
    {
      "cell_type": "code",
      "metadata": {
        "id": "VHsQJGhpHSYt"
      },
      "source": [
        ""
      ],
      "execution_count": null,
      "outputs": []
    }
  ]
}