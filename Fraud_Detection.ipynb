{
  "nbformat": 4,
  "nbformat_minor": 0,
  "metadata": {
    "colab": {
      "name": "Fraud_Detection.ipynb",
      "provenance": [],
      "collapsed_sections": [],
      "mount_file_id": "1Jg5iSpb_76pudW6dZJVUhOrdWHkpnCD3",
      "authorship_tag": "ABX9TyOwqgFgwSo4TRZ6rutGWLjW",
      "include_colab_link": true
    },
    "kernelspec": {
      "name": "python3",
      "display_name": "Python 3"
    }
  },
  "cells": [
    {
      "cell_type": "markdown",
      "metadata": {
        "id": "view-in-github",
        "colab_type": "text"
      },
      "source": [
        "<a href=\"https://colab.research.google.com/github/ldselvera/Fraud_Detection_Deep_Learning/blob/main/Fraud_Detection.ipynb\" target=\"_parent\"><img src=\"https://colab.research.google.com/assets/colab-badge.svg\" alt=\"Open In Colab\"/></a>"
      ]
    },
    {
      "cell_type": "markdown",
      "metadata": {
        "id": "mA4C1zNFYYY9"
      },
      "source": [
        "## Imports"
      ]
    },
    {
      "cell_type": "code",
      "metadata": {
        "colab": {
          "base_uri": "https://localhost:8080/"
        },
        "id": "8JIuMMWawJWk",
        "outputId": "5741a985-02ec-4744-a7de-b00f0243f666"
      },
      "source": [
        "import pandas as pd\n",
        "import numpy as np\n",
        "import matplotlib.pyplot as plt\n",
        "import seaborn as sns\n",
        "import matplotlib\n",
        "\n",
        "import matplotlib.pyplot as plt\n",
        "import matplotlib.gridspec as gridspec\n",
        "%matplotlib inline\n",
        "\n",
        "import tensorflow as tf\n",
        "from tensorflow import keras\n",
        "from tensorflow.keras.optimizers import Adam\n",
        "\n",
        "import keras\n",
        "from keras import regularizers, optimizers, losses\n",
        "from keras.models import Sequential, Model, load_model\n",
        "from keras.layers import Input, Conv1D, Dense, Flatten, Activation, UpSampling1D, MaxPooling1D, ZeroPadding1D\n",
        "from keras.layers import Flatten, Dropout, BatchNormalization, MaxPool1D\n",
        "\n",
        "import sklearn\n",
        "from sklearn.model_selection import train_test_split\n",
        "from sklearn.preprocessing import StandardScaler, MinMaxScaler\n",
        "from sklearn.metrics import confusion_matrix, classification_report, roc_auc_score\n",
        "from sklearn import datasets, decomposition, preprocessing\n",
        "\n",
        "from mpl_toolkits.mplot3d import Axes3D\n",
        "\n",
        "print(tf.__version__)"
      ],
      "execution_count": null,
      "outputs": [
        {
          "output_type": "stream",
          "text": [
            "2.5.0\n"
          ],
          "name": "stdout"
        }
      ]
    },
    {
      "cell_type": "markdown",
      "metadata": {
        "id": "A31EgwShR_e0"
      },
      "source": [
        "## Dataset"
      ]
    },
    {
      "cell_type": "code",
      "metadata": {
        "id": "zoYfwsWzwL0j"
      },
      "source": [
        "#import dataset from csv\n",
        "\n",
        "#Modify with your own path\n",
        "df = pd.read_csv(\"/content/drive/MyDrive/Colab Notebooks/fraud/creditcard.csv\")"
      ],
      "execution_count": null,
      "outputs": []
    },
    {
      "cell_type": "code",
      "metadata": {
        "colab": {
          "base_uri": "https://localhost:8080/",
          "height": 226
        },
        "id": "QDJ7ukVSn4sm",
        "outputId": "c7273cef-d060-4704-81cc-7d29b1b3c08e"
      },
      "source": [
        "#preview of the data\n",
        "df.head()"
      ],
      "execution_count": null,
      "outputs": [
        {
          "output_type": "execute_result",
          "data": {
            "text/html": [
              "<div>\n",
              "<style scoped>\n",
              "    .dataframe tbody tr th:only-of-type {\n",
              "        vertical-align: middle;\n",
              "    }\n",
              "\n",
              "    .dataframe tbody tr th {\n",
              "        vertical-align: top;\n",
              "    }\n",
              "\n",
              "    .dataframe thead th {\n",
              "        text-align: right;\n",
              "    }\n",
              "</style>\n",
              "<table border=\"1\" class=\"dataframe\">\n",
              "  <thead>\n",
              "    <tr style=\"text-align: right;\">\n",
              "      <th></th>\n",
              "      <th>Time</th>\n",
              "      <th>V1</th>\n",
              "      <th>V2</th>\n",
              "      <th>V3</th>\n",
              "      <th>V4</th>\n",
              "      <th>V5</th>\n",
              "      <th>V6</th>\n",
              "      <th>V7</th>\n",
              "      <th>V8</th>\n",
              "      <th>V9</th>\n",
              "      <th>V10</th>\n",
              "      <th>V11</th>\n",
              "      <th>V12</th>\n",
              "      <th>V13</th>\n",
              "      <th>V14</th>\n",
              "      <th>V15</th>\n",
              "      <th>V16</th>\n",
              "      <th>V17</th>\n",
              "      <th>V18</th>\n",
              "      <th>V19</th>\n",
              "      <th>V20</th>\n",
              "      <th>V21</th>\n",
              "      <th>V22</th>\n",
              "      <th>V23</th>\n",
              "      <th>V24</th>\n",
              "      <th>V25</th>\n",
              "      <th>V26</th>\n",
              "      <th>V27</th>\n",
              "      <th>V28</th>\n",
              "      <th>Amount</th>\n",
              "      <th>Class</th>\n",
              "    </tr>\n",
              "  </thead>\n",
              "  <tbody>\n",
              "    <tr>\n",
              "      <th>0</th>\n",
              "      <td>0.0</td>\n",
              "      <td>-1.359807</td>\n",
              "      <td>-0.072781</td>\n",
              "      <td>2.536347</td>\n",
              "      <td>1.378155</td>\n",
              "      <td>-0.338321</td>\n",
              "      <td>0.462388</td>\n",
              "      <td>0.239599</td>\n",
              "      <td>0.098698</td>\n",
              "      <td>0.363787</td>\n",
              "      <td>0.090794</td>\n",
              "      <td>-0.551600</td>\n",
              "      <td>-0.617801</td>\n",
              "      <td>-0.991390</td>\n",
              "      <td>-0.311169</td>\n",
              "      <td>1.468177</td>\n",
              "      <td>-0.470401</td>\n",
              "      <td>0.207971</td>\n",
              "      <td>0.025791</td>\n",
              "      <td>0.403993</td>\n",
              "      <td>0.251412</td>\n",
              "      <td>-0.018307</td>\n",
              "      <td>0.277838</td>\n",
              "      <td>-0.110474</td>\n",
              "      <td>0.066928</td>\n",
              "      <td>0.128539</td>\n",
              "      <td>-0.189115</td>\n",
              "      <td>0.133558</td>\n",
              "      <td>-0.021053</td>\n",
              "      <td>149.62</td>\n",
              "      <td>0</td>\n",
              "    </tr>\n",
              "    <tr>\n",
              "      <th>1</th>\n",
              "      <td>0.0</td>\n",
              "      <td>1.191857</td>\n",
              "      <td>0.266151</td>\n",
              "      <td>0.166480</td>\n",
              "      <td>0.448154</td>\n",
              "      <td>0.060018</td>\n",
              "      <td>-0.082361</td>\n",
              "      <td>-0.078803</td>\n",
              "      <td>0.085102</td>\n",
              "      <td>-0.255425</td>\n",
              "      <td>-0.166974</td>\n",
              "      <td>1.612727</td>\n",
              "      <td>1.065235</td>\n",
              "      <td>0.489095</td>\n",
              "      <td>-0.143772</td>\n",
              "      <td>0.635558</td>\n",
              "      <td>0.463917</td>\n",
              "      <td>-0.114805</td>\n",
              "      <td>-0.183361</td>\n",
              "      <td>-0.145783</td>\n",
              "      <td>-0.069083</td>\n",
              "      <td>-0.225775</td>\n",
              "      <td>-0.638672</td>\n",
              "      <td>0.101288</td>\n",
              "      <td>-0.339846</td>\n",
              "      <td>0.167170</td>\n",
              "      <td>0.125895</td>\n",
              "      <td>-0.008983</td>\n",
              "      <td>0.014724</td>\n",
              "      <td>2.69</td>\n",
              "      <td>0</td>\n",
              "    </tr>\n",
              "    <tr>\n",
              "      <th>2</th>\n",
              "      <td>1.0</td>\n",
              "      <td>-1.358354</td>\n",
              "      <td>-1.340163</td>\n",
              "      <td>1.773209</td>\n",
              "      <td>0.379780</td>\n",
              "      <td>-0.503198</td>\n",
              "      <td>1.800499</td>\n",
              "      <td>0.791461</td>\n",
              "      <td>0.247676</td>\n",
              "      <td>-1.514654</td>\n",
              "      <td>0.207643</td>\n",
              "      <td>0.624501</td>\n",
              "      <td>0.066084</td>\n",
              "      <td>0.717293</td>\n",
              "      <td>-0.165946</td>\n",
              "      <td>2.345865</td>\n",
              "      <td>-2.890083</td>\n",
              "      <td>1.109969</td>\n",
              "      <td>-0.121359</td>\n",
              "      <td>-2.261857</td>\n",
              "      <td>0.524980</td>\n",
              "      <td>0.247998</td>\n",
              "      <td>0.771679</td>\n",
              "      <td>0.909412</td>\n",
              "      <td>-0.689281</td>\n",
              "      <td>-0.327642</td>\n",
              "      <td>-0.139097</td>\n",
              "      <td>-0.055353</td>\n",
              "      <td>-0.059752</td>\n",
              "      <td>378.66</td>\n",
              "      <td>0</td>\n",
              "    </tr>\n",
              "    <tr>\n",
              "      <th>3</th>\n",
              "      <td>1.0</td>\n",
              "      <td>-0.966272</td>\n",
              "      <td>-0.185226</td>\n",
              "      <td>1.792993</td>\n",
              "      <td>-0.863291</td>\n",
              "      <td>-0.010309</td>\n",
              "      <td>1.247203</td>\n",
              "      <td>0.237609</td>\n",
              "      <td>0.377436</td>\n",
              "      <td>-1.387024</td>\n",
              "      <td>-0.054952</td>\n",
              "      <td>-0.226487</td>\n",
              "      <td>0.178228</td>\n",
              "      <td>0.507757</td>\n",
              "      <td>-0.287924</td>\n",
              "      <td>-0.631418</td>\n",
              "      <td>-1.059647</td>\n",
              "      <td>-0.684093</td>\n",
              "      <td>1.965775</td>\n",
              "      <td>-1.232622</td>\n",
              "      <td>-0.208038</td>\n",
              "      <td>-0.108300</td>\n",
              "      <td>0.005274</td>\n",
              "      <td>-0.190321</td>\n",
              "      <td>-1.175575</td>\n",
              "      <td>0.647376</td>\n",
              "      <td>-0.221929</td>\n",
              "      <td>0.062723</td>\n",
              "      <td>0.061458</td>\n",
              "      <td>123.50</td>\n",
              "      <td>0</td>\n",
              "    </tr>\n",
              "    <tr>\n",
              "      <th>4</th>\n",
              "      <td>2.0</td>\n",
              "      <td>-1.158233</td>\n",
              "      <td>0.877737</td>\n",
              "      <td>1.548718</td>\n",
              "      <td>0.403034</td>\n",
              "      <td>-0.407193</td>\n",
              "      <td>0.095921</td>\n",
              "      <td>0.592941</td>\n",
              "      <td>-0.270533</td>\n",
              "      <td>0.817739</td>\n",
              "      <td>0.753074</td>\n",
              "      <td>-0.822843</td>\n",
              "      <td>0.538196</td>\n",
              "      <td>1.345852</td>\n",
              "      <td>-1.119670</td>\n",
              "      <td>0.175121</td>\n",
              "      <td>-0.451449</td>\n",
              "      <td>-0.237033</td>\n",
              "      <td>-0.038195</td>\n",
              "      <td>0.803487</td>\n",
              "      <td>0.408542</td>\n",
              "      <td>-0.009431</td>\n",
              "      <td>0.798278</td>\n",
              "      <td>-0.137458</td>\n",
              "      <td>0.141267</td>\n",
              "      <td>-0.206010</td>\n",
              "      <td>0.502292</td>\n",
              "      <td>0.219422</td>\n",
              "      <td>0.215153</td>\n",
              "      <td>69.99</td>\n",
              "      <td>0</td>\n",
              "    </tr>\n",
              "  </tbody>\n",
              "</table>\n",
              "</div>"
            ],
            "text/plain": [
              "   Time        V1        V2        V3  ...       V27       V28  Amount  Class\n",
              "0   0.0 -1.359807 -0.072781  2.536347  ...  0.133558 -0.021053  149.62      0\n",
              "1   0.0  1.191857  0.266151  0.166480  ... -0.008983  0.014724    2.69      0\n",
              "2   1.0 -1.358354 -1.340163  1.773209  ... -0.055353 -0.059752  378.66      0\n",
              "3   1.0 -0.966272 -0.185226  1.792993  ...  0.062723  0.061458  123.50      0\n",
              "4   2.0 -1.158233  0.877737  1.548718  ...  0.219422  0.215153   69.99      0\n",
              "\n",
              "[5 rows x 31 columns]"
            ]
          },
          "metadata": {
            "tags": []
          },
          "execution_count": 3
        }
      ]
    },
    {
      "cell_type": "code",
      "metadata": {
        "colab": {
          "base_uri": "https://localhost:8080/"
        },
        "id": "T7YEL20rqvAT",
        "outputId": "f3a877ab-1fe8-4aa2-dc85-883e4b0a94e4"
      },
      "source": [
        "df.columns"
      ],
      "execution_count": null,
      "outputs": [
        {
          "output_type": "execute_result",
          "data": {
            "text/plain": [
              "Index(['Time', 'V1', 'V2', 'V3', 'V4', 'V5', 'V6', 'V7', 'V8', 'V9', 'V10',\n",
              "       'V11', 'V12', 'V13', 'V14', 'V15', 'V16', 'V17', 'V18', 'V19', 'V20',\n",
              "       'V21', 'V22', 'V23', 'V24', 'V25', 'V26', 'V27', 'V28', 'Amount',\n",
              "       'Class'],\n",
              "      dtype='object')"
            ]
          },
          "metadata": {
            "tags": []
          },
          "execution_count": 4
        }
      ]
    },
    {
      "cell_type": "markdown",
      "metadata": {
        "id": "e3nhTPtQSSib"
      },
      "source": [
        "### Check for missing values (Null/NaN)"
      ]
    },
    {
      "cell_type": "code",
      "metadata": {
        "colab": {
          "base_uri": "https://localhost:8080/"
        },
        "id": "KrfE0ULlw2of",
        "outputId": "a33ffc4c-d1a5-403f-f344-02d71f5f27be"
      },
      "source": [
        "df.isnull().sum()"
      ],
      "execution_count": null,
      "outputs": [
        {
          "output_type": "execute_result",
          "data": {
            "text/plain": [
              "Time      0\n",
              "V1        0\n",
              "V2        0\n",
              "V3        0\n",
              "V4        0\n",
              "V5        0\n",
              "V6        0\n",
              "V7        0\n",
              "V8        0\n",
              "V9        0\n",
              "V10       0\n",
              "V11       0\n",
              "V12       0\n",
              "V13       0\n",
              "V14       0\n",
              "V15       0\n",
              "V16       0\n",
              "V17       0\n",
              "V18       0\n",
              "V19       0\n",
              "V20       0\n",
              "V21       0\n",
              "V22       0\n",
              "V23       0\n",
              "V24       0\n",
              "V25       0\n",
              "V26       0\n",
              "V27       0\n",
              "V28       0\n",
              "Amount    0\n",
              "Class     0\n",
              "dtype: int64"
            ]
          },
          "metadata": {
            "tags": []
          },
          "execution_count": 5
        }
      ]
    },
    {
      "cell_type": "markdown",
      "metadata": {
        "id": "PurRX73ASHAy"
      },
      "source": [
        "### Imbalanced data"
      ]
    },
    {
      "cell_type": "code",
      "metadata": {
        "colab": {
          "base_uri": "https://localhost:8080/"
        },
        "id": "A67IsMfews1l",
        "outputId": "0cd712af-1780-4648-ec6d-377ccf1e0493"
      },
      "source": [
        "# Number of instances per class \n",
        "df['Class'].value_counts()"
      ],
      "execution_count": null,
      "outputs": [
        {
          "output_type": "execute_result",
          "data": {
            "text/plain": [
              "0    284315\n",
              "1       492\n",
              "Name: Class, dtype: int64"
            ]
          },
          "metadata": {
            "tags": []
          },
          "execution_count": 6
        }
      ]
    },
    {
      "cell_type": "code",
      "metadata": {
        "colab": {
          "base_uri": "https://localhost:8080/"
        },
        "id": "Cjgh4YcNqy87",
        "outputId": "32c6a3db-71fc-4f17-d22c-66c7dfd33568"
      },
      "source": [
        "print('No Frauds', round(df['Class'].value_counts()[0]/len(df) * 100,2), '% of the dataset')\n",
        "print('Frauds', round(df['Class'].value_counts()[1]/len(df) * 100,2), '% of the dataset')"
      ],
      "execution_count": null,
      "outputs": [
        {
          "output_type": "stream",
          "text": [
            "No Frauds 99.83 % of the dataset\n",
            "Frauds 0.17 % of the dataset\n"
          ],
          "name": "stdout"
        }
      ]
    },
    {
      "cell_type": "code",
      "metadata": {
        "colab": {
          "base_uri": "https://localhost:8080/",
          "height": 370
        },
        "id": "KosF-gJaq07z",
        "outputId": "7a4656de-f01d-4a68-c811-6c5a99ad8042"
      },
      "source": [
        "sns.countplot('Class', data=df)\n",
        "plt.title('Class Distributions \\n (0: No Fraud || 1: Fraud)', fontsize=14)\n",
        "plt.show()"
      ],
      "execution_count": null,
      "outputs": [
        {
          "output_type": "stream",
          "text": [
            "/usr/local/lib/python3.7/dist-packages/seaborn/_decorators.py:43: FutureWarning: Pass the following variable as a keyword arg: x. From version 0.12, the only valid positional argument will be `data`, and passing other arguments without an explicit keyword will result in an error or misinterpretation.\n",
            "  FutureWarning\n"
          ],
          "name": "stderr"
        },
        {
          "output_type": "display_data",
          "data": {
            "image/png": "[encoded data removed]",
            "text/plain": [
              "<Figure size 432x288 with 1 Axes>"
            ]
          },
          "metadata": {
            "tags": [],
            "needs_background": "light"
          }
        }
      ]
    },
    {
      "cell_type": "code",
      "metadata": {
        "id": "eQKZAqa_XiN4"
      },
      "source": [
        "def show_pca_df(df):\n",
        "\tx = df[df.columns[1:30]].to_numpy()\n",
        "\ty = df[df.columns[30]].to_numpy()\n",
        "\n",
        "\tx = preprocessing.MinMaxScaler().fit_transform(x)\n",
        "\tpca = decomposition.PCA(n_components=3)\n",
        "\tpca_result = pca.fit_transform(x)\n",
        "\tprint(pca.explained_variance_ratio_)\n",
        "\n",
        "\tpca_df = pd.DataFrame(data=pca_result, columns=['pc_1', 'pc_2', 'pc_3'])\n",
        "\tpca_df = pd.concat([pca_df, pd.DataFrame({'label': y})], axis=1)\n",
        "\n",
        "\tax = Axes3D(plt.figure(figsize=(8, 8)))\n",
        "\tax.scatter(xs=pca_df['pc_1'], ys=pca_df['pc_2'], zs=pca_df['pc_3'], c=pca_df['label'], s=25)\n",
        "\tax.set_xlabel(\"pc_1\")\n",
        "\tax.set_ylabel(\"pc_2\")\n",
        "\tax.set_zlabel(\"pc_3\")\n",
        "\tplt.show()"
      ],
      "execution_count": null,
      "outputs": []
    },
    {
      "cell_type": "code",
      "metadata": {
        "colab": {
          "base_uri": "https://localhost:8080/",
          "height": 625
        },
        "id": "qjRfLeKoX0z1",
        "outputId": "93ebc77a-9058-4746-e172-2068086f0f3b"
      },
      "source": [
        "show_pca_df(df)"
      ],
      "execution_count": null,
      "outputs": [
        {
          "output_type": "stream",
          "text": [
            "[0.13501016 0.12577772 0.12031404]\n"
          ],
          "name": "stdout"
        },
        {
          "output_type": "display_data",
          "data": {
            "image/png": "[encoded data removed]",
            "text/plain": [
              "<Figure size 576x576 with 1 Axes>"
            ]
          },
          "metadata": {
            "tags": [],
            "needs_background": "light"
          }
        }
      ]
    },
    {
      "cell_type": "markdown",
      "metadata": {
        "id": "wWyXWCpmYTNk"
      },
      "source": [
        "### Subsampling"
      ]
    },
    {
      "cell_type": "code",
      "metadata": {
        "id": "8GxudI2jxBQP"
      },
      "source": [
        "#Split fraud and normal transactions\n",
        "fraud_data = df[df['Class']==1]\n",
        "non_fraud_data = df[df[\"Class\"]==0]\n",
        "\n",
        "#Subsample according to the size of fraud transactions\n",
        "non_fraud_data1 = non_fraud_data.sample(1500)\n",
        "\n",
        "#Rejoin fraud and normal transactions\n",
        "final_data = fraud_data.append(non_fraud_data1,ignore_index=True)\n"
      ],
      "execution_count": null,
      "outputs": []
    },
    {
      "cell_type": "code",
      "metadata": {
        "colab": {
          "base_uri": "https://localhost:8080/"
        },
        "id": "vHpfJmbOaCrd",
        "outputId": "b1890775-65f5-4b45-a75b-387254d0efec"
      },
      "source": [
        "print('No Frauds', round(final_data['Class'].value_counts()[0]/len(final_data) * 100,2), '% of the dataset')\n",
        "print('Frauds', round(final_data['Class'].value_counts()[1]/len(final_data) * 100,2), '% of the dataset')"
      ],
      "execution_count": null,
      "outputs": [
        {
          "output_type": "stream",
          "text": [
            "No Frauds 75.3 % of the dataset\n",
            "Frauds 24.7 % of the dataset\n"
          ],
          "name": "stdout"
        }
      ]
    },
    {
      "cell_type": "code",
      "metadata": {
        "colab": {
          "base_uri": "https://localhost:8080/",
          "height": 426
        },
        "id": "v3xQkb5orArm",
        "outputId": "a5a26365-fadc-46d2-843d-a90aabb00e83"
      },
      "source": [
        "print('Distribution of the Classes in the subsample dataset')\n",
        "print(final_data['Class'].value_counts()/len(final_data))\n",
        "\n",
        "sns.countplot('Class', data=final_data)\n",
        "plt.title('25/75 Distributed Classes', fontsize=14)\n",
        "plt.show()"
      ],
      "execution_count": null,
      "outputs": [
        {
          "output_type": "stream",
          "text": [
            "Distribution of the Classes in the subsample dataset\n",
            "0    0.753012\n",
            "1    0.246988\n",
            "Name: Class, dtype: float64\n"
          ],
          "name": "stdout"
        },
        {
          "output_type": "stream",
          "text": [
            "/usr/local/lib/python3.7/dist-packages/seaborn/_decorators.py:43: FutureWarning: Pass the following variable as a keyword arg: x. From version 0.12, the only valid positional argument will be `data`, and passing other arguments without an explicit keyword will result in an error or misinterpretation.\n",
            "  FutureWarning\n"
          ],
          "name": "stderr"
        },
        {
          "output_type": "display_data",
          "data": {
            "image/png": "[encoded data removed]",
            "text/plain": [
              "<Figure size 432x288 with 1 Axes>"
            ]
          },
          "metadata": {
            "tags": [],
            "needs_background": "light"
          }
        }
      ]
    },
    {
      "cell_type": "code",
      "metadata": {
        "colab": {
          "base_uri": "https://localhost:8080/"
        },
        "id": "PlvbiGCmrG41",
        "outputId": "7f82b5cc-945f-4161-ee04-b5022f1ea779"
      },
      "source": [
        "final_data['Class'].value_counts()"
      ],
      "execution_count": null,
      "outputs": [
        {
          "output_type": "execute_result",
          "data": {
            "text/plain": [
              "0    1500\n",
              "1     492\n",
              "Name: Class, dtype: int64"
            ]
          },
          "metadata": {
            "tags": []
          },
          "execution_count": 14
        }
      ]
    },
    {
      "cell_type": "code",
      "metadata": {
        "colab": {
          "base_uri": "https://localhost:8080/",
          "height": 625
        },
        "id": "2hAme4xuX73H",
        "outputId": "c0907def-f487-42b7-cace-cd27a3678847"
      },
      "source": [
        "df_anomaly = df[df[df.columns[30]] > 0]\n",
        "df_normal = df[df[df.columns[30]] == 0].sample(n=df_anomaly.size, random_state=1, axis='index')\n",
        "df = pd.concat([ df_anomaly, df_normal])\n",
        "\n",
        "show_pca_df(df)"
      ],
      "execution_count": null,
      "outputs": [
        {
          "output_type": "stream",
          "text": [
            "[0.20577961 0.14728955 0.09800458]\n"
          ],
          "name": "stdout"
        },
        {
          "output_type": "display_data",
          "data": {
            "image/png": "[encoded data removed]",
            "text/plain": [
              "<Figure size 576x576 with 1 Axes>"
            ]
          },
          "metadata": {
            "tags": [],
            "needs_background": "light"
          }
        }
      ]
    },
    {
      "cell_type": "markdown",
      "metadata": {
        "id": "h_K1QrdLYgF9"
      },
      "source": [
        "## Splitting Data"
      ]
    },
    {
      "cell_type": "code",
      "metadata": {
        "colab": {
          "base_uri": "https://localhost:8080/",
          "height": 383
        },
        "id": "rLLGfJP3mVDc",
        "outputId": "95d843bb-8801-4fa7-b890-facda2d9e24d"
      },
      "source": [
        "data_set = pd.concat([non_fraud_data[:1500], fraud_data])\n",
        "\n",
        "x_train, x_test = train_test_split(data_set, test_size = 0.2)\n",
        "\n",
        "x_train = x_train.sort_values(by=['Time'])\n",
        "x_test = x_test.sort_values(by=['Time'])\n",
        "\n",
        "y_train = x_train[\"Class\"]\n",
        "y_test = x_test[\"Class\"]\n",
        "\n",
        "x_train = x_train.drop(\"Class\",axis=1)\n",
        "x_test = x_test.drop(\"Class\",axis=1)\n",
        "\n",
        "x_test.head(10)"
      ],
      "execution_count": null,
      "outputs": [
        {
          "output_type": "execute_result",
          "data": {
            "text/html": [
              "<div>\n",
              "<style scoped>\n",
              "    .dataframe tbody tr th:only-of-type {\n",
              "        vertical-align: middle;\n",
              "    }\n",
              "\n",
              "    .dataframe tbody tr th {\n",
              "        vertical-align: top;\n",
              "    }\n",
              "\n",
              "    .dataframe thead th {\n",
              "        text-align: right;\n",
              "    }\n",
              "</style>\n",
              "<table border=\"1\" class=\"dataframe\">\n",
              "  <thead>\n",
              "    <tr style=\"text-align: right;\">\n",
              "      <th></th>\n",
              "      <th>Time</th>\n",
              "      <th>V1</th>\n",
              "      <th>V2</th>\n",
              "      <th>V3</th>\n",
              "      <th>V4</th>\n",
              "      <th>V5</th>\n",
              "      <th>V6</th>\n",
              "      <th>V7</th>\n",
              "      <th>V8</th>\n",
              "      <th>V9</th>\n",
              "      <th>V10</th>\n",
              "      <th>V11</th>\n",
              "      <th>V12</th>\n",
              "      <th>V13</th>\n",
              "      <th>V14</th>\n",
              "      <th>V15</th>\n",
              "      <th>V16</th>\n",
              "      <th>V17</th>\n",
              "      <th>V18</th>\n",
              "      <th>V19</th>\n",
              "      <th>V20</th>\n",
              "      <th>V21</th>\n",
              "      <th>V22</th>\n",
              "      <th>V23</th>\n",
              "      <th>V24</th>\n",
              "      <th>V25</th>\n",
              "      <th>V26</th>\n",
              "      <th>V27</th>\n",
              "      <th>V28</th>\n",
              "      <th>Amount</th>\n",
              "    </tr>\n",
              "  </thead>\n",
              "  <tbody>\n",
              "    <tr>\n",
              "      <th>7</th>\n",
              "      <td>7.0</td>\n",
              "      <td>-0.644269</td>\n",
              "      <td>1.417964</td>\n",
              "      <td>1.074380</td>\n",
              "      <td>-0.492199</td>\n",
              "      <td>0.948934</td>\n",
              "      <td>0.428118</td>\n",
              "      <td>1.120631</td>\n",
              "      <td>-3.807864</td>\n",
              "      <td>0.615375</td>\n",
              "      <td>1.249376</td>\n",
              "      <td>-0.619468</td>\n",
              "      <td>0.291474</td>\n",
              "      <td>1.757964</td>\n",
              "      <td>-1.323865</td>\n",
              "      <td>0.686133</td>\n",
              "      <td>-0.076127</td>\n",
              "      <td>-1.222127</td>\n",
              "      <td>-0.358222</td>\n",
              "      <td>0.324505</td>\n",
              "      <td>-0.156742</td>\n",
              "      <td>1.943465</td>\n",
              "      <td>-1.015455</td>\n",
              "      <td>0.057504</td>\n",
              "      <td>-0.649709</td>\n",
              "      <td>-0.415267</td>\n",
              "      <td>-0.051634</td>\n",
              "      <td>-1.206921</td>\n",
              "      <td>-1.085339</td>\n",
              "      <td>40.80</td>\n",
              "    </tr>\n",
              "    <tr>\n",
              "      <th>20</th>\n",
              "      <td>16.0</td>\n",
              "      <td>0.694885</td>\n",
              "      <td>-1.361819</td>\n",
              "      <td>1.029221</td>\n",
              "      <td>0.834159</td>\n",
              "      <td>-1.191209</td>\n",
              "      <td>1.309109</td>\n",
              "      <td>-0.878586</td>\n",
              "      <td>0.445290</td>\n",
              "      <td>-0.446196</td>\n",
              "      <td>0.568521</td>\n",
              "      <td>1.019151</td>\n",
              "      <td>1.298329</td>\n",
              "      <td>0.420480</td>\n",
              "      <td>-0.372651</td>\n",
              "      <td>-0.807980</td>\n",
              "      <td>-2.044557</td>\n",
              "      <td>0.515663</td>\n",
              "      <td>0.625847</td>\n",
              "      <td>-1.300408</td>\n",
              "      <td>-0.138334</td>\n",
              "      <td>-0.295583</td>\n",
              "      <td>-0.571955</td>\n",
              "      <td>-0.050881</td>\n",
              "      <td>-0.304215</td>\n",
              "      <td>0.072001</td>\n",
              "      <td>-0.422234</td>\n",
              "      <td>0.086553</td>\n",
              "      <td>0.063499</td>\n",
              "      <td>231.71</td>\n",
              "    </tr>\n",
              "    <tr>\n",
              "      <th>27</th>\n",
              "      <td>23.0</td>\n",
              "      <td>1.322707</td>\n",
              "      <td>-0.174041</td>\n",
              "      <td>0.434555</td>\n",
              "      <td>0.576038</td>\n",
              "      <td>-0.836758</td>\n",
              "      <td>-0.831083</td>\n",
              "      <td>-0.264905</td>\n",
              "      <td>-0.220982</td>\n",
              "      <td>-1.071425</td>\n",
              "      <td>0.868559</td>\n",
              "      <td>-0.641506</td>\n",
              "      <td>-0.111316</td>\n",
              "      <td>0.361485</td>\n",
              "      <td>0.171945</td>\n",
              "      <td>0.782167</td>\n",
              "      <td>-1.355871</td>\n",
              "      <td>-0.216935</td>\n",
              "      <td>1.271765</td>\n",
              "      <td>-1.240622</td>\n",
              "      <td>-0.522951</td>\n",
              "      <td>-0.284376</td>\n",
              "      <td>-0.323357</td>\n",
              "      <td>-0.037710</td>\n",
              "      <td>0.347151</td>\n",
              "      <td>0.559639</td>\n",
              "      <td>-0.280158</td>\n",
              "      <td>0.042335</td>\n",
              "      <td>0.028822</td>\n",
              "      <td>16.00</td>\n",
              "    </tr>\n",
              "    <tr>\n",
              "      <th>32</th>\n",
              "      <td>26.0</td>\n",
              "      <td>-0.529912</td>\n",
              "      <td>0.873892</td>\n",
              "      <td>1.347247</td>\n",
              "      <td>0.145457</td>\n",
              "      <td>0.414209</td>\n",
              "      <td>0.100223</td>\n",
              "      <td>0.711206</td>\n",
              "      <td>0.176066</td>\n",
              "      <td>-0.286717</td>\n",
              "      <td>-0.484688</td>\n",
              "      <td>0.872490</td>\n",
              "      <td>0.851636</td>\n",
              "      <td>-0.571745</td>\n",
              "      <td>0.100974</td>\n",
              "      <td>-1.519772</td>\n",
              "      <td>-0.284376</td>\n",
              "      <td>-0.310524</td>\n",
              "      <td>-0.404248</td>\n",
              "      <td>-0.823374</td>\n",
              "      <td>-0.290348</td>\n",
              "      <td>0.046949</td>\n",
              "      <td>0.208105</td>\n",
              "      <td>-0.185548</td>\n",
              "      <td>0.001031</td>\n",
              "      <td>0.098816</td>\n",
              "      <td>-0.552904</td>\n",
              "      <td>-0.073288</td>\n",
              "      <td>0.023307</td>\n",
              "      <td>6.14</td>\n",
              "    </tr>\n",
              "    <tr>\n",
              "      <th>34</th>\n",
              "      <td>26.0</td>\n",
              "      <td>-0.535388</td>\n",
              "      <td>0.865268</td>\n",
              "      <td>1.351076</td>\n",
              "      <td>0.147575</td>\n",
              "      <td>0.433680</td>\n",
              "      <td>0.086983</td>\n",
              "      <td>0.693039</td>\n",
              "      <td>0.179742</td>\n",
              "      <td>-0.285642</td>\n",
              "      <td>-0.482474</td>\n",
              "      <td>0.871800</td>\n",
              "      <td>0.853447</td>\n",
              "      <td>-0.571822</td>\n",
              "      <td>0.102252</td>\n",
              "      <td>-1.519991</td>\n",
              "      <td>-0.285912</td>\n",
              "      <td>-0.309633</td>\n",
              "      <td>-0.403902</td>\n",
              "      <td>-0.823743</td>\n",
              "      <td>-0.283264</td>\n",
              "      <td>0.049526</td>\n",
              "      <td>0.206537</td>\n",
              "      <td>-0.187108</td>\n",
              "      <td>0.000753</td>\n",
              "      <td>0.098117</td>\n",
              "      <td>-0.553471</td>\n",
              "      <td>-0.078306</td>\n",
              "      <td>0.025427</td>\n",
              "      <td>1.77</td>\n",
              "    </tr>\n",
              "    <tr>\n",
              "      <th>38</th>\n",
              "      <td>29.0</td>\n",
              "      <td>0.996370</td>\n",
              "      <td>-0.122589</td>\n",
              "      <td>0.546819</td>\n",
              "      <td>0.706580</td>\n",
              "      <td>0.134560</td>\n",
              "      <td>1.156995</td>\n",
              "      <td>-0.294561</td>\n",
              "      <td>0.407429</td>\n",
              "      <td>0.337863</td>\n",
              "      <td>-0.408150</td>\n",
              "      <td>0.682646</td>\n",
              "      <td>1.253720</td>\n",
              "      <td>0.391917</td>\n",
              "      <td>-0.037511</td>\n",
              "      <td>0.795302</td>\n",
              "      <td>-1.668211</td>\n",
              "      <td>1.322995</td>\n",
              "      <td>-2.830035</td>\n",
              "      <td>-1.463432</td>\n",
              "      <td>-0.203461</td>\n",
              "      <td>-0.076302</td>\n",
              "      <td>0.108867</td>\n",
              "      <td>0.162231</td>\n",
              "      <td>-0.575624</td>\n",
              "      <td>0.109795</td>\n",
              "      <td>0.373813</td>\n",
              "      <td>0.050552</td>\n",
              "      <td>0.005106</td>\n",
              "      <td>20.53</td>\n",
              "    </tr>\n",
              "    <tr>\n",
              "      <th>46</th>\n",
              "      <td>34.0</td>\n",
              "      <td>-0.291540</td>\n",
              "      <td>0.445575</td>\n",
              "      <td>1.249752</td>\n",
              "      <td>-1.735736</td>\n",
              "      <td>0.085756</td>\n",
              "      <td>-0.121924</td>\n",
              "      <td>0.407716</td>\n",
              "      <td>0.095309</td>\n",
              "      <td>0.815902</td>\n",
              "      <td>-1.491188</td>\n",
              "      <td>-0.846191</td>\n",
              "      <td>0.056533</td>\n",
              "      <td>-0.058954</td>\n",
              "      <td>0.151923</td>\n",
              "      <td>1.982595</td>\n",
              "      <td>-0.443295</td>\n",
              "      <td>-0.318251</td>\n",
              "      <td>0.064787</td>\n",
              "      <td>0.613505</td>\n",
              "      <td>-0.033522</td>\n",
              "      <td>-0.064906</td>\n",
              "      <td>-0.120449</td>\n",
              "      <td>-0.156526</td>\n",
              "      <td>-0.800213</td>\n",
              "      <td>-0.000620</td>\n",
              "      <td>-0.835203</td>\n",
              "      <td>0.131001</td>\n",
              "      <td>0.062896</td>\n",
              "      <td>18.95</td>\n",
              "    </tr>\n",
              "    <tr>\n",
              "      <th>47</th>\n",
              "      <td>34.0</td>\n",
              "      <td>0.201686</td>\n",
              "      <td>0.497483</td>\n",
              "      <td>1.373913</td>\n",
              "      <td>0.571405</td>\n",
              "      <td>-0.630658</td>\n",
              "      <td>-0.539659</td>\n",
              "      <td>-0.076270</td>\n",
              "      <td>-0.917106</td>\n",
              "      <td>0.270008</td>\n",
              "      <td>-0.480281</td>\n",
              "      <td>-0.512533</td>\n",
              "      <td>0.680906</td>\n",
              "      <td>0.089923</td>\n",
              "      <td>-0.157405</td>\n",
              "      <td>-0.588819</td>\n",
              "      <td>-0.477908</td>\n",
              "      <td>0.225389</td>\n",
              "      <td>-0.668680</td>\n",
              "      <td>-0.023599</td>\n",
              "      <td>-0.222303</td>\n",
              "      <td>0.718961</td>\n",
              "      <td>-0.171877</td>\n",
              "      <td>-0.166205</td>\n",
              "      <td>0.776471</td>\n",
              "      <td>0.818460</td>\n",
              "      <td>0.442547</td>\n",
              "      <td>0.142757</td>\n",
              "      <td>0.219238</td>\n",
              "      <td>9.99</td>\n",
              "    </tr>\n",
              "    <tr>\n",
              "      <th>52</th>\n",
              "      <td>36.0</td>\n",
              "      <td>-1.169422</td>\n",
              "      <td>1.158314</td>\n",
              "      <td>1.406800</td>\n",
              "      <td>0.860189</td>\n",
              "      <td>-0.103810</td>\n",
              "      <td>0.122035</td>\n",
              "      <td>0.264451</td>\n",
              "      <td>-0.108767</td>\n",
              "      <td>-0.181977</td>\n",
              "      <td>0.659593</td>\n",
              "      <td>0.456317</td>\n",
              "      <td>-0.097763</td>\n",
              "      <td>-0.346159</td>\n",
              "      <td>0.210182</td>\n",
              "      <td>2.345229</td>\n",
              "      <td>-1.172648</td>\n",
              "      <td>0.860019</td>\n",
              "      <td>-1.154224</td>\n",
              "      <td>0.858768</td>\n",
              "      <td>-0.120560</td>\n",
              "      <td>0.024498</td>\n",
              "      <td>-0.120153</td>\n",
              "      <td>0.212986</td>\n",
              "      <td>0.087536</td>\n",
              "      <td>-0.946530</td>\n",
              "      <td>0.226700</td>\n",
              "      <td>-0.810101</td>\n",
              "      <td>0.234957</td>\n",
              "      <td>7.99</td>\n",
              "    </tr>\n",
              "    <tr>\n",
              "      <th>62</th>\n",
              "      <td>41.0</td>\n",
              "      <td>1.145524</td>\n",
              "      <td>0.575068</td>\n",
              "      <td>0.194008</td>\n",
              "      <td>2.598192</td>\n",
              "      <td>-0.092210</td>\n",
              "      <td>-1.044430</td>\n",
              "      <td>0.531588</td>\n",
              "      <td>-0.241888</td>\n",
              "      <td>-0.896287</td>\n",
              "      <td>0.757952</td>\n",
              "      <td>-0.448937</td>\n",
              "      <td>-0.660863</td>\n",
              "      <td>-1.308522</td>\n",
              "      <td>0.788864</td>\n",
              "      <td>0.320294</td>\n",
              "      <td>0.295404</td>\n",
              "      <td>-0.287878</td>\n",
              "      <td>-0.451453</td>\n",
              "      <td>-1.011446</td>\n",
              "      <td>-0.191050</td>\n",
              "      <td>0.011106</td>\n",
              "      <td>-0.119703</td>\n",
              "      <td>-0.076510</td>\n",
              "      <td>0.691320</td>\n",
              "      <td>0.633984</td>\n",
              "      <td>0.048741</td>\n",
              "      <td>-0.053192</td>\n",
              "      <td>0.016251</td>\n",
              "      <td>34.13</td>\n",
              "    </tr>\n",
              "  </tbody>\n",
              "</table>\n",
              "</div>"
            ],
            "text/plain": [
              "    Time        V1        V2        V3  ...       V26       V27       V28  Amount\n",
              "7    7.0 -0.644269  1.417964  1.074380  ... -0.051634 -1.206921 -1.085339   40.80\n",
              "20  16.0  0.694885 -1.361819  1.029221  ... -0.422234  0.086553  0.063499  231.71\n",
              "27  23.0  1.322707 -0.174041  0.434555  ... -0.280158  0.042335  0.028822   16.00\n",
              "32  26.0 -0.529912  0.873892  1.347247  ... -0.552904 -0.073288  0.023307    6.14\n",
              "34  26.0 -0.535388  0.865268  1.351076  ... -0.553471 -0.078306  0.025427    1.77\n",
              "38  29.0  0.996370 -0.122589  0.546819  ...  0.373813  0.050552  0.005106   20.53\n",
              "46  34.0 -0.291540  0.445575  1.249752  ... -0.835203  0.131001  0.062896   18.95\n",
              "47  34.0  0.201686  0.497483  1.373913  ...  0.442547  0.142757  0.219238    9.99\n",
              "52  36.0 -1.169422  1.158314  1.406800  ...  0.226700 -0.810101  0.234957    7.99\n",
              "62  41.0  1.145524  0.575068  0.194008  ...  0.048741 -0.053192  0.016251   34.13\n",
              "\n",
              "[10 rows x 30 columns]"
            ]
          },
          "metadata": {
            "tags": []
          },
          "execution_count": 18
        }
      ]
    },
    {
      "cell_type": "code",
      "metadata": {
        "colab": {
          "base_uri": "https://localhost:8080/"
        },
        "id": "H9y6TpyInUKE",
        "outputId": "33c0e1e8-0af7-43e0-f757-c6c28831d4d9"
      },
      "source": [
        "input_shape = (x_train.shape[1], 1)\n",
        "\n",
        "print(\"Shapes:\\nx_train:%s\\ny_train:%s\\n\" % (x_train.shape, y_train.shape))\n",
        "print(\"x_test:%s\\ny_test:%s\\n\" % (x_test.shape, y_test.shape))\n",
        "print(\"input_shape:{}\\n\".format(input_shape))"
      ],
      "execution_count": null,
      "outputs": [
        {
          "output_type": "stream",
          "text": [
            "Shapes:\n",
            "x_train:(1593, 30)\n",
            "y_train:(1593,)\n",
            "\n",
            "x_test:(399, 30)\n",
            "y_test:(399,)\n",
            "\n",
            "input_shape:(30, 1)\n",
            "\n"
          ],
          "name": "stdout"
        }
      ]
    },
    {
      "cell_type": "code",
      "metadata": {
        "colab": {
          "base_uri": "https://localhost:8080/"
        },
        "id": "Y5XzMnm8M0ii",
        "outputId": "4d1cb9bd-41e8-48fe-d330-56279100db35"
      },
      "source": [
        "y_train[:5]"
      ],
      "execution_count": null,
      "outputs": [
        {
          "output_type": "execute_result",
          "data": {
            "text/plain": [
              "0    0\n",
              "1    0\n",
              "3    0\n",
              "2    0\n",
              "5    0\n",
              "Name: Class, dtype: int64"
            ]
          },
          "metadata": {
            "tags": []
          },
          "execution_count": 20
        }
      ]
    },
    {
      "cell_type": "code",
      "metadata": {
        "id": "YseNmepwxfht"
      },
      "source": [
        "def plot_learning_curve(history,epochs):\n",
        "    \n",
        "    epoch_range=range(1,epochs+1)\n",
        "    plt.plot(epoch_range,history.history['accuracy'])\n",
        "    plt.plot(epoch_range,history.history[\"val_accuracy\"])\n",
        "    plt.title(\"Model Accuracy\")\n",
        "    plt.xlabel(\"epochs\")\n",
        "    plt.ylabel(\"accuracy\")\n",
        "    plt.legend(\"train\",\"val\",loc=\"upper left\")\n",
        "    plt.show()\n",
        "     \n",
        "    plt.plot(epoch_range,history.history['loss'])\n",
        "    plt.plot(epoch_range,history.history['val_loss'])\n",
        "    plt.title('Model loss')\n",
        "    plt.ylabel('loss')\n",
        "    plt.xlabel('epoch')\n",
        "    plt.legend(['Train','Val'],loc='upper left')\n",
        "    plt.show()"
      ],
      "execution_count": null,
      "outputs": []
    },
    {
      "cell_type": "markdown",
      "metadata": {
        "id": "gfSPfl1zY5G1"
      },
      "source": [
        "## Deep Neural Network"
      ]
    },
    {
      "cell_type": "code",
      "metadata": {
        "id": "Qf4ikg93tH2c"
      },
      "source": [
        "DNN = Sequential([\n",
        "Dense(input_dim = 30, units = 16, activation = 'relu'),\n",
        "Dense(units = 24, activation = 'relu'),\n",
        "Dropout(0.5),\n",
        "Dense(units = 20, activation = 'relu'),\n",
        "Dense(units = 24, activation = 'relu'),\n",
        "Dense(units =1, activation = 'sigmoid'),])"
      ],
      "execution_count": null,
      "outputs": []
    },
    {
      "cell_type": "code",
      "metadata": {
        "colab": {
          "base_uri": "https://localhost:8080/"
        },
        "id": "KkS-4ebutYLJ",
        "outputId": "115e8e01-1670-4039-f11c-1a34632032d1"
      },
      "source": [
        "DNN.compile(optimizer = 'adam', loss = 'binary_crossentropy', metrics = ['accuracy'])\n",
        "history = DNN.fit(x_train, y_train, epochs = 25, validation_data = (x_test,y_test),verbose=1)"
      ],
      "execution_count": null,
      "outputs": [
        {
          "output_type": "stream",
          "text": [
            "Epoch 1/25\n",
            "50/50 [==============================] - 16s 14ms/step - loss: 20.6129 - accuracy: 0.2781 - val_loss: 4.2595 - val_accuracy: 0.2657\n",
            "Epoch 2/25\n",
            "50/50 [==============================] - 0s 3ms/step - loss: 6.8234 - accuracy: 0.3012 - val_loss: 2.3955 - val_accuracy: 0.3409\n",
            "Epoch 3/25\n",
            "50/50 [==============================] - 0s 3ms/step - loss: 4.7295 - accuracy: 0.3774 - val_loss: 3.0632 - val_accuracy: 0.3885\n",
            "Epoch 4/25\n",
            "50/50 [==============================] - 0s 3ms/step - loss: 4.5256 - accuracy: 0.3942 - val_loss: 1.3609 - val_accuracy: 0.5263\n",
            "Epoch 5/25\n",
            "50/50 [==============================] - 0s 4ms/step - loss: 4.3485 - accuracy: 0.4402 - val_loss: 0.4293 - val_accuracy: 0.7368\n",
            "Epoch 6/25\n",
            "50/50 [==============================] - 0s 3ms/step - loss: 3.2687 - accuracy: 0.4730 - val_loss: 0.6021 - val_accuracy: 0.6842\n",
            "Epoch 7/25\n",
            "50/50 [==============================] - 0s 3ms/step - loss: 2.5510 - accuracy: 0.5060 - val_loss: 0.1502 - val_accuracy: 1.0000\n",
            "Epoch 8/25\n",
            "50/50 [==============================] - 0s 3ms/step - loss: 1.2101 - accuracy: 0.6918 - val_loss: 0.1545 - val_accuracy: 0.9925\n",
            "Epoch 9/25\n",
            "50/50 [==============================] - 0s 3ms/step - loss: 1.2413 - accuracy: 0.6775 - val_loss: 0.3568 - val_accuracy: 0.7870\n",
            "Epoch 10/25\n",
            "50/50 [==============================] - 0s 2ms/step - loss: 0.8230 - accuracy: 0.7424 - val_loss: 0.1573 - val_accuracy: 0.9950\n",
            "Epoch 11/25\n",
            "50/50 [==============================] - 0s 2ms/step - loss: 1.1285 - accuracy: 0.7262 - val_loss: 0.3149 - val_accuracy: 0.8221\n",
            "Epoch 12/25\n",
            "50/50 [==============================] - 0s 3ms/step - loss: 0.5894 - accuracy: 0.7892 - val_loss: 0.0953 - val_accuracy: 0.9975\n",
            "Epoch 13/25\n",
            "50/50 [==============================] - 0s 3ms/step - loss: 0.5395 - accuracy: 0.8606 - val_loss: 0.0892 - val_accuracy: 1.0000\n",
            "Epoch 14/25\n",
            "50/50 [==============================] - 0s 2ms/step - loss: 0.3739 - accuracy: 0.8550 - val_loss: 0.3680 - val_accuracy: 0.7970\n",
            "Epoch 15/25\n",
            "50/50 [==============================] - 0s 3ms/step - loss: 0.7134 - accuracy: 0.8013 - val_loss: 0.0588 - val_accuracy: 1.0000\n",
            "Epoch 16/25\n",
            "50/50 [==============================] - 0s 3ms/step - loss: 0.2627 - accuracy: 0.9158 - val_loss: 0.0617 - val_accuracy: 0.9975\n",
            "Epoch 17/25\n",
            "50/50 [==============================] - 0s 3ms/step - loss: 0.1366 - accuracy: 0.9786 - val_loss: 0.0629 - val_accuracy: 0.9975\n",
            "Epoch 18/25\n",
            "50/50 [==============================] - 0s 3ms/step - loss: 0.2035 - accuracy: 0.9592 - val_loss: 0.0628 - val_accuracy: 0.9975\n",
            "Epoch 19/25\n",
            "50/50 [==============================] - 0s 3ms/step - loss: 0.0865 - accuracy: 0.9886 - val_loss: 0.1017 - val_accuracy: 0.9749\n",
            "Epoch 20/25\n",
            "50/50 [==============================] - 0s 3ms/step - loss: 0.0916 - accuracy: 0.9872 - val_loss: 0.1451 - val_accuracy: 0.9699\n",
            "Epoch 21/25\n",
            "50/50 [==============================] - 0s 3ms/step - loss: 0.1256 - accuracy: 0.9783 - val_loss: 0.0336 - val_accuracy: 0.9975\n",
            "Epoch 22/25\n",
            "50/50 [==============================] - 0s 3ms/step - loss: 0.1273 - accuracy: 0.9685 - val_loss: 0.0621 - val_accuracy: 1.0000\n",
            "Epoch 23/25\n",
            "50/50 [==============================] - 0s 3ms/step - loss: 0.2935 - accuracy: 0.9239 - val_loss: 0.0354 - val_accuracy: 1.0000\n",
            "Epoch 24/25\n",
            "50/50 [==============================] - 0s 3ms/step - loss: 0.1438 - accuracy: 0.9616 - val_loss: 0.0452 - val_accuracy: 1.0000\n",
            "Epoch 25/25\n",
            "50/50 [==============================] - 0s 3ms/step - loss: 0.1367 - accuracy: 0.9639 - val_loss: 0.0705 - val_accuracy: 1.0000\n"
          ],
          "name": "stdout"
        }
      ]
    },
    {
      "cell_type": "code",
      "metadata": {
        "id": "DTGS_1m57C1G",
        "colab": {
          "base_uri": "https://localhost:8080/",
          "height": 813
        },
        "outputId": "b3b74f56-b337-45df-d83e-c5e773011a7f"
      },
      "source": [
        "plot_learning_curve(history, 25)"
      ],
      "execution_count": null,
      "outputs": [
        {
          "output_type": "stream",
          "text": [
            "/usr/local/lib/python3.7/dist-packages/ipykernel_launcher.py:9: UserWarning: Legend does not support 't' instances.\n",
            "A proxy artist may be used instead.\n",
            "See: http://matplotlib.org/users/legend_guide.html#creating-artists-specifically-for-adding-to-the-legend-aka-proxy-artists\n",
            "  if __name__ == '__main__':\n",
            "/usr/local/lib/python3.7/dist-packages/ipykernel_launcher.py:9: UserWarning: Legend does not support 'r' instances.\n",
            "A proxy artist may be used instead.\n",
            "See: http://matplotlib.org/users/legend_guide.html#creating-artists-specifically-for-adding-to-the-legend-aka-proxy-artists\n",
            "  if __name__ == '__main__':\n",
            "/usr/local/lib/python3.7/dist-packages/ipykernel_launcher.py:9: UserWarning: Legend does not support 'a' instances.\n",
            "A proxy artist may be used instead.\n",
            "See: http://matplotlib.org/users/legend_guide.html#creating-artists-specifically-for-adding-to-the-legend-aka-proxy-artists\n",
            "  if __name__ == '__main__':\n"
          ],
          "name": "stderr"
        },
        {
          "output_type": "display_data",
          "data": {
            "image/png": "[encoded data removed]",
            "text/plain": [
              "<Figure size 432x288 with 1 Axes>"
            ]
          },
          "metadata": {
            "tags": [],
            "needs_background": "light"
          }
        },
        {
          "output_type": "display_data",
          "data": {
            "image/png": "[encoded data removed]",
            "text/plain": [
              "<Figure size 432x288 with 1 Axes>"
            ]
          },
          "metadata": {
            "tags": [],
            "needs_background": "light"
          }
        }
      ]
    },
    {
      "cell_type": "code",
      "metadata": {
        "colab": {
          "base_uri": "https://localhost:8080/"
        },
        "id": "BjOGh4Bkt__K",
        "outputId": "49b7c8bb-fd8a-49c0-e073-9e522f0df773"
      },
      "source": [
        "score = DNN.evaluate(x_test, y_test)"
      ],
      "execution_count": null,
      "outputs": [
        {
          "output_type": "stream",
          "text": [
            "13/13 [==============================] - 0s 2ms/step - loss: 0.0705 - accuracy: 1.0000\n"
          ],
          "name": "stdout"
        }
      ]
    },
    {
      "cell_type": "code",
      "metadata": {
        "colab": {
          "base_uri": "https://localhost:8080/"
        },
        "id": "DXUZHbnCupTy",
        "outputId": "73744de9-1fed-495f-9ba6-4a68181ffb1f"
      },
      "source": [
        "y_pred = DNN.predict(x_test)\n",
        "cm = confusion_matrix(y_test, y_pred.round())\n",
        "print(cm)"
      ],
      "execution_count": null,
      "outputs": [
        {
          "output_type": "stream",
          "text": [
            "[[301   0]\n",
            " [  0  98]]\n"
          ],
          "name": "stdout"
        }
      ]
    },
    {
      "cell_type": "code",
      "metadata": {
        "colab": {
          "base_uri": "https://localhost:8080/"
        },
        "id": "3Tc8SX4Z24MV",
        "outputId": "e161723a-0817-4858-f53b-58413d971120"
      },
      "source": [
        "print(classification_report(y_test, y_pred.round()))"
      ],
      "execution_count": null,
      "outputs": [
        {
          "output_type": "stream",
          "text": [
            "              precision    recall  f1-score   support\n",
            "\n",
            "           0       1.00      1.00      1.00       301\n",
            "           1       1.00      1.00      1.00        98\n",
            "\n",
            "    accuracy                           1.00       399\n",
            "   macro avg       1.00      1.00      1.00       399\n",
            "weighted avg       1.00      1.00      1.00       399\n",
            "\n"
          ],
          "name": "stdout"
        }
      ]
    },
    {
      "cell_type": "code",
      "metadata": {
        "colab": {
          "base_uri": "https://localhost:8080/",
          "height": 350
        },
        "id": "1jWIAjadu4a5",
        "outputId": "c3e9fab8-9fc3-4cc0-f19f-9c0f5f982f1e"
      },
      "source": [
        "labels = [\"Fraud\", \"Normal\"]\n",
        "\n",
        "matrix = np.flip(cm)\n",
        "\n",
        "plt.figure(figsize=(5, 5))\n",
        "sns.heatmap(matrix, xticklabels=labels, yticklabels=labels,  annot=True, fmt=\"d\", cbar=False)\n",
        "plt.title(\"Confusion Matrix\")\n",
        "plt.ylabel('Actual')\n",
        "plt.xlabel('Predicted')\n",
        "plt.show()"
      ],
      "execution_count": null,
      "outputs": [
        {
          "output_type": "display_data",
          "data": {
            "image/png": "[encoded data removed]",
            "text/plain": [
              "<Figure size 360x360 with 1 Axes>"
            ]
          },
          "metadata": {
            "tags": [],
            "needs_background": "light"
          }
        }
      ]
    },
    {
      "cell_type": "markdown",
      "metadata": {
        "id": "zcFmzjTkY-mm"
      },
      "source": [
        "## Convolutional Neural Network"
      ]
    },
    {
      "cell_type": "code",
      "metadata": {
        "id": "qAmFi0gy4Va9",
        "colab": {
          "base_uri": "https://localhost:8080/"
        },
        "outputId": "1b9ffb64-3c59-4c3b-da41-eba8f9768306"
      },
      "source": [
        "x_train = np.array(x_train).reshape(x_train.shape[0], x_train.shape[1], 1)\n",
        "x_test = np.array(x_test).reshape(x_test.shape[0], x_test.shape[1], 1)\n",
        "input_shape = (x_train.shape[1], 1)\n",
        "\n",
        "print(\"Shapes:\\nx_train:%s\\ny_train:%s\\n\" % (x_train.shape, y_train.shape))\n",
        "print(\"x_test:%s\\ny_test:%s\\n\" % (x_test.shape, y_test.shape))\n",
        "print(\"input_shape:{}\\n\".format(input_shape))"
      ],
      "execution_count": null,
      "outputs": [
        {
          "output_type": "stream",
          "text": [
            "Shapes:\n",
            "x_train:(1593, 30, 1)\n",
            "y_train:(1593,)\n",
            "\n",
            "x_test:(399, 30, 1)\n",
            "y_test:(399,)\n",
            "\n",
            "input_shape:(30, 1)\n",
            "\n"
          ],
          "name": "stdout"
        }
      ]
    },
    {
      "cell_type": "code",
      "metadata": {
        "id": "acKzfHbrY8er"
      },
      "source": [
        "epochs=50\n",
        "CNN=Sequential()\n",
        "\n",
        "CNN.add(Conv1D(32,2,activation='relu',input_shape=x_train[0].shape))\n",
        "CNN.add(BatchNormalization())\n",
        "CNN.add(MaxPool1D(2))\n",
        "CNN.add(Dropout(0.2))\n",
        "\n",
        "CNN.add(Conv1D(64,2,activation='relu'))\n",
        "CNN.add(BatchNormalization())\n",
        "CNN.add(MaxPool1D(2))\n",
        "CNN.add(Dropout(0.5))\n",
        "\n",
        "\n",
        "#flattening layer\n",
        "CNN.add(Flatten())\n",
        "CNN.add(Dense(64,activation=\"relu\"))\n",
        "CNN.add(Dropout(0.5))\n",
        "\n",
        "#final layer\n",
        "CNN.add(Dense(1,activation=\"sigmoid\"))"
      ],
      "execution_count": null,
      "outputs": []
    },
    {
      "cell_type": "code",
      "metadata": {
        "id": "Iupg1H77ZBbd",
        "colab": {
          "base_uri": "https://localhost:8080/"
        },
        "outputId": "0dfe71f2-fef0-4935-cca6-280ea7612e86"
      },
      "source": [
        "CNN.summary()"
      ],
      "execution_count": null,
      "outputs": [
        {
          "output_type": "stream",
          "text": [
            "Model: \"sequential_1\"\n",
            "_________________________________________________________________\n",
            "Layer (type)                 Output Shape              Param #   \n",
            "=================================================================\n",
            "conv1d (Conv1D)              (None, 29, 32)            96        \n",
            "_________________________________________________________________\n",
            "batch_normalization (BatchNo (None, 29, 32)            128       \n",
            "_________________________________________________________________\n",
            "max_pooling1d (MaxPooling1D) (None, 14, 32)            0         \n",
            "_________________________________________________________________\n",
            "dropout_1 (Dropout)          (None, 14, 32)            0         \n",
            "_________________________________________________________________\n",
            "conv1d_1 (Conv1D)            (None, 13, 64)            4160      \n",
            "_________________________________________________________________\n",
            "batch_normalization_1 (Batch (None, 13, 64)            256       \n",
            "_________________________________________________________________\n",
            "max_pooling1d_1 (MaxPooling1 (None, 6, 64)             0         \n",
            "_________________________________________________________________\n",
            "dropout_2 (Dropout)          (None, 6, 64)             0         \n",
            "_________________________________________________________________\n",
            "flatten (Flatten)            (None, 384)               0         \n",
            "_________________________________________________________________\n",
            "dense_5 (Dense)              (None, 64)                24640     \n",
            "_________________________________________________________________\n",
            "dropout_3 (Dropout)          (None, 64)                0         \n",
            "_________________________________________________________________\n",
            "dense_6 (Dense)              (None, 1)                 65        \n",
            "=================================================================\n",
            "Total params: 29,345\n",
            "Trainable params: 29,153\n",
            "Non-trainable params: 192\n",
            "_________________________________________________________________\n"
          ],
          "name": "stdout"
        }
      ]
    },
    {
      "cell_type": "code",
      "metadata": {
        "id": "UqbQHw2LZFar",
        "colab": {
          "base_uri": "https://localhost:8080/"
        },
        "outputId": "0fbc8d05-ea63-42e8-bf86-dd86b54875da"
      },
      "source": [
        "CNN.compile(optimizer=Adam(lr=0.001),loss='binary_crossentropy',metrics=['accuracy'])"
      ],
      "execution_count": null,
      "outputs": [
        {
          "output_type": "stream",
          "text": [
            "/usr/local/lib/python3.7/dist-packages/tensorflow/python/keras/optimizer_v2/optimizer_v2.py:375: UserWarning: The `lr` argument is deprecated, use `learning_rate` instead.\n",
            "  \"The `lr` argument is deprecated, use `learning_rate` instead.\")\n"
          ],
          "name": "stderr"
        }
      ]
    },
    {
      "cell_type": "code",
      "metadata": {
        "id": "oN-zOL7WZKNc",
        "colab": {
          "base_uri": "https://localhost:8080/"
        },
        "outputId": "ecd06f74-300b-457c-dd15-e2a17bb3fb27"
      },
      "source": [
        "history =CNN.fit(x_train,y_train,epochs=epochs, validation_data = (x_test,y_test),verbose=1)"
      ],
      "execution_count": null,
      "outputs": [
        {
          "output_type": "stream",
          "text": [
            "Epoch 1/50\n",
            "50/50 [==============================] - 7s 17ms/step - loss: 0.4485 - accuracy: 0.8051 - val_loss: 0.2180 - val_accuracy: 0.9875\n",
            "Epoch 2/50\n",
            "50/50 [==============================] - 0s 6ms/step - loss: 0.0856 - accuracy: 0.9749 - val_loss: 0.0639 - val_accuracy: 0.9975\n",
            "Epoch 3/50\n",
            "50/50 [==============================] - 0s 7ms/step - loss: 0.1185 - accuracy: 0.9557 - val_loss: 0.0198 - val_accuracy: 1.0000\n",
            "Epoch 4/50\n",
            "50/50 [==============================] - 0s 7ms/step - loss: 0.0231 - accuracy: 0.9956 - val_loss: 0.0117 - val_accuracy: 1.0000\n",
            "Epoch 5/50\n",
            "50/50 [==============================] - 0s 7ms/step - loss: 0.0129 - accuracy: 0.9978 - val_loss: 0.0066 - val_accuracy: 1.0000\n",
            "Epoch 6/50\n",
            "50/50 [==============================] - 0s 7ms/step - loss: 0.0132 - accuracy: 0.9961 - val_loss: 0.0044 - val_accuracy: 1.0000\n",
            "Epoch 7/50\n",
            "50/50 [==============================] - 0s 8ms/step - loss: 0.0196 - accuracy: 0.9948 - val_loss: 0.0037 - val_accuracy: 1.0000\n",
            "Epoch 8/50\n",
            "50/50 [==============================] - 0s 8ms/step - loss: 0.0367 - accuracy: 0.9897 - val_loss: 0.0023 - val_accuracy: 1.0000\n",
            "Epoch 9/50\n",
            "50/50 [==============================] - 0s 8ms/step - loss: 0.0244 - accuracy: 0.9933 - val_loss: 0.0019 - val_accuracy: 1.0000\n",
            "Epoch 10/50\n",
            "50/50 [==============================] - 0s 8ms/step - loss: 0.0222 - accuracy: 0.9931 - val_loss: 0.0013 - val_accuracy: 1.0000\n",
            "Epoch 11/50\n",
            "50/50 [==============================] - 0s 7ms/step - loss: 0.0173 - accuracy: 0.9932 - val_loss: 7.6599e-04 - val_accuracy: 1.0000\n",
            "Epoch 12/50\n",
            "50/50 [==============================] - 0s 7ms/step - loss: 0.0142 - accuracy: 0.9945 - val_loss: 8.5202e-04 - val_accuracy: 1.0000\n",
            "Epoch 13/50\n",
            "50/50 [==============================] - 0s 7ms/step - loss: 0.0062 - accuracy: 0.9988 - val_loss: 8.5224e-04 - val_accuracy: 1.0000\n",
            "Epoch 14/50\n",
            "50/50 [==============================] - 0s 7ms/step - loss: 0.0095 - accuracy: 0.9964 - val_loss: 6.5123e-04 - val_accuracy: 1.0000\n",
            "Epoch 15/50\n",
            "50/50 [==============================] - 0s 7ms/step - loss: 0.0108 - accuracy: 0.9963 - val_loss: 5.1526e-04 - val_accuracy: 1.0000\n",
            "Epoch 16/50\n",
            "50/50 [==============================] - 0s 9ms/step - loss: 0.0072 - accuracy: 0.9988 - val_loss: 4.3053e-04 - val_accuracy: 1.0000\n",
            "Epoch 17/50\n",
            "50/50 [==============================] - 0s 7ms/step - loss: 0.0114 - accuracy: 0.9976 - val_loss: 3.3976e-04 - val_accuracy: 1.0000\n",
            "Epoch 18/50\n",
            "50/50 [==============================] - 0s 9ms/step - loss: 0.0084 - accuracy: 0.9978 - val_loss: 3.2102e-04 - val_accuracy: 1.0000\n",
            "Epoch 19/50\n",
            "50/50 [==============================] - 0s 7ms/step - loss: 0.0214 - accuracy: 0.9908 - val_loss: 2.6711e-04 - val_accuracy: 1.0000\n",
            "Epoch 20/50\n",
            "50/50 [==============================] - 0s 8ms/step - loss: 0.0191 - accuracy: 0.9968 - val_loss: 2.0948e-04 - val_accuracy: 1.0000\n",
            "Epoch 21/50\n",
            "50/50 [==============================] - 0s 7ms/step - loss: 0.0117 - accuracy: 0.9974 - val_loss: 1.9742e-04 - val_accuracy: 1.0000\n",
            "Epoch 22/50\n",
            "50/50 [==============================] - 0s 9ms/step - loss: 0.0158 - accuracy: 0.9966 - val_loss: 0.0026 - val_accuracy: 0.9975\n",
            "Epoch 23/50\n",
            "50/50 [==============================] - 0s 8ms/step - loss: 0.0533 - accuracy: 0.9887 - val_loss: 7.8437e-04 - val_accuracy: 1.0000\n",
            "Epoch 24/50\n",
            "50/50 [==============================] - 0s 7ms/step - loss: 0.0108 - accuracy: 0.9977 - val_loss: 6.9017e-04 - val_accuracy: 1.0000\n",
            "Epoch 25/50\n",
            "50/50 [==============================] - 0s 8ms/step - loss: 0.0189 - accuracy: 0.9933 - val_loss: 5.3162e-04 - val_accuracy: 1.0000\n",
            "Epoch 26/50\n",
            "50/50 [==============================] - 0s 8ms/step - loss: 0.0091 - accuracy: 0.9977 - val_loss: 4.1622e-04 - val_accuracy: 1.0000\n",
            "Epoch 27/50\n",
            "50/50 [==============================] - 0s 8ms/step - loss: 0.0100 - accuracy: 0.9961 - val_loss: 3.3596e-04 - val_accuracy: 1.0000\n",
            "Epoch 28/50\n",
            "50/50 [==============================] - 0s 7ms/step - loss: 0.0096 - accuracy: 0.9972 - val_loss: 2.9126e-04 - val_accuracy: 1.0000\n",
            "Epoch 29/50\n",
            "50/50 [==============================] - 0s 7ms/step - loss: 0.0062 - accuracy: 0.9981 - val_loss: 3.5482e-04 - val_accuracy: 1.0000\n",
            "Epoch 30/50\n",
            "50/50 [==============================] - 0s 8ms/step - loss: 0.0054 - accuracy: 0.9983 - val_loss: 3.0659e-04 - val_accuracy: 1.0000\n",
            "Epoch 31/50\n",
            "50/50 [==============================] - 0s 7ms/step - loss: 0.0312 - accuracy: 0.9932 - val_loss: 7.2102e-04 - val_accuracy: 1.0000\n",
            "Epoch 32/50\n",
            "50/50 [==============================] - 0s 7ms/step - loss: 0.0054 - accuracy: 0.9976 - val_loss: 4.8925e-04 - val_accuracy: 1.0000\n",
            "Epoch 33/50\n",
            "50/50 [==============================] - 0s 7ms/step - loss: 0.0056 - accuracy: 0.9989 - val_loss: 4.5977e-04 - val_accuracy: 1.0000\n",
            "Epoch 34/50\n",
            "50/50 [==============================] - 0s 7ms/step - loss: 0.0056 - accuracy: 0.9982 - val_loss: 4.8635e-04 - val_accuracy: 1.0000\n",
            "Epoch 35/50\n",
            "50/50 [==============================] - 0s 9ms/step - loss: 0.0040 - accuracy: 0.9994 - val_loss: 4.1877e-04 - val_accuracy: 1.0000\n",
            "Epoch 36/50\n",
            "50/50 [==============================] - 0s 7ms/step - loss: 0.0110 - accuracy: 0.9958 - val_loss: 7.6944e-04 - val_accuracy: 1.0000\n",
            "Epoch 37/50\n",
            "50/50 [==============================] - 0s 8ms/step - loss: 0.0021 - accuracy: 0.9996 - val_loss: 4.3605e-04 - val_accuracy: 1.0000\n",
            "Epoch 38/50\n",
            "50/50 [==============================] - 0s 8ms/step - loss: 0.0039 - accuracy: 0.9982 - val_loss: 3.8618e-04 - val_accuracy: 1.0000\n",
            "Epoch 39/50\n",
            "50/50 [==============================] - 0s 8ms/step - loss: 0.0093 - accuracy: 0.9977 - val_loss: 5.0308e-04 - val_accuracy: 1.0000\n",
            "Epoch 40/50\n",
            "50/50 [==============================] - 0s 8ms/step - loss: 0.0019 - accuracy: 0.9996 - val_loss: 2.3317e-04 - val_accuracy: 1.0000\n",
            "Epoch 41/50\n",
            "50/50 [==============================] - 0s 7ms/step - loss: 0.0229 - accuracy: 0.9966 - val_loss: 4.0087e-04 - val_accuracy: 1.0000\n",
            "Epoch 42/50\n",
            "50/50 [==============================] - 0s 8ms/step - loss: 0.0052 - accuracy: 0.9984 - val_loss: 3.0615e-04 - val_accuracy: 1.0000\n",
            "Epoch 43/50\n",
            "50/50 [==============================] - 0s 9ms/step - loss: 0.0027 - accuracy: 0.9998 - val_loss: 3.0203e-04 - val_accuracy: 1.0000\n",
            "Epoch 44/50\n",
            "50/50 [==============================] - 0s 9ms/step - loss: 0.0139 - accuracy: 0.9966 - val_loss: 2.9643e-04 - val_accuracy: 1.0000\n",
            "Epoch 45/50\n",
            "50/50 [==============================] - 0s 8ms/step - loss: 0.0135 - accuracy: 0.9971 - val_loss: 2.3315e-04 - val_accuracy: 1.0000\n",
            "Epoch 46/50\n",
            "50/50 [==============================] - 0s 8ms/step - loss: 0.0167 - accuracy: 0.9920 - val_loss: 1.3156e-04 - val_accuracy: 1.0000\n",
            "Epoch 47/50\n",
            "50/50 [==============================] - 0s 8ms/step - loss: 0.0017 - accuracy: 0.9993 - val_loss: 1.1929e-04 - val_accuracy: 1.0000\n",
            "Epoch 48/50\n",
            "50/50 [==============================] - 0s 8ms/step - loss: 0.0108 - accuracy: 0.9980 - val_loss: 1.8456e-04 - val_accuracy: 1.0000\n",
            "Epoch 49/50\n",
            "50/50 [==============================] - 0s 8ms/step - loss: 0.0072 - accuracy: 0.9988 - val_loss: 2.5383e-04 - val_accuracy: 1.0000\n",
            "Epoch 50/50\n",
            "50/50 [==============================] - 0s 8ms/step - loss: 0.0019 - accuracy: 0.9999 - val_loss: 1.9961e-04 - val_accuracy: 1.0000\n"
          ],
          "name": "stdout"
        }
      ]
    },
    {
      "cell_type": "code",
      "metadata": {
        "id": "cUkZRPiWxlWo",
        "colab": {
          "base_uri": "https://localhost:8080/",
          "height": 813
        },
        "outputId": "7c3e8240-eb12-40a6-c3b3-bcdb29cfa2ee"
      },
      "source": [
        "plot_learning_curve(history, 50)"
      ],
      "execution_count": null,
      "outputs": [
        {
          "output_type": "stream",
          "text": [
            "/usr/local/lib/python3.7/dist-packages/ipykernel_launcher.py:9: UserWarning: Legend does not support 't' instances.\n",
            "A proxy artist may be used instead.\n",
            "See: http://matplotlib.org/users/legend_guide.html#creating-artists-specifically-for-adding-to-the-legend-aka-proxy-artists\n",
            "  if __name__ == '__main__':\n",
            "/usr/local/lib/python3.7/dist-packages/ipykernel_launcher.py:9: UserWarning: Legend does not support 'r' instances.\n",
            "A proxy artist may be used instead.\n",
            "See: http://matplotlib.org/users/legend_guide.html#creating-artists-specifically-for-adding-to-the-legend-aka-proxy-artists\n",
            "  if __name__ == '__main__':\n",
            "/usr/local/lib/python3.7/dist-packages/ipykernel_launcher.py:9: UserWarning: Legend does not support 'a' instances.\n",
            "A proxy artist may be used instead.\n",
            "See: http://matplotlib.org/users/legend_guide.html#creating-artists-specifically-for-adding-to-the-legend-aka-proxy-artists\n",
            "  if __name__ == '__main__':\n"
          ],
          "name": "stderr"
        },
        {
          "output_type": "display_data",
          "data": {
            "image/png": "[encoded data removed]",
            "text/plain": [
              "<Figure size 432x288 with 1 Axes>"
            ]
          },
          "metadata": {
            "tags": [],
            "needs_background": "light"
          }
        },
        {
          "output_type": "display_data",
          "data": {
            "image/png": "[encoded data removed]",
            "text/plain": [
              "<Figure size 432x288 with 1 Axes>"
            ]
          },
          "metadata": {
            "tags": [],
            "needs_background": "light"
          }
        }
      ]
    },
    {
      "cell_type": "code",
      "metadata": {
        "id": "s0WRNA-mxo0_",
        "colab": {
          "base_uri": "https://localhost:8080/"
        },
        "outputId": "f6de5549-85a5-4a15-f91c-1b3a08b9b3a0"
      },
      "source": [
        "final_acc = CNN.evaluate(x_train,y_train, verbose=0)\n",
        "print('Test loss:', final_acc[0])\n",
        "print('Test accuracy:', final_acc[1])"
      ],
      "execution_count": null,
      "outputs": [
        {
          "output_type": "stream",
          "text": [
            "Test loss: 0.0016173010226339102\n",
            "Test accuracy: 0.9993722438812256\n"
          ],
          "name": "stdout"
        }
      ]
    },
    {
      "cell_type": "code",
      "metadata": {
        "id": "KdW7JL6q5Glu",
        "colab": {
          "base_uri": "https://localhost:8080/"
        },
        "outputId": "bcc85471-44f4-416b-a4f7-f1b9659c1ad7"
      },
      "source": [
        "print(classification_report(y_test, y_pred.round()))"
      ],
      "execution_count": null,
      "outputs": [
        {
          "output_type": "stream",
          "text": [
            "              precision    recall  f1-score   support\n",
            "\n",
            "           0       1.00      1.00      1.00       301\n",
            "           1       1.00      1.00      1.00        98\n",
            "\n",
            "    accuracy                           1.00       399\n",
            "   macro avg       1.00      1.00      1.00       399\n",
            "weighted avg       1.00      1.00      1.00       399\n",
            "\n"
          ],
          "name": "stdout"
        }
      ]
    },
    {
      "cell_type": "code",
      "metadata": {
        "id": "KOywukVc5MIO",
        "colab": {
          "base_uri": "https://localhost:8080/"
        },
        "outputId": "af9709d5-f990-4fc2-8ea3-67edf90848a6"
      },
      "source": [
        "y_pred = CNN.predict(x_test)\n",
        "cm = confusion_matrix(y_test, y_pred.round())\n",
        "print(cm)"
      ],
      "execution_count": null,
      "outputs": [
        {
          "output_type": "stream",
          "text": [
            "[[301   0]\n",
            " [  0  98]]\n"
          ],
          "name": "stdout"
        }
      ]
    },
    {
      "cell_type": "code",
      "metadata": {
        "id": "LDQ-kYbQxuNb",
        "colab": {
          "base_uri": "https://localhost:8080/"
        },
        "outputId": "1728a941-36ce-4248-e428-ee3c9353da48"
      },
      "source": [
        "print(classification_report(y_test, y_pred.round()))"
      ],
      "execution_count": null,
      "outputs": [
        {
          "output_type": "stream",
          "text": [
            "              precision    recall  f1-score   support\n",
            "\n",
            "           0       1.00      1.00      1.00       301\n",
            "           1       1.00      1.00      1.00        98\n",
            "\n",
            "    accuracy                           1.00       399\n",
            "   macro avg       1.00      1.00      1.00       399\n",
            "weighted avg       1.00      1.00      1.00       399\n",
            "\n"
          ],
          "name": "stdout"
        }
      ]
    },
    {
      "cell_type": "code",
      "metadata": {
        "id": "ArX0yfs15SgH",
        "colab": {
          "base_uri": "https://localhost:8080/",
          "height": 350
        },
        "outputId": "cef36c3a-23ef-4422-c083-7c17b2fe0b74"
      },
      "source": [
        "labels = [\"Fraud\", \"Normal\"]\n",
        "\n",
        "matrix = np.flip(cm)\n",
        "\n",
        "plt.figure(figsize=(5, 5))\n",
        "sns.heatmap(matrix, xticklabels=labels, yticklabels=labels,  annot=True, fmt=\"d\", cbar=False)\n",
        "plt.title(\"Confusion Matrix\")\n",
        "plt.ylabel('Actual')\n",
        "plt.xlabel('Predicted')\n",
        "plt.show()"
      ],
      "execution_count": null,
      "outputs": [
        {
          "output_type": "display_data",
          "data": {
            "image/png": "[encoded data removed]",
            "text/plain": [
              "<Figure size 360x360 with 1 Axes>"
            ]
          },
          "metadata": {
            "tags": [],
            "needs_background": "light"
          }
        }
      ]
    },
    {
      "cell_type": "markdown",
      "metadata": {
        "id": "nCO7iSntZfw1"
      },
      "source": [
        "## Temporal Convolutional Encoder-Decoder"
      ]
    },
    {
      "cell_type": "code",
      "metadata": {
        "colab": {
          "base_uri": "https://localhost:8080/"
        },
        "id": "skd5CnfjDYiX",
        "outputId": "e74957e3-a173-4a88-db54-3df0b41f12fa"
      },
      "source": [
        "x_train = np.array(x_train).reshape(x_train.shape[0], x_train.shape[1], 1)\n",
        "x_test = np.array(x_test).reshape(x_test.shape[0], x_test.shape[1], 1)\n",
        "input_shape = (x_train.shape[1], 1)\n",
        "\n",
        "y_train = tf.keras.utils.to_categorical(y_train, 2)\n",
        "y_test = tf.keras.utils.to_categorical(y_test, 2)\n",
        "\n",
        "print(\"Shapes:\\nx_train:%s\\ny_train:%s\\n\" % (x_train.shape, y_train.shape))\n",
        "print(\"x_test:%s\\ny_test:%s\\n\" % (x_test.shape, y_test.shape))\n",
        "print(\"input_shape:{}\\n\".format(input_shape))"
      ],
      "execution_count": null,
      "outputs": [
        {
          "output_type": "stream",
          "text": [
            "Shapes:\n",
            "x_train:(1593, 30, 1)\n",
            "y_train:(1593, 2)\n",
            "\n",
            "x_test:(399, 30, 1)\n",
            "y_test:(399, 2)\n",
            "\n",
            "input_shape:(30, 1)\n",
            "\n"
          ],
          "name": "stdout"
        }
      ]
    },
    {
      "cell_type": "code",
      "metadata": {
        "colab": {
          "base_uri": "https://localhost:8080/"
        },
        "id": "LS015YEpD2UF",
        "outputId": "8b9b751f-58b5-4000-cca8-3bf1f7286ba8"
      },
      "source": [
        "input_layer = Input(shape=(input_shape ))\n",
        "\n",
        "### ENCODING STAGE\n",
        "# ENCODING STAGE\n",
        "\n",
        "#filters: the dimensionality of the output space\n",
        "#kernel size: the length of the 1D convolution window\n",
        "#dilation rate: dilation rate to use for dilated convolution\n",
        "#padding: causal (dilated) convolutions, useful when modeling temporal data where the model should not violate the temporal order\n",
        "#strides: the stride length of the convolution\n",
        "#kernel regularizer: The L2 regularization penalty is computed as: loss = l2 * reduce_sum(square(x))\n",
        "#activation ReLU: the rectified linear unit activation function\n",
        "#this returns the standard ReLU activation: max(x, 0)\n",
        "# Pairs of causal 1D convolutional layers and pooling layers comprising the encoding stage\n",
        "conv_1 = Conv1D(filters=int(input_shape[0]), kernel_size=2, dilation_rate=1,\n",
        "                padding='causal', strides=1,input_shape=input_shape,\n",
        "                kernel_regularizer=regularizers.l2(0.01),\n",
        "                activation='relu')(input_layer)\n",
        "\n",
        "pool_1 = MaxPooling1D(pool_size=2, strides=2)(conv_1)\n",
        "\n",
        "conv_2 = Conv1D(filters=int(input_shape[0] / 2), kernel_size=2, dilation_rate=1,\n",
        "                padding='causal',strides=1, kernel_regularizer=regularizers.l2(0.01),\n",
        "                activation='relu')(pool_1)\n",
        "\n",
        "pool_2 = MaxPooling1D(pool_size=2, strides=3)(conv_2)\n",
        "\n",
        "conv_3 = Conv1D(filters=int(input_shape[0] / 3), kernel_size=2, dilation_rate=1,\n",
        "                padding='causal', strides=1,kernel_regularizer=regularizers.l2(0.01),\n",
        "                activation='relu')(pool_2)\n",
        "\n",
        "\n",
        "### OUTPUT OF ENCODING STAGE\n",
        "encoder = Dense(int(input_shape[0] / 6), activation='relu')(conv_3)\n",
        "\n",
        "### DECODING STAGE\n",
        "# Pairs of upsampling and causal 1D convolutional layers comprising the decoding stage\n",
        "upsample_1 = UpSampling1D(size=3)(encoder)\n",
        "\n",
        "conv_4 = Conv1D(filters=int(input_shape[0]/3), kernel_size=2, dilation_rate=1,\n",
        "                padding='causal',strides=1, kernel_regularizer=regularizers.l2(0.01),\n",
        "                activation='relu')(upsample_1)\n",
        "\n",
        "upsample_2 = UpSampling1D(size=2)(conv_4)\n",
        "\n",
        "conv_5 = Conv1D(filters=int(input_shape[0]/2), kernel_size=2, dilation_rate=1,\n",
        "                padding='causal', strides=1,kernel_regularizer=regularizers.l2(0.05),\n",
        "                activation='relu')(upsample_2)\n",
        "\n",
        "zero_pad_1 = ZeroPadding1D(padding=(0,1))(conv_5)\n",
        "\n",
        "conv_6 = Conv1D(filters=int(input_shape[0]), kernel_size=2, dilation_rate=1,\n",
        "                padding='causal', strides=1,kernel_regularizer=regularizers.l2(0.05),\n",
        "                activation='relu')(zero_pad_1)\n",
        "\n",
        "\n",
        "### Output of decoding stage flattened and passed through softmax to make predictions\n",
        "flat = Flatten()(conv_6)\n",
        "\n",
        "output_layer = Dense(2, activation='softmax')(flat)\n",
        "\n",
        "TCN = Model(inputs=input_layer, outputs=output_layer)\n",
        "\n",
        "TCN.compile(loss=keras.losses.categorical_crossentropy,\n",
        "              optimizer=optimizers.Adam(lr=0.002),\n",
        "           metrics=[\"accuracy\"])\n",
        "\n",
        "TCN.summary()"
      ],
      "execution_count": null,
      "outputs": [
        {
          "output_type": "stream",
          "text": [
            "Model: \"model\"\n",
            "_________________________________________________________________\n",
            "Layer (type)                 Output Shape              Param #   \n",
            "=================================================================\n",
            "input_1 (InputLayer)         [(None, 30, 1)]           0         \n",
            "_________________________________________________________________\n",
            "conv1d_2 (Conv1D)            (None, 30, 30)            90        \n",
            "_________________________________________________________________\n",
            "max_pooling1d_2 (MaxPooling1 (None, 15, 30)            0         \n",
            "_________________________________________________________________\n",
            "conv1d_3 (Conv1D)            (None, 15, 15)            915       \n",
            "_________________________________________________________________\n",
            "max_pooling1d_3 (MaxPooling1 (None, 5, 15)             0         \n",
            "_________________________________________________________________\n",
            "conv1d_4 (Conv1D)            (None, 5, 10)             310       \n",
            "_________________________________________________________________\n",
            "dense_7 (Dense)              (None, 5, 5)              55        \n",
            "_________________________________________________________________\n",
            "up_sampling1d (UpSampling1D) (None, 15, 5)             0         \n",
            "_________________________________________________________________\n",
            "conv1d_5 (Conv1D)            (None, 15, 10)            110       \n",
            "_________________________________________________________________\n",
            "up_sampling1d_1 (UpSampling1 (None, 30, 10)            0         \n",
            "_________________________________________________________________\n",
            "conv1d_6 (Conv1D)            (None, 30, 15)            315       \n",
            "_________________________________________________________________\n",
            "zero_padding1d (ZeroPadding1 (None, 31, 15)            0         \n",
            "_________________________________________________________________\n",
            "conv1d_7 (Conv1D)            (None, 31, 30)            930       \n",
            "_________________________________________________________________\n",
            "flatten_1 (Flatten)          (None, 930)               0         \n",
            "_________________________________________________________________\n",
            "dense_8 (Dense)              (None, 2)                 1862      \n",
            "=================================================================\n",
            "Total params: 4,587\n",
            "Trainable params: 4,587\n",
            "Non-trainable params: 0\n",
            "_________________________________________________________________\n"
          ],
          "name": "stdout"
        },
        {
          "output_type": "stream",
          "text": [
            "/usr/local/lib/python3.7/dist-packages/tensorflow/python/keras/optimizer_v2/optimizer_v2.py:375: UserWarning: The `lr` argument is deprecated, use `learning_rate` instead.\n",
            "  \"The `lr` argument is deprecated, use `learning_rate` instead.\")\n"
          ],
          "name": "stderr"
        }
      ]
    },
    {
      "cell_type": "code",
      "metadata": {
        "colab": {
          "base_uri": "https://localhost:8080/"
        },
        "id": "kbtZmDhoD7Mq",
        "outputId": "aa413f11-5fdc-4780-fb88-9ad90a97147f"
      },
      "source": [
        "history =TCN.fit(x_train, y_train, epochs=25, verbose=1, validation_data=(x_test, y_test))"
      ],
      "execution_count": null,
      "outputs": [
        {
          "output_type": "stream",
          "text": [
            "Epoch 1/25\n",
            "50/50 [==============================] - 4s 24ms/step - loss: 7.0296 - accuracy: 0.4491 - val_loss: 1.6765 - val_accuracy: 1.0000\n",
            "Epoch 2/25\n",
            "50/50 [==============================] - 0s 9ms/step - loss: 1.6394 - accuracy: 0.9974 - val_loss: 1.5168 - val_accuracy: 1.0000\n",
            "Epoch 3/25\n",
            "50/50 [==============================] - 0s 9ms/step - loss: 1.5020 - accuracy: 0.9980 - val_loss: 1.4160 - val_accuracy: 1.0000\n",
            "Epoch 4/25\n",
            "50/50 [==============================] - 0s 8ms/step - loss: 1.4069 - accuracy: 0.9983 - val_loss: 1.3383 - val_accuracy: 1.0000\n",
            "Epoch 5/25\n",
            "50/50 [==============================] - 0s 9ms/step - loss: 1.3403 - accuracy: 0.9966 - val_loss: 1.2674 - val_accuracy: 1.0000\n",
            "Epoch 6/25\n",
            "50/50 [==============================] - 0s 10ms/step - loss: 1.2577 - accuracy: 0.9989 - val_loss: 1.2000 - val_accuracy: 1.0000\n",
            "Epoch 7/25\n",
            "50/50 [==============================] - 0s 9ms/step - loss: 1.1952 - accuracy: 0.9985 - val_loss: 1.1392 - val_accuracy: 1.0000\n",
            "Epoch 8/25\n",
            "50/50 [==============================] - 0s 9ms/step - loss: 1.1261 - accuracy: 0.9997 - val_loss: 1.0808 - val_accuracy: 1.0000\n",
            "Epoch 9/25\n",
            "50/50 [==============================] - 0s 9ms/step - loss: 1.0832 - accuracy: 0.9975 - val_loss: 1.0278 - val_accuracy: 1.0000\n",
            "Epoch 10/25\n",
            "50/50 [==============================] - 0s 9ms/step - loss: 1.0270 - accuracy: 0.9981 - val_loss: 0.9748 - val_accuracy: 1.0000\n",
            "Epoch 11/25\n",
            "50/50 [==============================] - 0s 9ms/step - loss: 0.9706 - accuracy: 0.9988 - val_loss: 0.9257 - val_accuracy: 1.0000\n",
            "Epoch 12/25\n",
            "50/50 [==============================] - 0s 9ms/step - loss: 0.9251 - accuracy: 0.9985 - val_loss: 0.8797 - val_accuracy: 1.0000\n",
            "Epoch 13/25\n",
            "50/50 [==============================] - 1s 10ms/step - loss: 0.8726 - accuracy: 0.9989 - val_loss: 0.8388 - val_accuracy: 1.0000\n",
            "Epoch 14/25\n",
            "50/50 [==============================] - 0s 10ms/step - loss: 0.8567 - accuracy: 0.9957 - val_loss: 0.7954 - val_accuracy: 1.0000\n",
            "Epoch 15/25\n",
            "50/50 [==============================] - 0s 9ms/step - loss: 0.7932 - accuracy: 0.9990 - val_loss: 0.7580 - val_accuracy: 1.0000\n",
            "Epoch 16/25\n",
            "50/50 [==============================] - 0s 9ms/step - loss: 0.7566 - accuracy: 0.9988 - val_loss: 0.7202 - val_accuracy: 1.0000\n",
            "Epoch 17/25\n",
            "50/50 [==============================] - 0s 9ms/step - loss: 0.7209 - accuracy: 0.9987 - val_loss: 0.6857 - val_accuracy: 1.0000\n",
            "Epoch 18/25\n",
            "50/50 [==============================] - 0s 9ms/step - loss: 0.6838 - accuracy: 0.9992 - val_loss: 0.6530 - val_accuracy: 1.0000\n",
            "Epoch 19/25\n",
            "50/50 [==============================] - 0s 9ms/step - loss: 0.6509 - accuracy: 0.9992 - val_loss: 0.6223 - val_accuracy: 1.0000\n",
            "Epoch 20/25\n",
            "50/50 [==============================] - 0s 10ms/step - loss: 0.6204 - accuracy: 0.9992 - val_loss: 0.5925 - val_accuracy: 1.0000\n",
            "Epoch 21/25\n",
            "50/50 [==============================] - 0s 9ms/step - loss: 0.6003 - accuracy: 0.9980 - val_loss: 0.5656 - val_accuracy: 1.0000\n",
            "Epoch 22/25\n",
            "50/50 [==============================] - 0s 9ms/step - loss: 0.5647 - accuracy: 0.9992 - val_loss: 0.5407 - val_accuracy: 1.0000\n",
            "Epoch 23/25\n",
            "50/50 [==============================] - 0s 9ms/step - loss: 0.5392 - accuracy: 0.9992 - val_loss: 0.5152 - val_accuracy: 1.0000\n",
            "Epoch 24/25\n",
            "50/50 [==============================] - 0s 8ms/step - loss: 0.5100 - accuracy: 0.9998 - val_loss: 0.4907 - val_accuracy: 1.0000\n",
            "Epoch 25/25\n",
            "50/50 [==============================] - 0s 9ms/step - loss: 0.4899 - accuracy: 0.9994 - val_loss: 0.4690 - val_accuracy: 1.0000\n"
          ],
          "name": "stdout"
        }
      ]
    },
    {
      "cell_type": "code",
      "metadata": {
        "colab": {
          "base_uri": "https://localhost:8080/",
          "height": 813
        },
        "id": "YnyF4obZIfLy",
        "outputId": "57ae0ecd-c126-4bd4-da58-8223bbd429f0"
      },
      "source": [
        "plot_learning_curve(history, 25)"
      ],
      "execution_count": null,
      "outputs": [
        {
          "output_type": "stream",
          "text": [
            "/usr/local/lib/python3.7/dist-packages/ipykernel_launcher.py:9: UserWarning: Legend does not support 't' instances.\n",
            "A proxy artist may be used instead.\n",
            "See: http://matplotlib.org/users/legend_guide.html#creating-artists-specifically-for-adding-to-the-legend-aka-proxy-artists\n",
            "  if __name__ == '__main__':\n",
            "/usr/local/lib/python3.7/dist-packages/ipykernel_launcher.py:9: UserWarning: Legend does not support 'r' instances.\n",
            "A proxy artist may be used instead.\n",
            "See: http://matplotlib.org/users/legend_guide.html#creating-artists-specifically-for-adding-to-the-legend-aka-proxy-artists\n",
            "  if __name__ == '__main__':\n",
            "/usr/local/lib/python3.7/dist-packages/ipykernel_launcher.py:9: UserWarning: Legend does not support 'a' instances.\n",
            "A proxy artist may be used instead.\n",
            "See: http://matplotlib.org/users/legend_guide.html#creating-artists-specifically-for-adding-to-the-legend-aka-proxy-artists\n",
            "  if __name__ == '__main__':\n"
          ],
          "name": "stderr"
        },
        {
          "output_type": "display_data",
          "data": {
            "image/png": "[encoded data removed]",
            "text/plain": [
              "<Figure size 432x288 with 1 Axes>"
            ]
          },
          "metadata": {
            "tags": [],
            "needs_background": "light"
          }
        },
        {
          "output_type": "display_data",
          "data": {
            "image/png": "[encoded data removed]",
            "text/plain": [
              "<Figure size 432x288 with 1 Axes>"
            ]
          },
          "metadata": {
            "tags": [],
            "needs_background": "light"
          }
        }
      ]
    },
    {
      "cell_type": "code",
      "metadata": {
        "colab": {
          "base_uri": "https://localhost:8080/"
        },
        "id": "Z2K-aoFtD_wf",
        "outputId": "c1b8f977-b0b7-4bae-f1fe-7bd6a63f608e"
      },
      "source": [
        "score = TCN.evaluate(x_test, y_test, verbose=0)\n",
        "print('Test loss:', score[0])\n",
        "print('Test accuracy:', score[1])"
      ],
      "execution_count": null,
      "outputs": [
        {
          "output_type": "stream",
          "text": [
            "Test loss: 0.4689672291278839\n",
            "Test accuracy: 1.0\n"
          ],
          "name": "stdout"
        }
      ]
    },
    {
      "cell_type": "code",
      "metadata": {
        "colab": {
          "base_uri": "https://localhost:8080/"
        },
        "id": "GJGP4M3IEByl",
        "outputId": "3788005c-55ea-4bee-9759-278ee529af20"
      },
      "source": [
        "preds = TCN.predict(x_test)\n",
        "y_pred = np.round(preds)\n",
        "print(y_pred)\n",
        "auc = roc_auc_score( y_pred, y_test)\n",
        "print(\"AUC: {:.2%}\".format (auc))"
      ],
      "execution_count": null,
      "outputs": [
        {
          "output_type": "stream",
          "text": [
            "[[1. 0.]\n",
            " [1. 0.]\n",
            " [1. 0.]\n",
            " [1. 0.]\n",
            " [1. 0.]\n",
            " [1. 0.]\n",
            " [1. 0.]\n",
            " [1. 0.]\n",
            " [1. 0.]\n",
            " [1. 0.]\n",
            " [1. 0.]\n",
            " [1. 0.]\n",
            " [1. 0.]\n",
            " [1. 0.]\n",
            " [1. 0.]\n",
            " [1. 0.]\n",
            " [1. 0.]\n",
            " [1. 0.]\n",
            " [1. 0.]\n",
            " [1. 0.]\n",
            " [1. 0.]\n",
            " [1. 0.]\n",
            " [1. 0.]\n",
            " [1. 0.]\n",
            " [1. 0.]\n",
            " [1. 0.]\n",
            " [1. 0.]\n",
            " [1. 0.]\n",
            " [1. 0.]\n",
            " [1. 0.]\n",
            " [1. 0.]\n",
            " [1. 0.]\n",
            " [1. 0.]\n",
            " [1. 0.]\n",
            " [1. 0.]\n",
            " [1. 0.]\n",
            " [1. 0.]\n",
            " [1. 0.]\n",
            " [1. 0.]\n",
            " [1. 0.]\n",
            " [1. 0.]\n",
            " [1. 0.]\n",
            " [1. 0.]\n",
            " [1. 0.]\n",
            " [1. 0.]\n",
            " [1. 0.]\n",
            " [1. 0.]\n",
            " [1. 0.]\n",
            " [1. 0.]\n",
            " [1. 0.]\n",
            " [1. 0.]\n",
            " [1. 0.]\n",
            " [1. 0.]\n",
            " [1. 0.]\n",
            " [1. 0.]\n",
            " [1. 0.]\n",
            " [1. 0.]\n",
            " [1. 0.]\n",
            " [1. 0.]\n",
            " [1. 0.]\n",
            " [1. 0.]\n",
            " [1. 0.]\n",
            " [1. 0.]\n",
            " [1. 0.]\n",
            " [1. 0.]\n",
            " [1. 0.]\n",
            " [1. 0.]\n",
            " [1. 0.]\n",
            " [1. 0.]\n",
            " [1. 0.]\n",
            " [1. 0.]\n",
            " [1. 0.]\n",
            " [1. 0.]\n",
            " [1. 0.]\n",
            " [1. 0.]\n",
            " [1. 0.]\n",
            " [1. 0.]\n",
            " [1. 0.]\n",
            " [1. 0.]\n",
            " [1. 0.]\n",
            " [1. 0.]\n",
            " [1. 0.]\n",
            " [1. 0.]\n",
            " [1. 0.]\n",
            " [1. 0.]\n",
            " [1. 0.]\n",
            " [1. 0.]\n",
            " [1. 0.]\n",
            " [1. 0.]\n",
            " [1. 0.]\n",
            " [1. 0.]\n",
            " [1. 0.]\n",
            " [1. 0.]\n",
            " [1. 0.]\n",
            " [1. 0.]\n",
            " [1. 0.]\n",
            " [1. 0.]\n",
            " [1. 0.]\n",
            " [1. 0.]\n",
            " [1. 0.]\n",
            " [1. 0.]\n",
            " [1. 0.]\n",
            " [1. 0.]\n",
            " [1. 0.]\n",
            " [1. 0.]\n",
            " [1. 0.]\n",
            " [1. 0.]\n",
            " [1. 0.]\n",
            " [1. 0.]\n",
            " [1. 0.]\n",
            " [1. 0.]\n",
            " [1. 0.]\n",
            " [1. 0.]\n",
            " [1. 0.]\n",
            " [1. 0.]\n",
            " [1. 0.]\n",
            " [1. 0.]\n",
            " [1. 0.]\n",
            " [1. 0.]\n",
            " [1. 0.]\n",
            " [1. 0.]\n",
            " [1. 0.]\n",
            " [1. 0.]\n",
            " [1. 0.]\n",
            " [1. 0.]\n",
            " [1. 0.]\n",
            " [1. 0.]\n",
            " [1. 0.]\n",
            " [1. 0.]\n",
            " [1. 0.]\n",
            " [1. 0.]\n",
            " [1. 0.]\n",
            " [1. 0.]\n",
            " [1. 0.]\n",
            " [1. 0.]\n",
            " [1. 0.]\n",
            " [1. 0.]\n",
            " [1. 0.]\n",
            " [1. 0.]\n",
            " [1. 0.]\n",
            " [1. 0.]\n",
            " [1. 0.]\n",
            " [1. 0.]\n",
            " [1. 0.]\n",
            " [1. 0.]\n",
            " [1. 0.]\n",
            " [1. 0.]\n",
            " [1. 0.]\n",
            " [1. 0.]\n",
            " [1. 0.]\n",
            " [1. 0.]\n",
            " [1. 0.]\n",
            " [1. 0.]\n",
            " [1. 0.]\n",
            " [1. 0.]\n",
            " [1. 0.]\n",
            " [1. 0.]\n",
            " [1. 0.]\n",
            " [1. 0.]\n",
            " [1. 0.]\n",
            " [1. 0.]\n",
            " [1. 0.]\n",
            " [1. 0.]\n",
            " [1. 0.]\n",
            " [1. 0.]\n",
            " [1. 0.]\n",
            " [1. 0.]\n",
            " [1. 0.]\n",
            " [1. 0.]\n",
            " [1. 0.]\n",
            " [1. 0.]\n",
            " [1. 0.]\n",
            " [1. 0.]\n",
            " [1. 0.]\n",
            " [1. 0.]\n",
            " [1. 0.]\n",
            " [1. 0.]\n",
            " [1. 0.]\n",
            " [1. 0.]\n",
            " [1. 0.]\n",
            " [1. 0.]\n",
            " [1. 0.]\n",
            " [1. 0.]\n",
            " [1. 0.]\n",
            " [1. 0.]\n",
            " [1. 0.]\n",
            " [1. 0.]\n",
            " [1. 0.]\n",
            " [1. 0.]\n",
            " [1. 0.]\n",
            " [1. 0.]\n",
            " [1. 0.]\n",
            " [1. 0.]\n",
            " [1. 0.]\n",
            " [1. 0.]\n",
            " [1. 0.]\n",
            " [1. 0.]\n",
            " [1. 0.]\n",
            " [1. 0.]\n",
            " [1. 0.]\n",
            " [1. 0.]\n",
            " [1. 0.]\n",
            " [1. 0.]\n",
            " [1. 0.]\n",
            " [1. 0.]\n",
            " [1. 0.]\n",
            " [1. 0.]\n",
            " [1. 0.]\n",
            " [1. 0.]\n",
            " [1. 0.]\n",
            " [1. 0.]\n",
            " [1. 0.]\n",
            " [1. 0.]\n",
            " [1. 0.]\n",
            " [1. 0.]\n",
            " [1. 0.]\n",
            " [1. 0.]\n",
            " [1. 0.]\n",
            " [1. 0.]\n",
            " [1. 0.]\n",
            " [1. 0.]\n",
            " [1. 0.]\n",
            " [1. 0.]\n",
            " [1. 0.]\n",
            " [1. 0.]\n",
            " [1. 0.]\n",
            " [1. 0.]\n",
            " [1. 0.]\n",
            " [1. 0.]\n",
            " [1. 0.]\n",
            " [1. 0.]\n",
            " [1. 0.]\n",
            " [1. 0.]\n",
            " [1. 0.]\n",
            " [1. 0.]\n",
            " [1. 0.]\n",
            " [1. 0.]\n",
            " [1. 0.]\n",
            " [1. 0.]\n",
            " [1. 0.]\n",
            " [1. 0.]\n",
            " [1. 0.]\n",
            " [1. 0.]\n",
            " [1. 0.]\n",
            " [1. 0.]\n",
            " [1. 0.]\n",
            " [1. 0.]\n",
            " [1. 0.]\n",
            " [1. 0.]\n",
            " [1. 0.]\n",
            " [1. 0.]\n",
            " [1. 0.]\n",
            " [1. 0.]\n",
            " [1. 0.]\n",
            " [1. 0.]\n",
            " [1. 0.]\n",
            " [1. 0.]\n",
            " [1. 0.]\n",
            " [1. 0.]\n",
            " [1. 0.]\n",
            " [1. 0.]\n",
            " [1. 0.]\n",
            " [1. 0.]\n",
            " [1. 0.]\n",
            " [1. 0.]\n",
            " [1. 0.]\n",
            " [1. 0.]\n",
            " [1. 0.]\n",
            " [1. 0.]\n",
            " [1. 0.]\n",
            " [1. 0.]\n",
            " [1. 0.]\n",
            " [1. 0.]\n",
            " [1. 0.]\n",
            " [1. 0.]\n",
            " [1. 0.]\n",
            " [1. 0.]\n",
            " [1. 0.]\n",
            " [1. 0.]\n",
            " [1. 0.]\n",
            " [1. 0.]\n",
            " [1. 0.]\n",
            " [1. 0.]\n",
            " [1. 0.]\n",
            " [1. 0.]\n",
            " [1. 0.]\n",
            " [1. 0.]\n",
            " [1. 0.]\n",
            " [1. 0.]\n",
            " [1. 0.]\n",
            " [1. 0.]\n",
            " [1. 0.]\n",
            " [1. 0.]\n",
            " [1. 0.]\n",
            " [1. 0.]\n",
            " [1. 0.]\n",
            " [1. 0.]\n",
            " [1. 0.]\n",
            " [1. 0.]\n",
            " [1. 0.]\n",
            " [1. 0.]\n",
            " [0. 1.]\n",
            " [0. 1.]\n",
            " [0. 1.]\n",
            " [0. 1.]\n",
            " [0. 1.]\n",
            " [0. 1.]\n",
            " [0. 1.]\n",
            " [0. 1.]\n",
            " [0. 1.]\n",
            " [0. 1.]\n",
            " [0. 1.]\n",
            " [0. 1.]\n",
            " [0. 1.]\n",
            " [0. 1.]\n",
            " [0. 1.]\n",
            " [0. 1.]\n",
            " [0. 1.]\n",
            " [0. 1.]\n",
            " [0. 1.]\n",
            " [0. 1.]\n",
            " [0. 1.]\n",
            " [0. 1.]\n",
            " [0. 1.]\n",
            " [0. 1.]\n",
            " [0. 1.]\n",
            " [0. 1.]\n",
            " [0. 1.]\n",
            " [0. 1.]\n",
            " [0. 1.]\n",
            " [0. 1.]\n",
            " [0. 1.]\n",
            " [0. 1.]\n",
            " [0. 1.]\n",
            " [0. 1.]\n",
            " [0. 1.]\n",
            " [0. 1.]\n",
            " [0. 1.]\n",
            " [0. 1.]\n",
            " [0. 1.]\n",
            " [0. 1.]\n",
            " [0. 1.]\n",
            " [0. 1.]\n",
            " [0. 1.]\n",
            " [0. 1.]\n",
            " [0. 1.]\n",
            " [0. 1.]\n",
            " [0. 1.]\n",
            " [0. 1.]\n",
            " [0. 1.]\n",
            " [0. 1.]\n",
            " [0. 1.]\n",
            " [0. 1.]\n",
            " [0. 1.]\n",
            " [0. 1.]\n",
            " [0. 1.]\n",
            " [0. 1.]\n",
            " [0. 1.]\n",
            " [0. 1.]\n",
            " [0. 1.]\n",
            " [0. 1.]\n",
            " [0. 1.]\n",
            " [0. 1.]\n",
            " [0. 1.]\n",
            " [0. 1.]\n",
            " [0. 1.]\n",
            " [0. 1.]\n",
            " [0. 1.]\n",
            " [0. 1.]\n",
            " [0. 1.]\n",
            " [0. 1.]\n",
            " [0. 1.]\n",
            " [0. 1.]\n",
            " [0. 1.]\n",
            " [0. 1.]\n",
            " [0. 1.]\n",
            " [0. 1.]\n",
            " [0. 1.]\n",
            " [0. 1.]\n",
            " [0. 1.]\n",
            " [0. 1.]\n",
            " [0. 1.]\n",
            " [0. 1.]\n",
            " [0. 1.]\n",
            " [0. 1.]\n",
            " [0. 1.]\n",
            " [0. 1.]\n",
            " [0. 1.]\n",
            " [0. 1.]\n",
            " [0. 1.]\n",
            " [0. 1.]\n",
            " [0. 1.]\n",
            " [0. 1.]\n",
            " [0. 1.]\n",
            " [0. 1.]\n",
            " [0. 1.]\n",
            " [0. 1.]\n",
            " [0. 1.]\n",
            " [0. 1.]]\n",
            "AUC: 100.00%\n"
          ],
          "name": "stdout"
        }
      ]
    },
    {
      "cell_type": "code",
      "metadata": {
        "colab": {
          "base_uri": "https://localhost:8080/"
        },
        "id": "WbdjJUZKEEod",
        "outputId": "6292d55c-3266-4528-87e5-375990930c44"
      },
      "source": [
        "print(classification_report(y_test, y_pred))"
      ],
      "execution_count": null,
      "outputs": [
        {
          "output_type": "stream",
          "text": [
            "              precision    recall  f1-score   support\n",
            "\n",
            "           0       1.00      1.00      1.00       301\n",
            "           1       1.00      1.00      1.00        98\n",
            "\n",
            "   micro avg       1.00      1.00      1.00       399\n",
            "   macro avg       1.00      1.00      1.00       399\n",
            "weighted avg       1.00      1.00      1.00       399\n",
            " samples avg       1.00      1.00      1.00       399\n",
            "\n"
          ],
          "name": "stdout"
        }
      ]
    },
    {
      "cell_type": "code",
      "metadata": {
        "colab": {
          "base_uri": "https://localhost:8080/"
        },
        "id": "QaQOgUSxFAMO",
        "outputId": "0112552b-985c-4cb9-c597-9c08cf67b7d2"
      },
      "source": [
        "y_pred2 = np.argmax(y_pred, axis=1)\n",
        "y_test2 = np.argmax(y_test, axis=1)\n",
        "cm = confusion_matrix(y_test2, y_pred2.round())\n",
        "print(cm)"
      ],
      "execution_count": null,
      "outputs": [
        {
          "output_type": "stream",
          "text": [
            "[[301   0]\n",
            " [  0  98]]\n"
          ],
          "name": "stdout"
        }
      ]
    },
    {
      "cell_type": "code",
      "metadata": {
        "colab": {
          "base_uri": "https://localhost:8080/",
          "height": 350
        },
        "id": "RDc8UXJlE7ke",
        "outputId": "bf3f6e4a-61c8-4a82-b087-d7a6ed8b5038"
      },
      "source": [
        "labels = [\"Fraud\", \"Normal\"]\n",
        "\n",
        "matrix = np.flip(cm)\n",
        "\n",
        "plt.figure(figsize=(5, 5))\n",
        "sns.heatmap(matrix, xticklabels=labels, yticklabels=labels,  annot=True, fmt=\"d\", cbar=False)\n",
        "plt.title(\"Confusion Matrix\")\n",
        "plt.ylabel('Actual')\n",
        "plt.xlabel('Predicted')\n",
        "plt.show()"
      ],
      "execution_count": null,
      "outputs": [
        {
          "output_type": "display_data",
          "data": {
            "image/png": "[encoded data removed]",
            "text/plain": [
              "<Figure size 360x360 with 1 Axes>"
            ]
          },
          "metadata": {
            "tags": [],
            "needs_background": "light"
          }
        }
      ]
    },
    {
      "cell_type": "code",
      "metadata": {
        "id": "AJXZ7eqEMQnX"
      },
      "source": [
        ""
      ],
      "execution_count": null,
      "outputs": []
    }
  ]
}